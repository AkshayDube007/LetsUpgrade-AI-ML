{
 "cells": [
  {
   "cell_type": "markdown",
   "metadata": {},
   "source": [
    "# List - It is similar to an array - it can contain any type of variable of distinct type."
   ]
  },
  {
   "cell_type": "code",
   "execution_count": 1,
   "metadata": {},
   "outputs": [
    {
     "name": "stdout",
     "output_type": "stream",
     "text": [
      "[]\n"
     ]
    }
   ],
   "source": [
    "l=[]\n",
    "print(l)"
   ]
  },
  {
   "cell_type": "code",
   "execution_count": 2,
   "metadata": {},
   "outputs": [
    {
     "name": "stdout",
     "output_type": "stream",
     "text": [
      "[1, 2, 3, 4]\n"
     ]
    }
   ],
   "source": [
    "st=[1,2,3,4]\n",
    "print(st)"
   ]
  },
  {
   "cell_type": "code",
   "execution_count": 3,
   "metadata": {},
   "outputs": [
    {
     "name": "stdout",
     "output_type": "stream",
     "text": [
      "[1, 2, 3, 4, 'Machine']\n",
      "<class 'list'>\n"
     ]
    }
   ],
   "source": [
    "st=[1,2,3,4,'Machine']\n",
    "print(st)\n",
    "print(type(st))"
   ]
  },
  {
   "cell_type": "code",
   "execution_count": 4,
   "metadata": {},
   "outputs": [
    {
     "name": "stdout",
     "output_type": "stream",
     "text": [
      "a\n",
      "d\n",
      "True\n",
      "False\n"
     ]
    }
   ],
   "source": [
    "st = ['a','b','c','d','e']\n",
    "print(st[0])\n",
    "print(st[-2])\n",
    "print('a' in st)\n",
    "print('A' in st)"
   ]
  },
  {
   "cell_type": "code",
   "execution_count": 6,
   "metadata": {},
   "outputs": [
    {
     "ename": "SyntaxError",
     "evalue": "can't assign to function call (<ipython-input-6-f00639c447fc>, line 2)",
     "output_type": "error",
     "traceback": [
      "\u001b[1;36m  File \u001b[1;32m\"<ipython-input-6-f00639c447fc>\"\u001b[1;36m, line \u001b[1;32m2\u001b[0m\n\u001b[1;33m    st(1)=88\u001b[0m\n\u001b[1;37m            ^\u001b[0m\n\u001b[1;31mSyntaxError\u001b[0m\u001b[1;31m:\u001b[0m can't assign to function call\n"
     ]
    }
   ],
   "source": [
    "st = ('a','b','c','d','e')\n",
    "st(1)=88\n",
    "print(st)"
   ]
  },
  {
   "cell_type": "code",
   "execution_count": 11,
   "metadata": {},
   "outputs": [
    {
     "name": "stdout",
     "output_type": "stream",
     "text": [
      "[1, 2, [100, 200, 300], 22, 3, [99, 100, [44, 32], 21], 76]\n",
      "1\n",
      "[100, 200, 300]\n",
      "300\n",
      "[100, 200, 300]\n",
      "32\n"
     ]
    }
   ],
   "source": [
    "m=[1,2,[100,200,300],22,3,[99,100,[44,32],21],76]\n",
    "print(m)\n",
    "print(m[0])\n",
    "print(m[2])\n",
    "print(m[2][2])\n",
    "print(m[2])\n",
    "print(m[5][2][1])"
   ]
  },
  {
   "cell_type": "code",
   "execution_count": 12,
   "metadata": {},
   "outputs": [
    {
     "name": "stdout",
     "output_type": "stream",
     "text": [
      "[1, 2, 3, 4, 5]\n",
      "[1, 3, 4, 5]\n"
     ]
    }
   ],
   "source": [
    "# list atributes/functions\n",
    "n=[1,2,3,4,5]\n",
    "print(n)\n",
    "n.remove(2)\n",
    "print(n)"
   ]
  },
  {
   "cell_type": "code",
   "execution_count": 13,
   "metadata": {},
   "outputs": [
    {
     "name": "stdout",
     "output_type": "stream",
     "text": [
      "[1, 2, 3, 4, 5]\n",
      "[1, 3, 4, 5]\n"
     ]
    }
   ],
   "source": [
    "n=[1,2,3,4,5]\n",
    "print(n)\n",
    "del n[1]\n",
    "print(n)"
   ]
  },
  {
   "cell_type": "code",
   "execution_count": 14,
   "metadata": {},
   "outputs": [
    {
     "name": "stdout",
     "output_type": "stream",
     "text": [
      "[1, 2, 3, 4, 5, 6]\n"
     ]
    }
   ],
   "source": [
    "l1=[1,2,3]\n",
    "l2=[4,5,6]\n",
    "print(l1+l2)"
   ]
  },
  {
   "cell_type": "code",
   "execution_count": 16,
   "metadata": {},
   "outputs": [
    {
     "name": "stdout",
     "output_type": "stream",
     "text": [
      "[1, 2, 3, 4, 5, 6, 7, 55]\n"
     ]
    }
   ],
   "source": [
    "# pop method\n",
    "s=[1,2,3,4,5,6,7,55,44]\n",
    "s.pop()\n",
    "print(s)"
   ]
  },
  {
   "cell_type": "code",
   "execution_count": 20,
   "metadata": {},
   "outputs": [
    {
     "name": "stdout",
     "output_type": "stream",
     "text": [
      "[1, 2, 3, 4, 5, 6, 7, 55, 44]\n",
      "[1, 2, 3, 4, 5, 6, 7, 55, 44]\n",
      "1\n",
      "55\n",
      "[1, 2, 999, 3, 4, 5, 6, 7, 55, 44]\n",
      "[1, 2, 999, 3, 4, 5, 6, 7, 55, 44, 777]\n",
      "[1, 2, 3, 4, 5, 6, 7, 44, 55, 777, 999]\n",
      "[999, 777, 55, 44, 7, 6, 5, 4, 3, 2, 1]\n",
      "[]\n"
     ]
    }
   ],
   "source": [
    "s=[1,2,3,4,5,6,7,55,44]\n",
    "print(s)\n",
    "print(s[:])\n",
    "print(min(s))\n",
    "print(max(s))\n",
    "s.insert(2,999)\n",
    "print(s)\n",
    "s.append(777)\n",
    "print(s)\n",
    "s.sort()\n",
    "print(s)\n",
    "s.reverse()\n",
    "print(s)\n",
    "s.clear()\n",
    "print(s)"
   ]
  },
  {
   "cell_type": "code",
   "execution_count": 21,
   "metadata": {},
   "outputs": [
    {
     "name": "stdout",
     "output_type": "stream",
     "text": [
      "[1, 2, 'l', 'v']\n"
     ]
    }
   ],
   "source": [
    "l=[1,2]\n",
    "c=['l','v']\n",
    "l.extend(c)\n",
    "print(l)"
   ]
  },
  {
   "cell_type": "code",
   "execution_count": 22,
   "metadata": {},
   "outputs": [
    {
     "name": "stdout",
     "output_type": "stream",
     "text": [
      "('y', 'v', 'angle')\n",
      "<class 'tuple'>\n"
     ]
    }
   ],
   "source": [
    "# Tuples and its attributes - \n",
    "s=('y','v','angle')\n",
    "print(s)\n",
    "print(type(s))"
   ]
  },
  {
   "cell_type": "code",
   "execution_count": 23,
   "metadata": {},
   "outputs": [
    {
     "name": "stdout",
     "output_type": "stream",
     "text": [
      "(1.0,)\n",
      "<class 'tuple'>\n"
     ]
    }
   ],
   "source": [
    "t=(1.0, )\n",
    "print(t)\n",
    "print(type(t))"
   ]
  },
  {
   "cell_type": "code",
   "execution_count": 24,
   "metadata": {},
   "outputs": [
    {
     "name": "stdout",
     "output_type": "stream",
     "text": [
      "(2, 3)\n"
     ]
    }
   ],
   "source": [
    "p=(1,2,3,4,5,6,7,55,44)\n",
    "print(p[1:3])"
   ]
  },
  {
   "cell_type": "code",
   "execution_count": 25,
   "metadata": {},
   "outputs": [
    {
     "name": "stdout",
     "output_type": "stream",
     "text": [
      "(1,)\n",
      "(1, 2, 3)\n",
      "('akshay', 22)\n",
      "()\n"
     ]
    }
   ],
   "source": [
    "# variable length arguments -\n",
    "def var(*args):\n",
    "    print(args)\n",
    "var(1)\n",
    "var(1,2,3)\n",
    "var('akshay',22)\n",
    "var()"
   ]
  },
  {
   "cell_type": "code",
   "execution_count": 27,
   "metadata": {},
   "outputs": [
    {
     "name": "stdout",
     "output_type": "stream",
     "text": [
      "{1: 'COMP', 2: 'IT', 99: 'EXTC'}\n",
      "<class 'dict'>\n",
      "COMP\n"
     ]
    }
   ],
   "source": [
    "# Dictionary/Assosiative arrays -\n",
    "d={1: 'COMP', 2:'IT', 99:'EXTC'}\n",
    "print(d)\n",
    "print(type(d))\n",
    "print(d[1])"
   ]
  },
  {
   "cell_type": "code",
   "execution_count": 28,
   "metadata": {},
   "outputs": [
    {
     "name": "stdout",
     "output_type": "stream",
     "text": [
      "1\n"
     ]
    }
   ],
   "source": [
    "d={'COMP':1, 'IT':2, 'EXTC':3}\n",
    "print(d['COMP'])"
   ]
  },
  {
   "cell_type": "code",
   "execution_count": 30,
   "metadata": {},
   "outputs": [
    {
     "name": "stdout",
     "output_type": "stream",
     "text": [
      "4\n",
      "{'COMP': 4, 'IT': 2, 'EXTC': 3}\n"
     ]
    }
   ],
   "source": [
    "d={'COMP':1, 'IT':2, 'EXTC':3, 'COMP': 4}\n",
    "print(d['COMP'])\n",
    "print(d)"
   ]
  },
  {
   "cell_type": "code",
   "execution_count": 31,
   "metadata": {},
   "outputs": [
    {
     "name": "stdout",
     "output_type": "stream",
     "text": [
      "{2: 'IT', 99: 'EXTC'}\n",
      "{}\n"
     ]
    }
   ],
   "source": [
    "d={1: 'COMP', 2:'IT', 99:'EXTC'}\n",
    "del d[1]\n",
    "print(d)\n",
    "d.clear()\n",
    "print(d)"
   ]
  },
  {
   "cell_type": "code",
   "execution_count": 33,
   "metadata": {},
   "outputs": [
    {
     "name": "stdout",
     "output_type": "stream",
     "text": [
      "{1: 'COMP', 2: 'IT', 99: 'EXTC'}\n",
      "3\n",
      "dict_keys([1, 2, 99])\n",
      "dict_values(['COMP', 'IT', 'EXTC'])\n"
     ]
    }
   ],
   "source": [
    "d={1: 'COMP', 2:'IT', 99:'EXTC'}\n",
    "print(str(d))\n",
    "print(len(d))\n",
    "print(d.keys())\n",
    "print(d.values())"
   ]
  },
  {
   "cell_type": "code",
   "execution_count": 34,
   "metadata": {},
   "outputs": [
    {
     "name": "stdout",
     "output_type": "stream",
     "text": [
      "{4: 'CHEM', 1: 'COMP', 2: 'IT', 99: 'EXTC'}\n"
     ]
    }
   ],
   "source": [
    "d={1: 'COMP', 2:'IT', 99:'EXTC'}\n",
    "d1={4:'CHEM'}\n",
    "d1.update(d)\n",
    "print(d1)"
   ]
  },
  {
   "cell_type": "code",
   "execution_count": 37,
   "metadata": {},
   "outputs": [
    {
     "name": "stdout",
     "output_type": "stream",
     "text": [
      "IT\n",
      "IT\n"
     ]
    }
   ],
   "source": [
    "d={1: 'COMP', 2:'IT', 99:'EXTC'}\n",
    "print(d[2])\n",
    "print(d.get(2))"
   ]
  },
  {
   "cell_type": "code",
   "execution_count": 41,
   "metadata": {},
   "outputs": [
    {
     "name": "stdout",
     "output_type": "stream",
     "text": [
      "t1.txt\n",
      "True\n"
     ]
    }
   ],
   "source": [
    "# File Handling - \n",
    "f = open(\"t1.txt\", \"w\")\n",
    "f.write(\"hi\\n\")\n",
    "f.write(\"its for file handling\\n\")\n",
    "print(f.name)\n",
    "f.close()\n",
    "print(f.closed)"
   ]
  },
  {
   "cell_type": "code",
   "execution_count": 50,
   "metadata": {},
   "outputs": [
    {
     "name": "stdout",
     "output_type": "stream",
     "text": [
      "a\n",
      "True\n"
     ]
    }
   ],
   "source": [
    "f = open(\"t1.txt\", \"a\")\n",
    "f.write(\"new line is writen\\n\")\n",
    "print(f.mode)\n",
    "f.close()\n",
    "print(f.closed)"
   ]
  },
  {
   "cell_type": "code",
   "execution_count": 54,
   "metadata": {},
   "outputs": [
    {
     "name": "stdout",
     "output_type": "stream",
     "text": [
      "hi\n",
      "\n",
      "its for file handling\n",
      "new line is appendednew line is appendednew line is appendednew line is appended\n",
      "new line is writen\n",
      "\n"
     ]
    }
   ],
   "source": [
    "f = open(\"t1.txt\", \"r\")\n",
    "print(f.readline())\n",
    "print(f.read())"
   ]
  },
  {
   "cell_type": "code",
   "execution_count": 55,
   "metadata": {},
   "outputs": [
    {
     "name": "stdout",
     "output_type": "stream",
     "text": [
      "<map object at 0x0000008DCC374FC8>\n",
      "[1, 4, 9, 16, 25]\n"
     ]
    }
   ],
   "source": [
    "#  map Functions -\n",
    "# syntax - map(function, iterables)\n",
    "def sqr(a):\n",
    "    return a*a\n",
    "x=map(sqr, [1,2,3,4,5])\n",
    "print(x)\n",
    "print(list(x))"
   ]
  },
  {
   "cell_type": "code",
   "execution_count": 56,
   "metadata": {},
   "outputs": [
    {
     "name": "stdout",
     "output_type": "stream",
     "text": [
      "[1, 4, 9, 16, 25]\n"
     ]
    }
   ],
   "source": [
    "def sqr(a):\n",
    "    return a*a\n",
    "print(list(map(sqr, [1,2,3,4,5])))"
   ]
  },
  {
   "cell_type": "code",
   "execution_count": 60,
   "metadata": {},
   "outputs": [
    {
     "name": "stdout",
     "output_type": "stream",
     "text": [
      "[7, 15, 24]\n",
      "(6, 15, 24)\n",
      "{24, 6, 15}\n"
     ]
    }
   ],
   "source": [
    "def sub(a,b):\n",
    "    return a-b\n",
    "print(list(map(sub,[11,20,30],[4,5,6])))\n",
    "print(tuple(map(sub,[10,20,30],[4,5,6])))\n",
    "print(set(map(sub,[10,20,30],[4,5,6])))"
   ]
  },
  {
   "cell_type": "code",
   "execution_count": 61,
   "metadata": {},
   "outputs": [
    {
     "data": {
      "text/plain": [
       "9"
      ]
     },
     "execution_count": 61,
     "metadata": {},
     "output_type": "execute_result"
    }
   ],
   "source": [
    "# Lambda function\n",
    "# syntax - argument : expression\n",
    "\n",
    "sqr = lambda a: a*a\n",
    "sqr(3)"
   ]
  },
  {
   "cell_type": "code",
   "execution_count": 62,
   "metadata": {},
   "outputs": [
    {
     "data": {
      "text/plain": [
       "[5, 6, 7, 8]"
      ]
     },
     "execution_count": 62,
     "metadata": {},
     "output_type": "execute_result"
    }
   ],
   "source": [
    "# Map and lambda nesting\n",
    "l = [1,2,3,4]\n",
    "list(map(lambda x: x+4, l))"
   ]
  },
  {
   "cell_type": "code",
   "execution_count": 63,
   "metadata": {},
   "outputs": [
    {
     "name": "stdout",
     "output_type": "stream",
     "text": [
      "<filter object at 0x0000008DCC32F7C8>\n",
      "<class 'filter'>\n",
      "[3, 4]\n"
     ]
    }
   ],
   "source": [
    "# Filter Functions - filter()\n",
    "#  syntax - filter(function, iterables)\n",
    "\n",
    "def sqr(a):\n",
    "    if a>=3:\n",
    "        return a\n",
    "x = filter(sqr, [1,2,3,4])\n",
    "print(x)\n",
    "print(type(x))\n",
    "print(list(x))"
   ]
  },
  {
   "cell_type": "code",
   "execution_count": 65,
   "metadata": {},
   "outputs": [
    {
     "name": "stdout",
     "output_type": "stream",
     "text": [
      "[3, 4]\n"
     ]
    }
   ],
   "source": [
    "# Lambda & Filter nesting - \n",
    "\n",
    "l = [1,2,3,4]\n",
    "sqr = filter(lambda x: x>=3, l)\n",
    "print(list(sqr))"
   ]
  },
  {
   "cell_type": "code",
   "execution_count": 68,
   "metadata": {},
   "outputs": [
    {
     "name": "stdout",
     "output_type": "stream",
     "text": [
      "10\n"
     ]
    }
   ],
   "source": [
    "#  Reduce Function - it is used to return a single value in o/p\n",
    "# Syntax - reduce(function, iterable)\n",
    "import functools\n",
    "from functools import reduce\n",
    "def sqr(a,b):\n",
    "    return a+b\n",
    "x = reduce(sqr, [1,2,3,4])\n",
    "print(x)"
   ]
  },
  {
   "cell_type": "code",
   "execution_count": 70,
   "metadata": {},
   "outputs": [
    {
     "data": {
      "text/plain": [
       "[6, 8]"
      ]
     },
     "execution_count": 70,
     "metadata": {},
     "output_type": "execute_result"
    }
   ],
   "source": [
    "#  nesting of map, filter and lambda -\n",
    "list(map(lambda x:x+x, filter(lambda x:x>=3, [1,2,3,4])))"
   ]
  },
  {
   "cell_type": "code",
   "execution_count": 72,
   "metadata": {},
   "outputs": [
    {
     "name": "stdout",
     "output_type": "stream",
     "text": [
      "14\n"
     ]
    }
   ],
   "source": [
    "x = reduce(lambda x,y: x+y, map(lambda x:x+x, filter(lambda x: x>=3, (1,2,3,4))))\n",
    "print(x)"
   ]
  },
  {
   "cell_type": "markdown",
   "metadata": {},
   "source": [
    "# Assignment Day 06 - AIML"
   ]
  },
  {
   "cell_type": "markdown",
   "metadata": {},
   "source": [
    "**Question 1:\n",
    "Assuming that we have some email addresses in the \"username@companyname.com\" format, please write program\n",
    "to print the company name of a given email address. Both user names and company names are composed of letters\n",
    "only.\n",
    "Input Format:\n",
    "The first line of the input contains an email address.\n",
    "Output Format:\n",
    "Print the company name in single line.\n",
    "Example;\n",
    "Input:\n",
    "john@google.com\n",
    "Output:\n",
    "google**"
   ]
  },
  {
   "cell_type": "code",
   "execution_count": 6,
   "metadata": {},
   "outputs": [
    {
     "name": "stdout",
     "output_type": "stream",
     "text": [
      "Please enter your Email Address: dube@accenture.com\n",
      "Complant Name: accenture\n"
     ]
    }
   ],
   "source": [
    "a = str(input(\"Please enter your Email Address: \" ))\n",
    "start = a.find('@') + 1\n",
    "end = a.find('.', start)\n",
    "print(\"Complant Name:\", a[start:end])"
   ]
  },
  {
   "cell_type": "markdown",
   "metadata": {},
   "source": [
    "**Question 2:\n",
    "Write a program that accepts a comma-separated sequence of words as input and prints the words in a comma\n",
    "separated sequence after sorting them alphabetically.\n",
    "Input Format:\n",
    "The first line of input contains words separated by the comma.\n",
    "Output Format:\n",
    "Print the sorted words separated by the comma.\n",
    "Example:\n",
    "Input:\n",
    "without,hello,bag,world\n",
    "Output:\n",
    "bag,hello,without,world**"
   ]
  },
  {
   "cell_type": "code",
   "execution_count": 26,
   "metadata": {},
   "outputs": [
    {
     "name": "stdout",
     "output_type": "stream",
     "text": [
      "Enter the list of your choice: zeta,yeta,xeta,ate\n",
      "The alphabetically sorted entered list is: ['ate', 'xeta', 'yeta', 'zeta']\n"
     ]
    }
   ],
   "source": [
    "b = input(\"Enter the list of your choice: \" )\n",
    "c = b.split(',')\n",
    "c.sort()\n",
    "print(\"The alphabetically sorted entered list is:\", c)"
   ]
  },
  {
   "cell_type": "markdown",
   "metadata": {},
   "source": [
    "**Question 3:\n",
    "Create your own Jupyter Notebook for Sets.\n",
    "Reference link: https://www.w3schools.com/python/python_sets.asp**"
   ]
  },
  {
   "cell_type": "markdown",
   "metadata": {},
   "source": [
    "# Sets\n",
    "**A set is a collection which is unordered and unindexed. In Python sets are written with curly brackets.**"
   ]
  },
  {
   "cell_type": "code",
   "execution_count": 31,
   "metadata": {},
   "outputs": [
    {
     "name": "stdout",
     "output_type": "stream",
     "text": [
      "banana\n",
      "apple\n",
      "cherry\n"
     ]
    }
   ],
   "source": [
    "# Few examples of sets and its methods/functions - \n",
    "thisset = {\"apple\", \"banana\", \"cherry\"}\n",
    "for c in thisset:\n",
    "    print(c)"
   ]
  },
  {
   "cell_type": "code",
   "execution_count": 33,
   "metadata": {},
   "outputs": [
    {
     "name": "stdout",
     "output_type": "stream",
     "text": [
      "True\n"
     ]
    }
   ],
   "source": [
    "thisset = {\"apple\", \"banana\", \"cherry\"}\n",
    "\n",
    "print(\"banana\" in thisset)"
   ]
  },
  {
   "cell_type": "code",
   "execution_count": 34,
   "metadata": {},
   "outputs": [
    {
     "name": "stdout",
     "output_type": "stream",
     "text": [
      "{'banana', 'orange', 'apple', 'cherry'}\n"
     ]
    }
   ],
   "source": [
    "#  to add new entry to the set\n",
    "thisset = {\"apple\", \"banana\", \"cherry\"}\n",
    "\n",
    "thisset.add(\"orange\")\n",
    "\n",
    "print(thisset)"
   ]
  },
  {
   "cell_type": "code",
   "execution_count": 35,
   "metadata": {},
   "outputs": [
    {
     "name": "stdout",
     "output_type": "stream",
     "text": [
      "{'cherry', 'orange', 'mango', 'grapes', 'apple', 'banana'}\n"
     ]
    }
   ],
   "source": [
    "\n",
    "thisset.update([\"orange\", \"mango\", \"grapes\"])\n",
    "\n",
    "print(thisset)\n"
   ]
  },
  {
   "cell_type": "code",
   "execution_count": 36,
   "metadata": {},
   "outputs": [
    {
     "name": "stdout",
     "output_type": "stream",
     "text": [
      "3\n"
     ]
    }
   ],
   "source": [
    "# It returns the len of the set\n",
    "thisset = {\"apple\", \"banana\", \"cherry\"}\n",
    "\n",
    "print(len(thisset))"
   ]
  },
  {
   "cell_type": "code",
   "execution_count": 37,
   "metadata": {},
   "outputs": [
    {
     "name": "stdout",
     "output_type": "stream",
     "text": [
      "{'apple', 'cherry'}\n"
     ]
    }
   ],
   "source": [
    "# remove - to remove specified entry from the set\n",
    "thisset = {\"apple\", \"banana\", \"cherry\"}\n",
    "\n",
    "thisset.remove(\"banana\")\n",
    "\n",
    "print(thisset) "
   ]
  },
  {
   "cell_type": "code",
   "execution_count": 38,
   "metadata": {},
   "outputs": [
    {
     "name": "stdout",
     "output_type": "stream",
     "text": [
      "{'apple', 'cherry'}\n"
     ]
    }
   ],
   "source": [
    "# to remove an entry from the given set \n",
    "thisset = {\"apple\", \"banana\", \"cherry\"}\n",
    "\n",
    "thisset.discard(\"banana\")\n",
    "\n",
    "print(thisset)"
   ]
  },
  {
   "cell_type": "code",
   "execution_count": 39,
   "metadata": {},
   "outputs": [
    {
     "name": "stdout",
     "output_type": "stream",
     "text": [
      "banana\n",
      "{'apple', 'cherry'}\n"
     ]
    }
   ],
   "source": [
    "#  pop method - it removes the last entry from the set \n",
    "thisset = {\"apple\", \"banana\", \"cherry\"}\n",
    "\n",
    "x = thisset.pop()\n",
    "\n",
    "print(x)\n",
    "\n",
    "print(thisset)"
   ]
  },
  {
   "cell_type": "code",
   "execution_count": 40,
   "metadata": {},
   "outputs": [
    {
     "name": "stdout",
     "output_type": "stream",
     "text": [
      "set()\n"
     ]
    }
   ],
   "source": [
    "#  clear - it empties the set \n",
    "thisset = {\"apple\", \"banana\", \"cherry\"}\n",
    "\n",
    "thisset.clear()\n",
    "\n",
    "print(thisset)"
   ]
  },
  {
   "cell_type": "code",
   "execution_count": 46,
   "metadata": {},
   "outputs": [],
   "source": [
    "# del - delete the entries from the set\n",
    "p = {\"apple\", \"banana\", \"cherry\"}\n",
    "del p"
   ]
  },
  {
   "cell_type": "code",
   "execution_count": 47,
   "metadata": {},
   "outputs": [
    {
     "name": "stdout",
     "output_type": "stream",
     "text": [
      "{1, 'c', 2, 3, 'b', 'a'}\n"
     ]
    }
   ],
   "source": [
    "# union - joins two sets\n",
    "set1 = {\"a\", \"b\" , \"c\"}\n",
    "set2 = {1, 2, 3}\n",
    "\n",
    "set3 = set1.union(set2)\n",
    "print(set3)"
   ]
  },
  {
   "cell_type": "code",
   "execution_count": 48,
   "metadata": {},
   "outputs": [
    {
     "name": "stdout",
     "output_type": "stream",
     "text": [
      "{1, 'c', 2, 3, 'b', 'a'}\n"
     ]
    }
   ],
   "source": [
    "# update - it updates one set with the entries of another set \n",
    "set1 = {\"a\", \"b\" , \"c\"}\n",
    "set2 = {1, 2, 3}\n",
    "\n",
    "set1.update(set2)\n",
    "print(set1)"
   ]
  },
  {
   "cell_type": "markdown",
   "metadata": {},
   "source": [
    "**Question 4:\n",
    "Given a list of n-1 numbers ranging from 1 to n, your task is to find the missing number. There are no duplicates.\n",
    "Input Format:\n",
    "The first line contains n-1 numbers with each number separated by a space.\n",
    "Output Format:\n",
    "Print the missing number\n",
    "Example:\n",
    "Input:1 2 4 6 3 7 8\n",
    "Output:5\n",
    "Explanation:\n",
    "In the above list of numbers 5 is missing and hence 5 is the input**"
   ]
  },
  {
   "cell_type": "code",
   "execution_count": 8,
   "metadata": {},
   "outputs": [
    {
     "name": "stdout",
     "output_type": "stream",
     "text": [
      "List of Numbers:1 2 3 4 6 7 8\n",
      "The missing number is: 5.0\n"
     ]
    }
   ],
   "source": [
    "def MissNo(A): \n",
    "    n = len(A) \n",
    "    total = (n + 1)*(n + 2)/2\n",
    "    sum_of_A = sum(A) \n",
    "    return total - sum_of_A \n",
    "   \n",
    "A = input(\"List of Numbers:\") \n",
    "A=list(A.split(' '))\n",
    "A = list(map(int, A)) \n",
    "missing_no = MissNo(A) \n",
    "print(\"The missing number is:\",missing_no)"
   ]
  },
  {
   "cell_type": "markdown",
   "metadata": {},
   "source": [
    "**Question 5:\n",
    "With a given list L, write a program to print this list L after removing all duplicate values with original order reserved.\n",
    "Example:\n",
    "If the input list is\n",
    "12 24 35 24 88 120 155 88 120 155\n",
    "Then the output should be\n",
    "12 24 35 88 120 155\n",
    "Explanation:\n",
    "Third, seventh and ninth element of the list L has been removed because it was already present.\n",
    "Input Format:\n",
    "In one line take the elements of the list L with each element separated by a space.\n",
    "Output Format:\n",
    "Print the elements of the modified list in one line with each element separated by a space.\n",
    "Example:\n",
    "Input: 12 24 35 24\n",
    "Output:\n",
    "12 24 35**"
   ]
  },
  {
   "cell_type": "code",
   "execution_count": 14,
   "metadata": {},
   "outputs": [
    {
     "name": "stdout",
     "output_type": "stream",
     "text": [
      "List of numbers:12 24 35 24\n",
      "Output after removing duplicates:  12 24 35\n"
     ]
    }
   ],
   "source": [
    "x=input('List of numbers:')\n",
    "x=list(x.split(' '))\n",
    "x=set(x)\n",
    "x=sorted(x)\n",
    "output = ' '.join(x)\n",
    "print('Output after removing duplicates: ',output)"
   ]
  },
  {
   "cell_type": "code",
   "execution_count": null,
   "metadata": {},
   "outputs": [],
   "source": []
  },
  {
   "cell_type": "code",
   "execution_count": null,
   "metadata": {},
   "outputs": [],
   "source": []
  },
  {
   "cell_type": "code",
   "execution_count": null,
   "metadata": {},
   "outputs": [],
   "source": []
  }
 ],
 "metadata": {
  "kernelspec": {
   "display_name": "Python 3",
   "language": "python",
   "name": "python3"
  },
  "language_info": {
   "codemirror_mode": {
    "name": "ipython",
    "version": 3
   },
   "file_extension": ".py",
   "mimetype": "text/x-python",
   "name": "python",
   "nbconvert_exporter": "python",
   "pygments_lexer": "ipython3",
   "version": "3.7.6"
  }
 },
 "nbformat": 4,
 "nbformat_minor": 4
}
