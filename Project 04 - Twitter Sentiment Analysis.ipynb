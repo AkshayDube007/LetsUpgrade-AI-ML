{
 "cells": [
  {
   "cell_type": "markdown",
   "metadata": {},
   "source": [
    "# Project 05 - Twitter Sentiment Analysis: "
   ]
  },
  {
   "cell_type": "code",
   "execution_count": 6,
   "metadata": {},
   "outputs": [
    {
     "name": "stdout",
     "output_type": "stream",
     "text": [
      "Requirement already satisfied: tweepy in c:\\users\\akshay\\anaconda3\\lib\\site-packages (3.9.0)\n",
      "Requirement already satisfied: requests-oauthlib>=0.7.0 in c:\\users\\akshay\\anaconda3\\lib\\site-packages (from tweepy) (1.3.0)\n",
      "Requirement already satisfied: six>=1.10.0 in c:\\users\\akshay\\anaconda3\\lib\\site-packages (from tweepy) (1.14.0)\n",
      "Requirement already satisfied: requests[socks]>=2.11.1 in c:\\users\\akshay\\anaconda3\\lib\\site-packages (from tweepy) (2.22.0)\n",
      "Requirement already satisfied: oauthlib>=3.0.0 in c:\\users\\akshay\\anaconda3\\lib\\site-packages (from requests-oauthlib>=0.7.0->tweepy) (3.1.0)\n",
      "Requirement already satisfied: chardet<3.1.0,>=3.0.2 in c:\\users\\akshay\\anaconda3\\lib\\site-packages (from requests[socks]>=2.11.1->tweepy) (3.0.4)\n",
      "Requirement already satisfied: urllib3!=1.25.0,!=1.25.1,<1.26,>=1.21.1 in c:\\users\\akshay\\anaconda3\\lib\\site-packages (from requests[socks]>=2.11.1->tweepy) (1.25.8)\n",
      "Requirement already satisfied: certifi>=2017.4.17 in c:\\users\\akshay\\anaconda3\\lib\\site-packages (from requests[socks]>=2.11.1->tweepy) (2019.11.28)\n",
      "Requirement already satisfied: idna<2.9,>=2.5 in c:\\users\\akshay\\anaconda3\\lib\\site-packages (from requests[socks]>=2.11.1->tweepy) (2.8)\n",
      "Requirement already satisfied: PySocks!=1.5.7,>=1.5.6; extra == \"socks\" in c:\\users\\akshay\\anaconda3\\lib\\site-packages (from requests[socks]>=2.11.1->tweepy) (1.7.1)\n",
      "Note: you may need to restart the kernel to use updated packages.\n"
     ]
    }
   ],
   "source": [
    "pip install tweepy"
   ]
  },
  {
   "cell_type": "code",
   "execution_count": 7,
   "metadata": {},
   "outputs": [],
   "source": [
    "import pandas as pd\n",
    "import numpy as np \n",
    "import tweepy \n",
    "import json \n",
    "from tweepy import OAuthHandler"
   ]
  },
  {
   "cell_type": "code",
   "execution_count": 8,
   "metadata": {},
   "outputs": [],
   "source": [
    "consumer_key = \"LzsCOl12ZZ79FObx7BV9a1R3a\"\n",
    "consumer_secret = \"gODxZ1kHJHDGgYfyP12AUN37UTlDd6yn3OsSV9Tl0iwu0K0cRY\"\n",
    "access_token = \"296102538-kYIK8SULCmRK4vgvYD2DhKbwvSXrgTdTkWh0Nvsp\"\n",
    "access_token_secret = \"Ib9obwgcE5tZk4S6tY5rAqI5iXOeJc9FGFg28qHoa4YpP\""
   ]
  },
  {
   "cell_type": "code",
   "execution_count": 9,
   "metadata": {},
   "outputs": [],
   "source": [
    "auth = tweepy.OAuthHandler(consumer_key, consumer_secret)\n",
    "auth.set_access_token(access_token, access_token_secret)\n",
    "api = tweepy.API(auth)"
   ]
  },
  {
   "cell_type": "code",
   "execution_count": 10,
   "metadata": {},
   "outputs": [],
   "source": [
    "query = \"RCB winning IPL\""
   ]
  },
  {
   "cell_type": "code",
   "execution_count": 11,
   "metadata": {},
   "outputs": [
    {
     "name": "stdout",
     "output_type": "stream",
     "text": [
      "Status(_api=<tweepy.api.API object at 0x000000C0150DB808>, _json={'created_at': 'Mon Nov 02 16:29:12 +0000 2020', 'id': 1323301141694742530, 'id_str': '1323301141694742530', 'full_text': 'Not sure who will come first.\\n1)RCB winning IPL\\n2)Rahul Gandhi getting married\\n3)Vaccination for Corona.', 'truncated': False, 'display_text_range': [0, 104], 'entities': {'hashtags': [], 'symbols': [], 'user_mentions': [], 'urls': []}, 'metadata': {'iso_language_code': 'en', 'result_type': 'recent'}, 'source': '<a href=\"http://twitter.com/download/android\" rel=\"nofollow\">Twitter for Android</a>', 'in_reply_to_status_id': None, 'in_reply_to_status_id_str': None, 'in_reply_to_user_id': None, 'in_reply_to_user_id_str': None, 'in_reply_to_screen_name': None, 'user': {'id': 94027817, 'id_str': '94027817', 'name': 'atul kulkarni', 'screen_name': 'atulkoolkarni', 'location': 'Jambudvīpa bharatakhanda', 'description': 'MODI,MARKETS and MUFC in that order.', 'url': None, 'entities': {'description': {'urls': []}}, 'protected': False, 'followers_count': 805, 'friends_count': 533, 'listed_count': 4, 'created_at': 'Wed Dec 02 05:26:12 +0000 2009', 'favourites_count': 31868, 'utc_offset': None, 'time_zone': None, 'geo_enabled': True, 'verified': False, 'statuses_count': 12273, 'lang': None, 'contributors_enabled': False, 'is_translator': False, 'is_translation_enabled': False, 'profile_background_color': 'C0DEED', 'profile_background_image_url': 'http://abs.twimg.com/images/themes/theme1/bg.png', 'profile_background_image_url_https': 'https://abs.twimg.com/images/themes/theme1/bg.png', 'profile_background_tile': False, 'profile_image_url': 'http://pbs.twimg.com/profile_images/945222210226024448/OhG_XXUP_normal.jpg', 'profile_image_url_https': 'https://pbs.twimg.com/profile_images/945222210226024448/OhG_XXUP_normal.jpg', 'profile_banner_url': 'https://pbs.twimg.com/profile_banners/94027817/1359100023', 'profile_link_color': 'B30000', 'profile_sidebar_border_color': 'C0DEED', 'profile_sidebar_fill_color': 'DDEEF6', 'profile_text_color': '333333', 'profile_use_background_image': True, 'has_extended_profile': True, 'default_profile': False, 'default_profile_image': False, 'following': False, 'follow_request_sent': False, 'notifications': False, 'translator_type': 'none'}, 'geo': None, 'coordinates': None, 'place': None, 'contributors': None, 'is_quote_status': False, 'retweet_count': 0, 'favorite_count': 0, 'favorited': False, 'retweeted': False, 'lang': 'en'}, created_at=datetime.datetime(2020, 11, 2, 16, 29, 12), id=1323301141694742530, id_str='1323301141694742530', full_text='Not sure who will come first.\\n1)RCB winning IPL\\n2)Rahul Gandhi getting married\\n3)Vaccination for Corona.', truncated=False, display_text_range=[0, 104], entities={'hashtags': [], 'symbols': [], 'user_mentions': [], 'urls': []}, metadata={'iso_language_code': 'en', 'result_type': 'recent'}, source='Twitter for Android', source_url='http://twitter.com/download/android', in_reply_to_status_id=None, in_reply_to_status_id_str=None, in_reply_to_user_id=None, in_reply_to_user_id_str=None, in_reply_to_screen_name=None, author=User(_api=<tweepy.api.API object at 0x000000C0150DB808>, _json={'id': 94027817, 'id_str': '94027817', 'name': 'atul kulkarni', 'screen_name': 'atulkoolkarni', 'location': 'Jambudvīpa bharatakhanda', 'description': 'MODI,MARKETS and MUFC in that order.', 'url': None, 'entities': {'description': {'urls': []}}, 'protected': False, 'followers_count': 805, 'friends_count': 533, 'listed_count': 4, 'created_at': 'Wed Dec 02 05:26:12 +0000 2009', 'favourites_count': 31868, 'utc_offset': None, 'time_zone': None, 'geo_enabled': True, 'verified': False, 'statuses_count': 12273, 'lang': None, 'contributors_enabled': False, 'is_translator': False, 'is_translation_enabled': False, 'profile_background_color': 'C0DEED', 'profile_background_image_url': 'http://abs.twimg.com/images/themes/theme1/bg.png', 'profile_background_image_url_https': 'https://abs.twimg.com/images/themes/theme1/bg.png', 'profile_background_tile': False, 'profile_image_url': 'http://pbs.twimg.com/profile_images/945222210226024448/OhG_XXUP_normal.jpg', 'profile_image_url_https': 'https://pbs.twimg.com/profile_images/945222210226024448/OhG_XXUP_normal.jpg', 'profile_banner_url': 'https://pbs.twimg.com/profile_banners/94027817/1359100023', 'profile_link_color': 'B30000', 'profile_sidebar_border_color': 'C0DEED', 'profile_sidebar_fill_color': 'DDEEF6', 'profile_text_color': '333333', 'profile_use_background_image': True, 'has_extended_profile': True, 'default_profile': False, 'default_profile_image': False, 'following': False, 'follow_request_sent': False, 'notifications': False, 'translator_type': 'none'}, id=94027817, id_str='94027817', name='atul kulkarni', screen_name='atulkoolkarni', location='Jambudvīpa bharatakhanda', description='MODI,MARKETS and MUFC in that order.', url=None, entities={'description': {'urls': []}}, protected=False, followers_count=805, friends_count=533, listed_count=4, created_at=datetime.datetime(2009, 12, 2, 5, 26, 12), favourites_count=31868, utc_offset=None, time_zone=None, geo_enabled=True, verified=False, statuses_count=12273, lang=None, contributors_enabled=False, is_translator=False, is_translation_enabled=False, profile_background_color='C0DEED', profile_background_image_url='http://abs.twimg.com/images/themes/theme1/bg.png', profile_background_image_url_https='https://abs.twimg.com/images/themes/theme1/bg.png', profile_background_tile=False, profile_image_url='http://pbs.twimg.com/profile_images/945222210226024448/OhG_XXUP_normal.jpg', profile_image_url_https='https://pbs.twimg.com/profile_images/945222210226024448/OhG_XXUP_normal.jpg', profile_banner_url='https://pbs.twimg.com/profile_banners/94027817/1359100023', profile_link_color='B30000', profile_sidebar_border_color='C0DEED', profile_sidebar_fill_color='DDEEF6', profile_text_color='333333', profile_use_background_image=True, has_extended_profile=True, default_profile=False, default_profile_image=False, following=False, follow_request_sent=False, notifications=False, translator_type='none'), user=User(_api=<tweepy.api.API object at 0x000000C0150DB808>, _json={'id': 94027817, 'id_str': '94027817', 'name': 'atul kulkarni', 'screen_name': 'atulkoolkarni', 'location': 'Jambudvīpa bharatakhanda', 'description': 'MODI,MARKETS and MUFC in that order.', 'url': None, 'entities': {'description': {'urls': []}}, 'protected': False, 'followers_count': 805, 'friends_count': 533, 'listed_count': 4, 'created_at': 'Wed Dec 02 05:26:12 +0000 2009', 'favourites_count': 31868, 'utc_offset': None, 'time_zone': None, 'geo_enabled': True, 'verified': False, 'statuses_count': 12273, 'lang': None, 'contributors_enabled': False, 'is_translator': False, 'is_translation_enabled': False, 'profile_background_color': 'C0DEED', 'profile_background_image_url': 'http://abs.twimg.com/images/themes/theme1/bg.png', 'profile_background_image_url_https': 'https://abs.twimg.com/images/themes/theme1/bg.png', 'profile_background_tile': False, 'profile_image_url': 'http://pbs.twimg.com/profile_images/945222210226024448/OhG_XXUP_normal.jpg', 'profile_image_url_https': 'https://pbs.twimg.com/profile_images/945222210226024448/OhG_XXUP_normal.jpg', 'profile_banner_url': 'https://pbs.twimg.com/profile_banners/94027817/1359100023', 'profile_link_color': 'B30000', 'profile_sidebar_border_color': 'C0DEED', 'profile_sidebar_fill_color': 'DDEEF6', 'profile_text_color': '333333', 'profile_use_background_image': True, 'has_extended_profile': True, 'default_profile': False, 'default_profile_image': False, 'following': False, 'follow_request_sent': False, 'notifications': False, 'translator_type': 'none'}, id=94027817, id_str='94027817', name='atul kulkarni', screen_name='atulkoolkarni', location='Jambudvīpa bharatakhanda', description='MODI,MARKETS and MUFC in that order.', url=None, entities={'description': {'urls': []}}, protected=False, followers_count=805, friends_count=533, listed_count=4, created_at=datetime.datetime(2009, 12, 2, 5, 26, 12), favourites_count=31868, utc_offset=None, time_zone=None, geo_enabled=True, verified=False, statuses_count=12273, lang=None, contributors_enabled=False, is_translator=False, is_translation_enabled=False, profile_background_color='C0DEED', profile_background_image_url='http://abs.twimg.com/images/themes/theme1/bg.png', profile_background_image_url_https='https://abs.twimg.com/images/themes/theme1/bg.png', profile_background_tile=False, profile_image_url='http://pbs.twimg.com/profile_images/945222210226024448/OhG_XXUP_normal.jpg', profile_image_url_https='https://pbs.twimg.com/profile_images/945222210226024448/OhG_XXUP_normal.jpg', profile_banner_url='https://pbs.twimg.com/profile_banners/94027817/1359100023', profile_link_color='B30000', profile_sidebar_border_color='C0DEED', profile_sidebar_fill_color='DDEEF6', profile_text_color='333333', profile_use_background_image=True, has_extended_profile=True, default_profile=False, default_profile_image=False, following=False, follow_request_sent=False, notifications=False, translator_type='none'), geo=None, coordinates=None, place=None, contributors=None, is_quote_status=False, retweet_count=0, favorite_count=0, favorited=False, retweeted=False, lang='en') \n",
      "\n",
      ".......................................................\n",
      "\n",
      "Status(_api=<tweepy.api.API object at 0x000000C0150DB808>, _json={'created_at': 'Mon Nov 02 16:19:20 +0000 2020', 'id': 1323298659753062401, 'id_str': '1323298659753062401', 'full_text': '@bhogleharsha Unless there is a reckless batting performance put up by #DC, the total on board is good enough to take the match to the 18 to 20th over. Winning will be the first priority hence there is no rush of NRR. @IPL #DCvsRCB #RCB.', 'truncated': False, 'display_text_range': [14, 237], 'entities': {'hashtags': [{'text': 'DC', 'indices': [71, 74]}, {'text': 'DCvsRCB', 'indices': [223, 231]}, {'text': 'RCB', 'indices': [232, 236]}], 'symbols': [], 'user_mentions': [{'screen_name': 'bhogleharsha', 'name': 'Harsha Bhogle', 'id': 78941611, 'id_str': '78941611', 'indices': [0, 13]}, {'screen_name': 'IPL', 'name': 'IndianPremierLeague', 'id': 15639696, 'id_str': '15639696', 'indices': [218, 222]}], 'urls': []}, 'metadata': {'iso_language_code': 'en', 'result_type': 'recent'}, 'source': '<a href=\"http://twitter.com/download/android\" rel=\"nofollow\">Twitter for Android</a>', 'in_reply_to_status_id': 1323287826159542274, 'in_reply_to_status_id_str': '1323287826159542274', 'in_reply_to_user_id': 78941611, 'in_reply_to_user_id_str': '78941611', 'in_reply_to_screen_name': 'bhogleharsha', 'user': {'id': 428894497, 'id_str': '428894497', 'name': 'Kishor Varma', 'screen_name': 'kisu_v', 'location': 'Mumbai', 'description': 'Movies, Media, Film & Entertainment, Marketing & Sales. Enjoy movies & music, and food. Follow Indian Cricket, IPL, F1...', 'url': None, 'entities': {'description': {'urls': []}}, 'protected': False, 'followers_count': 71, 'friends_count': 139, 'listed_count': 1, 'created_at': 'Mon Dec 05 09:24:29 +0000 2011', 'favourites_count': 40, 'utc_offset': None, 'time_zone': None, 'geo_enabled': True, 'verified': False, 'statuses_count': 1079, 'lang': None, 'contributors_enabled': False, 'is_translator': False, 'is_translation_enabled': False, 'profile_background_color': 'C0DEED', 'profile_background_image_url': 'http://abs.twimg.com/images/themes/theme1/bg.png', 'profile_background_image_url_https': 'https://abs.twimg.com/images/themes/theme1/bg.png', 'profile_background_tile': False, 'profile_image_url': 'http://pbs.twimg.com/profile_images/754749101367959552/O2jqQkWH_normal.jpg', 'profile_image_url_https': 'https://pbs.twimg.com/profile_images/754749101367959552/O2jqQkWH_normal.jpg', 'profile_banner_url': 'https://pbs.twimg.com/profile_banners/428894497/1430470737', 'profile_link_color': '1DA1F2', 'profile_sidebar_border_color': 'C0DEED', 'profile_sidebar_fill_color': 'DDEEF6', 'profile_text_color': '333333', 'profile_use_background_image': True, 'has_extended_profile': False, 'default_profile': True, 'default_profile_image': False, 'following': False, 'follow_request_sent': False, 'notifications': False, 'translator_type': 'none'}, 'geo': None, 'coordinates': None, 'place': None, 'contributors': None, 'is_quote_status': False, 'retweet_count': 0, 'favorite_count': 0, 'favorited': False, 'retweeted': False, 'lang': 'en'}, created_at=datetime.datetime(2020, 11, 2, 16, 19, 20), id=1323298659753062401, id_str='1323298659753062401', full_text='@bhogleharsha Unless there is a reckless batting performance put up by #DC, the total on board is good enough to take the match to the 18 to 20th over. Winning will be the first priority hence there is no rush of NRR. @IPL #DCvsRCB #RCB.', truncated=False, display_text_range=[14, 237], entities={'hashtags': [{'text': 'DC', 'indices': [71, 74]}, {'text': 'DCvsRCB', 'indices': [223, 231]}, {'text': 'RCB', 'indices': [232, 236]}], 'symbols': [], 'user_mentions': [{'screen_name': 'bhogleharsha', 'name': 'Harsha Bhogle', 'id': 78941611, 'id_str': '78941611', 'indices': [0, 13]}, {'screen_name': 'IPL', 'name': 'IndianPremierLeague', 'id': 15639696, 'id_str': '15639696', 'indices': [218, 222]}], 'urls': []}, metadata={'iso_language_code': 'en', 'result_type': 'recent'}, source='Twitter for Android', source_url='http://twitter.com/download/android', in_reply_to_status_id=1323287826159542274, in_reply_to_status_id_str='1323287826159542274', in_reply_to_user_id=78941611, in_reply_to_user_id_str='78941611', in_reply_to_screen_name='bhogleharsha', author=User(_api=<tweepy.api.API object at 0x000000C0150DB808>, _json={'id': 428894497, 'id_str': '428894497', 'name': 'Kishor Varma', 'screen_name': 'kisu_v', 'location': 'Mumbai', 'description': 'Movies, Media, Film & Entertainment, Marketing & Sales. Enjoy movies & music, and food. Follow Indian Cricket, IPL, F1...', 'url': None, 'entities': {'description': {'urls': []}}, 'protected': False, 'followers_count': 71, 'friends_count': 139, 'listed_count': 1, 'created_at': 'Mon Dec 05 09:24:29 +0000 2011', 'favourites_count': 40, 'utc_offset': None, 'time_zone': None, 'geo_enabled': True, 'verified': False, 'statuses_count': 1079, 'lang': None, 'contributors_enabled': False, 'is_translator': False, 'is_translation_enabled': False, 'profile_background_color': 'C0DEED', 'profile_background_image_url': 'http://abs.twimg.com/images/themes/theme1/bg.png', 'profile_background_image_url_https': 'https://abs.twimg.com/images/themes/theme1/bg.png', 'profile_background_tile': False, 'profile_image_url': 'http://pbs.twimg.com/profile_images/754749101367959552/O2jqQkWH_normal.jpg', 'profile_image_url_https': 'https://pbs.twimg.com/profile_images/754749101367959552/O2jqQkWH_normal.jpg', 'profile_banner_url': 'https://pbs.twimg.com/profile_banners/428894497/1430470737', 'profile_link_color': '1DA1F2', 'profile_sidebar_border_color': 'C0DEED', 'profile_sidebar_fill_color': 'DDEEF6', 'profile_text_color': '333333', 'profile_use_background_image': True, 'has_extended_profile': False, 'default_profile': True, 'default_profile_image': False, 'following': False, 'follow_request_sent': False, 'notifications': False, 'translator_type': 'none'}, id=428894497, id_str='428894497', name='Kishor Varma', screen_name='kisu_v', location='Mumbai', description='Movies, Media, Film & Entertainment, Marketing & Sales. Enjoy movies & music, and food. Follow Indian Cricket, IPL, F1...', url=None, entities={'description': {'urls': []}}, protected=False, followers_count=71, friends_count=139, listed_count=1, created_at=datetime.datetime(2011, 12, 5, 9, 24, 29), favourites_count=40, utc_offset=None, time_zone=None, geo_enabled=True, verified=False, statuses_count=1079, lang=None, contributors_enabled=False, is_translator=False, is_translation_enabled=False, profile_background_color='C0DEED', profile_background_image_url='http://abs.twimg.com/images/themes/theme1/bg.png', profile_background_image_url_https='https://abs.twimg.com/images/themes/theme1/bg.png', profile_background_tile=False, profile_image_url='http://pbs.twimg.com/profile_images/754749101367959552/O2jqQkWH_normal.jpg', profile_image_url_https='https://pbs.twimg.com/profile_images/754749101367959552/O2jqQkWH_normal.jpg', profile_banner_url='https://pbs.twimg.com/profile_banners/428894497/1430470737', profile_link_color='1DA1F2', profile_sidebar_border_color='C0DEED', profile_sidebar_fill_color='DDEEF6', profile_text_color='333333', profile_use_background_image=True, has_extended_profile=False, default_profile=True, default_profile_image=False, following=False, follow_request_sent=False, notifications=False, translator_type='none'), user=User(_api=<tweepy.api.API object at 0x000000C0150DB808>, _json={'id': 428894497, 'id_str': '428894497', 'name': 'Kishor Varma', 'screen_name': 'kisu_v', 'location': 'Mumbai', 'description': 'Movies, Media, Film & Entertainment, Marketing & Sales. Enjoy movies & music, and food. Follow Indian Cricket, IPL, F1...', 'url': None, 'entities': {'description': {'urls': []}}, 'protected': False, 'followers_count': 71, 'friends_count': 139, 'listed_count': 1, 'created_at': 'Mon Dec 05 09:24:29 +0000 2011', 'favourites_count': 40, 'utc_offset': None, 'time_zone': None, 'geo_enabled': True, 'verified': False, 'statuses_count': 1079, 'lang': None, 'contributors_enabled': False, 'is_translator': False, 'is_translation_enabled': False, 'profile_background_color': 'C0DEED', 'profile_background_image_url': 'http://abs.twimg.com/images/themes/theme1/bg.png', 'profile_background_image_url_https': 'https://abs.twimg.com/images/themes/theme1/bg.png', 'profile_background_tile': False, 'profile_image_url': 'http://pbs.twimg.com/profile_images/754749101367959552/O2jqQkWH_normal.jpg', 'profile_image_url_https': 'https://pbs.twimg.com/profile_images/754749101367959552/O2jqQkWH_normal.jpg', 'profile_banner_url': 'https://pbs.twimg.com/profile_banners/428894497/1430470737', 'profile_link_color': '1DA1F2', 'profile_sidebar_border_color': 'C0DEED', 'profile_sidebar_fill_color': 'DDEEF6', 'profile_text_color': '333333', 'profile_use_background_image': True, 'has_extended_profile': False, 'default_profile': True, 'default_profile_image': False, 'following': False, 'follow_request_sent': False, 'notifications': False, 'translator_type': 'none'}, id=428894497, id_str='428894497', name='Kishor Varma', screen_name='kisu_v', location='Mumbai', description='Movies, Media, Film & Entertainment, Marketing & Sales. Enjoy movies & music, and food. Follow Indian Cricket, IPL, F1...', url=None, entities={'description': {'urls': []}}, protected=False, followers_count=71, friends_count=139, listed_count=1, created_at=datetime.datetime(2011, 12, 5, 9, 24, 29), favourites_count=40, utc_offset=None, time_zone=None, geo_enabled=True, verified=False, statuses_count=1079, lang=None, contributors_enabled=False, is_translator=False, is_translation_enabled=False, profile_background_color='C0DEED', profile_background_image_url='http://abs.twimg.com/images/themes/theme1/bg.png', profile_background_image_url_https='https://abs.twimg.com/images/themes/theme1/bg.png', profile_background_tile=False, profile_image_url='http://pbs.twimg.com/profile_images/754749101367959552/O2jqQkWH_normal.jpg', profile_image_url_https='https://pbs.twimg.com/profile_images/754749101367959552/O2jqQkWH_normal.jpg', profile_banner_url='https://pbs.twimg.com/profile_banners/428894497/1430470737', profile_link_color='1DA1F2', profile_sidebar_border_color='C0DEED', profile_sidebar_fill_color='DDEEF6', profile_text_color='333333', profile_use_background_image=True, has_extended_profile=False, default_profile=True, default_profile_image=False, following=False, follow_request_sent=False, notifications=False, translator_type='none'), geo=None, coordinates=None, place=None, contributors=None, is_quote_status=False, retweet_count=0, favorite_count=0, favorited=False, retweeted=False, lang='en') \n",
      "\n",
      ".......................................................\n",
      "\n",
      "Status(_api=<tweepy.api.API object at 0x000000C0150DB808>, _json={'created_at': 'Mon Nov 02 15:44:54 +0000 2020', 'id': 1323289994660732928, 'id_str': '1323289994660732928', 'full_text': '@IPL Sorry to say its not winning score \\nWell bowled #DC and y is it always that #ABDevilliers have to come for the rescue  thare is know one who can stand up for the team &amp; #RCB carnt win cause they  one of the bad bowling line ups.', 'truncated': False, 'display_text_range': [5, 237], 'entities': {'hashtags': [{'text': 'DC', 'indices': [53, 56]}, {'text': 'ABDevilliers', 'indices': [81, 94]}, {'text': 'RCB', 'indices': [178, 182]}], 'symbols': [], 'user_mentions': [{'screen_name': 'IPL', 'name': 'IndianPremierLeague', 'id': 15639696, 'id_str': '15639696', 'indices': [0, 4]}], 'urls': []}, 'metadata': {'iso_language_code': 'en', 'result_type': 'recent'}, 'source': '<a href=\"http://twitter.com/download/android\" rel=\"nofollow\">Twitter for Android</a>', 'in_reply_to_status_id': 1323287032832118785, 'in_reply_to_status_id_str': '1323287032832118785', 'in_reply_to_user_id': 15639696, 'in_reply_to_user_id_str': '15639696', 'in_reply_to_screen_name': 'IPL', 'user': {'id': 1312783605387554816, 'id_str': '1312783605387554816', 'name': 'Sean Johnson', 'screen_name': 'SeanJoh55067490', 'location': 'praslin ', 'description': '#borntocook#cooktoeat#eattodie', 'url': None, 'entities': {'description': {'urls': []}}, 'protected': False, 'followers_count': 6, 'friends_count': 24, 'listed_count': 0, 'created_at': 'Sun Oct 04 15:56:38 +0000 2020', 'favourites_count': 3, 'utc_offset': None, 'time_zone': None, 'geo_enabled': False, 'verified': False, 'statuses_count': 19, 'lang': None, 'contributors_enabled': False, 'is_translator': False, 'is_translation_enabled': False, 'profile_background_color': 'F5F8FA', 'profile_background_image_url': None, 'profile_background_image_url_https': None, 'profile_background_tile': False, 'profile_image_url': 'http://pbs.twimg.com/profile_images/1312784802261561350/doHJQW6b_normal.jpg', 'profile_image_url_https': 'https://pbs.twimg.com/profile_images/1312784802261561350/doHJQW6b_normal.jpg', 'profile_banner_url': 'https://pbs.twimg.com/profile_banners/1312783605387554816/1603958920', 'profile_link_color': '1DA1F2', 'profile_sidebar_border_color': 'C0DEED', 'profile_sidebar_fill_color': 'DDEEF6', 'profile_text_color': '333333', 'profile_use_background_image': True, 'has_extended_profile': True, 'default_profile': True, 'default_profile_image': False, 'following': False, 'follow_request_sent': False, 'notifications': False, 'translator_type': 'none'}, 'geo': None, 'coordinates': None, 'place': None, 'contributors': None, 'is_quote_status': False, 'retweet_count': 0, 'favorite_count': 0, 'favorited': False, 'retweeted': False, 'lang': 'en'}, created_at=datetime.datetime(2020, 11, 2, 15, 44, 54), id=1323289994660732928, id_str='1323289994660732928', full_text='@IPL Sorry to say its not winning score \\nWell bowled #DC and y is it always that #ABDevilliers have to come for the rescue  thare is know one who can stand up for the team &amp; #RCB carnt win cause they  one of the bad bowling line ups.', truncated=False, display_text_range=[5, 237], entities={'hashtags': [{'text': 'DC', 'indices': [53, 56]}, {'text': 'ABDevilliers', 'indices': [81, 94]}, {'text': 'RCB', 'indices': [178, 182]}], 'symbols': [], 'user_mentions': [{'screen_name': 'IPL', 'name': 'IndianPremierLeague', 'id': 15639696, 'id_str': '15639696', 'indices': [0, 4]}], 'urls': []}, metadata={'iso_language_code': 'en', 'result_type': 'recent'}, source='Twitter for Android', source_url='http://twitter.com/download/android', in_reply_to_status_id=1323287032832118785, in_reply_to_status_id_str='1323287032832118785', in_reply_to_user_id=15639696, in_reply_to_user_id_str='15639696', in_reply_to_screen_name='IPL', author=User(_api=<tweepy.api.API object at 0x000000C0150DB808>, _json={'id': 1312783605387554816, 'id_str': '1312783605387554816', 'name': 'Sean Johnson', 'screen_name': 'SeanJoh55067490', 'location': 'praslin ', 'description': '#borntocook#cooktoeat#eattodie', 'url': None, 'entities': {'description': {'urls': []}}, 'protected': False, 'followers_count': 6, 'friends_count': 24, 'listed_count': 0, 'created_at': 'Sun Oct 04 15:56:38 +0000 2020', 'favourites_count': 3, 'utc_offset': None, 'time_zone': None, 'geo_enabled': False, 'verified': False, 'statuses_count': 19, 'lang': None, 'contributors_enabled': False, 'is_translator': False, 'is_translation_enabled': False, 'profile_background_color': 'F5F8FA', 'profile_background_image_url': None, 'profile_background_image_url_https': None, 'profile_background_tile': False, 'profile_image_url': 'http://pbs.twimg.com/profile_images/1312784802261561350/doHJQW6b_normal.jpg', 'profile_image_url_https': 'https://pbs.twimg.com/profile_images/1312784802261561350/doHJQW6b_normal.jpg', 'profile_banner_url': 'https://pbs.twimg.com/profile_banners/1312783605387554816/1603958920', 'profile_link_color': '1DA1F2', 'profile_sidebar_border_color': 'C0DEED', 'profile_sidebar_fill_color': 'DDEEF6', 'profile_text_color': '333333', 'profile_use_background_image': True, 'has_extended_profile': True, 'default_profile': True, 'default_profile_image': False, 'following': False, 'follow_request_sent': False, 'notifications': False, 'translator_type': 'none'}, id=1312783605387554816, id_str='1312783605387554816', name='Sean Johnson', screen_name='SeanJoh55067490', location='praslin ', description='#borntocook#cooktoeat#eattodie', url=None, entities={'description': {'urls': []}}, protected=False, followers_count=6, friends_count=24, listed_count=0, created_at=datetime.datetime(2020, 10, 4, 15, 56, 38), favourites_count=3, utc_offset=None, time_zone=None, geo_enabled=False, verified=False, statuses_count=19, lang=None, contributors_enabled=False, is_translator=False, is_translation_enabled=False, profile_background_color='F5F8FA', profile_background_image_url=None, profile_background_image_url_https=None, profile_background_tile=False, profile_image_url='http://pbs.twimg.com/profile_images/1312784802261561350/doHJQW6b_normal.jpg', profile_image_url_https='https://pbs.twimg.com/profile_images/1312784802261561350/doHJQW6b_normal.jpg', profile_banner_url='https://pbs.twimg.com/profile_banners/1312783605387554816/1603958920', profile_link_color='1DA1F2', profile_sidebar_border_color='C0DEED', profile_sidebar_fill_color='DDEEF6', profile_text_color='333333', profile_use_background_image=True, has_extended_profile=True, default_profile=True, default_profile_image=False, following=False, follow_request_sent=False, notifications=False, translator_type='none'), user=User(_api=<tweepy.api.API object at 0x000000C0150DB808>, _json={'id': 1312783605387554816, 'id_str': '1312783605387554816', 'name': 'Sean Johnson', 'screen_name': 'SeanJoh55067490', 'location': 'praslin ', 'description': '#borntocook#cooktoeat#eattodie', 'url': None, 'entities': {'description': {'urls': []}}, 'protected': False, 'followers_count': 6, 'friends_count': 24, 'listed_count': 0, 'created_at': 'Sun Oct 04 15:56:38 +0000 2020', 'favourites_count': 3, 'utc_offset': None, 'time_zone': None, 'geo_enabled': False, 'verified': False, 'statuses_count': 19, 'lang': None, 'contributors_enabled': False, 'is_translator': False, 'is_translation_enabled': False, 'profile_background_color': 'F5F8FA', 'profile_background_image_url': None, 'profile_background_image_url_https': None, 'profile_background_tile': False, 'profile_image_url': 'http://pbs.twimg.com/profile_images/1312784802261561350/doHJQW6b_normal.jpg', 'profile_image_url_https': 'https://pbs.twimg.com/profile_images/1312784802261561350/doHJQW6b_normal.jpg', 'profile_banner_url': 'https://pbs.twimg.com/profile_banners/1312783605387554816/1603958920', 'profile_link_color': '1DA1F2', 'profile_sidebar_border_color': 'C0DEED', 'profile_sidebar_fill_color': 'DDEEF6', 'profile_text_color': '333333', 'profile_use_background_image': True, 'has_extended_profile': True, 'default_profile': True, 'default_profile_image': False, 'following': False, 'follow_request_sent': False, 'notifications': False, 'translator_type': 'none'}, id=1312783605387554816, id_str='1312783605387554816', name='Sean Johnson', screen_name='SeanJoh55067490', location='praslin ', description='#borntocook#cooktoeat#eattodie', url=None, entities={'description': {'urls': []}}, protected=False, followers_count=6, friends_count=24, listed_count=0, created_at=datetime.datetime(2020, 10, 4, 15, 56, 38), favourites_count=3, utc_offset=None, time_zone=None, geo_enabled=False, verified=False, statuses_count=19, lang=None, contributors_enabled=False, is_translator=False, is_translation_enabled=False, profile_background_color='F5F8FA', profile_background_image_url=None, profile_background_image_url_https=None, profile_background_tile=False, profile_image_url='http://pbs.twimg.com/profile_images/1312784802261561350/doHJQW6b_normal.jpg', profile_image_url_https='https://pbs.twimg.com/profile_images/1312784802261561350/doHJQW6b_normal.jpg', profile_banner_url='https://pbs.twimg.com/profile_banners/1312783605387554816/1603958920', profile_link_color='1DA1F2', profile_sidebar_border_color='C0DEED', profile_sidebar_fill_color='DDEEF6', profile_text_color='333333', profile_use_background_image=True, has_extended_profile=True, default_profile=True, default_profile_image=False, following=False, follow_request_sent=False, notifications=False, translator_type='none'), geo=None, coordinates=None, place=None, contributors=None, is_quote_status=False, retweet_count=0, favorite_count=0, favorited=False, retweeted=False, lang='en') \n",
      "\n",
      ".......................................................\n",
      "\n",
      "Status(_api=<tweepy.api.API object at 0x000000C0150DB808>, _json={'created_at': 'Mon Nov 02 15:42:16 +0000 2020', 'id': 1323289328739475456, 'id_str': '1323289328739475456', 'full_text': \"MI DC KKR SRH for qualifiers now.\\n#KKR \\n#SRH \\n#MI \\n#IPL \\nYou know what i mean, today RCB loosing, tomorrow SRH winning.\\nLet's see on ground if don't trust..\\n@IPL\", 'truncated': False, 'display_text_range': [0, 161], 'entities': {'hashtags': [{'text': 'KKR', 'indices': [34, 38]}, {'text': 'SRH', 'indices': [40, 44]}, {'text': 'MI', 'indices': [46, 49]}, {'text': 'IPL', 'indices': [51, 55]}], 'symbols': [], 'user_mentions': [{'screen_name': 'IPL', 'name': 'IndianPremierLeague', 'id': 15639696, 'id_str': '15639696', 'indices': [157, 161]}], 'urls': []}, 'metadata': {'iso_language_code': 'en', 'result_type': 'recent'}, 'source': '<a href=\"http://twitter.com/download/android\" rel=\"nofollow\">Twitter for Android</a>', 'in_reply_to_status_id': None, 'in_reply_to_status_id_str': None, 'in_reply_to_user_id': None, 'in_reply_to_user_id_str': None, 'in_reply_to_screen_name': None, 'user': {'id': 4825945077, 'id_str': '4825945077', 'name': 'Ashu', 'screen_name': 'Info_Seeker_Ace', 'location': 'Haveli, India', 'description': '', 'url': None, 'entities': {'description': {'urls': []}}, 'protected': False, 'followers_count': 1, 'friends_count': 35, 'listed_count': 0, 'created_at': 'Tue Jan 19 01:33:51 +0000 2016', 'favourites_count': 0, 'utc_offset': None, 'time_zone': None, 'geo_enabled': False, 'verified': False, 'statuses_count': 118, 'lang': None, 'contributors_enabled': False, 'is_translator': False, 'is_translation_enabled': False, 'profile_background_color': 'F5F8FA', 'profile_background_image_url': None, 'profile_background_image_url_https': None, 'profile_background_tile': False, 'profile_image_url': 'http://abs.twimg.com/sticky/default_profile_images/default_profile_normal.png', 'profile_image_url_https': 'https://abs.twimg.com/sticky/default_profile_images/default_profile_normal.png', 'profile_link_color': '1DA1F2', 'profile_sidebar_border_color': 'C0DEED', 'profile_sidebar_fill_color': 'DDEEF6', 'profile_text_color': '333333', 'profile_use_background_image': True, 'has_extended_profile': False, 'default_profile': True, 'default_profile_image': True, 'following': False, 'follow_request_sent': False, 'notifications': False, 'translator_type': 'none'}, 'geo': None, 'coordinates': None, 'place': None, 'contributors': None, 'is_quote_status': False, 'retweet_count': 0, 'favorite_count': 1, 'favorited': False, 'retweeted': False, 'lang': 'en'}, created_at=datetime.datetime(2020, 11, 2, 15, 42, 16), id=1323289328739475456, id_str='1323289328739475456', full_text=\"MI DC KKR SRH for qualifiers now.\\n#KKR \\n#SRH \\n#MI \\n#IPL \\nYou know what i mean, today RCB loosing, tomorrow SRH winning.\\nLet's see on ground if don't trust..\\n@IPL\", truncated=False, display_text_range=[0, 161], entities={'hashtags': [{'text': 'KKR', 'indices': [34, 38]}, {'text': 'SRH', 'indices': [40, 44]}, {'text': 'MI', 'indices': [46, 49]}, {'text': 'IPL', 'indices': [51, 55]}], 'symbols': [], 'user_mentions': [{'screen_name': 'IPL', 'name': 'IndianPremierLeague', 'id': 15639696, 'id_str': '15639696', 'indices': [157, 161]}], 'urls': []}, metadata={'iso_language_code': 'en', 'result_type': 'recent'}, source='Twitter for Android', source_url='http://twitter.com/download/android', in_reply_to_status_id=None, in_reply_to_status_id_str=None, in_reply_to_user_id=None, in_reply_to_user_id_str=None, in_reply_to_screen_name=None, author=User(_api=<tweepy.api.API object at 0x000000C0150DB808>, _json={'id': 4825945077, 'id_str': '4825945077', 'name': 'Ashu', 'screen_name': 'Info_Seeker_Ace', 'location': 'Haveli, India', 'description': '', 'url': None, 'entities': {'description': {'urls': []}}, 'protected': False, 'followers_count': 1, 'friends_count': 35, 'listed_count': 0, 'created_at': 'Tue Jan 19 01:33:51 +0000 2016', 'favourites_count': 0, 'utc_offset': None, 'time_zone': None, 'geo_enabled': False, 'verified': False, 'statuses_count': 118, 'lang': None, 'contributors_enabled': False, 'is_translator': False, 'is_translation_enabled': False, 'profile_background_color': 'F5F8FA', 'profile_background_image_url': None, 'profile_background_image_url_https': None, 'profile_background_tile': False, 'profile_image_url': 'http://abs.twimg.com/sticky/default_profile_images/default_profile_normal.png', 'profile_image_url_https': 'https://abs.twimg.com/sticky/default_profile_images/default_profile_normal.png', 'profile_link_color': '1DA1F2', 'profile_sidebar_border_color': 'C0DEED', 'profile_sidebar_fill_color': 'DDEEF6', 'profile_text_color': '333333', 'profile_use_background_image': True, 'has_extended_profile': False, 'default_profile': True, 'default_profile_image': True, 'following': False, 'follow_request_sent': False, 'notifications': False, 'translator_type': 'none'}, id=4825945077, id_str='4825945077', name='Ashu', screen_name='Info_Seeker_Ace', location='Haveli, India', description='', url=None, entities={'description': {'urls': []}}, protected=False, followers_count=1, friends_count=35, listed_count=0, created_at=datetime.datetime(2016, 1, 19, 1, 33, 51), favourites_count=0, utc_offset=None, time_zone=None, geo_enabled=False, verified=False, statuses_count=118, lang=None, contributors_enabled=False, is_translator=False, is_translation_enabled=False, profile_background_color='F5F8FA', profile_background_image_url=None, profile_background_image_url_https=None, profile_background_tile=False, profile_image_url='http://abs.twimg.com/sticky/default_profile_images/default_profile_normal.png', profile_image_url_https='https://abs.twimg.com/sticky/default_profile_images/default_profile_normal.png', profile_link_color='1DA1F2', profile_sidebar_border_color='C0DEED', profile_sidebar_fill_color='DDEEF6', profile_text_color='333333', profile_use_background_image=True, has_extended_profile=False, default_profile=True, default_profile_image=True, following=False, follow_request_sent=False, notifications=False, translator_type='none'), user=User(_api=<tweepy.api.API object at 0x000000C0150DB808>, _json={'id': 4825945077, 'id_str': '4825945077', 'name': 'Ashu', 'screen_name': 'Info_Seeker_Ace', 'location': 'Haveli, India', 'description': '', 'url': None, 'entities': {'description': {'urls': []}}, 'protected': False, 'followers_count': 1, 'friends_count': 35, 'listed_count': 0, 'created_at': 'Tue Jan 19 01:33:51 +0000 2016', 'favourites_count': 0, 'utc_offset': None, 'time_zone': None, 'geo_enabled': False, 'verified': False, 'statuses_count': 118, 'lang': None, 'contributors_enabled': False, 'is_translator': False, 'is_translation_enabled': False, 'profile_background_color': 'F5F8FA', 'profile_background_image_url': None, 'profile_background_image_url_https': None, 'profile_background_tile': False, 'profile_image_url': 'http://abs.twimg.com/sticky/default_profile_images/default_profile_normal.png', 'profile_image_url_https': 'https://abs.twimg.com/sticky/default_profile_images/default_profile_normal.png', 'profile_link_color': '1DA1F2', 'profile_sidebar_border_color': 'C0DEED', 'profile_sidebar_fill_color': 'DDEEF6', 'profile_text_color': '333333', 'profile_use_background_image': True, 'has_extended_profile': False, 'default_profile': True, 'default_profile_image': True, 'following': False, 'follow_request_sent': False, 'notifications': False, 'translator_type': 'none'}, id=4825945077, id_str='4825945077', name='Ashu', screen_name='Info_Seeker_Ace', location='Haveli, India', description='', url=None, entities={'description': {'urls': []}}, protected=False, followers_count=1, friends_count=35, listed_count=0, created_at=datetime.datetime(2016, 1, 19, 1, 33, 51), favourites_count=0, utc_offset=None, time_zone=None, geo_enabled=False, verified=False, statuses_count=118, lang=None, contributors_enabled=False, is_translator=False, is_translation_enabled=False, profile_background_color='F5F8FA', profile_background_image_url=None, profile_background_image_url_https=None, profile_background_tile=False, profile_image_url='http://abs.twimg.com/sticky/default_profile_images/default_profile_normal.png', profile_image_url_https='https://abs.twimg.com/sticky/default_profile_images/default_profile_normal.png', profile_link_color='1DA1F2', profile_sidebar_border_color='C0DEED', profile_sidebar_fill_color='DDEEF6', profile_text_color='333333', profile_use_background_image=True, has_extended_profile=False, default_profile=True, default_profile_image=True, following=False, follow_request_sent=False, notifications=False, translator_type='none'), geo=None, coordinates=None, place=None, contributors=None, is_quote_status=False, retweet_count=0, favorite_count=1, favorited=False, retweeted=False, lang='en') \n",
      "\n",
      ".......................................................\n",
      "\n",
      "Status(_api=<tweepy.api.API object at 0x000000C0150DB808>, _json={'created_at': 'Mon Nov 02 15:36:57 +0000 2020', 'id': 1323287993910726657, 'id_str': '1323287993910726657', 'full_text': 'So what do you think? Will the #RCB &amp; #DC play strategically to maintain their position by winning and loosing with minimum margin to push #KKR at fourth position or out of league if #SRH gets 2 in last game @IPL \\n\\n#RCBvsDC #IPL #Dream11IPL #IPLinUAE #India', 'truncated': False, 'display_text_range': [0, 261], 'entities': {'hashtags': [{'text': 'RCB', 'indices': [31, 35]}, {'text': 'DC', 'indices': [42, 45]}, {'text': 'KKR', 'indices': [143, 147]}, {'text': 'SRH', 'indices': [187, 191]}, {'text': 'RCBvsDC', 'indices': [219, 227]}, {'text': 'IPL', 'indices': [228, 232]}, {'text': 'Dream11IPL', 'indices': [233, 244]}, {'text': 'IPLinUAE', 'indices': [245, 254]}, {'text': 'India', 'indices': [255, 261]}], 'symbols': [], 'user_mentions': [{'screen_name': 'IPL', 'name': 'IndianPremierLeague', 'id': 15639696, 'id_str': '15639696', 'indices': [212, 216]}], 'urls': []}, 'metadata': {'iso_language_code': 'en', 'result_type': 'recent'}, 'source': '<a href=\"http://twitter.com/download/android\" rel=\"nofollow\">Twitter for Android</a>', 'in_reply_to_status_id': None, 'in_reply_to_status_id_str': None, 'in_reply_to_user_id': None, 'in_reply_to_user_id_str': None, 'in_reply_to_screen_name': None, 'user': {'id': 239327102, 'id_str': '239327102', 'name': 'Why So Serious?', 'screen_name': 'AnuragPonganty', 'location': '', 'description': 'Photographer | Cinematographer | Traveller | Meditator | Volunteer 4r Better INDIA', 'url': None, 'entities': {'description': {'urls': []}}, 'protected': False, 'followers_count': 1272, 'friends_count': 20, 'listed_count': 1, 'created_at': 'Mon Jan 17 10:46:18 +0000 2011', 'favourites_count': 16, 'utc_offset': None, 'time_zone': None, 'geo_enabled': False, 'verified': False, 'statuses_count': 145, 'lang': None, 'contributors_enabled': False, 'is_translator': False, 'is_translation_enabled': False, 'profile_background_color': 'C6E2EE', 'profile_background_image_url': 'http://abs.twimg.com/images/themes/theme2/bg.gif', 'profile_background_image_url_https': 'https://abs.twimg.com/images/themes/theme2/bg.gif', 'profile_background_tile': False, 'profile_image_url': 'http://pbs.twimg.com/profile_images/461477169764388865/hpRYix87_normal.jpeg', 'profile_image_url_https': 'https://pbs.twimg.com/profile_images/461477169764388865/hpRYix87_normal.jpeg', 'profile_banner_url': 'https://pbs.twimg.com/profile_banners/239327102/1398568120', 'profile_link_color': '1F98C7', 'profile_sidebar_border_color': 'C6E2EE', 'profile_sidebar_fill_color': 'DAECF4', 'profile_text_color': '663B12', 'profile_use_background_image': True, 'has_extended_profile': False, 'default_profile': False, 'default_profile_image': False, 'following': False, 'follow_request_sent': False, 'notifications': False, 'translator_type': 'none'}, 'geo': None, 'coordinates': None, 'place': None, 'contributors': None, 'is_quote_status': False, 'retweet_count': 0, 'favorite_count': 1, 'favorited': False, 'retweeted': False, 'lang': 'en'}, created_at=datetime.datetime(2020, 11, 2, 15, 36, 57), id=1323287993910726657, id_str='1323287993910726657', full_text='So what do you think? Will the #RCB &amp; #DC play strategically to maintain their position by winning and loosing with minimum margin to push #KKR at fourth position or out of league if #SRH gets 2 in last game @IPL \\n\\n#RCBvsDC #IPL #Dream11IPL #IPLinUAE #India', truncated=False, display_text_range=[0, 261], entities={'hashtags': [{'text': 'RCB', 'indices': [31, 35]}, {'text': 'DC', 'indices': [42, 45]}, {'text': 'KKR', 'indices': [143, 147]}, {'text': 'SRH', 'indices': [187, 191]}, {'text': 'RCBvsDC', 'indices': [219, 227]}, {'text': 'IPL', 'indices': [228, 232]}, {'text': 'Dream11IPL', 'indices': [233, 244]}, {'text': 'IPLinUAE', 'indices': [245, 254]}, {'text': 'India', 'indices': [255, 261]}], 'symbols': [], 'user_mentions': [{'screen_name': 'IPL', 'name': 'IndianPremierLeague', 'id': 15639696, 'id_str': '15639696', 'indices': [212, 216]}], 'urls': []}, metadata={'iso_language_code': 'en', 'result_type': 'recent'}, source='Twitter for Android', source_url='http://twitter.com/download/android', in_reply_to_status_id=None, in_reply_to_status_id_str=None, in_reply_to_user_id=None, in_reply_to_user_id_str=None, in_reply_to_screen_name=None, author=User(_api=<tweepy.api.API object at 0x000000C0150DB808>, _json={'id': 239327102, 'id_str': '239327102', 'name': 'Why So Serious?', 'screen_name': 'AnuragPonganty', 'location': '', 'description': 'Photographer | Cinematographer | Traveller | Meditator | Volunteer 4r Better INDIA', 'url': None, 'entities': {'description': {'urls': []}}, 'protected': False, 'followers_count': 1272, 'friends_count': 20, 'listed_count': 1, 'created_at': 'Mon Jan 17 10:46:18 +0000 2011', 'favourites_count': 16, 'utc_offset': None, 'time_zone': None, 'geo_enabled': False, 'verified': False, 'statuses_count': 145, 'lang': None, 'contributors_enabled': False, 'is_translator': False, 'is_translation_enabled': False, 'profile_background_color': 'C6E2EE', 'profile_background_image_url': 'http://abs.twimg.com/images/themes/theme2/bg.gif', 'profile_background_image_url_https': 'https://abs.twimg.com/images/themes/theme2/bg.gif', 'profile_background_tile': False, 'profile_image_url': 'http://pbs.twimg.com/profile_images/461477169764388865/hpRYix87_normal.jpeg', 'profile_image_url_https': 'https://pbs.twimg.com/profile_images/461477169764388865/hpRYix87_normal.jpeg', 'profile_banner_url': 'https://pbs.twimg.com/profile_banners/239327102/1398568120', 'profile_link_color': '1F98C7', 'profile_sidebar_border_color': 'C6E2EE', 'profile_sidebar_fill_color': 'DAECF4', 'profile_text_color': '663B12', 'profile_use_background_image': True, 'has_extended_profile': False, 'default_profile': False, 'default_profile_image': False, 'following': False, 'follow_request_sent': False, 'notifications': False, 'translator_type': 'none'}, id=239327102, id_str='239327102', name='Why So Serious?', screen_name='AnuragPonganty', location='', description='Photographer | Cinematographer | Traveller | Meditator | Volunteer 4r Better INDIA', url=None, entities={'description': {'urls': []}}, protected=False, followers_count=1272, friends_count=20, listed_count=1, created_at=datetime.datetime(2011, 1, 17, 10, 46, 18), favourites_count=16, utc_offset=None, time_zone=None, geo_enabled=False, verified=False, statuses_count=145, lang=None, contributors_enabled=False, is_translator=False, is_translation_enabled=False, profile_background_color='C6E2EE', profile_background_image_url='http://abs.twimg.com/images/themes/theme2/bg.gif', profile_background_image_url_https='https://abs.twimg.com/images/themes/theme2/bg.gif', profile_background_tile=False, profile_image_url='http://pbs.twimg.com/profile_images/461477169764388865/hpRYix87_normal.jpeg', profile_image_url_https='https://pbs.twimg.com/profile_images/461477169764388865/hpRYix87_normal.jpeg', profile_banner_url='https://pbs.twimg.com/profile_banners/239327102/1398568120', profile_link_color='1F98C7', profile_sidebar_border_color='C6E2EE', profile_sidebar_fill_color='DAECF4', profile_text_color='663B12', profile_use_background_image=True, has_extended_profile=False, default_profile=False, default_profile_image=False, following=False, follow_request_sent=False, notifications=False, translator_type='none'), user=User(_api=<tweepy.api.API object at 0x000000C0150DB808>, _json={'id': 239327102, 'id_str': '239327102', 'name': 'Why So Serious?', 'screen_name': 'AnuragPonganty', 'location': '', 'description': 'Photographer | Cinematographer | Traveller | Meditator | Volunteer 4r Better INDIA', 'url': None, 'entities': {'description': {'urls': []}}, 'protected': False, 'followers_count': 1272, 'friends_count': 20, 'listed_count': 1, 'created_at': 'Mon Jan 17 10:46:18 +0000 2011', 'favourites_count': 16, 'utc_offset': None, 'time_zone': None, 'geo_enabled': False, 'verified': False, 'statuses_count': 145, 'lang': None, 'contributors_enabled': False, 'is_translator': False, 'is_translation_enabled': False, 'profile_background_color': 'C6E2EE', 'profile_background_image_url': 'http://abs.twimg.com/images/themes/theme2/bg.gif', 'profile_background_image_url_https': 'https://abs.twimg.com/images/themes/theme2/bg.gif', 'profile_background_tile': False, 'profile_image_url': 'http://pbs.twimg.com/profile_images/461477169764388865/hpRYix87_normal.jpeg', 'profile_image_url_https': 'https://pbs.twimg.com/profile_images/461477169764388865/hpRYix87_normal.jpeg', 'profile_banner_url': 'https://pbs.twimg.com/profile_banners/239327102/1398568120', 'profile_link_color': '1F98C7', 'profile_sidebar_border_color': 'C6E2EE', 'profile_sidebar_fill_color': 'DAECF4', 'profile_text_color': '663B12', 'profile_use_background_image': True, 'has_extended_profile': False, 'default_profile': False, 'default_profile_image': False, 'following': False, 'follow_request_sent': False, 'notifications': False, 'translator_type': 'none'}, id=239327102, id_str='239327102', name='Why So Serious?', screen_name='AnuragPonganty', location='', description='Photographer | Cinematographer | Traveller | Meditator | Volunteer 4r Better INDIA', url=None, entities={'description': {'urls': []}}, protected=False, followers_count=1272, friends_count=20, listed_count=1, created_at=datetime.datetime(2011, 1, 17, 10, 46, 18), favourites_count=16, utc_offset=None, time_zone=None, geo_enabled=False, verified=False, statuses_count=145, lang=None, contributors_enabled=False, is_translator=False, is_translation_enabled=False, profile_background_color='C6E2EE', profile_background_image_url='http://abs.twimg.com/images/themes/theme2/bg.gif', profile_background_image_url_https='https://abs.twimg.com/images/themes/theme2/bg.gif', profile_background_tile=False, profile_image_url='http://pbs.twimg.com/profile_images/461477169764388865/hpRYix87_normal.jpeg', profile_image_url_https='https://pbs.twimg.com/profile_images/461477169764388865/hpRYix87_normal.jpeg', profile_banner_url='https://pbs.twimg.com/profile_banners/239327102/1398568120', profile_link_color='1F98C7', profile_sidebar_border_color='C6E2EE', profile_sidebar_fill_color='DAECF4', profile_text_color='663B12', profile_use_background_image=True, has_extended_profile=False, default_profile=False, default_profile_image=False, following=False, follow_request_sent=False, notifications=False, translator_type='none'), geo=None, coordinates=None, place=None, contributors=None, is_quote_status=False, retweet_count=0, favorite_count=1, favorited=False, retweeted=False, lang='en') \n",
      "\n",
      ".......................................................\n",
      "\n",
      "Status(_api=<tweepy.api.API object at 0x000000C0150DB808>, _json={'created_at': 'Mon Nov 02 15:36:40 +0000 2020', 'id': 1323287921277874176, 'id_str': '1323287921277874176', 'full_text': \"Though I don't like RCB but feels bad for ABD after every IPL he deserves a trophy.....he is carrying RCB throughout the tournament and winning matches single handedly #RCBvsDC\", 'truncated': False, 'display_text_range': [0, 176], 'entities': {'hashtags': [{'text': 'RCBvsDC', 'indices': [168, 176]}], 'symbols': [], 'user_mentions': [], 'urls': []}, 'metadata': {'iso_language_code': 'en', 'result_type': 'recent'}, 'source': '<a href=\"https://mobile.twitter.com\" rel=\"nofollow\">Twitter Web App</a>', 'in_reply_to_status_id': None, 'in_reply_to_status_id_str': None, 'in_reply_to_user_id': None, 'in_reply_to_user_id_str': None, 'in_reply_to_screen_name': None, 'user': {'id': 126860138, 'id_str': '126860138', 'name': 'Arnav Singh', 'screen_name': 'rajpootarnav', 'location': 'india', 'description': '', 'url': None, 'entities': {'description': {'urls': []}}, 'protected': False, 'followers_count': 15, 'friends_count': 112, 'listed_count': 0, 'created_at': 'Sat Mar 27 06:18:02 +0000 2010', 'favourites_count': 2635, 'utc_offset': None, 'time_zone': None, 'geo_enabled': False, 'verified': False, 'statuses_count': 637, 'lang': None, 'contributors_enabled': False, 'is_translator': False, 'is_translation_enabled': False, 'profile_background_color': 'C0DEED', 'profile_background_image_url': 'http://abs.twimg.com/images/themes/theme1/bg.png', 'profile_background_image_url_https': 'https://abs.twimg.com/images/themes/theme1/bg.png', 'profile_background_tile': False, 'profile_image_url': 'http://pbs.twimg.com/profile_images/1182879503929856000/rJy3TZhH_normal.jpg', 'profile_image_url_https': 'https://pbs.twimg.com/profile_images/1182879503929856000/rJy3TZhH_normal.jpg', 'profile_banner_url': 'https://pbs.twimg.com/profile_banners/126860138/1585071202', 'profile_link_color': '1DA1F2', 'profile_sidebar_border_color': 'C0DEED', 'profile_sidebar_fill_color': 'DDEEF6', 'profile_text_color': '333333', 'profile_use_background_image': True, 'has_extended_profile': True, 'default_profile': True, 'default_profile_image': False, 'following': False, 'follow_request_sent': False, 'notifications': False, 'translator_type': 'none'}, 'geo': None, 'coordinates': None, 'place': None, 'contributors': None, 'is_quote_status': False, 'retweet_count': 0, 'favorite_count': 4, 'favorited': False, 'retweeted': False, 'lang': 'en'}, created_at=datetime.datetime(2020, 11, 2, 15, 36, 40), id=1323287921277874176, id_str='1323287921277874176', full_text=\"Though I don't like RCB but feels bad for ABD after every IPL he deserves a trophy.....he is carrying RCB throughout the tournament and winning matches single handedly #RCBvsDC\", truncated=False, display_text_range=[0, 176], entities={'hashtags': [{'text': 'RCBvsDC', 'indices': [168, 176]}], 'symbols': [], 'user_mentions': [], 'urls': []}, metadata={'iso_language_code': 'en', 'result_type': 'recent'}, source='Twitter Web App', source_url='https://mobile.twitter.com', in_reply_to_status_id=None, in_reply_to_status_id_str=None, in_reply_to_user_id=None, in_reply_to_user_id_str=None, in_reply_to_screen_name=None, author=User(_api=<tweepy.api.API object at 0x000000C0150DB808>, _json={'id': 126860138, 'id_str': '126860138', 'name': 'Arnav Singh', 'screen_name': 'rajpootarnav', 'location': 'india', 'description': '', 'url': None, 'entities': {'description': {'urls': []}}, 'protected': False, 'followers_count': 15, 'friends_count': 112, 'listed_count': 0, 'created_at': 'Sat Mar 27 06:18:02 +0000 2010', 'favourites_count': 2635, 'utc_offset': None, 'time_zone': None, 'geo_enabled': False, 'verified': False, 'statuses_count': 637, 'lang': None, 'contributors_enabled': False, 'is_translator': False, 'is_translation_enabled': False, 'profile_background_color': 'C0DEED', 'profile_background_image_url': 'http://abs.twimg.com/images/themes/theme1/bg.png', 'profile_background_image_url_https': 'https://abs.twimg.com/images/themes/theme1/bg.png', 'profile_background_tile': False, 'profile_image_url': 'http://pbs.twimg.com/profile_images/1182879503929856000/rJy3TZhH_normal.jpg', 'profile_image_url_https': 'https://pbs.twimg.com/profile_images/1182879503929856000/rJy3TZhH_normal.jpg', 'profile_banner_url': 'https://pbs.twimg.com/profile_banners/126860138/1585071202', 'profile_link_color': '1DA1F2', 'profile_sidebar_border_color': 'C0DEED', 'profile_sidebar_fill_color': 'DDEEF6', 'profile_text_color': '333333', 'profile_use_background_image': True, 'has_extended_profile': True, 'default_profile': True, 'default_profile_image': False, 'following': False, 'follow_request_sent': False, 'notifications': False, 'translator_type': 'none'}, id=126860138, id_str='126860138', name='Arnav Singh', screen_name='rajpootarnav', location='india', description='', url=None, entities={'description': {'urls': []}}, protected=False, followers_count=15, friends_count=112, listed_count=0, created_at=datetime.datetime(2010, 3, 27, 6, 18, 2), favourites_count=2635, utc_offset=None, time_zone=None, geo_enabled=False, verified=False, statuses_count=637, lang=None, contributors_enabled=False, is_translator=False, is_translation_enabled=False, profile_background_color='C0DEED', profile_background_image_url='http://abs.twimg.com/images/themes/theme1/bg.png', profile_background_image_url_https='https://abs.twimg.com/images/themes/theme1/bg.png', profile_background_tile=False, profile_image_url='http://pbs.twimg.com/profile_images/1182879503929856000/rJy3TZhH_normal.jpg', profile_image_url_https='https://pbs.twimg.com/profile_images/1182879503929856000/rJy3TZhH_normal.jpg', profile_banner_url='https://pbs.twimg.com/profile_banners/126860138/1585071202', profile_link_color='1DA1F2', profile_sidebar_border_color='C0DEED', profile_sidebar_fill_color='DDEEF6', profile_text_color='333333', profile_use_background_image=True, has_extended_profile=True, default_profile=True, default_profile_image=False, following=False, follow_request_sent=False, notifications=False, translator_type='none'), user=User(_api=<tweepy.api.API object at 0x000000C0150DB808>, _json={'id': 126860138, 'id_str': '126860138', 'name': 'Arnav Singh', 'screen_name': 'rajpootarnav', 'location': 'india', 'description': '', 'url': None, 'entities': {'description': {'urls': []}}, 'protected': False, 'followers_count': 15, 'friends_count': 112, 'listed_count': 0, 'created_at': 'Sat Mar 27 06:18:02 +0000 2010', 'favourites_count': 2635, 'utc_offset': None, 'time_zone': None, 'geo_enabled': False, 'verified': False, 'statuses_count': 637, 'lang': None, 'contributors_enabled': False, 'is_translator': False, 'is_translation_enabled': False, 'profile_background_color': 'C0DEED', 'profile_background_image_url': 'http://abs.twimg.com/images/themes/theme1/bg.png', 'profile_background_image_url_https': 'https://abs.twimg.com/images/themes/theme1/bg.png', 'profile_background_tile': False, 'profile_image_url': 'http://pbs.twimg.com/profile_images/1182879503929856000/rJy3TZhH_normal.jpg', 'profile_image_url_https': 'https://pbs.twimg.com/profile_images/1182879503929856000/rJy3TZhH_normal.jpg', 'profile_banner_url': 'https://pbs.twimg.com/profile_banners/126860138/1585071202', 'profile_link_color': '1DA1F2', 'profile_sidebar_border_color': 'C0DEED', 'profile_sidebar_fill_color': 'DDEEF6', 'profile_text_color': '333333', 'profile_use_background_image': True, 'has_extended_profile': True, 'default_profile': True, 'default_profile_image': False, 'following': False, 'follow_request_sent': False, 'notifications': False, 'translator_type': 'none'}, id=126860138, id_str='126860138', name='Arnav Singh', screen_name='rajpootarnav', location='india', description='', url=None, entities={'description': {'urls': []}}, protected=False, followers_count=15, friends_count=112, listed_count=0, created_at=datetime.datetime(2010, 3, 27, 6, 18, 2), favourites_count=2635, utc_offset=None, time_zone=None, geo_enabled=False, verified=False, statuses_count=637, lang=None, contributors_enabled=False, is_translator=False, is_translation_enabled=False, profile_background_color='C0DEED', profile_background_image_url='http://abs.twimg.com/images/themes/theme1/bg.png', profile_background_image_url_https='https://abs.twimg.com/images/themes/theme1/bg.png', profile_background_tile=False, profile_image_url='http://pbs.twimg.com/profile_images/1182879503929856000/rJy3TZhH_normal.jpg', profile_image_url_https='https://pbs.twimg.com/profile_images/1182879503929856000/rJy3TZhH_normal.jpg', profile_banner_url='https://pbs.twimg.com/profile_banners/126860138/1585071202', profile_link_color='1DA1F2', profile_sidebar_border_color='C0DEED', profile_sidebar_fill_color='DDEEF6', profile_text_color='333333', profile_use_background_image=True, has_extended_profile=True, default_profile=True, default_profile_image=False, following=False, follow_request_sent=False, notifications=False, translator_type='none'), geo=None, coordinates=None, place=None, contributors=None, is_quote_status=False, retweet_count=0, favorite_count=4, favorited=False, retweeted=False, lang='en') \n",
      "\n",
      ".......................................................\n",
      "\n",
      "Status(_api=<tweepy.api.API object at 0x000000C0150DB808>, _json={'created_at': 'Mon Nov 02 15:15:29 +0000 2020', 'id': 1323282588031578114, 'id_str': '1323282588031578114', 'full_text': \"@fcbsiaaaa Gut feeling says he might retire if RCB wins IPL. \\nPlus you wouldn't want kohli to get full-credit for the title as he will end up playing a winning knock in the finals. 🤷\\u200d♂️\", 'truncated': False, 'display_text_range': [11, 185], 'entities': {'hashtags': [], 'symbols': [], 'user_mentions': [{'screen_name': 'fcbsiaaaa', 'name': 'Sia ²⁴', 'id': 1119259273287090181, 'id_str': '1119259273287090181', 'indices': [0, 10]}], 'urls': []}, 'metadata': {'iso_language_code': 'en', 'result_type': 'recent'}, 'source': '<a href=\"http://twitter.com/download/android\" rel=\"nofollow\">Twitter for Android</a>', 'in_reply_to_status_id': 1323275844404486145, 'in_reply_to_status_id_str': '1323275844404486145', 'in_reply_to_user_id': 1119259273287090181, 'in_reply_to_user_id_str': '1119259273287090181', 'in_reply_to_screen_name': 'fcbsiaaaa', 'user': {'id': 1090462567154147328, 'id_str': '1090462567154147328', 'name': 'Son Goku', 'screen_name': 'Noble___10', 'location': '', 'description': 'Leap of faith is what one needs.', 'url': None, 'entities': {'description': {'urls': []}}, 'protected': False, 'followers_count': 10, 'friends_count': 83, 'listed_count': 0, 'created_at': 'Wed Jan 30 04:11:50 +0000 2019', 'favourites_count': 3944, 'utc_offset': None, 'time_zone': None, 'geo_enabled': False, 'verified': False, 'statuses_count': 547, 'lang': None, 'contributors_enabled': False, 'is_translator': False, 'is_translation_enabled': False, 'profile_background_color': 'F5F8FA', 'profile_background_image_url': None, 'profile_background_image_url_https': None, 'profile_background_tile': False, 'profile_image_url': 'http://pbs.twimg.com/profile_images/1305129322257117184/dXlW-ELB_normal.jpg', 'profile_image_url_https': 'https://pbs.twimg.com/profile_images/1305129322257117184/dXlW-ELB_normal.jpg', 'profile_banner_url': 'https://pbs.twimg.com/profile_banners/1090462567154147328/1600002222', 'profile_link_color': '1DA1F2', 'profile_sidebar_border_color': 'C0DEED', 'profile_sidebar_fill_color': 'DDEEF6', 'profile_text_color': '333333', 'profile_use_background_image': True, 'has_extended_profile': False, 'default_profile': True, 'default_profile_image': False, 'following': False, 'follow_request_sent': False, 'notifications': False, 'translator_type': 'none'}, 'geo': None, 'coordinates': None, 'place': None, 'contributors': None, 'is_quote_status': False, 'retweet_count': 0, 'favorite_count': 0, 'favorited': False, 'retweeted': False, 'lang': 'en'}, created_at=datetime.datetime(2020, 11, 2, 15, 15, 29), id=1323282588031578114, id_str='1323282588031578114', full_text=\"@fcbsiaaaa Gut feeling says he might retire if RCB wins IPL. \\nPlus you wouldn't want kohli to get full-credit for the title as he will end up playing a winning knock in the finals. 🤷\\u200d♂️\", truncated=False, display_text_range=[11, 185], entities={'hashtags': [], 'symbols': [], 'user_mentions': [{'screen_name': 'fcbsiaaaa', 'name': 'Sia ²⁴', 'id': 1119259273287090181, 'id_str': '1119259273287090181', 'indices': [0, 10]}], 'urls': []}, metadata={'iso_language_code': 'en', 'result_type': 'recent'}, source='Twitter for Android', source_url='http://twitter.com/download/android', in_reply_to_status_id=1323275844404486145, in_reply_to_status_id_str='1323275844404486145', in_reply_to_user_id=1119259273287090181, in_reply_to_user_id_str='1119259273287090181', in_reply_to_screen_name='fcbsiaaaa', author=User(_api=<tweepy.api.API object at 0x000000C0150DB808>, _json={'id': 1090462567154147328, 'id_str': '1090462567154147328', 'name': 'Son Goku', 'screen_name': 'Noble___10', 'location': '', 'description': 'Leap of faith is what one needs.', 'url': None, 'entities': {'description': {'urls': []}}, 'protected': False, 'followers_count': 10, 'friends_count': 83, 'listed_count': 0, 'created_at': 'Wed Jan 30 04:11:50 +0000 2019', 'favourites_count': 3944, 'utc_offset': None, 'time_zone': None, 'geo_enabled': False, 'verified': False, 'statuses_count': 547, 'lang': None, 'contributors_enabled': False, 'is_translator': False, 'is_translation_enabled': False, 'profile_background_color': 'F5F8FA', 'profile_background_image_url': None, 'profile_background_image_url_https': None, 'profile_background_tile': False, 'profile_image_url': 'http://pbs.twimg.com/profile_images/1305129322257117184/dXlW-ELB_normal.jpg', 'profile_image_url_https': 'https://pbs.twimg.com/profile_images/1305129322257117184/dXlW-ELB_normal.jpg', 'profile_banner_url': 'https://pbs.twimg.com/profile_banners/1090462567154147328/1600002222', 'profile_link_color': '1DA1F2', 'profile_sidebar_border_color': 'C0DEED', 'profile_sidebar_fill_color': 'DDEEF6', 'profile_text_color': '333333', 'profile_use_background_image': True, 'has_extended_profile': False, 'default_profile': True, 'default_profile_image': False, 'following': False, 'follow_request_sent': False, 'notifications': False, 'translator_type': 'none'}, id=1090462567154147328, id_str='1090462567154147328', name='Son Goku', screen_name='Noble___10', location='', description='Leap of faith is what one needs.', url=None, entities={'description': {'urls': []}}, protected=False, followers_count=10, friends_count=83, listed_count=0, created_at=datetime.datetime(2019, 1, 30, 4, 11, 50), favourites_count=3944, utc_offset=None, time_zone=None, geo_enabled=False, verified=False, statuses_count=547, lang=None, contributors_enabled=False, is_translator=False, is_translation_enabled=False, profile_background_color='F5F8FA', profile_background_image_url=None, profile_background_image_url_https=None, profile_background_tile=False, profile_image_url='http://pbs.twimg.com/profile_images/1305129322257117184/dXlW-ELB_normal.jpg', profile_image_url_https='https://pbs.twimg.com/profile_images/1305129322257117184/dXlW-ELB_normal.jpg', profile_banner_url='https://pbs.twimg.com/profile_banners/1090462567154147328/1600002222', profile_link_color='1DA1F2', profile_sidebar_border_color='C0DEED', profile_sidebar_fill_color='DDEEF6', profile_text_color='333333', profile_use_background_image=True, has_extended_profile=False, default_profile=True, default_profile_image=False, following=False, follow_request_sent=False, notifications=False, translator_type='none'), user=User(_api=<tweepy.api.API object at 0x000000C0150DB808>, _json={'id': 1090462567154147328, 'id_str': '1090462567154147328', 'name': 'Son Goku', 'screen_name': 'Noble___10', 'location': '', 'description': 'Leap of faith is what one needs.', 'url': None, 'entities': {'description': {'urls': []}}, 'protected': False, 'followers_count': 10, 'friends_count': 83, 'listed_count': 0, 'created_at': 'Wed Jan 30 04:11:50 +0000 2019', 'favourites_count': 3944, 'utc_offset': None, 'time_zone': None, 'geo_enabled': False, 'verified': False, 'statuses_count': 547, 'lang': None, 'contributors_enabled': False, 'is_translator': False, 'is_translation_enabled': False, 'profile_background_color': 'F5F8FA', 'profile_background_image_url': None, 'profile_background_image_url_https': None, 'profile_background_tile': False, 'profile_image_url': 'http://pbs.twimg.com/profile_images/1305129322257117184/dXlW-ELB_normal.jpg', 'profile_image_url_https': 'https://pbs.twimg.com/profile_images/1305129322257117184/dXlW-ELB_normal.jpg', 'profile_banner_url': 'https://pbs.twimg.com/profile_banners/1090462567154147328/1600002222', 'profile_link_color': '1DA1F2', 'profile_sidebar_border_color': 'C0DEED', 'profile_sidebar_fill_color': 'DDEEF6', 'profile_text_color': '333333', 'profile_use_background_image': True, 'has_extended_profile': False, 'default_profile': True, 'default_profile_image': False, 'following': False, 'follow_request_sent': False, 'notifications': False, 'translator_type': 'none'}, id=1090462567154147328, id_str='1090462567154147328', name='Son Goku', screen_name='Noble___10', location='', description='Leap of faith is what one needs.', url=None, entities={'description': {'urls': []}}, protected=False, followers_count=10, friends_count=83, listed_count=0, created_at=datetime.datetime(2019, 1, 30, 4, 11, 50), favourites_count=3944, utc_offset=None, time_zone=None, geo_enabled=False, verified=False, statuses_count=547, lang=None, contributors_enabled=False, is_translator=False, is_translation_enabled=False, profile_background_color='F5F8FA', profile_background_image_url=None, profile_background_image_url_https=None, profile_background_tile=False, profile_image_url='http://pbs.twimg.com/profile_images/1305129322257117184/dXlW-ELB_normal.jpg', profile_image_url_https='https://pbs.twimg.com/profile_images/1305129322257117184/dXlW-ELB_normal.jpg', profile_banner_url='https://pbs.twimg.com/profile_banners/1090462567154147328/1600002222', profile_link_color='1DA1F2', profile_sidebar_border_color='C0DEED', profile_sidebar_fill_color='DDEEF6', profile_text_color='333333', profile_use_background_image=True, has_extended_profile=False, default_profile=True, default_profile_image=False, following=False, follow_request_sent=False, notifications=False, translator_type='none'), geo=None, coordinates=None, place=None, contributors=None, is_quote_status=False, retweet_count=0, favorite_count=0, favorited=False, retweeted=False, lang='en') \n",
      "\n",
      ".......................................................\n",
      "\n",
      "Status(_api=<tweepy.api.API object at 0x000000C0150DB808>, _json={'created_at': 'Mon Nov 02 15:07:32 +0000 2020', 'id': 1323280588262891521, 'id_str': '1323280588262891521', 'full_text': '@RCBTweets @imVkohli @devdpd07 Ipl should have to be name of test match only then we have some chance of RCB winning cup', 'truncated': False, 'display_text_range': [31, 120], 'entities': {'hashtags': [], 'symbols': [], 'user_mentions': [{'screen_name': 'RCBTweets', 'name': 'Royal Challengers Bangalore', 'id': 70931004, 'id_str': '70931004', 'indices': [0, 10]}, {'screen_name': 'imVkohli', 'name': 'Virat Kohli', 'id': 71201743, 'id_str': '71201743', 'indices': [11, 20]}, {'screen_name': 'devdpd07', 'name': 'Devdutt Padikkal', 'id': 4659508754, 'id_str': '4659508754', 'indices': [21, 30]}], 'urls': []}, 'metadata': {'iso_language_code': 'en', 'result_type': 'recent'}, 'source': '<a href=\"http://twitter.com/download/android\" rel=\"nofollow\">Twitter for Android</a>', 'in_reply_to_status_id': 1323276778886975488, 'in_reply_to_status_id_str': '1323276778886975488', 'in_reply_to_user_id': 70931004, 'in_reply_to_user_id_str': '70931004', 'in_reply_to_screen_name': 'RCBTweets', 'user': {'id': 101721826, 'id_str': '101721826', 'name': 'zulfikar', 'screen_name': 'zl5kr', 'location': 'Bangalore,india', 'description': '', 'url': None, 'entities': {'description': {'urls': []}}, 'protected': False, 'followers_count': 184, 'friends_count': 731, 'listed_count': 3, 'created_at': 'Mon Jan 04 10:25:57 +0000 2010', 'favourites_count': 2368, 'utc_offset': None, 'time_zone': None, 'geo_enabled': True, 'verified': False, 'statuses_count': 1776, 'lang': None, 'contributors_enabled': False, 'is_translator': False, 'is_translation_enabled': False, 'profile_background_color': 'C0DEED', 'profile_background_image_url': 'http://abs.twimg.com/images/themes/theme1/bg.png', 'profile_background_image_url_https': 'https://abs.twimg.com/images/themes/theme1/bg.png', 'profile_background_tile': False, 'profile_image_url': 'http://pbs.twimg.com/profile_images/686618130081185792/JIXJWCUf_normal.jpg', 'profile_image_url_https': 'https://pbs.twimg.com/profile_images/686618130081185792/JIXJWCUf_normal.jpg', 'profile_link_color': '1DA1F2', 'profile_sidebar_border_color': 'C0DEED', 'profile_sidebar_fill_color': 'DDEEF6', 'profile_text_color': '333333', 'profile_use_background_image': True, 'has_extended_profile': False, 'default_profile': True, 'default_profile_image': False, 'following': False, 'follow_request_sent': False, 'notifications': False, 'translator_type': 'none'}, 'geo': None, 'coordinates': None, 'place': None, 'contributors': None, 'is_quote_status': False, 'retweet_count': 0, 'favorite_count': 1, 'favorited': False, 'retweeted': False, 'lang': 'en'}, created_at=datetime.datetime(2020, 11, 2, 15, 7, 32), id=1323280588262891521, id_str='1323280588262891521', full_text='@RCBTweets @imVkohli @devdpd07 Ipl should have to be name of test match only then we have some chance of RCB winning cup', truncated=False, display_text_range=[31, 120], entities={'hashtags': [], 'symbols': [], 'user_mentions': [{'screen_name': 'RCBTweets', 'name': 'Royal Challengers Bangalore', 'id': 70931004, 'id_str': '70931004', 'indices': [0, 10]}, {'screen_name': 'imVkohli', 'name': 'Virat Kohli', 'id': 71201743, 'id_str': '71201743', 'indices': [11, 20]}, {'screen_name': 'devdpd07', 'name': 'Devdutt Padikkal', 'id': 4659508754, 'id_str': '4659508754', 'indices': [21, 30]}], 'urls': []}, metadata={'iso_language_code': 'en', 'result_type': 'recent'}, source='Twitter for Android', source_url='http://twitter.com/download/android', in_reply_to_status_id=1323276778886975488, in_reply_to_status_id_str='1323276778886975488', in_reply_to_user_id=70931004, in_reply_to_user_id_str='70931004', in_reply_to_screen_name='RCBTweets', author=User(_api=<tweepy.api.API object at 0x000000C0150DB808>, _json={'id': 101721826, 'id_str': '101721826', 'name': 'zulfikar', 'screen_name': 'zl5kr', 'location': 'Bangalore,india', 'description': '', 'url': None, 'entities': {'description': {'urls': []}}, 'protected': False, 'followers_count': 184, 'friends_count': 731, 'listed_count': 3, 'created_at': 'Mon Jan 04 10:25:57 +0000 2010', 'favourites_count': 2368, 'utc_offset': None, 'time_zone': None, 'geo_enabled': True, 'verified': False, 'statuses_count': 1776, 'lang': None, 'contributors_enabled': False, 'is_translator': False, 'is_translation_enabled': False, 'profile_background_color': 'C0DEED', 'profile_background_image_url': 'http://abs.twimg.com/images/themes/theme1/bg.png', 'profile_background_image_url_https': 'https://abs.twimg.com/images/themes/theme1/bg.png', 'profile_background_tile': False, 'profile_image_url': 'http://pbs.twimg.com/profile_images/686618130081185792/JIXJWCUf_normal.jpg', 'profile_image_url_https': 'https://pbs.twimg.com/profile_images/686618130081185792/JIXJWCUf_normal.jpg', 'profile_link_color': '1DA1F2', 'profile_sidebar_border_color': 'C0DEED', 'profile_sidebar_fill_color': 'DDEEF6', 'profile_text_color': '333333', 'profile_use_background_image': True, 'has_extended_profile': False, 'default_profile': True, 'default_profile_image': False, 'following': False, 'follow_request_sent': False, 'notifications': False, 'translator_type': 'none'}, id=101721826, id_str='101721826', name='zulfikar', screen_name='zl5kr', location='Bangalore,india', description='', url=None, entities={'description': {'urls': []}}, protected=False, followers_count=184, friends_count=731, listed_count=3, created_at=datetime.datetime(2010, 1, 4, 10, 25, 57), favourites_count=2368, utc_offset=None, time_zone=None, geo_enabled=True, verified=False, statuses_count=1776, lang=None, contributors_enabled=False, is_translator=False, is_translation_enabled=False, profile_background_color='C0DEED', profile_background_image_url='http://abs.twimg.com/images/themes/theme1/bg.png', profile_background_image_url_https='https://abs.twimg.com/images/themes/theme1/bg.png', profile_background_tile=False, profile_image_url='http://pbs.twimg.com/profile_images/686618130081185792/JIXJWCUf_normal.jpg', profile_image_url_https='https://pbs.twimg.com/profile_images/686618130081185792/JIXJWCUf_normal.jpg', profile_link_color='1DA1F2', profile_sidebar_border_color='C0DEED', profile_sidebar_fill_color='DDEEF6', profile_text_color='333333', profile_use_background_image=True, has_extended_profile=False, default_profile=True, default_profile_image=False, following=False, follow_request_sent=False, notifications=False, translator_type='none'), user=User(_api=<tweepy.api.API object at 0x000000C0150DB808>, _json={'id': 101721826, 'id_str': '101721826', 'name': 'zulfikar', 'screen_name': 'zl5kr', 'location': 'Bangalore,india', 'description': '', 'url': None, 'entities': {'description': {'urls': []}}, 'protected': False, 'followers_count': 184, 'friends_count': 731, 'listed_count': 3, 'created_at': 'Mon Jan 04 10:25:57 +0000 2010', 'favourites_count': 2368, 'utc_offset': None, 'time_zone': None, 'geo_enabled': True, 'verified': False, 'statuses_count': 1776, 'lang': None, 'contributors_enabled': False, 'is_translator': False, 'is_translation_enabled': False, 'profile_background_color': 'C0DEED', 'profile_background_image_url': 'http://abs.twimg.com/images/themes/theme1/bg.png', 'profile_background_image_url_https': 'https://abs.twimg.com/images/themes/theme1/bg.png', 'profile_background_tile': False, 'profile_image_url': 'http://pbs.twimg.com/profile_images/686618130081185792/JIXJWCUf_normal.jpg', 'profile_image_url_https': 'https://pbs.twimg.com/profile_images/686618130081185792/JIXJWCUf_normal.jpg', 'profile_link_color': '1DA1F2', 'profile_sidebar_border_color': 'C0DEED', 'profile_sidebar_fill_color': 'DDEEF6', 'profile_text_color': '333333', 'profile_use_background_image': True, 'has_extended_profile': False, 'default_profile': True, 'default_profile_image': False, 'following': False, 'follow_request_sent': False, 'notifications': False, 'translator_type': 'none'}, id=101721826, id_str='101721826', name='zulfikar', screen_name='zl5kr', location='Bangalore,india', description='', url=None, entities={'description': {'urls': []}}, protected=False, followers_count=184, friends_count=731, listed_count=3, created_at=datetime.datetime(2010, 1, 4, 10, 25, 57), favourites_count=2368, utc_offset=None, time_zone=None, geo_enabled=True, verified=False, statuses_count=1776, lang=None, contributors_enabled=False, is_translator=False, is_translation_enabled=False, profile_background_color='C0DEED', profile_background_image_url='http://abs.twimg.com/images/themes/theme1/bg.png', profile_background_image_url_https='https://abs.twimg.com/images/themes/theme1/bg.png', profile_background_tile=False, profile_image_url='http://pbs.twimg.com/profile_images/686618130081185792/JIXJWCUf_normal.jpg', profile_image_url_https='https://pbs.twimg.com/profile_images/686618130081185792/JIXJWCUf_normal.jpg', profile_link_color='1DA1F2', profile_sidebar_border_color='C0DEED', profile_sidebar_fill_color='DDEEF6', profile_text_color='333333', profile_use_background_image=True, has_extended_profile=False, default_profile=True, default_profile_image=False, following=False, follow_request_sent=False, notifications=False, translator_type='none'), geo=None, coordinates=None, place=None, contributors=None, is_quote_status=False, retweet_count=0, favorite_count=1, favorited=False, retweeted=False, lang='en') \n",
      "\n",
      ".......................................................\n",
      "\n",
      "Status(_api=<tweepy.api.API object at 0x000000C0150DB808>, _json={'created_at': 'Mon Nov 02 14:23:42 +0000 2020', 'id': 1323269559407661056, 'id_str': '1323269559407661056', 'full_text': \"All IPL fans what do you think who's winning the match today and thus qualifying for the playoffs ? \\n\\nDC or RCB ? \\n\\nComment using #RashamiDesai\", 'truncated': False, 'display_text_range': [0, 143], 'entities': {'hashtags': [{'text': 'RashamiDesai', 'indices': [130, 143]}], 'symbols': [], 'user_mentions': [], 'urls': []}, 'metadata': {'iso_language_code': 'en', 'result_type': 'recent'}, 'source': '<a href=\"http://twitter.com/download/android\" rel=\"nofollow\">Twitter for Android</a>', 'in_reply_to_status_id': None, 'in_reply_to_status_id_str': None, 'in_reply_to_user_id': None, 'in_reply_to_user_id_str': None, 'in_reply_to_screen_name': None, 'user': {'id': 1601603766, 'id_str': '1601603766', 'name': 'Aysha ( The RD FanClub 💫❤)', 'screen_name': 'ayshahabib11', 'location': 'New Delhi, India', 'description': '7 years old on this bird app 🥰.\\n\\nNOT AN official FC. I just stan @TheRashamiDesai 😘.\\nRashami Liked × 18. \\nReplied × 2 .\\nQuoted × 1.', 'url': None, 'entities': {'description': {'urls': []}}, 'protected': False, 'followers_count': 17494, 'friends_count': 919, 'listed_count': 6, 'created_at': 'Wed Jul 17 19:06:22 +0000 2013', 'favourites_count': 67856, 'utc_offset': None, 'time_zone': None, 'geo_enabled': True, 'verified': False, 'statuses_count': 44062, 'lang': None, 'contributors_enabled': False, 'is_translator': False, 'is_translation_enabled': False, 'profile_background_color': '1A1B1F', 'profile_background_image_url': 'http://abs.twimg.com/images/themes/theme9/bg.gif', 'profile_background_image_url_https': 'https://abs.twimg.com/images/themes/theme9/bg.gif', 'profile_background_tile': False, 'profile_image_url': 'http://pbs.twimg.com/profile_images/1311915590982881280/XsOxDixa_normal.jpg', 'profile_image_url_https': 'https://pbs.twimg.com/profile_images/1311915590982881280/XsOxDixa_normal.jpg', 'profile_banner_url': 'https://pbs.twimg.com/profile_banners/1601603766/1601620001', 'profile_link_color': '2FC2EF', 'profile_sidebar_border_color': '181A1E', 'profile_sidebar_fill_color': '252429', 'profile_text_color': '666666', 'profile_use_background_image': True, 'has_extended_profile': True, 'default_profile': False, 'default_profile_image': False, 'following': False, 'follow_request_sent': False, 'notifications': False, 'translator_type': 'none'}, 'geo': None, 'coordinates': None, 'place': None, 'contributors': None, 'is_quote_status': False, 'retweet_count': 37, 'favorite_count': 39, 'favorited': False, 'retweeted': False, 'lang': 'en'}, created_at=datetime.datetime(2020, 11, 2, 14, 23, 42), id=1323269559407661056, id_str='1323269559407661056', full_text=\"All IPL fans what do you think who's winning the match today and thus qualifying for the playoffs ? \\n\\nDC or RCB ? \\n\\nComment using #RashamiDesai\", truncated=False, display_text_range=[0, 143], entities={'hashtags': [{'text': 'RashamiDesai', 'indices': [130, 143]}], 'symbols': [], 'user_mentions': [], 'urls': []}, metadata={'iso_language_code': 'en', 'result_type': 'recent'}, source='Twitter for Android', source_url='http://twitter.com/download/android', in_reply_to_status_id=None, in_reply_to_status_id_str=None, in_reply_to_user_id=None, in_reply_to_user_id_str=None, in_reply_to_screen_name=None, author=User(_api=<tweepy.api.API object at 0x000000C0150DB808>, _json={'id': 1601603766, 'id_str': '1601603766', 'name': 'Aysha ( The RD FanClub 💫❤)', 'screen_name': 'ayshahabib11', 'location': 'New Delhi, India', 'description': '7 years old on this bird app 🥰.\\n\\nNOT AN official FC. I just stan @TheRashamiDesai 😘.\\nRashami Liked × 18. \\nReplied × 2 .\\nQuoted × 1.', 'url': None, 'entities': {'description': {'urls': []}}, 'protected': False, 'followers_count': 17494, 'friends_count': 919, 'listed_count': 6, 'created_at': 'Wed Jul 17 19:06:22 +0000 2013', 'favourites_count': 67856, 'utc_offset': None, 'time_zone': None, 'geo_enabled': True, 'verified': False, 'statuses_count': 44062, 'lang': None, 'contributors_enabled': False, 'is_translator': False, 'is_translation_enabled': False, 'profile_background_color': '1A1B1F', 'profile_background_image_url': 'http://abs.twimg.com/images/themes/theme9/bg.gif', 'profile_background_image_url_https': 'https://abs.twimg.com/images/themes/theme9/bg.gif', 'profile_background_tile': False, 'profile_image_url': 'http://pbs.twimg.com/profile_images/1311915590982881280/XsOxDixa_normal.jpg', 'profile_image_url_https': 'https://pbs.twimg.com/profile_images/1311915590982881280/XsOxDixa_normal.jpg', 'profile_banner_url': 'https://pbs.twimg.com/profile_banners/1601603766/1601620001', 'profile_link_color': '2FC2EF', 'profile_sidebar_border_color': '181A1E', 'profile_sidebar_fill_color': '252429', 'profile_text_color': '666666', 'profile_use_background_image': True, 'has_extended_profile': True, 'default_profile': False, 'default_profile_image': False, 'following': False, 'follow_request_sent': False, 'notifications': False, 'translator_type': 'none'}, id=1601603766, id_str='1601603766', name='Aysha ( The RD FanClub 💫❤)', screen_name='ayshahabib11', location='New Delhi, India', description='7 years old on this bird app 🥰.\\n\\nNOT AN official FC. I just stan @TheRashamiDesai 😘.\\nRashami Liked × 18. \\nReplied × 2 .\\nQuoted × 1.', url=None, entities={'description': {'urls': []}}, protected=False, followers_count=17494, friends_count=919, listed_count=6, created_at=datetime.datetime(2013, 7, 17, 19, 6, 22), favourites_count=67856, utc_offset=None, time_zone=None, geo_enabled=True, verified=False, statuses_count=44062, lang=None, contributors_enabled=False, is_translator=False, is_translation_enabled=False, profile_background_color='1A1B1F', profile_background_image_url='http://abs.twimg.com/images/themes/theme9/bg.gif', profile_background_image_url_https='https://abs.twimg.com/images/themes/theme9/bg.gif', profile_background_tile=False, profile_image_url='http://pbs.twimg.com/profile_images/1311915590982881280/XsOxDixa_normal.jpg', profile_image_url_https='https://pbs.twimg.com/profile_images/1311915590982881280/XsOxDixa_normal.jpg', profile_banner_url='https://pbs.twimg.com/profile_banners/1601603766/1601620001', profile_link_color='2FC2EF', profile_sidebar_border_color='181A1E', profile_sidebar_fill_color='252429', profile_text_color='666666', profile_use_background_image=True, has_extended_profile=True, default_profile=False, default_profile_image=False, following=False, follow_request_sent=False, notifications=False, translator_type='none'), user=User(_api=<tweepy.api.API object at 0x000000C0150DB808>, _json={'id': 1601603766, 'id_str': '1601603766', 'name': 'Aysha ( The RD FanClub 💫❤)', 'screen_name': 'ayshahabib11', 'location': 'New Delhi, India', 'description': '7 years old on this bird app 🥰.\\n\\nNOT AN official FC. I just stan @TheRashamiDesai 😘.\\nRashami Liked × 18. \\nReplied × 2 .\\nQuoted × 1.', 'url': None, 'entities': {'description': {'urls': []}}, 'protected': False, 'followers_count': 17494, 'friends_count': 919, 'listed_count': 6, 'created_at': 'Wed Jul 17 19:06:22 +0000 2013', 'favourites_count': 67856, 'utc_offset': None, 'time_zone': None, 'geo_enabled': True, 'verified': False, 'statuses_count': 44062, 'lang': None, 'contributors_enabled': False, 'is_translator': False, 'is_translation_enabled': False, 'profile_background_color': '1A1B1F', 'profile_background_image_url': 'http://abs.twimg.com/images/themes/theme9/bg.gif', 'profile_background_image_url_https': 'https://abs.twimg.com/images/themes/theme9/bg.gif', 'profile_background_tile': False, 'profile_image_url': 'http://pbs.twimg.com/profile_images/1311915590982881280/XsOxDixa_normal.jpg', 'profile_image_url_https': 'https://pbs.twimg.com/profile_images/1311915590982881280/XsOxDixa_normal.jpg', 'profile_banner_url': 'https://pbs.twimg.com/profile_banners/1601603766/1601620001', 'profile_link_color': '2FC2EF', 'profile_sidebar_border_color': '181A1E', 'profile_sidebar_fill_color': '252429', 'profile_text_color': '666666', 'profile_use_background_image': True, 'has_extended_profile': True, 'default_profile': False, 'default_profile_image': False, 'following': False, 'follow_request_sent': False, 'notifications': False, 'translator_type': 'none'}, id=1601603766, id_str='1601603766', name='Aysha ( The RD FanClub 💫❤)', screen_name='ayshahabib11', location='New Delhi, India', description='7 years old on this bird app 🥰.\\n\\nNOT AN official FC. I just stan @TheRashamiDesai 😘.\\nRashami Liked × 18. \\nReplied × 2 .\\nQuoted × 1.', url=None, entities={'description': {'urls': []}}, protected=False, followers_count=17494, friends_count=919, listed_count=6, created_at=datetime.datetime(2013, 7, 17, 19, 6, 22), favourites_count=67856, utc_offset=None, time_zone=None, geo_enabled=True, verified=False, statuses_count=44062, lang=None, contributors_enabled=False, is_translator=False, is_translation_enabled=False, profile_background_color='1A1B1F', profile_background_image_url='http://abs.twimg.com/images/themes/theme9/bg.gif', profile_background_image_url_https='https://abs.twimg.com/images/themes/theme9/bg.gif', profile_background_tile=False, profile_image_url='http://pbs.twimg.com/profile_images/1311915590982881280/XsOxDixa_normal.jpg', profile_image_url_https='https://pbs.twimg.com/profile_images/1311915590982881280/XsOxDixa_normal.jpg', profile_banner_url='https://pbs.twimg.com/profile_banners/1601603766/1601620001', profile_link_color='2FC2EF', profile_sidebar_border_color='181A1E', profile_sidebar_fill_color='252429', profile_text_color='666666', profile_use_background_image=True, has_extended_profile=True, default_profile=False, default_profile_image=False, following=False, follow_request_sent=False, notifications=False, translator_type='none'), geo=None, coordinates=None, place=None, contributors=None, is_quote_status=False, retweet_count=37, favorite_count=39, favorited=False, retweeted=False, lang='en') \n",
      "\n",
      ".......................................................\n",
      "\n",
      "Status(_api=<tweepy.api.API object at 0x000000C0150DB808>, _json={'created_at': 'Mon Nov 02 13:59:06 +0000 2020', 'id': 1323263369290248193, 'id_str': '1323263369290248193', 'full_text': 'If RCB won IPL \\nTheir fans would celebrate it the way Bangladesh celebrated winning U-19 world cup.', 'truncated': False, 'display_text_range': [0, 99], 'entities': {'hashtags': [], 'symbols': [], 'user_mentions': [], 'urls': []}, 'metadata': {'iso_language_code': 'en', 'result_type': 'recent'}, 'source': '<a href=\"http://twitter.com/download/android\" rel=\"nofollow\">Twitter for Android</a>', 'in_reply_to_status_id': None, 'in_reply_to_status_id_str': None, 'in_reply_to_user_id': None, 'in_reply_to_user_id_str': None, 'in_reply_to_screen_name': None, 'user': {'id': 1212525565757968385, 'id_str': '1212525565757968385', 'name': 'Annabelle ➐', 'screen_name': 'Yes_I_Annabelle', 'location': 'Monroe , Connecticut, USA', 'description': \"Let's Play....\", 'url': None, 'entities': {'description': {'urls': []}}, 'protected': False, 'followers_count': 3229, 'friends_count': 751, 'listed_count': 0, 'created_at': 'Thu Jan 02 00:06:52 +0000 2020', 'favourites_count': 105372, 'utc_offset': None, 'time_zone': None, 'geo_enabled': True, 'verified': False, 'statuses_count': 30327, 'lang': None, 'contributors_enabled': False, 'is_translator': False, 'is_translation_enabled': False, 'profile_background_color': 'F5F8FA', 'profile_background_image_url': None, 'profile_background_image_url_https': None, 'profile_background_tile': False, 'profile_image_url': 'http://pbs.twimg.com/profile_images/1322950800977526786/OZleuhK7_normal.jpg', 'profile_image_url_https': 'https://pbs.twimg.com/profile_images/1322950800977526786/OZleuhK7_normal.jpg', 'profile_banner_url': 'https://pbs.twimg.com/profile_banners/1212525565757968385/1599162906', 'profile_link_color': '1DA1F2', 'profile_sidebar_border_color': 'C0DEED', 'profile_sidebar_fill_color': 'DDEEF6', 'profile_text_color': '333333', 'profile_use_background_image': True, 'has_extended_profile': True, 'default_profile': True, 'default_profile_image': False, 'following': False, 'follow_request_sent': False, 'notifications': False, 'translator_type': 'none'}, 'geo': None, 'coordinates': None, 'place': None, 'contributors': None, 'is_quote_status': False, 'retweet_count': 2, 'favorite_count': 19, 'favorited': False, 'retweeted': False, 'lang': 'en'}, created_at=datetime.datetime(2020, 11, 2, 13, 59, 6), id=1323263369290248193, id_str='1323263369290248193', full_text='If RCB won IPL \\nTheir fans would celebrate it the way Bangladesh celebrated winning U-19 world cup.', truncated=False, display_text_range=[0, 99], entities={'hashtags': [], 'symbols': [], 'user_mentions': [], 'urls': []}, metadata={'iso_language_code': 'en', 'result_type': 'recent'}, source='Twitter for Android', source_url='http://twitter.com/download/android', in_reply_to_status_id=None, in_reply_to_status_id_str=None, in_reply_to_user_id=None, in_reply_to_user_id_str=None, in_reply_to_screen_name=None, author=User(_api=<tweepy.api.API object at 0x000000C0150DB808>, _json={'id': 1212525565757968385, 'id_str': '1212525565757968385', 'name': 'Annabelle ➐', 'screen_name': 'Yes_I_Annabelle', 'location': 'Monroe , Connecticut, USA', 'description': \"Let's Play....\", 'url': None, 'entities': {'description': {'urls': []}}, 'protected': False, 'followers_count': 3229, 'friends_count': 751, 'listed_count': 0, 'created_at': 'Thu Jan 02 00:06:52 +0000 2020', 'favourites_count': 105372, 'utc_offset': None, 'time_zone': None, 'geo_enabled': True, 'verified': False, 'statuses_count': 30327, 'lang': None, 'contributors_enabled': False, 'is_translator': False, 'is_translation_enabled': False, 'profile_background_color': 'F5F8FA', 'profile_background_image_url': None, 'profile_background_image_url_https': None, 'profile_background_tile': False, 'profile_image_url': 'http://pbs.twimg.com/profile_images/1322950800977526786/OZleuhK7_normal.jpg', 'profile_image_url_https': 'https://pbs.twimg.com/profile_images/1322950800977526786/OZleuhK7_normal.jpg', 'profile_banner_url': 'https://pbs.twimg.com/profile_banners/1212525565757968385/1599162906', 'profile_link_color': '1DA1F2', 'profile_sidebar_border_color': 'C0DEED', 'profile_sidebar_fill_color': 'DDEEF6', 'profile_text_color': '333333', 'profile_use_background_image': True, 'has_extended_profile': True, 'default_profile': True, 'default_profile_image': False, 'following': False, 'follow_request_sent': False, 'notifications': False, 'translator_type': 'none'}, id=1212525565757968385, id_str='1212525565757968385', name='Annabelle ➐', screen_name='Yes_I_Annabelle', location='Monroe , Connecticut, USA', description=\"Let's Play....\", url=None, entities={'description': {'urls': []}}, protected=False, followers_count=3229, friends_count=751, listed_count=0, created_at=datetime.datetime(2020, 1, 2, 0, 6, 52), favourites_count=105372, utc_offset=None, time_zone=None, geo_enabled=True, verified=False, statuses_count=30327, lang=None, contributors_enabled=False, is_translator=False, is_translation_enabled=False, profile_background_color='F5F8FA', profile_background_image_url=None, profile_background_image_url_https=None, profile_background_tile=False, profile_image_url='http://pbs.twimg.com/profile_images/1322950800977526786/OZleuhK7_normal.jpg', profile_image_url_https='https://pbs.twimg.com/profile_images/1322950800977526786/OZleuhK7_normal.jpg', profile_banner_url='https://pbs.twimg.com/profile_banners/1212525565757968385/1599162906', profile_link_color='1DA1F2', profile_sidebar_border_color='C0DEED', profile_sidebar_fill_color='DDEEF6', profile_text_color='333333', profile_use_background_image=True, has_extended_profile=True, default_profile=True, default_profile_image=False, following=False, follow_request_sent=False, notifications=False, translator_type='none'), user=User(_api=<tweepy.api.API object at 0x000000C0150DB808>, _json={'id': 1212525565757968385, 'id_str': '1212525565757968385', 'name': 'Annabelle ➐', 'screen_name': 'Yes_I_Annabelle', 'location': 'Monroe , Connecticut, USA', 'description': \"Let's Play....\", 'url': None, 'entities': {'description': {'urls': []}}, 'protected': False, 'followers_count': 3229, 'friends_count': 751, 'listed_count': 0, 'created_at': 'Thu Jan 02 00:06:52 +0000 2020', 'favourites_count': 105372, 'utc_offset': None, 'time_zone': None, 'geo_enabled': True, 'verified': False, 'statuses_count': 30327, 'lang': None, 'contributors_enabled': False, 'is_translator': False, 'is_translation_enabled': False, 'profile_background_color': 'F5F8FA', 'profile_background_image_url': None, 'profile_background_image_url_https': None, 'profile_background_tile': False, 'profile_image_url': 'http://pbs.twimg.com/profile_images/1322950800977526786/OZleuhK7_normal.jpg', 'profile_image_url_https': 'https://pbs.twimg.com/profile_images/1322950800977526786/OZleuhK7_normal.jpg', 'profile_banner_url': 'https://pbs.twimg.com/profile_banners/1212525565757968385/1599162906', 'profile_link_color': '1DA1F2', 'profile_sidebar_border_color': 'C0DEED', 'profile_sidebar_fill_color': 'DDEEF6', 'profile_text_color': '333333', 'profile_use_background_image': True, 'has_extended_profile': True, 'default_profile': True, 'default_profile_image': False, 'following': False, 'follow_request_sent': False, 'notifications': False, 'translator_type': 'none'}, id=1212525565757968385, id_str='1212525565757968385', name='Annabelle ➐', screen_name='Yes_I_Annabelle', location='Monroe , Connecticut, USA', description=\"Let's Play....\", url=None, entities={'description': {'urls': []}}, protected=False, followers_count=3229, friends_count=751, listed_count=0, created_at=datetime.datetime(2020, 1, 2, 0, 6, 52), favourites_count=105372, utc_offset=None, time_zone=None, geo_enabled=True, verified=False, statuses_count=30327, lang=None, contributors_enabled=False, is_translator=False, is_translation_enabled=False, profile_background_color='F5F8FA', profile_background_image_url=None, profile_background_image_url_https=None, profile_background_tile=False, profile_image_url='http://pbs.twimg.com/profile_images/1322950800977526786/OZleuhK7_normal.jpg', profile_image_url_https='https://pbs.twimg.com/profile_images/1322950800977526786/OZleuhK7_normal.jpg', profile_banner_url='https://pbs.twimg.com/profile_banners/1212525565757968385/1599162906', profile_link_color='1DA1F2', profile_sidebar_border_color='C0DEED', profile_sidebar_fill_color='DDEEF6', profile_text_color='333333', profile_use_background_image=True, has_extended_profile=True, default_profile=True, default_profile_image=False, following=False, follow_request_sent=False, notifications=False, translator_type='none'), geo=None, coordinates=None, place=None, contributors=None, is_quote_status=False, retweet_count=2, favorite_count=19, favorited=False, retweeted=False, lang='en') \n",
      "\n",
      ".......................................................\n",
      "\n"
     ]
    }
   ],
   "source": [
    "Tweets = api.search(query, count=10, lang='en', exclude='retweets', tweet_mode='extended')\n",
    "\n",
    "for tweet in Tweets:\n",
    "    print(tweet, '\\n')\n",
    "    print('.......................................................\\n')"
   ]
  },
  {
   "cell_type": "code",
   "execution_count": 12,
   "metadata": {},
   "outputs": [
    {
     "name": "stdout",
     "output_type": "stream",
     "text": [
      "Empty DataFrame\n",
      "Columns: [Tweets, User, User_statuses_count, user_followers, User_location, User_verified, fav_count, rt_count, tweet_date]\n",
      "Index: []\n"
     ]
    }
   ],
   "source": [
    "df = pd.DataFrame(columns=['Tweets' , 'User' , 'User_statuses_count' , \n",
    "                            'user_followers' , 'User_location' , 'User_verified' ,\n",
    "                            'fav_count' , 'rt_count' , 'tweet_date'])\n",
    "\n",
    "print(df)"
   ]
  },
  {
   "cell_type": "code",
   "execution_count": 13,
   "metadata": {},
   "outputs": [
    {
     "name": "stdout",
     "output_type": "stream",
     "text": [
      "(0, 9)\n"
     ]
    }
   ],
   "source": [
    "print(df.shape)"
   ]
  },
  {
   "cell_type": "code",
   "execution_count": 14,
   "metadata": {},
   "outputs": [],
   "source": [
    "def stream(data, file_name):\n",
    "    i = 0\n",
    "    for tweet in tweepy.Cursor(api.search, q=data, count=100, lang='en').items():\n",
    "        print(i, end='\\r')\n",
    "        df.loc[i, 'Tweets'] = tweet.text\n",
    "        df.loc[i, 'User'] = tweet.user.name\n",
    "        df.loc[i, 'User_Statuses_count'] = tweet.user.statuses_count\n",
    "        df.loc[i, 'user_followers'] = tweet.user.followers_count\n",
    "        df.loc[i, 'User_location'] = tweet.user.location\n",
    "        df.loc[i, 'User_verified'] = tweet.user.verified\n",
    "        df.loc[i, 'fav_count'] = tweet.favorite_count\n",
    "        df.loc[i, 'rt_count'] = tweet.retweet_count\n",
    "        df.loc[i, 'tweet_date'] = tweet.created_at\n",
    "        df.to_excel('{}.xlsx'.format(file_name))\n",
    "        i = i+1\n",
    "        if i == 1000:\n",
    "            break\n",
    "        else:\n",
    "            pass"
   ]
  },
  {
   "cell_type": "code",
   "execution_count": 15,
   "metadata": {},
   "outputs": [
    {
     "name": "stdout",
     "output_type": "stream",
     "text": [
      "971\r"
     ]
    }
   ],
   "source": [
    "stream(data=[\"RCB winning IPL\"] , file_name='my_tweets')"
   ]
  },
  {
   "cell_type": "code",
   "execution_count": 16,
   "metadata": {},
   "outputs": [
    {
     "data": {
      "text/html": [
       "<div>\n",
       "<style scoped>\n",
       "    .dataframe tbody tr th:only-of-type {\n",
       "        vertical-align: middle;\n",
       "    }\n",
       "\n",
       "    .dataframe tbody tr th {\n",
       "        vertical-align: top;\n",
       "    }\n",
       "\n",
       "    .dataframe thead th {\n",
       "        text-align: right;\n",
       "    }\n",
       "</style>\n",
       "<table border=\"1\" class=\"dataframe\">\n",
       "  <thead>\n",
       "    <tr style=\"text-align: right;\">\n",
       "      <th></th>\n",
       "      <th>Tweets</th>\n",
       "      <th>User</th>\n",
       "      <th>User_statuses_count</th>\n",
       "      <th>user_followers</th>\n",
       "      <th>User_location</th>\n",
       "      <th>User_verified</th>\n",
       "      <th>fav_count</th>\n",
       "      <th>rt_count</th>\n",
       "      <th>tweet_date</th>\n",
       "      <th>User_Statuses_count</th>\n",
       "    </tr>\n",
       "  </thead>\n",
       "  <tbody>\n",
       "    <tr>\n",
       "      <th>0</th>\n",
       "      <td>Not sure who will come first.\\n1)RCB winning I...</td>\n",
       "      <td>atul kulkarni</td>\n",
       "      <td>NaN</td>\n",
       "      <td>805</td>\n",
       "      <td>Jambudvīpa bharatakhanda</td>\n",
       "      <td>False</td>\n",
       "      <td>0</td>\n",
       "      <td>0</td>\n",
       "      <td>2020-11-02 16:29:12</td>\n",
       "      <td>12273.0</td>\n",
       "    </tr>\n",
       "    <tr>\n",
       "      <th>1</th>\n",
       "      <td>@bhogleharsha Unless there is a reckless batti...</td>\n",
       "      <td>Kishor Varma</td>\n",
       "      <td>NaN</td>\n",
       "      <td>71</td>\n",
       "      <td>Mumbai</td>\n",
       "      <td>False</td>\n",
       "      <td>0</td>\n",
       "      <td>0</td>\n",
       "      <td>2020-11-02 16:19:20</td>\n",
       "      <td>1079.0</td>\n",
       "    </tr>\n",
       "    <tr>\n",
       "      <th>2</th>\n",
       "      <td>RT @kingkalyan007: @GoatKohli1 Virat RCB capta...</td>\n",
       "      <td>Mb2</td>\n",
       "      <td>NaN</td>\n",
       "      <td>118</td>\n",
       "      <td>cold area</td>\n",
       "      <td>False</td>\n",
       "      <td>0</td>\n",
       "      <td>1</td>\n",
       "      <td>2020-11-02 16:15:45</td>\n",
       "      <td>17323.0</td>\n",
       "    </tr>\n",
       "    <tr>\n",
       "      <th>3</th>\n",
       "      <td>RT @ayshahabib11: All IPL fans what do you thi...</td>\n",
       "      <td>Rashmians 💞💞</td>\n",
       "      <td>NaN</td>\n",
       "      <td>196</td>\n",
       "      <td>Maharashtra, India</td>\n",
       "      <td>False</td>\n",
       "      <td>0</td>\n",
       "      <td>37</td>\n",
       "      <td>2020-11-02 16:12:12</td>\n",
       "      <td>61684.0</td>\n",
       "    </tr>\n",
       "    <tr>\n",
       "      <th>4</th>\n",
       "      <td>RT @ayshahabib11: All IPL fans what do you thi...</td>\n",
       "      <td>Swathi</td>\n",
       "      <td>NaN</td>\n",
       "      <td>44</td>\n",
       "      <td></td>\n",
       "      <td>False</td>\n",
       "      <td>0</td>\n",
       "      <td>37</td>\n",
       "      <td>2020-11-02 16:08:22</td>\n",
       "      <td>7062.0</td>\n",
       "    </tr>\n",
       "  </tbody>\n",
       "</table>\n",
       "</div>"
      ],
      "text/plain": [
       "                                              Tweets           User  \\\n",
       "0  Not sure who will come first.\\n1)RCB winning I...  atul kulkarni   \n",
       "1  @bhogleharsha Unless there is a reckless batti...   Kishor Varma   \n",
       "2  RT @kingkalyan007: @GoatKohli1 Virat RCB capta...            Mb2   \n",
       "3  RT @ayshahabib11: All IPL fans what do you thi...   Rashmians 💞💞   \n",
       "4  RT @ayshahabib11: All IPL fans what do you thi...         Swathi   \n",
       "\n",
       "  User_statuses_count user_followers             User_location User_verified  \\\n",
       "0                 NaN            805  Jambudvīpa bharatakhanda         False   \n",
       "1                 NaN             71                    Mumbai         False   \n",
       "2                 NaN            118                 cold area         False   \n",
       "3                 NaN            196        Maharashtra, India         False   \n",
       "4                 NaN             44                                   False   \n",
       "\n",
       "  fav_count rt_count           tweet_date  User_Statuses_count  \n",
       "0         0        0  2020-11-02 16:29:12              12273.0  \n",
       "1         0        0  2020-11-02 16:19:20               1079.0  \n",
       "2         0        1  2020-11-02 16:15:45              17323.0  \n",
       "3         0       37  2020-11-02 16:12:12              61684.0  \n",
       "4         0       37  2020-11-02 16:08:22               7062.0  "
      ]
     },
     "execution_count": 16,
     "metadata": {},
     "output_type": "execute_result"
    }
   ],
   "source": [
    "df.head()"
   ]
  },
  {
   "cell_type": "code",
   "execution_count": 17,
   "metadata": {},
   "outputs": [
    {
     "name": "stdout",
     "output_type": "stream",
     "text": [
      "Requirement already satisfied: textblob in c:\\users\\akshay\\anaconda3\\lib\\site-packages (0.15.3)\n",
      "Requirement already satisfied: nltk>=3.1 in c:\\users\\akshay\\anaconda3\\lib\\site-packages (from textblob) (3.4.5)\n",
      "Requirement already satisfied: six in c:\\users\\akshay\\anaconda3\\lib\\site-packages (from nltk>=3.1->textblob) (1.14.0)\n",
      "Note: you may need to restart the kernel to use updated packages.\n"
     ]
    }
   ],
   "source": [
    "pip install textblob"
   ]
  },
  {
   "cell_type": "code",
   "execution_count": 18,
   "metadata": {},
   "outputs": [],
   "source": [
    "from textblob import TextBlob"
   ]
  },
  {
   "cell_type": "code",
   "execution_count": 19,
   "metadata": {},
   "outputs": [],
   "source": [
    "import re\n",
    "def clean_tweet(tweet):\n",
    "    return ' '.join(re.sub('(@[A-Za-z0-9]+)|([^0-9A-Za-z \\t])|(\\w+:\\/\\/\\S+)', ' ', tweet).split())"
   ]
  },
  {
   "cell_type": "code",
   "execution_count": 20,
   "metadata": {},
   "outputs": [],
   "source": [
    "def analyze_sentiment(tweet):\n",
    "    analysis = TextBlob(tweet)\n",
    "    if analysis.sentiment.polarity > 0:\n",
    "        return 'Positive'\n",
    "    elif analysis.sentiment.polarity == 0:\n",
    "        return 'Neutral'\n",
    "    else:\n",
    "        return 'Negative'"
   ]
  },
  {
   "cell_type": "code",
   "execution_count": 21,
   "metadata": {},
   "outputs": [],
   "source": [
    "df['clean_tweet']=df['Tweets'].apply(lambda x:clean_tweet(x))"
   ]
  },
  {
   "cell_type": "code",
   "execution_count": 22,
   "metadata": {},
   "outputs": [
    {
     "data": {
      "text/html": [
       "<div>\n",
       "<style scoped>\n",
       "    .dataframe tbody tr th:only-of-type {\n",
       "        vertical-align: middle;\n",
       "    }\n",
       "\n",
       "    .dataframe tbody tr th {\n",
       "        vertical-align: top;\n",
       "    }\n",
       "\n",
       "    .dataframe thead th {\n",
       "        text-align: right;\n",
       "    }\n",
       "</style>\n",
       "<table border=\"1\" class=\"dataframe\">\n",
       "  <thead>\n",
       "    <tr style=\"text-align: right;\">\n",
       "      <th></th>\n",
       "      <th>Tweets</th>\n",
       "      <th>User</th>\n",
       "      <th>User_statuses_count</th>\n",
       "      <th>user_followers</th>\n",
       "      <th>User_location</th>\n",
       "      <th>User_verified</th>\n",
       "      <th>fav_count</th>\n",
       "      <th>rt_count</th>\n",
       "      <th>tweet_date</th>\n",
       "      <th>User_Statuses_count</th>\n",
       "      <th>clean_tweet</th>\n",
       "    </tr>\n",
       "  </thead>\n",
       "  <tbody>\n",
       "    <tr>\n",
       "      <th>0</th>\n",
       "      <td>Not sure who will come first.\\n1)RCB winning I...</td>\n",
       "      <td>atul kulkarni</td>\n",
       "      <td>NaN</td>\n",
       "      <td>805</td>\n",
       "      <td>Jambudvīpa bharatakhanda</td>\n",
       "      <td>False</td>\n",
       "      <td>0</td>\n",
       "      <td>0</td>\n",
       "      <td>2020-11-02 16:29:12</td>\n",
       "      <td>12273.0</td>\n",
       "      <td>Not sure who will come first 1 RCB winning IPL...</td>\n",
       "    </tr>\n",
       "    <tr>\n",
       "      <th>1</th>\n",
       "      <td>@bhogleharsha Unless there is a reckless batti...</td>\n",
       "      <td>Kishor Varma</td>\n",
       "      <td>NaN</td>\n",
       "      <td>71</td>\n",
       "      <td>Mumbai</td>\n",
       "      <td>False</td>\n",
       "      <td>0</td>\n",
       "      <td>0</td>\n",
       "      <td>2020-11-02 16:19:20</td>\n",
       "      <td>1079.0</td>\n",
       "      <td>Unless there is a reckless batting performance...</td>\n",
       "    </tr>\n",
       "    <tr>\n",
       "      <th>2</th>\n",
       "      <td>RT @kingkalyan007: @GoatKohli1 Virat RCB capta...</td>\n",
       "      <td>Mb2</td>\n",
       "      <td>NaN</td>\n",
       "      <td>118</td>\n",
       "      <td>cold area</td>\n",
       "      <td>False</td>\n",
       "      <td>0</td>\n",
       "      <td>1</td>\n",
       "      <td>2020-11-02 16:15:45</td>\n",
       "      <td>17323.0</td>\n",
       "      <td>RT Virat RCB captain but not winning single IP...</td>\n",
       "    </tr>\n",
       "    <tr>\n",
       "      <th>3</th>\n",
       "      <td>RT @ayshahabib11: All IPL fans what do you thi...</td>\n",
       "      <td>Rashmians 💞💞</td>\n",
       "      <td>NaN</td>\n",
       "      <td>196</td>\n",
       "      <td>Maharashtra, India</td>\n",
       "      <td>False</td>\n",
       "      <td>0</td>\n",
       "      <td>37</td>\n",
       "      <td>2020-11-02 16:12:12</td>\n",
       "      <td>61684.0</td>\n",
       "      <td>RT All IPL fans what do you think who s winnin...</td>\n",
       "    </tr>\n",
       "    <tr>\n",
       "      <th>4</th>\n",
       "      <td>RT @ayshahabib11: All IPL fans what do you thi...</td>\n",
       "      <td>Swathi</td>\n",
       "      <td>NaN</td>\n",
       "      <td>44</td>\n",
       "      <td></td>\n",
       "      <td>False</td>\n",
       "      <td>0</td>\n",
       "      <td>37</td>\n",
       "      <td>2020-11-02 16:08:22</td>\n",
       "      <td>7062.0</td>\n",
       "      <td>RT All IPL fans what do you think who s winnin...</td>\n",
       "    </tr>\n",
       "  </tbody>\n",
       "</table>\n",
       "</div>"
      ],
      "text/plain": [
       "                                              Tweets           User  \\\n",
       "0  Not sure who will come first.\\n1)RCB winning I...  atul kulkarni   \n",
       "1  @bhogleharsha Unless there is a reckless batti...   Kishor Varma   \n",
       "2  RT @kingkalyan007: @GoatKohli1 Virat RCB capta...            Mb2   \n",
       "3  RT @ayshahabib11: All IPL fans what do you thi...   Rashmians 💞💞   \n",
       "4  RT @ayshahabib11: All IPL fans what do you thi...         Swathi   \n",
       "\n",
       "  User_statuses_count user_followers             User_location User_verified  \\\n",
       "0                 NaN            805  Jambudvīpa bharatakhanda         False   \n",
       "1                 NaN             71                    Mumbai         False   \n",
       "2                 NaN            118                 cold area         False   \n",
       "3                 NaN            196        Maharashtra, India         False   \n",
       "4                 NaN             44                                   False   \n",
       "\n",
       "  fav_count rt_count           tweet_date  User_Statuses_count  \\\n",
       "0         0        0  2020-11-02 16:29:12              12273.0   \n",
       "1         0        0  2020-11-02 16:19:20               1079.0   \n",
       "2         0        1  2020-11-02 16:15:45              17323.0   \n",
       "3         0       37  2020-11-02 16:12:12              61684.0   \n",
       "4         0       37  2020-11-02 16:08:22               7062.0   \n",
       "\n",
       "                                         clean_tweet  \n",
       "0  Not sure who will come first 1 RCB winning IPL...  \n",
       "1  Unless there is a reckless batting performance...  \n",
       "2  RT Virat RCB captain but not winning single IP...  \n",
       "3  RT All IPL fans what do you think who s winnin...  \n",
       "4  RT All IPL fans what do you think who s winnin...  "
      ]
     },
     "execution_count": 22,
     "metadata": {},
     "output_type": "execute_result"
    }
   ],
   "source": [
    "df.head()"
   ]
  },
  {
   "cell_type": "code",
   "execution_count": 23,
   "metadata": {},
   "outputs": [
    {
     "data": {
      "text/html": [
       "<div>\n",
       "<style scoped>\n",
       "    .dataframe tbody tr th:only-of-type {\n",
       "        vertical-align: middle;\n",
       "    }\n",
       "\n",
       "    .dataframe tbody tr th {\n",
       "        vertical-align: top;\n",
       "    }\n",
       "\n",
       "    .dataframe thead th {\n",
       "        text-align: right;\n",
       "    }\n",
       "</style>\n",
       "<table border=\"1\" class=\"dataframe\">\n",
       "  <thead>\n",
       "    <tr style=\"text-align: right;\">\n",
       "      <th></th>\n",
       "      <th>Tweets</th>\n",
       "      <th>User</th>\n",
       "      <th>User_statuses_count</th>\n",
       "      <th>user_followers</th>\n",
       "      <th>User_location</th>\n",
       "      <th>User_verified</th>\n",
       "      <th>fav_count</th>\n",
       "      <th>rt_count</th>\n",
       "      <th>tweet_date</th>\n",
       "      <th>User_Statuses_count</th>\n",
       "      <th>clean_tweet</th>\n",
       "      <th>Sentiment</th>\n",
       "    </tr>\n",
       "  </thead>\n",
       "  <tbody>\n",
       "    <tr>\n",
       "      <th>0</th>\n",
       "      <td>Not sure who will come first.\\n1)RCB winning I...</td>\n",
       "      <td>atul kulkarni</td>\n",
       "      <td>NaN</td>\n",
       "      <td>805</td>\n",
       "      <td>Jambudvīpa bharatakhanda</td>\n",
       "      <td>False</td>\n",
       "      <td>0</td>\n",
       "      <td>0</td>\n",
       "      <td>2020-11-02 16:29:12</td>\n",
       "      <td>12273.0</td>\n",
       "      <td>Not sure who will come first 1 RCB winning IPL...</td>\n",
       "      <td>Positive</td>\n",
       "    </tr>\n",
       "    <tr>\n",
       "      <th>1</th>\n",
       "      <td>@bhogleharsha Unless there is a reckless batti...</td>\n",
       "      <td>Kishor Varma</td>\n",
       "      <td>NaN</td>\n",
       "      <td>71</td>\n",
       "      <td>Mumbai</td>\n",
       "      <td>False</td>\n",
       "      <td>0</td>\n",
       "      <td>0</td>\n",
       "      <td>2020-11-02 16:19:20</td>\n",
       "      <td>1079.0</td>\n",
       "      <td>Unless there is a reckless batting performance...</td>\n",
       "      <td>Positive</td>\n",
       "    </tr>\n",
       "    <tr>\n",
       "      <th>2</th>\n",
       "      <td>RT @kingkalyan007: @GoatKohli1 Virat RCB capta...</td>\n",
       "      <td>Mb2</td>\n",
       "      <td>NaN</td>\n",
       "      <td>118</td>\n",
       "      <td>cold area</td>\n",
       "      <td>False</td>\n",
       "      <td>0</td>\n",
       "      <td>1</td>\n",
       "      <td>2020-11-02 16:15:45</td>\n",
       "      <td>17323.0</td>\n",
       "      <td>RT Virat RCB captain but not winning single IP...</td>\n",
       "      <td>Positive</td>\n",
       "    </tr>\n",
       "    <tr>\n",
       "      <th>3</th>\n",
       "      <td>RT @ayshahabib11: All IPL fans what do you thi...</td>\n",
       "      <td>Rashmians 💞💞</td>\n",
       "      <td>NaN</td>\n",
       "      <td>196</td>\n",
       "      <td>Maharashtra, India</td>\n",
       "      <td>False</td>\n",
       "      <td>0</td>\n",
       "      <td>37</td>\n",
       "      <td>2020-11-02 16:12:12</td>\n",
       "      <td>61684.0</td>\n",
       "      <td>RT All IPL fans what do you think who s winnin...</td>\n",
       "      <td>Positive</td>\n",
       "    </tr>\n",
       "    <tr>\n",
       "      <th>4</th>\n",
       "      <td>RT @ayshahabib11: All IPL fans what do you thi...</td>\n",
       "      <td>Swathi</td>\n",
       "      <td>NaN</td>\n",
       "      <td>44</td>\n",
       "      <td></td>\n",
       "      <td>False</td>\n",
       "      <td>0</td>\n",
       "      <td>37</td>\n",
       "      <td>2020-11-02 16:08:22</td>\n",
       "      <td>7062.0</td>\n",
       "      <td>RT All IPL fans what do you think who s winnin...</td>\n",
       "      <td>Positive</td>\n",
       "    </tr>\n",
       "  </tbody>\n",
       "</table>\n",
       "</div>"
      ],
      "text/plain": [
       "                                              Tweets           User  \\\n",
       "0  Not sure who will come first.\\n1)RCB winning I...  atul kulkarni   \n",
       "1  @bhogleharsha Unless there is a reckless batti...   Kishor Varma   \n",
       "2  RT @kingkalyan007: @GoatKohli1 Virat RCB capta...            Mb2   \n",
       "3  RT @ayshahabib11: All IPL fans what do you thi...   Rashmians 💞💞   \n",
       "4  RT @ayshahabib11: All IPL fans what do you thi...         Swathi   \n",
       "\n",
       "  User_statuses_count user_followers             User_location User_verified  \\\n",
       "0                 NaN            805  Jambudvīpa bharatakhanda         False   \n",
       "1                 NaN             71                    Mumbai         False   \n",
       "2                 NaN            118                 cold area         False   \n",
       "3                 NaN            196        Maharashtra, India         False   \n",
       "4                 NaN             44                                   False   \n",
       "\n",
       "  fav_count rt_count           tweet_date  User_Statuses_count  \\\n",
       "0         0        0  2020-11-02 16:29:12              12273.0   \n",
       "1         0        0  2020-11-02 16:19:20               1079.0   \n",
       "2         0        1  2020-11-02 16:15:45              17323.0   \n",
       "3         0       37  2020-11-02 16:12:12              61684.0   \n",
       "4         0       37  2020-11-02 16:08:22               7062.0   \n",
       "\n",
       "                                         clean_tweet Sentiment  \n",
       "0  Not sure who will come first 1 RCB winning IPL...  Positive  \n",
       "1  Unless there is a reckless batting performance...  Positive  \n",
       "2  RT Virat RCB captain but not winning single IP...  Positive  \n",
       "3  RT All IPL fans what do you think who s winnin...  Positive  \n",
       "4  RT All IPL fans what do you think who s winnin...  Positive  "
      ]
     },
     "execution_count": 23,
     "metadata": {},
     "output_type": "execute_result"
    }
   ],
   "source": [
    "df['Sentiment'] = df['clean_tweet'].apply(lambda x : analyze_sentiment(x) )\n",
    "df.head()"
   ]
  },
  {
   "cell_type": "code",
   "execution_count": 24,
   "metadata": {},
   "outputs": [
    {
     "name": "stdout",
     "output_type": "stream",
     "text": [
      "Original tweet:\n",
      " @bhogleharsha Unless there is a reckless batting performance put up by #DC, the total on board is good enough to ta… https://t.co/HrJ8hqJjaU\n",
      "\n",
      "Clean tweet:\n",
      " Unless there is a reckless batting performance put up by DC the total on board is good enough to ta\n",
      "\n",
      "Sentiment of the tweet:\n",
      " Positive\n"
     ]
    }
   ],
   "source": [
    "n = 1\n",
    "print(\"Original tweet:\\n\",df['Tweets'][n])\n",
    "print()\n",
    "print(\"Clean tweet:\\n\",df['clean_tweet'][n])\n",
    "print()\n",
    "print(\"Sentiment of the tweet:\\n\",df['Sentiment'][n])"
   ]
  },
  {
   "cell_type": "code",
   "execution_count": 28,
   "metadata": {},
   "outputs": [
    {
     "name": "stdout",
     "output_type": "stream",
     "text": [
      "Original tweet:\n",
      " RT @IndiaToday: India head coach #RaviShastri has urged #SuryakumarYadav to remain strong and patient after the Mumbai Indians star hit a m…\n",
      "\n",
      "Clean tweet:\n",
      " RT India head coach RaviShastri has urged SuryakumarYadav to remain strong and patient after the Mumbai Indians star hit a m\n",
      "\n",
      "Sentiment of the tweet:\n",
      " Positive\n"
     ]
    }
   ],
   "source": [
    "n = 555\n",
    "print(\"Original tweet:\\n\",df['Tweets'][n])\n",
    "print()\n",
    "print(\"Clean tweet:\\n\",df['clean_tweet'][n])\n",
    "print()\n",
    "print(\"Sentiment of the tweet:\\n\",df['Sentiment'][n])"
   ]
  },
  {
   "cell_type": "code",
   "execution_count": 30,
   "metadata": {},
   "outputs": [
    {
     "name": "stdout",
     "output_type": "stream",
     "text": [
      "Original tweet:\n",
      " @sriram_madhavan @IPL SRH and KXIP deserve the last two spots for the ckt the winning intent in the last few games.… https://t.co/QCZwv0gltK\n",
      "\n",
      "Clean tweet:\n",
      " madhavan SRH and KXIP deserve the last two spots for the ckt the winning intent in the last few games\n",
      "\n",
      "Sentiment of the tweet:\n",
      " Positive\n"
     ]
    }
   ],
   "source": [
    "n = 109\n",
    "print(\"Original tweet:\\n\",df['Tweets'][n])\n",
    "print()\n",
    "print(\"Clean tweet:\\n\",df['clean_tweet'][n])\n",
    "print()\n",
    "print(\"Sentiment of the tweet:\\n\",df['Sentiment'][n])"
   ]
  },
  {
   "cell_type": "code",
   "execution_count": 25,
   "metadata": {},
   "outputs": [
    {
     "data": {
      "text/plain": [
       "914"
      ]
     },
     "execution_count": 25,
     "metadata": {},
     "output_type": "execute_result"
    }
   ],
   "source": [
    "df[df.Sentiment == 'Positive'].shape[0]"
   ]
  },
  {
   "cell_type": "code",
   "execution_count": 26,
   "metadata": {},
   "outputs": [
    {
     "data": {
      "text/plain": [
       "37"
      ]
     },
     "execution_count": 26,
     "metadata": {},
     "output_type": "execute_result"
    }
   ],
   "source": [
    "df[df.Sentiment == 'Negative'].shape[0]"
   ]
  },
  {
   "cell_type": "code",
   "execution_count": 27,
   "metadata": {},
   "outputs": [
    {
     "data": {
      "text/plain": [
       "0"
      ]
     },
     "execution_count": 27,
     "metadata": {},
     "output_type": "execute_result"
    }
   ],
   "source": [
    "df[df.Sentiment == 'Nuetral'].shape[0]"
   ]
  },
  {
   "cell_type": "code",
   "execution_count": null,
   "metadata": {},
   "outputs": [],
   "source": []
  }
 ],
 "metadata": {
  "kernelspec": {
   "display_name": "Python 3",
   "language": "python",
   "name": "python3"
  },
  "language_info": {
   "codemirror_mode": {
    "name": "ipython",
    "version": 3
   },
   "file_extension": ".py",
   "mimetype": "text/x-python",
   "name": "python",
   "nbconvert_exporter": "python",
   "pygments_lexer": "ipython3",
   "version": "3.7.6"
  }
 },
 "nbformat": 4,
 "nbformat_minor": 4
}
