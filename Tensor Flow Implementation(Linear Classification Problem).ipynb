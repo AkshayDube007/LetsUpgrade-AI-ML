{
 "cells": [
  {
   "cell_type": "code",
   "execution_count": 25,
   "metadata": {},
   "outputs": [
    {
     "name": "stdout",
     "output_type": "stream",
     "text": [
      "Collecting package metadata (current_repodata.json): ...working... done\n",
      "Solving environment: ...working... done\n",
      "\n",
      "# All requested packages already installed.\n",
      "\n",
      "\n",
      "Note: you may need to restart the kernel to use updated packages.\n"
     ]
    }
   ],
   "source": [
    "conda install tensorflow"
   ]
  },
  {
   "cell_type": "code",
   "execution_count": 26,
   "metadata": {},
   "outputs": [
    {
     "name": "stdout",
     "output_type": "stream",
     "text": [
      "1.14.0\n"
     ]
    }
   ],
   "source": [
    "import tensorflow as tf\n",
    "print(tf.__version__)"
   ]
  },
  {
   "cell_type": "code",
   "execution_count": 27,
   "metadata": {},
   "outputs": [],
   "source": [
    "# Load Dataset\n",
    "from sklearn.datasets import load_breast_cancer\n",
    "data = load_breast_cancer()"
   ]
  },
  {
   "cell_type": "code",
   "execution_count": 28,
   "metadata": {},
   "outputs": [
    {
     "data": {
      "text/plain": [
       "sklearn.utils.Bunch"
      ]
     },
     "execution_count": 28,
     "metadata": {},
     "output_type": "execute_result"
    }
   ],
   "source": [
    "type(data)"
   ]
  },
  {
   "cell_type": "code",
   "execution_count": 29,
   "metadata": {},
   "outputs": [
    {
     "data": {
      "text/plain": [
       "dict_keys(['data', 'target', 'frame', 'target_names', 'DESCR', 'feature_names', 'filename'])"
      ]
     },
     "execution_count": 29,
     "metadata": {},
     "output_type": "execute_result"
    }
   ],
   "source": [
    "data.keys()"
   ]
  },
  {
   "cell_type": "code",
   "execution_count": 30,
   "metadata": {},
   "outputs": [
    {
     "data": {
      "text/plain": [
       "(569, 30)"
      ]
     },
     "execution_count": 30,
     "metadata": {},
     "output_type": "execute_result"
    }
   ],
   "source": [
    "data.data.shape"
   ]
  },
  {
   "cell_type": "code",
   "execution_count": 31,
   "metadata": {},
   "outputs": [
    {
     "data": {
      "text/plain": [
       "array([0, 0, 0, 0, 0, 0, 0, 0, 0, 0, 0, 0, 0, 0, 0, 0, 0, 0, 0, 1, 1, 1,\n",
       "       0, 0, 0, 0, 0, 0, 0, 0, 0, 0, 0, 0, 0, 0, 0, 1, 0, 0, 0, 0, 0, 0,\n",
       "       0, 0, 1, 0, 1, 1, 1, 1, 1, 0, 0, 1, 0, 0, 1, 1, 1, 1, 0, 1, 0, 0,\n",
       "       1, 1, 1, 1, 0, 1, 0, 0, 1, 0, 1, 0, 0, 1, 1, 1, 0, 0, 1, 0, 0, 0,\n",
       "       1, 1, 1, 0, 1, 1, 0, 0, 1, 1, 1, 0, 0, 1, 1, 1, 1, 0, 1, 1, 0, 1,\n",
       "       1, 1, 1, 1, 1, 1, 1, 0, 0, 0, 1, 0, 0, 1, 1, 1, 0, 0, 1, 0, 1, 0,\n",
       "       0, 1, 0, 0, 1, 1, 0, 1, 1, 0, 1, 1, 1, 1, 0, 1, 1, 1, 1, 1, 1, 1,\n",
       "       1, 1, 0, 1, 1, 1, 1, 0, 0, 1, 0, 1, 1, 0, 0, 1, 1, 0, 0, 1, 1, 1,\n",
       "       1, 0, 1, 1, 0, 0, 0, 1, 0, 1, 0, 1, 1, 1, 0, 1, 1, 0, 0, 1, 0, 0,\n",
       "       0, 0, 1, 0, 0, 0, 1, 0, 1, 0, 1, 1, 0, 1, 0, 0, 0, 0, 1, 1, 0, 0,\n",
       "       1, 1, 1, 0, 1, 1, 1, 1, 1, 0, 0, 1, 1, 0, 1, 1, 0, 0, 1, 0, 1, 1,\n",
       "       1, 1, 0, 1, 1, 1, 1, 1, 0, 1, 0, 0, 0, 0, 0, 0, 0, 0, 0, 0, 0, 0,\n",
       "       0, 0, 1, 1, 1, 1, 1, 1, 0, 1, 0, 1, 1, 0, 1, 1, 0, 1, 0, 0, 1, 1,\n",
       "       1, 1, 1, 1, 1, 1, 1, 1, 1, 1, 1, 0, 1, 1, 0, 1, 0, 1, 1, 1, 1, 1,\n",
       "       1, 1, 1, 1, 1, 1, 1, 1, 1, 0, 1, 1, 1, 0, 1, 0, 1, 1, 1, 1, 0, 0,\n",
       "       0, 1, 1, 1, 1, 0, 1, 0, 1, 0, 1, 1, 1, 0, 1, 1, 1, 1, 1, 1, 1, 0,\n",
       "       0, 0, 1, 1, 1, 1, 1, 1, 1, 1, 1, 1, 1, 0, 0, 1, 0, 0, 0, 1, 0, 0,\n",
       "       1, 1, 1, 1, 1, 0, 1, 1, 1, 1, 1, 0, 1, 1, 1, 0, 1, 1, 0, 0, 1, 1,\n",
       "       1, 1, 1, 1, 0, 1, 1, 1, 1, 1, 1, 1, 0, 1, 1, 1, 1, 1, 0, 1, 1, 0,\n",
       "       1, 1, 1, 1, 1, 1, 1, 1, 1, 1, 1, 1, 0, 1, 0, 0, 1, 0, 1, 1, 1, 1,\n",
       "       1, 0, 1, 1, 0, 1, 0, 1, 1, 0, 1, 0, 1, 1, 1, 1, 1, 1, 1, 1, 0, 0,\n",
       "       1, 1, 1, 1, 1, 1, 0, 1, 1, 1, 1, 1, 1, 1, 1, 1, 1, 0, 1, 1, 1, 1,\n",
       "       1, 1, 1, 0, 1, 0, 1, 1, 0, 1, 1, 1, 1, 1, 0, 0, 1, 0, 1, 0, 1, 1,\n",
       "       1, 1, 1, 0, 1, 1, 0, 1, 0, 1, 0, 0, 1, 1, 1, 0, 1, 1, 1, 1, 1, 1,\n",
       "       1, 1, 1, 1, 1, 0, 1, 0, 0, 1, 1, 1, 1, 1, 1, 1, 1, 1, 1, 1, 1, 1,\n",
       "       1, 1, 1, 1, 1, 1, 1, 1, 1, 1, 1, 1, 0, 0, 0, 0, 0, 0, 1])"
      ]
     },
     "execution_count": 31,
     "metadata": {},
     "output_type": "execute_result"
    }
   ],
   "source": [
    "data.target"
   ]
  },
  {
   "cell_type": "code",
   "execution_count": 32,
   "metadata": {},
   "outputs": [
    {
     "data": {
      "text/plain": [
       "array(['malignant', 'benign'], dtype='<U9')"
      ]
     },
     "execution_count": 32,
     "metadata": {},
     "output_type": "execute_result"
    }
   ],
   "source": [
    "data.target_names"
   ]
  },
  {
   "cell_type": "code",
   "execution_count": 33,
   "metadata": {},
   "outputs": [
    {
     "data": {
      "text/plain": [
       "array(['mean radius', 'mean texture', 'mean perimeter', 'mean area',\n",
       "       'mean smoothness', 'mean compactness', 'mean concavity',\n",
       "       'mean concave points', 'mean symmetry', 'mean fractal dimension',\n",
       "       'radius error', 'texture error', 'perimeter error', 'area error',\n",
       "       'smoothness error', 'compactness error', 'concavity error',\n",
       "       'concave points error', 'symmetry error',\n",
       "       'fractal dimension error', 'worst radius', 'worst texture',\n",
       "       'worst perimeter', 'worst area', 'worst smoothness',\n",
       "       'worst compactness', 'worst concavity', 'worst concave points',\n",
       "       'worst symmetry', 'worst fractal dimension'], dtype='<U23')"
      ]
     },
     "execution_count": 33,
     "metadata": {},
     "output_type": "execute_result"
    }
   ],
   "source": [
    "data.feature_names"
   ]
  },
  {
   "cell_type": "code",
   "execution_count": 34,
   "metadata": {},
   "outputs": [],
   "source": [
    "# Spliting of data and model building:\n",
    "from sklearn.model_selection import train_test_split\n",
    "X_train, X_test, y_train, y_test = train_test_split(data.data,data.target,test_size=0.33)"
   ]
  },
  {
   "cell_type": "code",
   "execution_count": 35,
   "metadata": {},
   "outputs": [],
   "source": [
    "N,D=X_train.shape"
   ]
  },
  {
   "cell_type": "code",
   "execution_count": 36,
   "metadata": {},
   "outputs": [
    {
     "data": {
      "text/plain": [
       "(569, 30)"
      ]
     },
     "execution_count": 36,
     "metadata": {},
     "output_type": "execute_result"
    }
   ],
   "source": [
    "data.data.shape"
   ]
  },
  {
   "cell_type": "code",
   "execution_count": 37,
   "metadata": {},
   "outputs": [
    {
     "data": {
      "text/plain": [
       "381"
      ]
     },
     "execution_count": 37,
     "metadata": {},
     "output_type": "execute_result"
    }
   ],
   "source": [
    "N"
   ]
  },
  {
   "cell_type": "code",
   "execution_count": 38,
   "metadata": {},
   "outputs": [
    {
     "data": {
      "text/plain": [
       "30"
      ]
     },
     "execution_count": 38,
     "metadata": {},
     "output_type": "execute_result"
    }
   ],
   "source": [
    "D"
   ]
  },
  {
   "cell_type": "code",
   "execution_count": 39,
   "metadata": {},
   "outputs": [],
   "source": [
    "from sklearn.preprocessing import StandardScaler\n",
    "scaler = StandardScaler()\n",
    "X_train=scaler.fit_transform(X_train)\n",
    "X_test=scaler.transform(X_test)"
   ]
  },
  {
   "cell_type": "code",
   "execution_count": 40,
   "metadata": {},
   "outputs": [
    {
     "data": {
      "text/plain": [
       "array([[ 1.56363081, -0.24459474,  1.5181619 , ...,  1.72967547,\n",
       "         1.15373052, -0.33568896],\n",
       "       [-0.2523298 ,  0.28876237, -0.30611768, ..., -1.11504919,\n",
       "        -0.32587178, -0.52855962],\n",
       "       [ 1.95068652,  2.6798294 ,  1.87760503, ...,  0.80911791,\n",
       "        -0.0292959 , -0.10348992],\n",
       "       ...,\n",
       "       [-0.64520589, -0.42313377, -0.67782416, ..., -1.09781785,\n",
       "         0.51469963, -0.98810899],\n",
       "       [ 1.38028863,  0.48990128,  1.33632597, ...,  1.41299125,\n",
       "         1.29956065,  0.7865166 ],\n",
       "       [ 0.9204781 ,  0.63454049,  0.85847805, ...,  1.31363934,\n",
       "         0.54091628, -0.45259659]])"
      ]
     },
     "execution_count": 40,
     "metadata": {},
     "output_type": "execute_result"
    }
   ],
   "source": [
    "X_train"
   ]
  },
  {
   "cell_type": "code",
   "execution_count": 41,
   "metadata": {},
   "outputs": [
    {
     "data": {
      "text/plain": [
       "array([[ 1.13583240e+00,  1.17919754e+00,  1.01071278e+00, ...,\n",
       "        -2.77349272e-03, -6.25724739e-01, -2.48951033e-01],\n",
       "       [ 6.76021860e-01,  9.10258998e-01,  7.48530737e-01, ...,\n",
       "         1.72346598e+00,  3.17568981e+00,  6.48597913e-01],\n",
       "       [-8.89662127e-01, -4.66073534e-01, -8.27521652e-01, ...,\n",
       "         6.47671056e-01, -5.66737272e-01,  6.04420834e-01],\n",
       "       ...,\n",
       "       [-1.18460907e-01,  8.96699071e-01, -1.73758037e-01, ...,\n",
       "        -6.52597092e-01, -3.99606115e-01, -7.85002174e-01],\n",
       "       [ 1.31815715e-01,  4.96681242e-01,  1.24791195e-01, ...,\n",
       "         1.35387760e-01,  2.19762290e-01, -8.42647874e-01],\n",
       "       [-1.47752117e+00, -7.91511768e-01, -1.37683532e+00, ...,\n",
       "        -1.16922703e+00, -2.02176146e+00, -3.70707372e-01]])"
      ]
     },
     "execution_count": 41,
     "metadata": {},
     "output_type": "execute_result"
    }
   ],
   "source": [
    "X_test"
   ]
  },
  {
   "cell_type": "raw",
   "metadata": {},
   "source": [
    "# TensorFlow Implementation:\n",
    "# Way 1 to build the model:\n",
    "model = tf.keras.models.Sequential([\n",
    "    tf.keras.layers.Input(shape=(D,)),\n",
    "    tf.keras.layers.Dense(1,activation='sigmoid')\n",
    "])"
   ]
  },
  {
   "cell_type": "code",
   "execution_count": 42,
   "metadata": {},
   "outputs": [
    {
     "name": "stdout",
     "output_type": "stream",
     "text": [
      "WARNING:tensorflow:From C:\\Users\\Akshay\\anaconda3\\lib\\site-packages\\tensorflow\\python\\ops\\init_ops.py:1251: calling VarianceScaling.__init__ (from tensorflow.python.ops.init_ops) with dtype is deprecated and will be removed in a future version.\n",
      "Instructions for updating:\n",
      "Call initializer instance with the dtype argument instead of passing it to the constructor\n"
     ]
    }
   ],
   "source": [
    "# Way 2:\n",
    "model = tf.keras.models.Sequential() # Sequentionl Layer is like a placeholder\n",
    "model.add(tf.keras.layers.Dense(1,input_shape=(D,), activation='sigmoid'))\n"
   ]
  },
  {
   "cell_type": "code",
   "execution_count": 43,
   "metadata": {},
   "outputs": [
    {
     "name": "stdout",
     "output_type": "stream",
     "text": [
      "WARNING:tensorflow:From C:\\Users\\Akshay\\anaconda3\\lib\\site-packages\\tensorflow\\python\\ops\\nn_impl.py:180: add_dispatch_support.<locals>.wrapper (from tensorflow.python.ops.array_ops) is deprecated and will be removed in a future version.\n",
      "Instructions for updating:\n",
      "Use tf.where in 2.0, which has the same broadcast rule as np.where\n"
     ]
    }
   ],
   "source": [
    "# Call compile() wherein the optimizer used as 'adam' and loss as 'binary_crossentropy' as accuracy as our metric:\n",
    "model.compile(\n",
    "    optimizer = 'adam',\n",
    "    loss='binary_crossentropy',\n",
    "    metrics=['accuracy'] \n",
    ")"
   ]
  },
  {
   "cell_type": "code",
   "execution_count": 45,
   "metadata": {},
   "outputs": [
    {
     "name": "stdout",
     "output_type": "stream",
     "text": [
      "Train on 381 samples, validate on 188 samples\n",
      "Epoch 1/100\n",
      "381/381 [==============================] - 0s 105us/sample - loss: 0.1056 - acc: 0.9711 - val_loss: 0.0854 - val_acc: 0.9787\n",
      "Epoch 2/100\n",
      "381/381 [==============================] - 0s 102us/sample - loss: 0.1051 - acc: 0.9711 - val_loss: 0.0850 - val_acc: 0.9787\n",
      "Epoch 3/100\n",
      "381/381 [==============================] - 0s 123us/sample - loss: 0.1046 - acc: 0.9711 - val_loss: 0.0845 - val_acc: 0.9787\n",
      "Epoch 4/100\n",
      "381/381 [==============================] - 0s 116us/sample - loss: 0.1042 - acc: 0.9711 - val_loss: 0.0840 - val_acc: 0.9787\n",
      "Epoch 5/100\n",
      "381/381 [==============================] - 0s 108us/sample - loss: 0.1037 - acc: 0.9711 - val_loss: 0.0836 - val_acc: 0.9787\n",
      "Epoch 6/100\n",
      "381/381 [==============================] - 0s 108us/sample - loss: 0.1033 - acc: 0.9711 - val_loss: 0.0831 - val_acc: 0.9787\n",
      "Epoch 7/100\n",
      "381/381 [==============================] - 0s 126us/sample - loss: 0.1028 - acc: 0.9711 - val_loss: 0.0826 - val_acc: 0.9787\n",
      "Epoch 8/100\n",
      "381/381 [==============================] - 0s 116us/sample - loss: 0.1025 - acc: 0.9711 - val_loss: 0.0821 - val_acc: 0.9840\n",
      "Epoch 9/100\n",
      "381/381 [==============================] - 0s 108us/sample - loss: 0.1020 - acc: 0.9685 - val_loss: 0.0816 - val_acc: 0.9840\n",
      "Epoch 10/100\n",
      "381/381 [==============================] - 0s 113us/sample - loss: 0.1016 - acc: 0.9711 - val_loss: 0.0813 - val_acc: 0.9840\n",
      "Epoch 11/100\n",
      "381/381 [==============================] - 0s 113us/sample - loss: 0.1012 - acc: 0.9685 - val_loss: 0.0809 - val_acc: 0.9840\n",
      "Epoch 12/100\n",
      "381/381 [==============================] - 0s 110us/sample - loss: 0.1008 - acc: 0.9711 - val_loss: 0.0804 - val_acc: 0.9894\n",
      "Epoch 13/100\n",
      "381/381 [==============================] - 0s 108us/sample - loss: 0.1004 - acc: 0.9685 - val_loss: 0.0800 - val_acc: 0.9894\n",
      "Epoch 14/100\n",
      "381/381 [==============================] - 0s 121us/sample - loss: 0.1000 - acc: 0.9685 - val_loss: 0.0796 - val_acc: 0.9894\n",
      "Epoch 15/100\n",
      "381/381 [==============================] - 0s 108us/sample - loss: 0.0996 - acc: 0.9685 - val_loss: 0.0793 - val_acc: 0.9894\n",
      "Epoch 16/100\n",
      "381/381 [==============================] - 0s 113us/sample - loss: 0.0992 - acc: 0.9685 - val_loss: 0.0789 - val_acc: 0.9894\n",
      "Epoch 17/100\n",
      "381/381 [==============================] - 0s 116us/sample - loss: 0.0989 - acc: 0.9711 - val_loss: 0.0784 - val_acc: 0.9894\n",
      "Epoch 18/100\n",
      "381/381 [==============================] - 0s 118us/sample - loss: 0.0985 - acc: 0.9711 - val_loss: 0.0781 - val_acc: 0.9894\n",
      "Epoch 19/100\n",
      "381/381 [==============================] - 0s 113us/sample - loss: 0.0981 - acc: 0.9711 - val_loss: 0.0778 - val_acc: 0.9894\n",
      "Epoch 20/100\n",
      "381/381 [==============================] - 0s 108us/sample - loss: 0.0978 - acc: 0.9711 - val_loss: 0.0773 - val_acc: 0.9894\n",
      "Epoch 21/100\n",
      "381/381 [==============================] - 0s 116us/sample - loss: 0.0974 - acc: 0.9738 - val_loss: 0.0770 - val_acc: 0.9894\n",
      "Epoch 22/100\n",
      "381/381 [==============================] - 0s 100us/sample - loss: 0.0971 - acc: 0.9738 - val_loss: 0.0766 - val_acc: 0.9894\n",
      "Epoch 23/100\n",
      "381/381 [==============================] - 0s 116us/sample - loss: 0.0968 - acc: 0.9764 - val_loss: 0.0762 - val_acc: 0.9894\n",
      "Epoch 24/100\n",
      "381/381 [==============================] - 0s 108us/sample - loss: 0.0964 - acc: 0.9790 - val_loss: 0.0759 - val_acc: 0.9894\n",
      "Epoch 25/100\n",
      "381/381 [==============================] - 0s 102us/sample - loss: 0.0961 - acc: 0.9790 - val_loss: 0.0755 - val_acc: 0.9894\n",
      "Epoch 26/100\n",
      "381/381 [==============================] - ETA: 0s - loss: 0.0748 - acc: 1.000 - 0s 108us/sample - loss: 0.0957 - acc: 0.9790 - val_loss: 0.0753 - val_acc: 0.9894\n",
      "Epoch 27/100\n",
      "381/381 [==============================] - 0s 108us/sample - loss: 0.0954 - acc: 0.9790 - val_loss: 0.0750 - val_acc: 0.9894\n",
      "Epoch 28/100\n",
      "381/381 [==============================] - 0s 102us/sample - loss: 0.0951 - acc: 0.9790 - val_loss: 0.0746 - val_acc: 0.9894\n",
      "Epoch 29/100\n",
      "381/381 [==============================] - 0s 105us/sample - loss: 0.0948 - acc: 0.9790 - val_loss: 0.0743 - val_acc: 0.9894\n",
      "Epoch 30/100\n",
      "381/381 [==============================] - 0s 110us/sample - loss: 0.0945 - acc: 0.9790 - val_loss: 0.0740 - val_acc: 0.9894\n",
      "Epoch 31/100\n",
      "381/381 [==============================] - 0s 110us/sample - loss: 0.0942 - acc: 0.9790 - val_loss: 0.0738 - val_acc: 0.9894\n",
      "Epoch 32/100\n",
      "381/381 [==============================] - 0s 105us/sample - loss: 0.0938 - acc: 0.9790 - val_loss: 0.0734 - val_acc: 0.9894\n",
      "Epoch 33/100\n",
      "381/381 [==============================] - 0s 102us/sample - loss: 0.0936 - acc: 0.9790 - val_loss: 0.0731 - val_acc: 0.9894\n",
      "Epoch 34/100\n",
      "381/381 [==============================] - 0s 116us/sample - loss: 0.0933 - acc: 0.9790 - val_loss: 0.0727 - val_acc: 0.9894\n",
      "Epoch 35/100\n",
      "381/381 [==============================] - 0s 100us/sample - loss: 0.0929 - acc: 0.9790 - val_loss: 0.0725 - val_acc: 0.9894\n",
      "Epoch 36/100\n",
      "381/381 [==============================] - 0s 108us/sample - loss: 0.0927 - acc: 0.9790 - val_loss: 0.0722 - val_acc: 0.9894\n",
      "Epoch 37/100\n",
      "381/381 [==============================] - 0s 105us/sample - loss: 0.0924 - acc: 0.9790 - val_loss: 0.0720 - val_acc: 0.9894\n",
      "Epoch 38/100\n",
      "381/381 [==============================] - 0s 105us/sample - loss: 0.0921 - acc: 0.9816 - val_loss: 0.0716 - val_acc: 0.9894\n",
      "Epoch 39/100\n",
      "381/381 [==============================] - 0s 118us/sample - loss: 0.0918 - acc: 0.9790 - val_loss: 0.0713 - val_acc: 0.9894\n",
      "Epoch 40/100\n",
      "381/381 [==============================] - 0s 105us/sample - loss: 0.0916 - acc: 0.9790 - val_loss: 0.0710 - val_acc: 0.9894\n",
      "Epoch 41/100\n",
      "381/381 [==============================] - 0s 105us/sample - loss: 0.0913 - acc: 0.9790 - val_loss: 0.0708 - val_acc: 0.9894\n",
      "Epoch 42/100\n",
      "381/381 [==============================] - 0s 100us/sample - loss: 0.0910 - acc: 0.9790 - val_loss: 0.0706 - val_acc: 0.9894\n",
      "Epoch 43/100\n",
      "381/381 [==============================] - 0s 108us/sample - loss: 0.0908 - acc: 0.9790 - val_loss: 0.0703 - val_acc: 0.9894\n",
      "Epoch 44/100\n",
      "381/381 [==============================] - 0s 105us/sample - loss: 0.0905 - acc: 0.9816 - val_loss: 0.0701 - val_acc: 0.9840\n",
      "Epoch 45/100\n",
      "381/381 [==============================] - 0s 105us/sample - loss: 0.0902 - acc: 0.9816 - val_loss: 0.0698 - val_acc: 0.9840\n",
      "Epoch 46/100\n",
      "381/381 [==============================] - 0s 97us/sample - loss: 0.0900 - acc: 0.9816 - val_loss: 0.0695 - val_acc: 0.9840\n",
      "Epoch 47/100\n",
      "381/381 [==============================] - 0s 97us/sample - loss: 0.0897 - acc: 0.9816 - val_loss: 0.0693 - val_acc: 0.9840\n",
      "Epoch 48/100\n",
      "381/381 [==============================] - 0s 95us/sample - loss: 0.0895 - acc: 0.9816 - val_loss: 0.0691 - val_acc: 0.9840\n",
      "Epoch 49/100\n",
      "381/381 [==============================] - 0s 105us/sample - loss: 0.0892 - acc: 0.9816 - val_loss: 0.0688 - val_acc: 0.9840\n",
      "Epoch 50/100\n",
      "381/381 [==============================] - 0s 100us/sample - loss: 0.0890 - acc: 0.9816 - val_loss: 0.0686 - val_acc: 0.9840\n",
      "Epoch 51/100\n",
      "381/381 [==============================] - 0s 113us/sample - loss: 0.0888 - acc: 0.9816 - val_loss: 0.0684 - val_acc: 0.9840\n",
      "Epoch 52/100\n",
      "381/381 [==============================] - 0s 105us/sample - loss: 0.0885 - acc: 0.9816 - val_loss: 0.0682 - val_acc: 0.9840\n",
      "Epoch 53/100\n",
      "381/381 [==============================] - 0s 92us/sample - loss: 0.0883 - acc: 0.9816 - val_loss: 0.0679 - val_acc: 0.9840\n",
      "Epoch 54/100\n",
      "381/381 [==============================] - 0s 100us/sample - loss: 0.0880 - acc: 0.9816 - val_loss: 0.0677 - val_acc: 0.9840\n",
      "Epoch 55/100\n",
      "381/381 [==============================] - 0s 92us/sample - loss: 0.0878 - acc: 0.9816 - val_loss: 0.0674 - val_acc: 0.9840\n",
      "Epoch 56/100\n",
      "381/381 [==============================] - 0s 95us/sample - loss: 0.0876 - acc: 0.9816 - val_loss: 0.0672 - val_acc: 0.9840\n",
      "Epoch 57/100\n",
      "381/381 [==============================] - 0s 105us/sample - loss: 0.0874 - acc: 0.9816 - val_loss: 0.0671 - val_acc: 0.9840\n",
      "Epoch 58/100\n",
      "381/381 [==============================] - 0s 97us/sample - loss: 0.0872 - acc: 0.9816 - val_loss: 0.0669 - val_acc: 0.9840\n",
      "Epoch 59/100\n",
      "381/381 [==============================] - 0s 89us/sample - loss: 0.0869 - acc: 0.9816 - val_loss: 0.0666 - val_acc: 0.9840\n"
     ]
    },
    {
     "name": "stdout",
     "output_type": "stream",
     "text": [
      "Epoch 60/100\n",
      "381/381 [==============================] - 0s 102us/sample - loss: 0.0867 - acc: 0.9816 - val_loss: 0.0664 - val_acc: 0.9840\n",
      "Epoch 61/100\n",
      "381/381 [==============================] - 0s 81us/sample - loss: 0.0865 - acc: 0.9816 - val_loss: 0.0662 - val_acc: 0.9840\n",
      "Epoch 62/100\n",
      "381/381 [==============================] - 0s 84us/sample - loss: 0.0863 - acc: 0.9816 - val_loss: 0.0661 - val_acc: 0.9840\n",
      "Epoch 63/100\n",
      "381/381 [==============================] - 0s 87us/sample - loss: 0.0861 - acc: 0.9816 - val_loss: 0.0659 - val_acc: 0.9840\n",
      "Epoch 64/100\n",
      "381/381 [==============================] - 0s 81us/sample - loss: 0.0859 - acc: 0.9816 - val_loss: 0.0656 - val_acc: 0.9840\n",
      "Epoch 65/100\n",
      "381/381 [==============================] - 0s 84us/sample - loss: 0.0857 - acc: 0.9816 - val_loss: 0.0655 - val_acc: 0.9840\n",
      "Epoch 66/100\n",
      "381/381 [==============================] - 0s 81us/sample - loss: 0.0854 - acc: 0.9816 - val_loss: 0.0653 - val_acc: 0.9840\n",
      "Epoch 67/100\n",
      "381/381 [==============================] - 0s 92us/sample - loss: 0.0852 - acc: 0.9816 - val_loss: 0.0650 - val_acc: 0.9840\n",
      "Epoch 68/100\n",
      "381/381 [==============================] - 0s 89us/sample - loss: 0.0850 - acc: 0.9816 - val_loss: 0.0648 - val_acc: 0.9840\n",
      "Epoch 69/100\n",
      "381/381 [==============================] - 0s 84us/sample - loss: 0.0848 - acc: 0.9816 - val_loss: 0.0647 - val_acc: 0.9840\n",
      "Epoch 70/100\n",
      "381/381 [==============================] - 0s 92us/sample - loss: 0.0846 - acc: 0.9843 - val_loss: 0.0644 - val_acc: 0.9840\n",
      "Epoch 71/100\n",
      "381/381 [==============================] - 0s 79us/sample - loss: 0.0845 - acc: 0.9843 - val_loss: 0.0642 - val_acc: 0.9840\n",
      "Epoch 72/100\n",
      "381/381 [==============================] - 0s 89us/sample - loss: 0.0843 - acc: 0.9816 - val_loss: 0.0641 - val_acc: 0.9840\n",
      "Epoch 73/100\n",
      "381/381 [==============================] - 0s 87us/sample - loss: 0.0841 - acc: 0.9816 - val_loss: 0.0640 - val_acc: 0.9840\n",
      "Epoch 74/100\n",
      "381/381 [==============================] - ETA: 0s - loss: 0.0566 - acc: 1.000 - 0s 89us/sample - loss: 0.0839 - acc: 0.9816 - val_loss: 0.0638 - val_acc: 0.9840\n",
      "Epoch 75/100\n",
      "381/381 [==============================] - 0s 87us/sample - loss: 0.0837 - acc: 0.9843 - val_loss: 0.0636 - val_acc: 0.9840\n",
      "Epoch 76/100\n",
      "381/381 [==============================] - 0s 87us/sample - loss: 0.0835 - acc: 0.9843 - val_loss: 0.0633 - val_acc: 0.9840\n",
      "Epoch 77/100\n",
      "381/381 [==============================] - 0s 87us/sample - loss: 0.0833 - acc: 0.9843 - val_loss: 0.0632 - val_acc: 0.9840\n",
      "Epoch 78/100\n",
      "381/381 [==============================] - 0s 81us/sample - loss: 0.0831 - acc: 0.9843 - val_loss: 0.0631 - val_acc: 0.9840\n",
      "Epoch 79/100\n",
      "381/381 [==============================] - 0s 76us/sample - loss: 0.0830 - acc: 0.9843 - val_loss: 0.0629 - val_acc: 0.9840\n",
      "Epoch 80/100\n",
      "381/381 [==============================] - 0s 84us/sample - loss: 0.0828 - acc: 0.9843 - val_loss: 0.0627 - val_acc: 0.9840\n",
      "Epoch 81/100\n",
      "381/381 [==============================] - 0s 95us/sample - loss: 0.0826 - acc: 0.9843 - val_loss: 0.0626 - val_acc: 0.9840\n",
      "Epoch 82/100\n",
      "381/381 [==============================] - 0s 92us/sample - loss: 0.0825 - acc: 0.9843 - val_loss: 0.0624 - val_acc: 0.9840\n",
      "Epoch 83/100\n",
      "381/381 [==============================] - 0s 97us/sample - loss: 0.0823 - acc: 0.9843 - val_loss: 0.0623 - val_acc: 0.9840\n",
      "Epoch 84/100\n",
      "381/381 [==============================] - 0s 92us/sample - loss: 0.0821 - acc: 0.9843 - val_loss: 0.0621 - val_acc: 0.9840\n",
      "Epoch 85/100\n",
      "381/381 [==============================] - 0s 87us/sample - loss: 0.0819 - acc: 0.9843 - val_loss: 0.0620 - val_acc: 0.9840\n",
      "Epoch 86/100\n",
      "381/381 [==============================] - 0s 92us/sample - loss: 0.0817 - acc: 0.9843 - val_loss: 0.0619 - val_acc: 0.9840\n",
      "Epoch 87/100\n",
      "381/381 [==============================] - 0s 92us/sample - loss: 0.0816 - acc: 0.9843 - val_loss: 0.0616 - val_acc: 0.9840\n",
      "Epoch 88/100\n",
      "381/381 [==============================] - 0s 100us/sample - loss: 0.0814 - acc: 0.9869 - val_loss: 0.0614 - val_acc: 0.9840\n",
      "Epoch 89/100\n",
      "381/381 [==============================] - 0s 92us/sample - loss: 0.0812 - acc: 0.9869 - val_loss: 0.0614 - val_acc: 0.9840\n",
      "Epoch 90/100\n",
      "381/381 [==============================] - 0s 79us/sample - loss: 0.0811 - acc: 0.9869 - val_loss: 0.0612 - val_acc: 0.9840\n",
      "Epoch 91/100\n",
      "381/381 [==============================] - 0s 81us/sample - loss: 0.0809 - acc: 0.9869 - val_loss: 0.0611 - val_acc: 0.9840\n",
      "Epoch 92/100\n",
      "381/381 [==============================] - 0s 89us/sample - loss: 0.0808 - acc: 0.9869 - val_loss: 0.0609 - val_acc: 0.9840\n",
      "Epoch 93/100\n",
      "381/381 [==============================] - 0s 89us/sample - loss: 0.0806 - acc: 0.9869 - val_loss: 0.0608 - val_acc: 0.9840\n",
      "Epoch 94/100\n",
      "381/381 [==============================] - 0s 87us/sample - loss: 0.0804 - acc: 0.9869 - val_loss: 0.0607 - val_acc: 0.9840\n",
      "Epoch 95/100\n",
      "381/381 [==============================] - 0s 87us/sample - loss: 0.0803 - acc: 0.9869 - val_loss: 0.0605 - val_acc: 0.9840\n",
      "Epoch 96/100\n",
      "381/381 [==============================] - 0s 92us/sample - loss: 0.0801 - acc: 0.9869 - val_loss: 0.0604 - val_acc: 0.9840\n",
      "Epoch 97/100\n",
      "381/381 [==============================] - 0s 87us/sample - loss: 0.0800 - acc: 0.9869 - val_loss: 0.0603 - val_acc: 0.9840\n",
      "Epoch 98/100\n",
      "381/381 [==============================] - 0s 87us/sample - loss: 0.0798 - acc: 0.9869 - val_loss: 0.0602 - val_acc: 0.9840\n",
      "Epoch 99/100\n",
      "381/381 [==============================] - 0s 92us/sample - loss: 0.0797 - acc: 0.9869 - val_loss: 0.0600 - val_acc: 0.9840\n",
      "Epoch 100/100\n",
      "381/381 [==============================] - 0s 81us/sample - loss: 0.0796 - acc: 0.9869 - val_loss: 0.0598 - val_acc: 0.9840\n",
      "381/381 [==============================] - 0s 34us/sample - loss: 0.0794 - acc: 0.9869\n",
      "Training Score: [0.07940519195333554, 0.98687667]\n",
      "188/188 [==============================] - 0s 59us/sample - loss: 0.0598 - acc: 0.9840\n",
      "Testing Score: [0.05983921219693854, 0.9840425]\n"
     ]
    }
   ],
   "source": [
    "# Training the model for 100 epochs i.e 100 times:\n",
    "r = model.fit(X_train,y_train, validation_data=(X_test,y_test),epochs=100)\n",
    "# Evalute the model:\n",
    "print('Training Score:',model.evaluate(X_train,y_train))\n",
    "print('Testing Score:',model.evaluate(X_test,y_test))"
   ]
  },
  {
   "cell_type": "code",
   "execution_count": 47,
   "metadata": {},
   "outputs": [
    {
     "data": {
      "text/plain": [
       "<matplotlib.legend.Legend at 0x3ac2643348>"
      ]
     },
     "execution_count": 47,
     "metadata": {},
     "output_type": "execute_result"
    },
    {
     "data": {
      "image/png": "[encoded data removed]",
      "text/plain": [
       "<Figure size 432x288 with 1 Axes>"
      ]
     },
     "metadata": {
      "needs_background": "light"
     },
     "output_type": "display_data"
    }
   ],
   "source": [
    "# Lets Plot Loss Per Iteration:\n",
    "import matplotlib.pyplot as plt\n",
    "plt.plot(r.history['loss'], label='loss')\n",
    "plt.plot(r.history['val_loss'], label='val_loss')\n",
    "plt.title('Loss & Val_loss Vs Iteration')\n",
    "plt.xlabel=['Iterations']\n",
    "plt.ylabel=['Loss & Val_loss']\n",
    "plt.legend()"
   ]
  },
  {
   "cell_type": "markdown",
   "metadata": {},
   "source": [
    "**Output: There is a decrease in loss per iteration.**"
   ]
  },
  {
   "cell_type": "code",
   "execution_count": 48,
   "metadata": {},
   "outputs": [
    {
     "data": {
      "text/plain": [
       "<matplotlib.legend.Legend at 0x3ac271be88>"
      ]
     },
     "execution_count": 48,
     "metadata": {},
     "output_type": "execute_result"
    },
    {
     "data": {
      "image/png": "[encoded data removed]",
      "text/plain": [
       "<Figure size 432x288 with 1 Axes>"
      ]
     },
     "metadata": {
      "needs_background": "light"
     },
     "output_type": "display_data"
    }
   ],
   "source": [
    "# Plotting Accuracy:\n",
    "plt.plot(r.history['acc'], label='acc')\n",
    "plt.plot(r.history['val_acc'], label='val_acc')\n",
    "plt.title('Accuracy & Val_Accuracy Vs Iteration')\n",
    "plt.xlabel=['Iterations']\n",
    "plt.ylabel=['Accuracy & Val_Accuracy']\n",
    "plt.legend()"
   ]
  },
  {
   "cell_type": "markdown",
   "metadata": {},
   "source": [
    "**Output: The Accuracy is increasing with each iterations.**"
   ]
  },
  {
   "cell_type": "code",
   "execution_count": 49,
   "metadata": {},
   "outputs": [
    {
     "name": "stdout",
     "output_type": "stream",
     "text": [
      "[[2.41430402e-02]\n",
      " [7.63177872e-04]\n",
      " [9.62284803e-01]\n",
      " [1.86021924e-02]\n",
      " [9.98293400e-01]\n",
      " [8.14955533e-01]\n",
      " [9.58439708e-03]\n",
      " [2.98023224e-07]\n",
      " [0.00000000e+00]\n",
      " [5.27175069e-02]\n",
      " [1.10327959e-01]\n",
      " [0.00000000e+00]\n",
      " [9.55594897e-01]\n",
      " [8.78500164e-01]\n",
      " [9.96432781e-01]\n",
      " [1.04308128e-06]\n",
      " [9.83059883e-01]\n",
      " [9.75501776e-01]\n",
      " [8.25740457e-01]\n",
      " [4.92612720e-02]\n",
      " [9.96012330e-01]\n",
      " [9.99659181e-01]\n",
      " [9.99125898e-01]\n",
      " [9.65955198e-01]\n",
      " [1.82947814e-01]\n",
      " [9.94226694e-01]\n",
      " [9.83139515e-01]\n",
      " [9.99904752e-01]\n",
      " [9.99065042e-01]\n",
      " [9.24382448e-01]\n",
      " [9.99856353e-01]\n",
      " [3.86255682e-01]\n",
      " [9.99927640e-01]\n",
      " [2.08616257e-07]\n",
      " [9.98125553e-01]\n",
      " [9.94442344e-01]\n",
      " [1.16169453e-04]\n",
      " [9.99815345e-01]\n",
      " [9.91829157e-01]\n",
      " [1.82399154e-03]\n",
      " [1.32860541e-02]\n",
      " [9.97936606e-01]\n",
      " [2.23406911e-01]\n",
      " [9.97172654e-01]\n",
      " [9.72771287e-01]\n",
      " [9.96521950e-01]\n",
      " [4.34574485e-03]\n",
      " [9.92197335e-01]\n",
      " [1.50819421e-01]\n",
      " [3.85752320e-03]\n",
      " [9.92455125e-01]\n",
      " [5.75752258e-02]\n",
      " [9.96602416e-01]\n",
      " [9.66862619e-01]\n",
      " [4.54819411e-01]\n",
      " [9.95174289e-01]\n",
      " [9.70443845e-01]\n",
      " [9.88258839e-01]\n",
      " [9.98807132e-01]\n",
      " [9.97260928e-01]\n",
      " [9.90524054e-01]\n",
      " [6.51121140e-04]\n",
      " [1.03116035e-04]\n",
      " [3.03983688e-06]\n",
      " [3.17639410e-02]\n",
      " [1.14372075e-02]\n",
      " [9.96465504e-01]\n",
      " [2.32014060e-02]\n",
      " [9.99685466e-01]\n",
      " [2.08616257e-06]\n",
      " [9.84054208e-01]\n",
      " [9.99401808e-01]\n",
      " [9.92865801e-01]\n",
      " [9.98008728e-01]\n",
      " [4.20925021e-03]\n",
      " [9.49754953e-01]\n",
      " [9.99359131e-01]\n",
      " [7.92741776e-06]\n",
      " [9.12870944e-01]\n",
      " [9.67146635e-01]\n",
      " [9.98143017e-01]\n",
      " [9.99729991e-01]\n",
      " [9.98539209e-01]\n",
      " [9.99036193e-01]\n",
      " [9.99043465e-01]\n",
      " [1.82742774e-02]\n",
      " [7.59822130e-01]\n",
      " [1.66738510e-01]\n",
      " [3.37408781e-02]\n",
      " [9.99640167e-01]\n",
      " [9.86800909e-01]\n",
      " [9.95388627e-01]\n",
      " [9.58489895e-01]\n",
      " [3.53386998e-03]\n",
      " [9.86457586e-01]\n",
      " [9.60797191e-01]\n",
      " [9.80507195e-01]\n",
      " [1.98185444e-04]\n",
      " [9.98955369e-01]\n",
      " [9.30272579e-01]\n",
      " [3.63465846e-02]\n",
      " [9.21806097e-01]\n",
      " [8.88615370e-01]\n",
      " [9.99740779e-01]\n",
      " [9.97850895e-01]\n",
      " [7.86049128e-01]\n",
      " [9.99988556e-01]\n",
      " [2.34925836e-01]\n",
      " [9.46082473e-01]\n",
      " [1.59740448e-04]\n",
      " [9.83236551e-01]\n",
      " [7.86781311e-06]\n",
      " [9.92026925e-01]\n",
      " [9.96743381e-01]\n",
      " [2.23753154e-02]\n",
      " [9.24921691e-01]\n",
      " [5.18144071e-02]\n",
      " [2.91684270e-03]\n",
      " [9.99689162e-01]\n",
      " [5.85430920e-01]\n",
      " [9.96687412e-01]\n",
      " [9.64274764e-01]\n",
      " [9.98962641e-01]\n",
      " [9.97805834e-01]\n",
      " [9.92634773e-01]\n",
      " [6.19356334e-01]\n",
      " [9.85838652e-01]\n",
      " [9.97794151e-01]\n",
      " [0.00000000e+00]\n",
      " [9.63861108e-01]\n",
      " [9.97269630e-01]\n",
      " [9.96671081e-01]\n",
      " [9.85933006e-01]\n",
      " [4.14903194e-01]\n",
      " [6.35316968e-03]\n",
      " [1.81198120e-04]\n",
      " [2.27383912e-01]\n",
      " [1.76395178e-02]\n",
      " [9.99676287e-01]\n",
      " [9.93511558e-01]\n",
      " [7.71582127e-05]\n",
      " [9.98919964e-01]\n",
      " [9.33574498e-01]\n",
      " [9.93603468e-01]\n",
      " [4.76434529e-02]\n",
      " [4.84287739e-05]\n",
      " [9.99226093e-01]\n",
      " [9.91863966e-01]\n",
      " [9.99408007e-01]\n",
      " [9.70013082e-01]\n",
      " [2.88486481e-05]\n",
      " [9.99627709e-01]\n",
      " [1.15165114e-03]\n",
      " [9.97499108e-01]\n",
      " [9.98599768e-01]\n",
      " [2.98023224e-08]\n",
      " [1.82092190e-05]\n",
      " [9.99028802e-01]\n",
      " [9.35392737e-01]\n",
      " [9.74187136e-01]\n",
      " [9.97696221e-01]\n",
      " [9.31007147e-01]\n",
      " [5.47116697e-01]\n",
      " [9.38570559e-01]\n",
      " [9.79350924e-01]\n",
      " [2.72455335e-01]\n",
      " [9.95158434e-01]\n",
      " [0.00000000e+00]\n",
      " [9.52392101e-01]\n",
      " [9.99007046e-01]\n",
      " [5.41131496e-02]\n",
      " [9.99570608e-01]\n",
      " [3.59117985e-05]\n",
      " [9.98998284e-01]\n",
      " [0.00000000e+00]\n",
      " [8.31927419e-01]\n",
      " [8.52018595e-04]\n",
      " [6.21080399e-05]\n",
      " [1.00553036e-04]\n",
      " [9.98830438e-01]\n",
      " [9.84597743e-01]\n",
      " [8.34465027e-07]\n",
      " [3.52859497e-05]\n",
      " [7.23635256e-02]\n",
      " [1.87684298e-02]\n",
      " [9.43777680e-01]\n",
      " [3.50850582e-01]\n",
      " [9.99909043e-01]]\n"
     ]
    }
   ],
   "source": [
    "# Making predictions:\n",
    "y_pred = model.predict(X_test)\n",
    "print(y_pred)"
   ]
  },
  {
   "cell_type": "markdown",
   "metadata": {},
   "source": [
    "# The outputs(Our predictions from the model) are in the range of 0 and 1 which is true to the behavior of a Sigmoid Function."
   ]
  },
  {
   "cell_type": "code",
   "execution_count": null,
   "metadata": {},
   "outputs": [],
   "source": []
  }
 ],
 "metadata": {
  "kernelspec": {
   "display_name": "Python 3",
   "language": "python",
   "name": "python3"
  },
  "language_info": {
   "codemirror_mode": {
    "name": "ipython",
    "version": 3
   },
   "file_extension": ".py",
   "mimetype": "text/x-python",
   "name": "python",
   "nbconvert_exporter": "python",
   "pygments_lexer": "ipython3",
   "version": "3.7.6"
  }
 },
 "nbformat": 4,
 "nbformat_minor": 4
}
