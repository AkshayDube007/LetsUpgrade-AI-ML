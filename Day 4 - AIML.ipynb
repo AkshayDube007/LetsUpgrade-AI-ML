{
 "cells": [
  {
   "cell_type": "code",
   "execution_count": 1,
   "metadata": {},
   "outputs": [
    {
     "data": {
      "text/plain": [
       "True"
      ]
     },
     "execution_count": 1,
     "metadata": {},
     "output_type": "execute_result"
    }
   ],
   "source": [
    "# Logical Operator\n",
    "3>1 and 5>2"
   ]
  },
  {
   "cell_type": "code",
   "execution_count": 2,
   "metadata": {},
   "outputs": [
    {
     "data": {
      "text/plain": [
       "False"
      ]
     },
     "execution_count": 2,
     "metadata": {},
     "output_type": "execute_result"
    }
   ],
   "source": [
    "not(3>1 and 5>2)"
   ]
  },
  {
   "cell_type": "code",
   "execution_count": 3,
   "metadata": {},
   "outputs": [
    {
     "data": {
      "text/plain": [
       "True"
      ]
     },
     "execution_count": 3,
     "metadata": {},
     "output_type": "execute_result"
    }
   ],
   "source": [
    "3<1 or 5>3"
   ]
  },
  {
   "cell_type": "code",
   "execution_count": 4,
   "metadata": {},
   "outputs": [
    {
     "name": "stdout",
     "output_type": "stream",
     "text": [
      "0\n"
     ]
    }
   ],
   "source": [
    "# Bitwise Operator\n",
    "s=2\n",
    "t=4\n",
    "print(s&t)"
   ]
  },
  {
   "cell_type": "code",
   "execution_count": 5,
   "metadata": {},
   "outputs": [
    {
     "name": "stdout",
     "output_type": "stream",
     "text": [
      "6\n"
     ]
    }
   ],
   "source": [
    "s=2\n",
    "t=4\n",
    "print(s|t)"
   ]
  },
  {
   "cell_type": "code",
   "execution_count": 8,
   "metadata": {},
   "outputs": [
    {
     "name": "stdout",
     "output_type": "stream",
     "text": [
      "4\n",
      "1\n"
     ]
    }
   ],
   "source": [
    "# left shift operator\n",
    "x=2\n",
    "print(x<<1)\n",
    "# right shift\n",
    "print(x>>1)"
   ]
  },
  {
   "cell_type": "code",
   "execution_count": 10,
   "metadata": {},
   "outputs": [
    {
     "data": {
      "text/plain": [
       "False"
      ]
     },
     "execution_count": 10,
     "metadata": {},
     "output_type": "execute_result"
    }
   ],
   "source": [
    "# membership operator \n",
    "l=[1,2,3,4,5,\"Akshay\"]\n",
    "6 in l"
   ]
  },
  {
   "cell_type": "code",
   "execution_count": 11,
   "metadata": {},
   "outputs": [
    {
     "data": {
      "text/plain": [
       "True"
      ]
     },
     "execution_count": 11,
     "metadata": {},
     "output_type": "execute_result"
    }
   ],
   "source": [
    "\"Akshay\" in l"
   ]
  },
  {
   "cell_type": "code",
   "execution_count": 12,
   "metadata": {},
   "outputs": [
    {
     "data": {
      "text/plain": [
       "True"
      ]
     },
     "execution_count": 12,
     "metadata": {},
     "output_type": "execute_result"
    }
   ],
   "source": [
    "\"akshay\" not in l"
   ]
  },
  {
   "cell_type": "code",
   "execution_count": 13,
   "metadata": {},
   "outputs": [
    {
     "name": "stdout",
     "output_type": "stream",
     "text": [
      "Hi, The condition is met\n"
     ]
    }
   ],
   "source": [
    "x=3\n",
    "if x==3:\n",
    "    print(\"Hi, The condition is met\")"
   ]
  },
  {
   "cell_type": "code",
   "execution_count": 15,
   "metadata": {},
   "outputs": [
    {
     "name": "stdout",
     "output_type": "stream",
     "text": [
      "Condition is false\n"
     ]
    }
   ],
   "source": [
    "x=5\n",
    "if x==3:\n",
    "    print(\"Hi, The condition is met\")\n",
    "print(\"Condition is false\")"
   ]
  },
  {
   "cell_type": "code",
   "execution_count": 19,
   "metadata": {},
   "outputs": [
    {
     "name": "stdout",
     "output_type": "stream",
     "text": [
      "party\n"
     ]
    }
   ],
   "source": [
    "# else if (elif) condition \n",
    "x=50\n",
    "if x==50:\n",
    "    print(\"party\")\n",
    "elif x>50:\n",
    "    print(\"movie\")\n",
    "elif x<50:\n",
    "    print(\"be at home\")"
   ]
  },
  {
   "cell_type": "code",
   "execution_count": 27,
   "metadata": {},
   "outputs": [
    {
     "name": "stdout",
     "output_type": "stream",
     "text": [
      "The enterned number is even\n"
     ]
    }
   ],
   "source": [
    "# WAP t check the given number is odd or even\n",
    "no =10\n",
    "\n",
    "if no%2==0:\n",
    "    print(\"The enterned number is even\")\n",
    "else:\n",
    "    print(\"The entered number is odd\")"
   ]
  },
  {
   "cell_type": "code",
   "execution_count": 29,
   "metadata": {},
   "outputs": [
    {
     "name": "stdout",
     "output_type": "stream",
     "text": [
      "350 is greator than 35\n"
     ]
    }
   ],
   "source": [
    "# Nested Condition\n",
    "x=350\n",
    "if x>35:\n",
    "    print(x, \"is greator than 35\")\n",
    "else:\n",
    "    if x<35:\n",
    "        print(x, \"is less that 35\")\n",
    "    else:\n",
    "        print(x, \"is equal to 35\")"
   ]
  },
  {
   "cell_type": "code",
   "execution_count": 32,
   "metadata": {},
   "outputs": [
    {
     "name": "stdout",
     "output_type": "stream",
     "text": [
      "40\n",
      "10\n",
      "20\n",
      "30\n",
      "40\n",
      "50\n",
      "60\n"
     ]
    }
   ],
   "source": [
    "l=[10,20,30,40,50,60]\n",
    "print(l[3])\n",
    "for i in l:\n",
    "    print(i)"
   ]
  },
  {
   "cell_type": "code",
   "execution_count": 33,
   "metadata": {},
   "outputs": [
    {
     "name": "stdout",
     "output_type": "stream",
     "text": [
      "Akshay\n",
      "darshan Sir\n",
      "LetsUpgarde\n",
      "1999\n",
      "2020\n"
     ]
    }
   ],
   "source": [
    "name = [\"Akshay\", \"darshan Sir\", \"LetsUpgarde\", 1999, 2020]\n",
    "for dell in  name:\n",
    "    print(dell)"
   ]
  },
  {
   "cell_type": "code",
   "execution_count": 34,
   "metadata": {},
   "outputs": [
    {
     "name": "stdout",
     "output_type": "stream",
     "text": [
      "10 is an even number\n",
      "11 is an odd number\n",
      "12 is an even number\n",
      "13 is an odd number\n",
      "14 is an even number\n",
      "15 is an odd number\n",
      "16 is an even number\n",
      "17 is an odd number\n",
      "18 is an even number\n",
      "19 is an odd number\n",
      "20 is an even number\n"
     ]
    }
   ],
   "source": [
    "l=[10,11,12,13,14,15,16,17,18,19,20]\n",
    "for i in l:\n",
    "    if i%2==0:\n",
    "        print(i, \"is an even number\")\n",
    "    else:\n",
    "        print(i, \"is an odd number\")"
   ]
  },
  {
   "cell_type": "markdown",
   "metadata": {},
   "source": [
    "# Day 4 Assignment\n",
    "\n",
    "**Question 1 :\n",
    "Research on whether addition, subtraction, multiplication, division, floor division and modulo\n",
    "operations be performed on complex numbers. Based on your study, implement a Python\n",
    "program to demonstrate these operations.**"
   ]
  },
  {
   "cell_type": "code",
   "execution_count": 42,
   "metadata": {},
   "outputs": [
    {
     "name": "stdout",
     "output_type": "stream",
     "text": [
      "(7-1j)\n",
      "(-3+7j)\n",
      "(22+7j)\n",
      "(-0.0487804878048781+0.5609756097560976j)\n"
     ]
    },
    {
     "ename": "TypeError",
     "evalue": "can't take floor of complex number.",
     "output_type": "error",
     "traceback": [
      "\u001b[1;31m---------------------------------------------------------------------------\u001b[0m",
      "\u001b[1;31mTypeError\u001b[0m                                 Traceback (most recent call last)",
      "\u001b[1;32m<ipython-input-42-6c9cdedaf8f9>\u001b[0m in \u001b[0;36m<module>\u001b[1;34m\u001b[0m\n\u001b[0;32m     15\u001b[0m \u001b[1;33m\u001b[0m\u001b[0m\n\u001b[0;32m     16\u001b[0m \u001b[1;31m# 5. Floor Division\u001b[0m\u001b[1;33m\u001b[0m\u001b[1;33m\u001b[0m\u001b[1;33m\u001b[0m\u001b[0m\n\u001b[1;32m---> 17\u001b[1;33m \u001b[0mprint\u001b[0m\u001b[1;33m(\u001b[0m\u001b[0mx\u001b[0m\u001b[1;33m//\u001b[0m\u001b[0my\u001b[0m\u001b[1;33m)\u001b[0m\u001b[1;33m\u001b[0m\u001b[1;33m\u001b[0m\u001b[0m\n\u001b[0m\u001b[0;32m     18\u001b[0m \u001b[1;31m# FLOOR DIVISION CAN'T BE PERFORMED FOR COMPLEX NUMBERS\u001b[0m\u001b[1;33m\u001b[0m\u001b[1;33m\u001b[0m\u001b[1;33m\u001b[0m\u001b[0m\n\u001b[0;32m     19\u001b[0m \u001b[1;33m\u001b[0m\u001b[0m\n",
      "\u001b[1;31mTypeError\u001b[0m: can't take floor of complex number."
     ]
    }
   ],
   "source": [
    "# Below are mentioned operations being performed on complex numbers.\n",
    "x = 2+3j\n",
    "y = 5-4j\n",
    "# 1. Addition\n",
    "print(x+y)\n",
    "\n",
    "# 2. Subtratcion\n",
    "print(x-y)\n",
    "\n",
    "# 3. Multiplication\n",
    "print(x*y)\n",
    "\n",
    "# 4. Division \n",
    "print(x/y)\n",
    "\n",
    "# 5. Floor Division \n",
    "print(x//y)\n",
    "# FLOOR DIVISION CAN'T BE PERFORMED FOR COMPLEX NUMBERS\n",
    "\n",
    "# 6. Modulo Operation \n",
    "print(x%y)\n",
    "# MODULO CAN'T BE PERFORMED FOR COMPLEX NUMBERS"
   ]
  },
  {
   "cell_type": "markdown",
   "metadata": {},
   "source": [
    "**Question 2 :\n",
    "Research on range() functions and its parameters. Create a markdown cell and write in your own\n",
    "words (no copy-paste from google please) what you understand about it. Implement a small\n",
    "program of your choice on the same.**"
   ]
  },
  {
   "cell_type": "markdown",
   "metadata": {},
   "source": [
    "# Range() Function & its parameters - \n",
    "\n",
    "1. **The range() function is an in-built function in python and allows us to genrate a series of numbers within the given range.**\n",
    "2. **The user can decide how many arguments to be passed to the  function, User can decide where the series of numbers will initiate and end as well as how big difference will be between one number and the next would be.**\n",
    "\n",
    "# Range() Function takes following mentioned three Arguments/Parameters -\n",
    "\n",
    "1. **Start** - Integer starting from which the sequence of integers is to be returned.\n",
    "2. **Stop** - Integer before which the sequence of intergers is to be returned.\n",
    "- **Note - The range of integers end at stop -1.**\n",
    "3. **Step** - Integer value which determines the increment between each integer in the sequence.\n",
    "\n",
    "# Below mentioned program explain the use of range() function and its Arguments/Parameters."
   ]
  },
  {
   "cell_type": "code",
   "execution_count": 46,
   "metadata": {},
   "outputs": [
    {
     "name": "stdout",
     "output_type": "stream",
     "text": [
      "The series of even number within the given range is 2\n",
      "The series of even number within the given range is 4\n",
      "The series of even number within the given range is 6\n",
      "The series of even number within the given range is 8\n",
      "The series of even number within the given range is 10\n",
      "The series of even number within the given range is 12\n",
      "The series of even number within the given range is 14\n"
     ]
    }
   ],
   "source": [
    "# Program printiing even numbers in the range pf numbers provided by us. (Start and stop is used here)\n",
    "\n",
    "for i in range(1, 15):\n",
    "    if i%2==0:\n",
    "        print(\"The series of even number within the given range is\", i)"
   ]
  },
  {
   "cell_type": "code",
   "execution_count": 47,
   "metadata": {},
   "outputs": [
    {
     "name": "stdout",
     "output_type": "stream",
     "text": [
      "The series of even number within the given range is 6\n",
      "The series of even number within the given range is 16\n",
      "The series of even number within the given range is 26\n",
      "The series of even number within the given range is 36\n",
      "The series of even number within the given range is 46\n"
     ]
    }
   ],
   "source": [
    "# Program printiing even numbers in the range pf numbers provided by us. (Start and stop with step is used here)\n",
    "\n",
    "for i in range(1, 50, 5):\n",
    "    if i%2==0:\n",
    "        print(\"The series of even number within the given range is\", i)"
   ]
  },
  {
   "cell_type": "markdown",
   "metadata": {},
   "source": [
    "**Question 3:\n",
    " Consider two numbers. Perform their subtraction and if the result of subtraction is greater than\n",
    "25, print their multiplication result else print their division result.**"
   ]
  },
  {
   "cell_type": "code",
   "execution_count": 51,
   "metadata": {},
   "outputs": [
    {
     "name": "stdout",
     "output_type": "stream",
     "text": [
      "The result is their division 2.0\n"
     ]
    }
   ],
   "source": [
    "x=50\n",
    "y=25\n",
    "z=x-y\n",
    "if z>25:\n",
    "    print(\"The result of their product is\", x*y)\n",
    "else:\n",
    "    print(\"The result is their division\", x/y)"
   ]
  },
  {
   "cell_type": "markdown",
   "metadata": {},
   "source": [
    "**Question 4:\n",
    "Consider a list of 10 elements of integer values. If the number in the list is divisible by 2, print the\n",
    "result as \"square of that number minus 2\".**"
   ]
  },
  {
   "cell_type": "code",
   "execution_count": 60,
   "metadata": {},
   "outputs": [
    {
     "name": "stdout",
     "output_type": "stream",
     "text": [
      "The square of that number minus 2 is 2\n",
      "The square of that number minus 2 is 14\n",
      "The square of that number minus 2 is 34\n",
      "The square of that number minus 2 is 62\n",
      "The square of that number minus 2 is 98\n"
     ]
    }
   ],
   "source": [
    "l=[1,2,3,4,5,6,7,8,9,10]\n",
    "for i in l:\n",
    "    if i%2==0:\n",
    "        l = (i**2)-2\n",
    "        print(\"The square of that number minus 2 is\", l)"
   ]
  },
  {
   "cell_type": "markdown",
   "metadata": {},
   "source": [
    "**Question 5:\n",
    "Consider a list of 10 elements. Print all the elements in the list which are greater than 7 when that\n",
    "number is divided 2.**"
   ]
  },
  {
   "cell_type": "code",
   "execution_count": 75,
   "metadata": {},
   "outputs": [
    {
     "name": "stdout",
     "output_type": "stream",
     "text": [
      "The required elements from the mentioned list which satisfy our condition are 33\n",
      "The required elements from the mentioned list which satisfy our condition are 55\n"
     ]
    }
   ],
   "source": [
    "m=[5,6,7,1,2,4,3,10,33,55]\n",
    "for i in m:\n",
    "    if (i/2) >7:\n",
    "        print(\"The required elements from the mentioned list which satisfy our condition are\", i)"
   ]
  },
  {
   "cell_type": "code",
   "execution_count": null,
   "metadata": {},
   "outputs": [],
   "source": []
  }
 ],
 "metadata": {
  "kernelspec": {
   "display_name": "Python 3",
   "language": "python",
   "name": "python3"
  },
  "language_info": {
   "codemirror_mode": {
    "name": "ipython",
    "version": 3
   },
   "file_extension": ".py",
   "mimetype": "text/x-python",
   "name": "python",
   "nbconvert_exporter": "python",
   "pygments_lexer": "ipython3",
   "version": "3.7.6"
  }
 },
 "nbformat": 4,
 "nbformat_minor": 4
}
