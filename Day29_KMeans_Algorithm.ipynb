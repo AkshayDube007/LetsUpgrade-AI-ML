{
 "cells": [
  {
   "cell_type": "code",
   "execution_count": 168,
   "metadata": {},
   "outputs": [],
   "source": [
    "import numpy as np\n",
    "import pandas as pd\n",
    "import matplotlib.pyplot as plt\n",
    "import seaborn as sns"
   ]
  },
  {
   "cell_type": "code",
   "execution_count": 169,
   "metadata": {},
   "outputs": [],
   "source": [
    "# Loading the dataset \n",
    "tem=pd.read_csv('data.csv')"
   ]
  },
  {
   "cell_type": "code",
   "execution_count": 171,
   "metadata": {},
   "outputs": [],
   "source": [
    "df=tem[['x','y']]"
   ]
  },
  {
   "cell_type": "code",
   "execution_count": 172,
   "metadata": {},
   "outputs": [
    {
     "data": {
      "text/html": [
       "<div>\n",
       "<style scoped>\n",
       "    .dataframe tbody tr th:only-of-type {\n",
       "        vertical-align: middle;\n",
       "    }\n",
       "\n",
       "    .dataframe tbody tr th {\n",
       "        vertical-align: top;\n",
       "    }\n",
       "\n",
       "    .dataframe thead th {\n",
       "        text-align: right;\n",
       "    }\n",
       "</style>\n",
       "<table border=\"1\" class=\"dataframe\">\n",
       "  <thead>\n",
       "    <tr style=\"text-align: right;\">\n",
       "      <th></th>\n",
       "      <th>x</th>\n",
       "      <th>y</th>\n",
       "    </tr>\n",
       "  </thead>\n",
       "  <tbody>\n",
       "    <tr>\n",
       "      <th>0</th>\n",
       "      <td>12</td>\n",
       "      <td>39</td>\n",
       "    </tr>\n",
       "    <tr>\n",
       "      <th>1</th>\n",
       "      <td>20</td>\n",
       "      <td>39</td>\n",
       "    </tr>\n",
       "  </tbody>\n",
       "</table>\n",
       "</div>"
      ],
      "text/plain": [
       "    x   y\n",
       "0  12  39\n",
       "1  20  39"
      ]
     },
     "execution_count": 172,
     "metadata": {},
     "output_type": "execute_result"
    }
   ],
   "source": [
    "df.head(2)"
   ]
  },
  {
   "cell_type": "code",
   "execution_count": 173,
   "metadata": {},
   "outputs": [
    {
     "data": {
      "text/plain": [
       "(19, 2)"
      ]
     },
     "execution_count": 173,
     "metadata": {},
     "output_type": "execute_result"
    }
   ],
   "source": [
    "df.shape"
   ]
  },
  {
   "cell_type": "code",
   "execution_count": 174,
   "metadata": {},
   "outputs": [
    {
     "data": {
      "text/plain": [
       "<matplotlib.collections.PathCollection at 0xfd820e4708>"
      ]
     },
     "execution_count": 174,
     "metadata": {},
     "output_type": "execute_result"
    },
    {
     "data": {
      "image/png": "[encoded data removed]",
      "text/plain": [
       "<Figure size 432x288 with 1 Axes>"
      ]
     },
     "metadata": {
      "needs_background": "light"
     },
     "output_type": "display_data"
    }
   ],
   "source": [
    "plt.scatter(df['x'],df['y'])"
   ]
  },
  {
   "cell_type": "code",
   "execution_count": 175,
   "metadata": {},
   "outputs": [
    {
     "name": "stdout",
     "output_type": "stream",
     "text": [
      "{1: [26, 16], 2: [68, 42], 3: [55, 76]}\n"
     ]
    }
   ],
   "source": [
    "# KMeas Step 1 - Select Random points as CENTROIDS.\n",
    "np.random.seed(200)\n",
    "k=3\n",
    "centroids={\n",
    "    i+1:[np.random.randint(0,80),np.random.randint(0,80)]\n",
    "    for i in range(k)}\n",
    "print(centroids)"
   ]
  },
  {
   "cell_type": "code",
   "execution_count": 176,
   "metadata": {},
   "outputs": [
    {
     "name": "stdout",
     "output_type": "stream",
     "text": [
      "26 16 <class 'dict'>\n",
      "68 42 <class 'dict'>\n",
      "55 76 <class 'dict'>\n"
     ]
    },
    {
     "data": {
      "image/png": "[encoded data removed]",
      "text/plain": [
       "<Figure size 360x360 with 1 Axes>"
      ]
     },
     "metadata": {
      "needs_background": "light"
     },
     "output_type": "display_data"
    }
   ],
   "source": [
    "# Step 2 - Plot Datapoints with Centroid -\n",
    "\n",
    "fig=plt.figure(figsize=(5,5))\n",
    "plt.scatter(df['x'],df['y'],color='k')\n",
    "colmap={1:'r',2:'g',3:'b'}\n",
    "\n",
    "for i in centroids.keys():\n",
    "    plt.scatter(*centroids[i],color=colmap[i])\n",
    "    print(*centroids[i],type(centroids))\n",
    "plt.xlim(0,80)\n",
    "plt.ylim(0,80)\n",
    "plt.show()"
   ]
  },
  {
   "cell_type": "code",
   "execution_count": 177,
   "metadata": {},
   "outputs": [
    {
     "name": "stdout",
     "output_type": "stream",
     "text": [
      "['distance_from_1', 'distance_from_2', 'distance_from_3']\n",
      "     x   y  distance_from_1  distance_from_2  distance_from_3  closest color\n",
      "0   12  39        26.925824        56.080300        56.727418        1     r\n",
      "1   20  39        23.769729        48.093659        50.931326        1     r\n",
      "2   28  30        14.142136        41.761226        53.338541        1     r\n",
      "3   18  52        36.878178        50.990195        44.102154        1     r\n",
      "4   29  54        38.118237        40.804412        34.058773        3     b\n",
      "5   33  46        30.805844        35.227830        37.202150        1     r\n",
      "6   24  55        39.051248        45.880279        37.443290        3     b\n",
      "7   45  59        47.010637        28.600699        19.723083        3     b\n",
      "8   45  63        50.695167        31.144823        16.401219        3     b\n",
      "9   52  70        59.933296        32.249031         6.708204        3     b\n",
      "10  51  66        55.901699        29.410882        10.770330        3     b\n",
      "11  52  63        53.712196        26.400758        13.341664        3     b\n",
      "12  55  58        51.039201        20.615528        18.000000        3     b\n",
      "13  53  23        27.892651        24.207437        53.037722        2     g\n",
      "14  55  14        29.068884        30.870698        62.000000        1     r\n",
      "15  61   8        35.902646        34.713110        68.264193        2     g\n",
      "16  64  19        38.118237        23.345235        57.706152        2     g\n",
      "17  69   7        43.931765        35.014283        70.405966        2     g\n",
      "18  72  24        46.690470        18.439089        54.708317        2     g\n"
     ]
    },
    {
     "data": {
      "text/html": [
       "<div>\n",
       "<style scoped>\n",
       "    .dataframe tbody tr th:only-of-type {\n",
       "        vertical-align: middle;\n",
       "    }\n",
       "\n",
       "    .dataframe tbody tr th {\n",
       "        vertical-align: top;\n",
       "    }\n",
       "\n",
       "    .dataframe thead th {\n",
       "        text-align: right;\n",
       "    }\n",
       "</style>\n",
       "<table border=\"1\" class=\"dataframe\">\n",
       "  <thead>\n",
       "    <tr style=\"text-align: right;\">\n",
       "      <th></th>\n",
       "      <th>x</th>\n",
       "      <th>y</th>\n",
       "      <th>distance_from_1</th>\n",
       "      <th>distance_from_2</th>\n",
       "      <th>distance_from_3</th>\n",
       "      <th>closest</th>\n",
       "      <th>color</th>\n",
       "    </tr>\n",
       "  </thead>\n",
       "  <tbody>\n",
       "    <tr>\n",
       "      <th>0</th>\n",
       "      <td>12</td>\n",
       "      <td>39</td>\n",
       "      <td>26.925824</td>\n",
       "      <td>56.080300</td>\n",
       "      <td>56.727418</td>\n",
       "      <td>1</td>\n",
       "      <td>r</td>\n",
       "    </tr>\n",
       "    <tr>\n",
       "      <th>1</th>\n",
       "      <td>20</td>\n",
       "      <td>39</td>\n",
       "      <td>23.769729</td>\n",
       "      <td>48.093659</td>\n",
       "      <td>50.931326</td>\n",
       "      <td>1</td>\n",
       "      <td>r</td>\n",
       "    </tr>\n",
       "    <tr>\n",
       "      <th>2</th>\n",
       "      <td>28</td>\n",
       "      <td>30</td>\n",
       "      <td>14.142136</td>\n",
       "      <td>41.761226</td>\n",
       "      <td>53.338541</td>\n",
       "      <td>1</td>\n",
       "      <td>r</td>\n",
       "    </tr>\n",
       "    <tr>\n",
       "      <th>3</th>\n",
       "      <td>18</td>\n",
       "      <td>52</td>\n",
       "      <td>36.878178</td>\n",
       "      <td>50.990195</td>\n",
       "      <td>44.102154</td>\n",
       "      <td>1</td>\n",
       "      <td>r</td>\n",
       "    </tr>\n",
       "    <tr>\n",
       "      <th>4</th>\n",
       "      <td>29</td>\n",
       "      <td>54</td>\n",
       "      <td>38.118237</td>\n",
       "      <td>40.804412</td>\n",
       "      <td>34.058773</td>\n",
       "      <td>3</td>\n",
       "      <td>b</td>\n",
       "    </tr>\n",
       "    <tr>\n",
       "      <th>5</th>\n",
       "      <td>33</td>\n",
       "      <td>46</td>\n",
       "      <td>30.805844</td>\n",
       "      <td>35.227830</td>\n",
       "      <td>37.202150</td>\n",
       "      <td>1</td>\n",
       "      <td>r</td>\n",
       "    </tr>\n",
       "    <tr>\n",
       "      <th>6</th>\n",
       "      <td>24</td>\n",
       "      <td>55</td>\n",
       "      <td>39.051248</td>\n",
       "      <td>45.880279</td>\n",
       "      <td>37.443290</td>\n",
       "      <td>3</td>\n",
       "      <td>b</td>\n",
       "    </tr>\n",
       "    <tr>\n",
       "      <th>7</th>\n",
       "      <td>45</td>\n",
       "      <td>59</td>\n",
       "      <td>47.010637</td>\n",
       "      <td>28.600699</td>\n",
       "      <td>19.723083</td>\n",
       "      <td>3</td>\n",
       "      <td>b</td>\n",
       "    </tr>\n",
       "    <tr>\n",
       "      <th>8</th>\n",
       "      <td>45</td>\n",
       "      <td>63</td>\n",
       "      <td>50.695167</td>\n",
       "      <td>31.144823</td>\n",
       "      <td>16.401219</td>\n",
       "      <td>3</td>\n",
       "      <td>b</td>\n",
       "    </tr>\n",
       "    <tr>\n",
       "      <th>9</th>\n",
       "      <td>52</td>\n",
       "      <td>70</td>\n",
       "      <td>59.933296</td>\n",
       "      <td>32.249031</td>\n",
       "      <td>6.708204</td>\n",
       "      <td>3</td>\n",
       "      <td>b</td>\n",
       "    </tr>\n",
       "    <tr>\n",
       "      <th>10</th>\n",
       "      <td>51</td>\n",
       "      <td>66</td>\n",
       "      <td>55.901699</td>\n",
       "      <td>29.410882</td>\n",
       "      <td>10.770330</td>\n",
       "      <td>3</td>\n",
       "      <td>b</td>\n",
       "    </tr>\n",
       "    <tr>\n",
       "      <th>11</th>\n",
       "      <td>52</td>\n",
       "      <td>63</td>\n",
       "      <td>53.712196</td>\n",
       "      <td>26.400758</td>\n",
       "      <td>13.341664</td>\n",
       "      <td>3</td>\n",
       "      <td>b</td>\n",
       "    </tr>\n",
       "    <tr>\n",
       "      <th>12</th>\n",
       "      <td>55</td>\n",
       "      <td>58</td>\n",
       "      <td>51.039201</td>\n",
       "      <td>20.615528</td>\n",
       "      <td>18.000000</td>\n",
       "      <td>3</td>\n",
       "      <td>b</td>\n",
       "    </tr>\n",
       "    <tr>\n",
       "      <th>13</th>\n",
       "      <td>53</td>\n",
       "      <td>23</td>\n",
       "      <td>27.892651</td>\n",
       "      <td>24.207437</td>\n",
       "      <td>53.037722</td>\n",
       "      <td>2</td>\n",
       "      <td>g</td>\n",
       "    </tr>\n",
       "    <tr>\n",
       "      <th>14</th>\n",
       "      <td>55</td>\n",
       "      <td>14</td>\n",
       "      <td>29.068884</td>\n",
       "      <td>30.870698</td>\n",
       "      <td>62.000000</td>\n",
       "      <td>1</td>\n",
       "      <td>r</td>\n",
       "    </tr>\n",
       "    <tr>\n",
       "      <th>15</th>\n",
       "      <td>61</td>\n",
       "      <td>8</td>\n",
       "      <td>35.902646</td>\n",
       "      <td>34.713110</td>\n",
       "      <td>68.264193</td>\n",
       "      <td>2</td>\n",
       "      <td>g</td>\n",
       "    </tr>\n",
       "    <tr>\n",
       "      <th>16</th>\n",
       "      <td>64</td>\n",
       "      <td>19</td>\n",
       "      <td>38.118237</td>\n",
       "      <td>23.345235</td>\n",
       "      <td>57.706152</td>\n",
       "      <td>2</td>\n",
       "      <td>g</td>\n",
       "    </tr>\n",
       "    <tr>\n",
       "      <th>17</th>\n",
       "      <td>69</td>\n",
       "      <td>7</td>\n",
       "      <td>43.931765</td>\n",
       "      <td>35.014283</td>\n",
       "      <td>70.405966</td>\n",
       "      <td>2</td>\n",
       "      <td>g</td>\n",
       "    </tr>\n",
       "    <tr>\n",
       "      <th>18</th>\n",
       "      <td>72</td>\n",
       "      <td>24</td>\n",
       "      <td>46.690470</td>\n",
       "      <td>18.439089</td>\n",
       "      <td>54.708317</td>\n",
       "      <td>2</td>\n",
       "      <td>g</td>\n",
       "    </tr>\n",
       "  </tbody>\n",
       "</table>\n",
       "</div>"
      ],
      "text/plain": [
       "     x   y  distance_from_1  distance_from_2  distance_from_3  closest color\n",
       "0   12  39        26.925824        56.080300        56.727418        1     r\n",
       "1   20  39        23.769729        48.093659        50.931326        1     r\n",
       "2   28  30        14.142136        41.761226        53.338541        1     r\n",
       "3   18  52        36.878178        50.990195        44.102154        1     r\n",
       "4   29  54        38.118237        40.804412        34.058773        3     b\n",
       "5   33  46        30.805844        35.227830        37.202150        1     r\n",
       "6   24  55        39.051248        45.880279        37.443290        3     b\n",
       "7   45  59        47.010637        28.600699        19.723083        3     b\n",
       "8   45  63        50.695167        31.144823        16.401219        3     b\n",
       "9   52  70        59.933296        32.249031         6.708204        3     b\n",
       "10  51  66        55.901699        29.410882        10.770330        3     b\n",
       "11  52  63        53.712196        26.400758        13.341664        3     b\n",
       "12  55  58        51.039201        20.615528        18.000000        3     b\n",
       "13  53  23        27.892651        24.207437        53.037722        2     g\n",
       "14  55  14        29.068884        30.870698        62.000000        1     r\n",
       "15  61   8        35.902646        34.713110        68.264193        2     g\n",
       "16  64  19        38.118237        23.345235        57.706152        2     g\n",
       "17  69   7        43.931765        35.014283        70.405966        2     g\n",
       "18  72  24        46.690470        18.439089        54.708317        2     g"
      ]
     },
     "execution_count": 177,
     "metadata": {},
     "output_type": "execute_result"
    }
   ],
   "source": [
    "# Set 3 - Calculate The distance of centroids with respect to all datapoints and assign the datapoints to closest cluster\n",
    "def assignment(df,centroids):\n",
    "    for i in centroids.keys():\n",
    "        df['distance_from_{}'.format(i)]=(np.sqrt((df['x']-centroids[i][0])**2  + (df['y']-centroids[i][1])**2))\n",
    "    centroid_distance_cols=['distance_from_{}'.format(i) for i in centroids.keys()]\n",
    "    df['closest']=df.loc[:,centroid_distance_cols].idxmin(axis=1)\n",
    "    df['closest']=df['closest'].map(lambda x:int(x.lstrip('distance_from')))\n",
    "    df['color']=df['closest'].map(lambda x:colmap[x])\n",
    "    print(centroid_distance_cols)\n",
    "    print(df)\n",
    "    return df\n",
    "df=assignment(df,centroids)\n",
    "df"
   ]
  },
  {
   "cell_type": "code",
   "execution_count": 178,
   "metadata": {},
   "outputs": [
    {
     "data": {
      "image/png": "[encoded data removed]",
      "text/plain": [
       "<Figure size 360x360 with 1 Axes>"
      ]
     },
     "metadata": {
      "needs_background": "light"
     },
     "output_type": "display_data"
    }
   ],
   "source": [
    "# Display the result in the form of a Graph\n",
    "fig=plt.figure(figsize=(5,5))\n",
    "plt.scatter(df['x'],df['y'],color=df['color'],alpha=0.5,edgecolor='k')\n",
    "for i in centroids.keys():\n",
    "    plt.scatter(*centroids[i],color=colmap[i])\n",
    "plt.xlim(0,80)\n",
    "plt.ylim(0,80)\n",
    "plt.show()"
   ]
  },
  {
   "cell_type": "code",
   "execution_count": 179,
   "metadata": {},
   "outputs": [],
   "source": [
    "# Update the centroid position to make correct position basis the average distance of datpoints from the centroid defined -\n",
    "import copy\n",
    "old_centroids=copy.deepcopy(centroids)\n",
    "\n",
    "def update(k):\n",
    "    for i in centroids.keys():\n",
    "        centroids[i][0]=np.mean(df[df['closest']==i]['x'])\n",
    "        centroids[i][0]=np.mean(df[df['closest']==i]['y'])\n",
    "    return k"
   ]
  },
  {
   "cell_type": "code",
   "execution_count": 180,
   "metadata": {},
   "outputs": [],
   "source": [
    "# Calling update function to update centroids -\n",
    "centroids=update(centroids)"
   ]
  },
  {
   "cell_type": "code",
   "execution_count": 181,
   "metadata": {},
   "outputs": [
    {
     "data": {
      "image/png": "[encoded data removed]",
      "text/plain": [
       "<Figure size 360x360 with 1 Axes>"
      ]
     },
     "metadata": {
      "needs_background": "light"
     },
     "output_type": "display_data"
    }
   ],
   "source": [
    "# plot the new centroid positions\n",
    "fig=plt.figure(figsize=(5,5))\n",
    "plt.scatter(df['x'],df['y'],color=df['color'],alpha=0.5,edgecolor='k')\n",
    "for i in centroids.keys():\n",
    "    plt.scatter(*centroids[i],color=colmap[i])\n",
    "plt.xlim(0,80)\n",
    "plt.ylim(0,80)\n",
    "plt.show()"
   ]
  },
  {
   "cell_type": "code",
   "execution_count": 182,
   "metadata": {},
   "outputs": [
    {
     "name": "stdout",
     "output_type": "stream",
     "text": [
      "['distance_from_1', 'distance_from_2', 'distance_from_3']\n",
      "     x   y  distance_from_1  distance_from_2  distance_from_3  closest color\n",
      "0   12  39        33.726020         5.161395        61.400326        2     g\n",
      "1   20  39        28.403834         4.841487        55.226805        2     g\n",
      "2   28  30        16.465452        16.829736        56.612719        1     r\n",
      "3   18  52        40.551750        10.160709        49.244289        2     g\n",
      "4   29  54        38.765678        17.545370        38.832976        2     g\n",
      "5   33  46        30.223243        17.269627        41.036569        2     g\n",
      "6   24  55        41.005420        15.160475        42.544095        2     g\n",
      "7   45  59        43.800051        33.443086        23.345235        3     b\n",
      "8   45  63        47.733054        35.643232        20.615528        3     b\n",
      "9   52  70        56.134758        45.449312        10.816654        3     b\n",
      "10  51  66        52.013887        42.273396        14.142136        3     b\n",
      "11  52  63        49.437952        41.504699        15.811388        3     b\n",
      "12  55  58        45.826969        41.969513        18.973666        3     b\n",
      "13  53  23        17.770137        41.415456        53.600373        1     r\n",
      "14  55  14        18.442102        47.848093        62.289646        1     r\n",
      "15  61   8        25.614666        56.240910        68.000000        1     r\n",
      "16  64  19        27.497475        53.045641        57.078893        1     r\n",
      "17  69   7        33.562545        63.346981        69.462220        1     r\n",
      "18  72  24        36.227675        58.631391        53.150729        1     r\n"
     ]
    },
    {
     "data": {
      "text/html": [
       "<div>\n",
       "<style scoped>\n",
       "    .dataframe tbody tr th:only-of-type {\n",
       "        vertical-align: middle;\n",
       "    }\n",
       "\n",
       "    .dataframe tbody tr th {\n",
       "        vertical-align: top;\n",
       "    }\n",
       "\n",
       "    .dataframe thead th {\n",
       "        text-align: right;\n",
       "    }\n",
       "</style>\n",
       "<table border=\"1\" class=\"dataframe\">\n",
       "  <thead>\n",
       "    <tr style=\"text-align: right;\">\n",
       "      <th></th>\n",
       "      <th>x</th>\n",
       "      <th>y</th>\n",
       "      <th>distance_from_1</th>\n",
       "      <th>distance_from_2</th>\n",
       "      <th>distance_from_3</th>\n",
       "      <th>closest</th>\n",
       "      <th>color</th>\n",
       "    </tr>\n",
       "  </thead>\n",
       "  <tbody>\n",
       "    <tr>\n",
       "      <th>0</th>\n",
       "      <td>12</td>\n",
       "      <td>39</td>\n",
       "      <td>33.726020</td>\n",
       "      <td>5.161395</td>\n",
       "      <td>61.400326</td>\n",
       "      <td>2</td>\n",
       "      <td>g</td>\n",
       "    </tr>\n",
       "    <tr>\n",
       "      <th>1</th>\n",
       "      <td>20</td>\n",
       "      <td>39</td>\n",
       "      <td>28.403834</td>\n",
       "      <td>4.841487</td>\n",
       "      <td>55.226805</td>\n",
       "      <td>2</td>\n",
       "      <td>g</td>\n",
       "    </tr>\n",
       "    <tr>\n",
       "      <th>2</th>\n",
       "      <td>28</td>\n",
       "      <td>30</td>\n",
       "      <td>16.465452</td>\n",
       "      <td>16.829736</td>\n",
       "      <td>56.612719</td>\n",
       "      <td>1</td>\n",
       "      <td>r</td>\n",
       "    </tr>\n",
       "    <tr>\n",
       "      <th>3</th>\n",
       "      <td>18</td>\n",
       "      <td>52</td>\n",
       "      <td>40.551750</td>\n",
       "      <td>10.160709</td>\n",
       "      <td>49.244289</td>\n",
       "      <td>2</td>\n",
       "      <td>g</td>\n",
       "    </tr>\n",
       "    <tr>\n",
       "      <th>4</th>\n",
       "      <td>29</td>\n",
       "      <td>54</td>\n",
       "      <td>38.765678</td>\n",
       "      <td>17.545370</td>\n",
       "      <td>38.832976</td>\n",
       "      <td>2</td>\n",
       "      <td>g</td>\n",
       "    </tr>\n",
       "    <tr>\n",
       "      <th>5</th>\n",
       "      <td>33</td>\n",
       "      <td>46</td>\n",
       "      <td>30.223243</td>\n",
       "      <td>17.269627</td>\n",
       "      <td>41.036569</td>\n",
       "      <td>2</td>\n",
       "      <td>g</td>\n",
       "    </tr>\n",
       "    <tr>\n",
       "      <th>6</th>\n",
       "      <td>24</td>\n",
       "      <td>55</td>\n",
       "      <td>41.005420</td>\n",
       "      <td>15.160475</td>\n",
       "      <td>42.544095</td>\n",
       "      <td>2</td>\n",
       "      <td>g</td>\n",
       "    </tr>\n",
       "    <tr>\n",
       "      <th>7</th>\n",
       "      <td>45</td>\n",
       "      <td>59</td>\n",
       "      <td>43.800051</td>\n",
       "      <td>33.443086</td>\n",
       "      <td>23.345235</td>\n",
       "      <td>3</td>\n",
       "      <td>b</td>\n",
       "    </tr>\n",
       "    <tr>\n",
       "      <th>8</th>\n",
       "      <td>45</td>\n",
       "      <td>63</td>\n",
       "      <td>47.733054</td>\n",
       "      <td>35.643232</td>\n",
       "      <td>20.615528</td>\n",
       "      <td>3</td>\n",
       "      <td>b</td>\n",
       "    </tr>\n",
       "    <tr>\n",
       "      <th>9</th>\n",
       "      <td>52</td>\n",
       "      <td>70</td>\n",
       "      <td>56.134758</td>\n",
       "      <td>45.449312</td>\n",
       "      <td>10.816654</td>\n",
       "      <td>3</td>\n",
       "      <td>b</td>\n",
       "    </tr>\n",
       "    <tr>\n",
       "      <th>10</th>\n",
       "      <td>51</td>\n",
       "      <td>66</td>\n",
       "      <td>52.013887</td>\n",
       "      <td>42.273396</td>\n",
       "      <td>14.142136</td>\n",
       "      <td>3</td>\n",
       "      <td>b</td>\n",
       "    </tr>\n",
       "    <tr>\n",
       "      <th>11</th>\n",
       "      <td>52</td>\n",
       "      <td>63</td>\n",
       "      <td>49.437952</td>\n",
       "      <td>41.504699</td>\n",
       "      <td>15.811388</td>\n",
       "      <td>3</td>\n",
       "      <td>b</td>\n",
       "    </tr>\n",
       "    <tr>\n",
       "      <th>12</th>\n",
       "      <td>55</td>\n",
       "      <td>58</td>\n",
       "      <td>45.826969</td>\n",
       "      <td>41.969513</td>\n",
       "      <td>18.973666</td>\n",
       "      <td>3</td>\n",
       "      <td>b</td>\n",
       "    </tr>\n",
       "    <tr>\n",
       "      <th>13</th>\n",
       "      <td>53</td>\n",
       "      <td>23</td>\n",
       "      <td>17.770137</td>\n",
       "      <td>41.415456</td>\n",
       "      <td>53.600373</td>\n",
       "      <td>1</td>\n",
       "      <td>r</td>\n",
       "    </tr>\n",
       "    <tr>\n",
       "      <th>14</th>\n",
       "      <td>55</td>\n",
       "      <td>14</td>\n",
       "      <td>18.442102</td>\n",
       "      <td>47.848093</td>\n",
       "      <td>62.289646</td>\n",
       "      <td>1</td>\n",
       "      <td>r</td>\n",
       "    </tr>\n",
       "    <tr>\n",
       "      <th>15</th>\n",
       "      <td>61</td>\n",
       "      <td>8</td>\n",
       "      <td>25.614666</td>\n",
       "      <td>56.240910</td>\n",
       "      <td>68.000000</td>\n",
       "      <td>1</td>\n",
       "      <td>r</td>\n",
       "    </tr>\n",
       "    <tr>\n",
       "      <th>16</th>\n",
       "      <td>64</td>\n",
       "      <td>19</td>\n",
       "      <td>27.497475</td>\n",
       "      <td>53.045641</td>\n",
       "      <td>57.078893</td>\n",
       "      <td>1</td>\n",
       "      <td>r</td>\n",
       "    </tr>\n",
       "    <tr>\n",
       "      <th>17</th>\n",
       "      <td>69</td>\n",
       "      <td>7</td>\n",
       "      <td>33.562545</td>\n",
       "      <td>63.346981</td>\n",
       "      <td>69.462220</td>\n",
       "      <td>1</td>\n",
       "      <td>r</td>\n",
       "    </tr>\n",
       "    <tr>\n",
       "      <th>18</th>\n",
       "      <td>72</td>\n",
       "      <td>24</td>\n",
       "      <td>36.227675</td>\n",
       "      <td>58.631391</td>\n",
       "      <td>53.150729</td>\n",
       "      <td>1</td>\n",
       "      <td>r</td>\n",
       "    </tr>\n",
       "  </tbody>\n",
       "</table>\n",
       "</div>"
      ],
      "text/plain": [
       "     x   y  distance_from_1  distance_from_2  distance_from_3  closest color\n",
       "0   12  39        33.726020         5.161395        61.400326        2     g\n",
       "1   20  39        28.403834         4.841487        55.226805        2     g\n",
       "2   28  30        16.465452        16.829736        56.612719        1     r\n",
       "3   18  52        40.551750        10.160709        49.244289        2     g\n",
       "4   29  54        38.765678        17.545370        38.832976        2     g\n",
       "5   33  46        30.223243        17.269627        41.036569        2     g\n",
       "6   24  55        41.005420        15.160475        42.544095        2     g\n",
       "7   45  59        43.800051        33.443086        23.345235        3     b\n",
       "8   45  63        47.733054        35.643232        20.615528        3     b\n",
       "9   52  70        56.134758        45.449312        10.816654        3     b\n",
       "10  51  66        52.013887        42.273396        14.142136        3     b\n",
       "11  52  63        49.437952        41.504699        15.811388        3     b\n",
       "12  55  58        45.826969        41.969513        18.973666        3     b\n",
       "13  53  23        17.770137        41.415456        53.600373        1     r\n",
       "14  55  14        18.442102        47.848093        62.289646        1     r\n",
       "15  61   8        25.614666        56.240910        68.000000        1     r\n",
       "16  64  19        27.497475        53.045641        57.078893        1     r\n",
       "17  69   7        33.562545        63.346981        69.462220        1     r\n",
       "18  72  24        36.227675        58.631391        53.150729        1     r"
      ]
     },
     "execution_count": 182,
     "metadata": {},
     "output_type": "execute_result"
    }
   ],
   "source": [
    "# Repeat Steps 3 till above step to update the centroids \n",
    "def assignment(df,centroids):\n",
    "    for i in centroids.keys():\n",
    "        df['distance_from_{}'.format(i)]=(np.sqrt((df['x']-centroids[i][0])**2  + (df['y']-centroids[i][1])**2))\n",
    "    centroid_distance_cols=['distance_from_{}'.format(i) for i in centroids.keys()]\n",
    "    df['closest']=df.loc[:,centroid_distance_cols].idxmin(axis=1)\n",
    "    df['closest']=df['closest'].map(lambda x:int(x.lstrip('distance_from')))\n",
    "    df['color']=df['closest'].map(lambda x:colmap[x])\n",
    "    print(centroid_distance_cols)\n",
    "    print(df)\n",
    "    return df\n",
    "df=assignment(df,centroids)\n",
    "df"
   ]
  },
  {
   "cell_type": "code",
   "execution_count": 183,
   "metadata": {
    "scrolled": true
   },
   "outputs": [
    {
     "data": {
      "image/png": "[encoded data removed]",
      "text/plain": [
       "<Figure size 360x360 with 1 Axes>"
      ]
     },
     "metadata": {
      "needs_background": "light"
     },
     "output_type": "display_data"
    }
   ],
   "source": [
    "fig=plt.figure(figsize=(5,5))\n",
    "plt.scatter(df['x'],df['y'],color=df['color'],alpha=0.5,edgecolor='k')\n",
    "for i in centroids.keys():\n",
    "    plt.scatter(*centroids[i],color=colmap[i])\n",
    "plt.xlim(0,80)\n",
    "plt.ylim(0,80)\n",
    "plt.show()"
   ]
  },
  {
   "cell_type": "code",
   "execution_count": 184,
   "metadata": {},
   "outputs": [],
   "source": [
    "import copy\n",
    "old_centroids=copy.deepcopy(centroids)\n",
    "\n",
    "def update(k):\n",
    "    for i in centroids.keys():\n",
    "        centroids[i][0]=np.mean(df[df['closest']==i]['x'])\n",
    "        centroids[i][0]=np.mean(df[df['closest']==i]['y'])\n",
    "    return k"
   ]
  },
  {
   "cell_type": "code",
   "execution_count": 185,
   "metadata": {},
   "outputs": [],
   "source": [
    "centroids=update(centroids)"
   ]
  },
  {
   "cell_type": "code",
   "execution_count": 186,
   "metadata": {},
   "outputs": [
    {
     "data": {
      "image/png": "[encoded data removed]",
      "text/plain": [
       "<Figure size 360x360 with 1 Axes>"
      ]
     },
     "metadata": {
      "needs_background": "light"
     },
     "output_type": "display_data"
    }
   ],
   "source": [
    "fig=plt.figure(figsize=(5,5))\n",
    "plt.scatter(df['x'],df['y'],color=df['color'],alpha=0.5,edgecolor='k')\n",
    "for i in centroids.keys():\n",
    "    plt.scatter(*centroids[i],color=colmap[i])\n",
    "plt.xlim(0,80)\n",
    "plt.ylim(0,80)\n",
    "plt.show()"
   ]
  },
  {
   "cell_type": "code",
   "execution_count": null,
   "metadata": {},
   "outputs": [],
   "source": []
  },
  {
   "cell_type": "markdown",
   "metadata": {},
   "source": [
    "while True:\n",
    "    closest_centroids=df['closest'].copy(deep=True)\n",
    "    centroids=update(centroids)\n",
    "    df=assignment(df,centroids)\n",
    "    if closest_centroids.equals(df['closest']):\n",
    "        break\n",
    "fig=plt.figure(figsize=(5,5))\n",
    "plt.scatter(df['x'],df['y'],color=df['color'],alpha=0.5,edgecolor='k')\n",
    "for i in centroids.keys():\n",
    "    plt.scatter(*centroids[i],color=colmap[i])\n",
    "plt.xlim(0.80)\n",
    "plt.ylim(0,80)\n",
    "plt.show()"
   ]
  },
  {
   "cell_type": "code",
   "execution_count": 187,
   "metadata": {},
   "outputs": [
    {
     "name": "stdout",
     "output_type": "stream",
     "text": [
      "['distance_from_1', 'distance_from_2', 'distance_from_3']\n",
      "     x   y  distance_from_1  distance_from_2  distance_from_3  closest color\n",
      "0   12  39        23.734071        35.626535        63.142915        1     r\n",
      "1   20  39        23.099607        27.663152        56.853857        1     r\n",
      "2   28  30        17.288075        22.896506        57.902456        1     r\n",
      "3   18  52        36.000283        31.148836        51.147119        2     g\n",
      "4   29  54        39.600041        22.051077        40.636943        2     g\n",
      "5   33  46        33.605150        15.041609        42.544421        2     g\n",
      "6   24  55        39.480814        26.856098        44.441285        2     g\n",
      "7   45  59        50.850120        17.182840        24.880269        2     g\n",
      "8   45  63        54.274623        21.148286        22.338930        2     g\n",
      "9   52  70        63.888455        28.359302        12.676531        3     b\n",
      "10  51  66        59.987073        24.253866        15.748898        3     b\n",
      "11  52  63        58.092467        21.476732        17.137516        3     b\n",
      "12  55  58        56.067743        17.670597        19.765992        2     g\n",
      "13  53  23        35.833231        19.780040        53.966296        2     g\n",
      "14  55  14        37.196664        28.987066        62.535545        2     g\n",
      "15  61   8        43.878310        36.582099        68.034509        2     g\n",
      "16  64  19        46.240278        28.306360        57.006091        2     g\n",
      "17  69   7        51.928719        41.076149        69.246139        2     g\n",
      "18  72  24        54.730695        30.401480        52.744931        2     g\n"
     ]
    },
    {
     "data": {
      "text/html": [
       "<div>\n",
       "<style scoped>\n",
       "    .dataframe tbody tr th:only-of-type {\n",
       "        vertical-align: middle;\n",
       "    }\n",
       "\n",
       "    .dataframe tbody tr th {\n",
       "        vertical-align: top;\n",
       "    }\n",
       "\n",
       "    .dataframe thead th {\n",
       "        text-align: right;\n",
       "    }\n",
       "</style>\n",
       "<table border=\"1\" class=\"dataframe\">\n",
       "  <thead>\n",
       "    <tr style=\"text-align: right;\">\n",
       "      <th></th>\n",
       "      <th>x</th>\n",
       "      <th>y</th>\n",
       "      <th>distance_from_1</th>\n",
       "      <th>distance_from_2</th>\n",
       "      <th>distance_from_3</th>\n",
       "      <th>closest</th>\n",
       "      <th>color</th>\n",
       "    </tr>\n",
       "  </thead>\n",
       "  <tbody>\n",
       "    <tr>\n",
       "      <th>0</th>\n",
       "      <td>12</td>\n",
       "      <td>39</td>\n",
       "      <td>23.734071</td>\n",
       "      <td>35.626535</td>\n",
       "      <td>63.142915</td>\n",
       "      <td>1</td>\n",
       "      <td>r</td>\n",
       "    </tr>\n",
       "    <tr>\n",
       "      <th>1</th>\n",
       "      <td>20</td>\n",
       "      <td>39</td>\n",
       "      <td>23.099607</td>\n",
       "      <td>27.663152</td>\n",
       "      <td>56.853857</td>\n",
       "      <td>1</td>\n",
       "      <td>r</td>\n",
       "    </tr>\n",
       "    <tr>\n",
       "      <th>2</th>\n",
       "      <td>28</td>\n",
       "      <td>30</td>\n",
       "      <td>17.288075</td>\n",
       "      <td>22.896506</td>\n",
       "      <td>57.902456</td>\n",
       "      <td>1</td>\n",
       "      <td>r</td>\n",
       "    </tr>\n",
       "    <tr>\n",
       "      <th>3</th>\n",
       "      <td>18</td>\n",
       "      <td>52</td>\n",
       "      <td>36.000283</td>\n",
       "      <td>31.148836</td>\n",
       "      <td>51.147119</td>\n",
       "      <td>2</td>\n",
       "      <td>g</td>\n",
       "    </tr>\n",
       "    <tr>\n",
       "      <th>4</th>\n",
       "      <td>29</td>\n",
       "      <td>54</td>\n",
       "      <td>39.600041</td>\n",
       "      <td>22.051077</td>\n",
       "      <td>40.636943</td>\n",
       "      <td>2</td>\n",
       "      <td>g</td>\n",
       "    </tr>\n",
       "    <tr>\n",
       "      <th>5</th>\n",
       "      <td>33</td>\n",
       "      <td>46</td>\n",
       "      <td>33.605150</td>\n",
       "      <td>15.041609</td>\n",
       "      <td>42.544421</td>\n",
       "      <td>2</td>\n",
       "      <td>g</td>\n",
       "    </tr>\n",
       "    <tr>\n",
       "      <th>6</th>\n",
       "      <td>24</td>\n",
       "      <td>55</td>\n",
       "      <td>39.480814</td>\n",
       "      <td>26.856098</td>\n",
       "      <td>44.441285</td>\n",
       "      <td>2</td>\n",
       "      <td>g</td>\n",
       "    </tr>\n",
       "    <tr>\n",
       "      <th>7</th>\n",
       "      <td>45</td>\n",
       "      <td>59</td>\n",
       "      <td>50.850120</td>\n",
       "      <td>17.182840</td>\n",
       "      <td>24.880269</td>\n",
       "      <td>2</td>\n",
       "      <td>g</td>\n",
       "    </tr>\n",
       "    <tr>\n",
       "      <th>8</th>\n",
       "      <td>45</td>\n",
       "      <td>63</td>\n",
       "      <td>54.274623</td>\n",
       "      <td>21.148286</td>\n",
       "      <td>22.338930</td>\n",
       "      <td>2</td>\n",
       "      <td>g</td>\n",
       "    </tr>\n",
       "    <tr>\n",
       "      <th>9</th>\n",
       "      <td>52</td>\n",
       "      <td>70</td>\n",
       "      <td>63.888455</td>\n",
       "      <td>28.359302</td>\n",
       "      <td>12.676531</td>\n",
       "      <td>3</td>\n",
       "      <td>b</td>\n",
       "    </tr>\n",
       "    <tr>\n",
       "      <th>10</th>\n",
       "      <td>51</td>\n",
       "      <td>66</td>\n",
       "      <td>59.987073</td>\n",
       "      <td>24.253866</td>\n",
       "      <td>15.748898</td>\n",
       "      <td>3</td>\n",
       "      <td>b</td>\n",
       "    </tr>\n",
       "    <tr>\n",
       "      <th>11</th>\n",
       "      <td>52</td>\n",
       "      <td>63</td>\n",
       "      <td>58.092467</td>\n",
       "      <td>21.476732</td>\n",
       "      <td>17.137516</td>\n",
       "      <td>3</td>\n",
       "      <td>b</td>\n",
       "    </tr>\n",
       "    <tr>\n",
       "      <th>12</th>\n",
       "      <td>55</td>\n",
       "      <td>58</td>\n",
       "      <td>56.067743</td>\n",
       "      <td>17.670597</td>\n",
       "      <td>19.765992</td>\n",
       "      <td>2</td>\n",
       "      <td>g</td>\n",
       "    </tr>\n",
       "    <tr>\n",
       "      <th>13</th>\n",
       "      <td>53</td>\n",
       "      <td>23</td>\n",
       "      <td>35.833231</td>\n",
       "      <td>19.780040</td>\n",
       "      <td>53.966296</td>\n",
       "      <td>2</td>\n",
       "      <td>g</td>\n",
       "    </tr>\n",
       "    <tr>\n",
       "      <th>14</th>\n",
       "      <td>55</td>\n",
       "      <td>14</td>\n",
       "      <td>37.196664</td>\n",
       "      <td>28.987066</td>\n",
       "      <td>62.535545</td>\n",
       "      <td>2</td>\n",
       "      <td>g</td>\n",
       "    </tr>\n",
       "    <tr>\n",
       "      <th>15</th>\n",
       "      <td>61</td>\n",
       "      <td>8</td>\n",
       "      <td>43.878310</td>\n",
       "      <td>36.582099</td>\n",
       "      <td>68.034509</td>\n",
       "      <td>2</td>\n",
       "      <td>g</td>\n",
       "    </tr>\n",
       "    <tr>\n",
       "      <th>16</th>\n",
       "      <td>64</td>\n",
       "      <td>19</td>\n",
       "      <td>46.240278</td>\n",
       "      <td>28.306360</td>\n",
       "      <td>57.006091</td>\n",
       "      <td>2</td>\n",
       "      <td>g</td>\n",
       "    </tr>\n",
       "    <tr>\n",
       "      <th>17</th>\n",
       "      <td>69</td>\n",
       "      <td>7</td>\n",
       "      <td>51.928719</td>\n",
       "      <td>41.076149</td>\n",
       "      <td>69.246139</td>\n",
       "      <td>2</td>\n",
       "      <td>g</td>\n",
       "    </tr>\n",
       "    <tr>\n",
       "      <th>18</th>\n",
       "      <td>72</td>\n",
       "      <td>24</td>\n",
       "      <td>54.730695</td>\n",
       "      <td>30.401480</td>\n",
       "      <td>52.744931</td>\n",
       "      <td>2</td>\n",
       "      <td>g</td>\n",
       "    </tr>\n",
       "  </tbody>\n",
       "</table>\n",
       "</div>"
      ],
      "text/plain": [
       "     x   y  distance_from_1  distance_from_2  distance_from_3  closest color\n",
       "0   12  39        23.734071        35.626535        63.142915        1     r\n",
       "1   20  39        23.099607        27.663152        56.853857        1     r\n",
       "2   28  30        17.288075        22.896506        57.902456        1     r\n",
       "3   18  52        36.000283        31.148836        51.147119        2     g\n",
       "4   29  54        39.600041        22.051077        40.636943        2     g\n",
       "5   33  46        33.605150        15.041609        42.544421        2     g\n",
       "6   24  55        39.480814        26.856098        44.441285        2     g\n",
       "7   45  59        50.850120        17.182840        24.880269        2     g\n",
       "8   45  63        54.274623        21.148286        22.338930        2     g\n",
       "9   52  70        63.888455        28.359302        12.676531        3     b\n",
       "10  51  66        59.987073        24.253866        15.748898        3     b\n",
       "11  52  63        58.092467        21.476732        17.137516        3     b\n",
       "12  55  58        56.067743        17.670597        19.765992        2     g\n",
       "13  53  23        35.833231        19.780040        53.966296        2     g\n",
       "14  55  14        37.196664        28.987066        62.535545        2     g\n",
       "15  61   8        43.878310        36.582099        68.034509        2     g\n",
       "16  64  19        46.240278        28.306360        57.006091        2     g\n",
       "17  69   7        51.928719        41.076149        69.246139        2     g\n",
       "18  72  24        54.730695        30.401480        52.744931        2     g"
      ]
     },
     "execution_count": 187,
     "metadata": {},
     "output_type": "execute_result"
    }
   ],
   "source": [
    "def assignment(df,centroids):\n",
    "    for i in centroids.keys():\n",
    "        df['distance_from_{}'.format(i)]=(np.sqrt((df['x']-centroids[i][0])**2  + (df['y']-centroids[i][1])**2))\n",
    "    centroid_distance_cols=['distance_from_{}'.format(i) for i in centroids.keys()]\n",
    "    df['closest']=df.loc[:,centroid_distance_cols].idxmin(axis=1)\n",
    "    df['closest']=df['closest'].map(lambda x:int(x.lstrip('distance_from')))\n",
    "    df['color']=df['closest'].map(lambda x:colmap[x])\n",
    "    print(centroid_distance_cols)\n",
    "    print(df)\n",
    "    return df\n",
    "df=assignment(df,centroids)\n",
    "df"
   ]
  },
  {
   "cell_type": "code",
   "execution_count": 188,
   "metadata": {},
   "outputs": [],
   "source": [
    "import copy\n",
    "old_centroids=copy.deepcopy(centroids)\n",
    "\n",
    "def update(k):\n",
    "    for i in centroids.keys():\n",
    "        centroids[i][0]=np.mean(df[df['closest']==i]['x'])\n",
    "        centroids[i][0]=np.mean(df[df['closest']==i]['y'])\n",
    "    return k"
   ]
  },
  {
   "cell_type": "code",
   "execution_count": 189,
   "metadata": {},
   "outputs": [],
   "source": [
    "centroids=update(centroids)"
   ]
  },
  {
   "cell_type": "code",
   "execution_count": 190,
   "metadata": {},
   "outputs": [
    {
     "data": {
      "image/png": "[encoded data removed]",
      "text/plain": [
       "<Figure size 360x360 with 1 Axes>"
      ]
     },
     "metadata": {
      "needs_background": "light"
     },
     "output_type": "display_data"
    }
   ],
   "source": [
    "fig=plt.figure(figsize=(5,5))\n",
    "plt.scatter(df['x'],df['y'],color=df['color'],alpha=0.5,edgecolor='k')\n",
    "for i in centroids.keys():\n",
    "    plt.scatter(*centroids[i],color=colmap[i])\n",
    "plt.xlim(0,80)\n",
    "plt.ylim(0,80)\n",
    "plt.show()"
   ]
  },
  {
   "cell_type": "code",
   "execution_count": 191,
   "metadata": {},
   "outputs": [
    {
     "name": "stdout",
     "output_type": "stream",
     "text": [
      "['distance_from_1', 'distance_from_2', 'distance_from_3']\n",
      "     x   y  distance_from_1  distance_from_2  distance_from_3  closest color\n",
      "0   12  39        33.241540        25.255733        65.735159        2     g\n",
      "1   20  39        28.017851        17.338434        59.293994        2     g\n",
      "2   28  30        16.124515        15.046280        59.878581        2     g\n",
      "3   18  52        40.249224        21.539011        53.963980        2     g\n",
      "4   29  54        38.639358        14.465016        43.333333        2     g\n",
      "5   33  46        30.149627         5.711506        44.845413        2     g\n",
      "6   24  55        40.804412        18.439249        47.255805        2     g\n",
      "7   45  59        43.931765        18.755670        27.278400        2     g\n",
      "8   45  63        47.853944        22.444936        24.982216        2     g\n",
      "9   52  70        56.320511        31.728508        15.538483        3     b\n",
      "10  51  66        52.201533        27.746208        18.306040        3     b\n",
      "11  52  63        49.648766        25.762341        19.350567        3     b\n",
      "12  55  58        46.097722        24.025750        21.270742        3     b\n",
      "13  53  23        18.384776        24.790006        54.651421        1     r\n",
      "14  55  14        19.104973        33.245100        63.027331        1     r\n",
      "15  61   8        26.248809        41.572991        68.208830        1     r\n",
      "16  64  19        28.160256        35.409774        57.047738        1     r\n",
      "17  69   7        34.205263        47.371752        69.051511        1     r\n",
      "18  72  24        36.878178        39.288946        52.307849        1     r\n"
     ]
    },
    {
     "data": {
      "image/png": "[encoded data removed]",
      "text/plain": [
       "<Figure size 360x360 with 1 Axes>"
      ]
     },
     "metadata": {
      "needs_background": "light"
     },
     "output_type": "display_data"
    }
   ],
   "source": [
    "def assignment(df,centroids):\n",
    "    for i in centroids.keys():\n",
    "        df['distance_from_{}'.format(i)]=(np.sqrt((df['x']-centroids[i][0])**2  + (df['y']-centroids[i][1])**2))\n",
    "    centroid_distance_cols=['distance_from_{}'.format(i) for i in centroids.keys()]\n",
    "    df['closest']=df.loc[:,centroid_distance_cols].idxmin(axis=1)\n",
    "    df['closest']=df['closest'].map(lambda x:int(x.lstrip('distance_from')))\n",
    "    df['color']=df['closest'].map(lambda x:colmap[x])\n",
    "    print(centroid_distance_cols)\n",
    "    print(df)\n",
    "    return df\n",
    "df=assignment(df,centroids)\n",
    "df\n",
    "\n",
    "import copy\n",
    "old_centroids=copy.deepcopy(centroids)\n",
    "\n",
    "def update(k):\n",
    "    for i in centroids.keys():\n",
    "        centroids[i][0]=np.mean(df[df['closest']==i]['x'])\n",
    "        centroids[i][0]=np.mean(df[df['closest']==i]['y'])\n",
    "    return k\n",
    "\n",
    "centroids=update(centroids)\n",
    "\n",
    "fig=plt.figure(figsize=(5,5))\n",
    "plt.scatter(df['x'],df['y'],color=df['color'],alpha=0.5,edgecolor='k')\n",
    "for i in centroids.keys():\n",
    "    plt.scatter(*centroids[i],color=colmap[i])\n",
    "plt.xlim(0,80)\n",
    "plt.ylim(0,80)\n",
    "plt.show()"
   ]
  },
  {
   "cell_type": "code",
   "execution_count": 192,
   "metadata": {},
   "outputs": [
    {
     "name": "stdout",
     "output_type": "stream",
     "text": [
      "['distance_from_1', 'distance_from_2', 'distance_from_3']\n",
      "     x   y  distance_from_1  distance_from_2  distance_from_3  closest color\n",
      "0   12  39        23.317256        36.678449        64.023921        1     r\n",
      "1   20  39        23.374369        28.712711        57.680694        1     r\n",
      "2   28  30        18.547986        23.801909        58.566735        1     r\n",
      "3   18  52        36.065142        32.150303        52.106262        2     g\n",
      "4   29  54        40.216428        22.943839        41.551925        2     g\n",
      "5   33  46        34.564352        16.061610        43.319309        2     g\n",
      "6   24  55        39.845884        27.784444        45.398926        2     g\n",
      "7   45  59        51.958584        17.367843        25.681949        2     g\n",
      "8   45  63        55.314505        21.298873        23.228485        2     g\n",
      "9   52  70        64.992521        28.211065        13.640473        3     b\n",
      "10  51  66        61.128508        24.124164        16.600075        3     b\n",
      "11  52  63        59.304534        21.280606        17.862321        3     b\n",
      "12  55  58        57.428458        17.249083        20.237651        2     g\n",
      "13  53  23        37.820115        19.512895        54.180831        2     g\n",
      "14  55  14        39.217697        28.732053        62.686223        2     g\n",
      "15  61   8        45.869683        36.205859        68.077621        2     g\n",
      "16  64  19        48.260002        27.704347        57.000548        2     g\n",
      "17  69   7        53.923042        40.533632        69.163303        2     g\n",
      "18  72  24        56.733539        29.557435        52.574352        2     g\n"
     ]
    },
    {
     "data": {
      "image/png": "[encoded data removed]",
      "text/plain": [
       "<Figure size 360x360 with 1 Axes>"
      ]
     },
     "metadata": {
      "needs_background": "light"
     },
     "output_type": "display_data"
    }
   ],
   "source": [
    "def assignment(df,centroids):\n",
    "    for i in centroids.keys():\n",
    "        df['distance_from_{}'.format(i)]=(np.sqrt((df['x']-centroids[i][0])**2  + (df['y']-centroids[i][1])**2))\n",
    "    centroid_distance_cols=['distance_from_{}'.format(i) for i in centroids.keys()]\n",
    "    df['closest']=df.loc[:,centroid_distance_cols].idxmin(axis=1)\n",
    "    df['closest']=df['closest'].map(lambda x:int(x.lstrip('distance_from')))\n",
    "    df['color']=df['closest'].map(lambda x:colmap[x])\n",
    "    print(centroid_distance_cols)\n",
    "    print(df)\n",
    "    return df\n",
    "df=assignment(df,centroids)\n",
    "df\n",
    "\n",
    "import copy\n",
    "old_centroids=copy.deepcopy(centroids)\n",
    "\n",
    "def update(k):\n",
    "    for i in centroids.keys():\n",
    "        centroids[i][0]=np.mean(df[df['closest']==i]['x'])\n",
    "        centroids[i][0]=np.mean(df[df['closest']==i]['y'])\n",
    "    return k\n",
    "\n",
    "centroids=update(centroids)\n",
    "\n",
    "fig=plt.figure(figsize=(5,5))\n",
    "plt.scatter(df['x'],df['y'],color=df['color'],alpha=0.5,edgecolor='k')\n",
    "for i in centroids.keys():\n",
    "    plt.scatter(*centroids[i],color=colmap[i])\n",
    "plt.xlim(0,80)\n",
    "plt.ylim(0,80)\n",
    "plt.show()"
   ]
  },
  {
   "cell_type": "code",
   "execution_count": 193,
   "metadata": {},
   "outputs": [
    {
     "name": "stdout",
     "output_type": "stream",
     "text": [
      "['distance_from_1', 'distance_from_2', 'distance_from_3']\n",
      "     x   y  distance_from_1  distance_from_2  distance_from_3  closest color\n",
      "0   12  39        33.241540        25.255733        65.735159        2     g\n",
      "1   20  39        28.017851        17.338434        59.293994        2     g\n",
      "2   28  30        16.124515        15.046280        59.878581        2     g\n",
      "3   18  52        40.249224        21.539011        53.963980        2     g\n",
      "4   29  54        38.639358        14.465016        43.333333        2     g\n",
      "5   33  46        30.149627         5.711506        44.845413        2     g\n",
      "6   24  55        40.804412        18.439249        47.255805        2     g\n",
      "7   45  59        43.931765        18.755670        27.278400        2     g\n",
      "8   45  63        47.853944        22.444936        24.982216        2     g\n",
      "9   52  70        56.320511        31.728508        15.538483        3     b\n",
      "10  51  66        52.201533        27.746208        18.306040        3     b\n",
      "11  52  63        49.648766        25.762341        19.350567        3     b\n",
      "12  55  58        46.097722        24.025750        21.270742        3     b\n",
      "13  53  23        18.384776        24.790006        54.651421        1     r\n",
      "14  55  14        19.104973        33.245100        63.027331        1     r\n",
      "15  61   8        26.248809        41.572991        68.208830        1     r\n",
      "16  64  19        28.160256        35.409774        57.047738        1     r\n",
      "17  69   7        34.205263        47.371752        69.051511        1     r\n",
      "18  72  24        36.878178        39.288946        52.307849        1     r\n"
     ]
    },
    {
     "data": {
      "image/png": "[encoded data removed]",
      "text/plain": [
       "<Figure size 360x360 with 1 Axes>"
      ]
     },
     "metadata": {
      "needs_background": "light"
     },
     "output_type": "display_data"
    }
   ],
   "source": [
    "def assignment(df,centroids):\n",
    "    for i in centroids.keys():\n",
    "        df['distance_from_{}'.format(i)]=(np.sqrt((df['x']-centroids[i][0])**2  + (df['y']-centroids[i][1])**2))\n",
    "    centroid_distance_cols=['distance_from_{}'.format(i) for i in centroids.keys()]\n",
    "    df['closest']=df.loc[:,centroid_distance_cols].idxmin(axis=1)\n",
    "    df['closest']=df['closest'].map(lambda x:int(x.lstrip('distance_from')))\n",
    "    df['color']=df['closest'].map(lambda x:colmap[x])\n",
    "    print(centroid_distance_cols)\n",
    "    print(df)\n",
    "    return df\n",
    "df=assignment(df,centroids)\n",
    "df\n",
    "\n",
    "import copy\n",
    "old_centroids=copy.deepcopy(centroids)\n",
    "\n",
    "def update(k):\n",
    "    for i in centroids.keys():\n",
    "        centroids[i][0]=np.mean(df[df['closest']==i]['x'])\n",
    "        centroids[i][0]=np.mean(df[df['closest']==i]['y'])\n",
    "    return k\n",
    "\n",
    "centroids=update(centroids)\n",
    "\n",
    "fig=plt.figure(figsize=(5,5))\n",
    "plt.scatter(df['x'],df['y'],color=df['color'],alpha=0.5,edgecolor='k')\n",
    "for i in centroids.keys():\n",
    "    plt.scatter(*centroids[i],color=colmap[i])\n",
    "plt.xlim(0,80)\n",
    "plt.ylim(0,80)\n",
    "plt.show()"
   ]
  },
  {
   "cell_type": "code",
   "execution_count": 194,
   "metadata": {},
   "outputs": [
    {
     "name": "stdout",
     "output_type": "stream",
     "text": [
      "['distance_from_1', 'distance_from_2', 'distance_from_3']\n",
      "     x   y  distance_from_1  distance_from_2  distance_from_3  closest color\n",
      "0   12  39        23.317256        36.678449        64.023921        1     r\n",
      "1   20  39        23.374369        28.712711        57.680694        1     r\n",
      "2   28  30        18.547986        23.801909        58.566735        1     r\n",
      "3   18  52        36.065142        32.150303        52.106262        2     g\n",
      "4   29  54        40.216428        22.943839        41.551925        2     g\n",
      "5   33  46        34.564352        16.061610        43.319309        2     g\n",
      "6   24  55        39.845884        27.784444        45.398926        2     g\n",
      "7   45  59        51.958584        17.367843        25.681949        2     g\n",
      "8   45  63        55.314505        21.298873        23.228485        2     g\n",
      "9   52  70        64.992521        28.211065        13.640473        3     b\n",
      "10  51  66        61.128508        24.124164        16.600075        3     b\n",
      "11  52  63        59.304534        21.280606        17.862321        3     b\n",
      "12  55  58        57.428458        17.249083        20.237651        2     g\n",
      "13  53  23        37.820115        19.512895        54.180831        2     g\n",
      "14  55  14        39.217697        28.732053        62.686223        2     g\n",
      "15  61   8        45.869683        36.205859        68.077621        2     g\n",
      "16  64  19        48.260002        27.704347        57.000548        2     g\n",
      "17  69   7        53.923042        40.533632        69.163303        2     g\n",
      "18  72  24        56.733539        29.557435        52.574352        2     g\n"
     ]
    },
    {
     "data": {
      "image/png": "[encoded data removed]",
      "text/plain": [
       "<Figure size 360x360 with 1 Axes>"
      ]
     },
     "metadata": {
      "needs_background": "light"
     },
     "output_type": "display_data"
    }
   ],
   "source": [
    "def assignment(df,centroids):\n",
    "    for i in centroids.keys():\n",
    "        df['distance_from_{}'.format(i)]=(np.sqrt((df['x']-centroids[i][0])**2  + (df['y']-centroids[i][1])**2))\n",
    "    centroid_distance_cols=['distance_from_{}'.format(i) for i in centroids.keys()]\n",
    "    df['closest']=df.loc[:,centroid_distance_cols].idxmin(axis=1)\n",
    "    df['closest']=df['closest'].map(lambda x:int(x.lstrip('distance_from')))\n",
    "    df['color']=df['closest'].map(lambda x:colmap[x])\n",
    "    print(centroid_distance_cols)\n",
    "    print(df)\n",
    "    return df\n",
    "df=assignment(df,centroids)\n",
    "df\n",
    "\n",
    "import copy\n",
    "old_centroids=copy.deepcopy(centroids)\n",
    "\n",
    "def update(k):\n",
    "    for i in centroids.keys():\n",
    "        centroids[i][0]=np.mean(df[df['closest']==i]['x'])\n",
    "        centroids[i][0]=np.mean(df[df['closest']==i]['y'])\n",
    "    return k\n",
    "\n",
    "centroids=update(centroids)\n",
    "\n",
    "fig=plt.figure(figsize=(5,5))\n",
    "plt.scatter(df['x'],df['y'],color=df['color'],alpha=0.5,edgecolor='k')\n",
    "for i in centroids.keys():\n",
    "    plt.scatter(*centroids[i],color=colmap[i])\n",
    "plt.xlim(0,80)\n",
    "plt.ylim(0,80)\n",
    "plt.show()"
   ]
  },
  {
   "cell_type": "code",
   "execution_count": 195,
   "metadata": {},
   "outputs": [
    {
     "name": "stdout",
     "output_type": "stream",
     "text": [
      "['distance_from_1', 'distance_from_2', 'distance_from_3']\n",
      "     x   y  distance_from_1  distance_from_2  distance_from_3  closest color\n",
      "0   12  39        33.241540        25.255733        65.735159        2     g\n",
      "1   20  39        28.017851        17.338434        59.293994        2     g\n",
      "2   28  30        16.124515        15.046280        59.878581        2     g\n",
      "3   18  52        40.249224        21.539011        53.963980        2     g\n",
      "4   29  54        38.639358        14.465016        43.333333        2     g\n",
      "5   33  46        30.149627         5.711506        44.845413        2     g\n",
      "6   24  55        40.804412        18.439249        47.255805        2     g\n",
      "7   45  59        43.931765        18.755670        27.278400        2     g\n",
      "8   45  63        47.853944        22.444936        24.982216        2     g\n",
      "9   52  70        56.320511        31.728508        15.538483        3     b\n",
      "10  51  66        52.201533        27.746208        18.306040        3     b\n",
      "11  52  63        49.648766        25.762341        19.350567        3     b\n",
      "12  55  58        46.097722        24.025750        21.270742        3     b\n",
      "13  53  23        18.384776        24.790006        54.651421        1     r\n",
      "14  55  14        19.104973        33.245100        63.027331        1     r\n",
      "15  61   8        26.248809        41.572991        68.208830        1     r\n",
      "16  64  19        28.160256        35.409774        57.047738        1     r\n",
      "17  69   7        34.205263        47.371752        69.051511        1     r\n",
      "18  72  24        36.878178        39.288946        52.307849        1     r\n"
     ]
    },
    {
     "data": {
      "image/png": "[encoded data removed]",
      "text/plain": [
       "<Figure size 360x360 with 1 Axes>"
      ]
     },
     "metadata": {
      "needs_background": "light"
     },
     "output_type": "display_data"
    }
   ],
   "source": [
    "def assignment(df,centroids):\n",
    "    for i in centroids.keys():\n",
    "        df['distance_from_{}'.format(i)]=(np.sqrt((df['x']-centroids[i][0])**2  + (df['y']-centroids[i][1])**2))\n",
    "    centroid_distance_cols=['distance_from_{}'.format(i) for i in centroids.keys()]\n",
    "    df['closest']=df.loc[:,centroid_distance_cols].idxmin(axis=1)\n",
    "    df['closest']=df['closest'].map(lambda x:int(x.lstrip('distance_from')))\n",
    "    df['color']=df['closest'].map(lambda x:colmap[x])\n",
    "    print(centroid_distance_cols)\n",
    "    print(df)\n",
    "    return df\n",
    "df=assignment(df,centroids)\n",
    "df\n",
    "\n",
    "import copy\n",
    "old_centroids=copy.deepcopy(centroids)\n",
    "\n",
    "def update(k):\n",
    "    for i in centroids.keys():\n",
    "        centroids[i][0]=np.mean(df[df['closest']==i]['x'])\n",
    "        centroids[i][0]=np.mean(df[df['closest']==i]['y'])\n",
    "    return k\n",
    "\n",
    "centroids=update(centroids)\n",
    "\n",
    "fig=plt.figure(figsize=(5,5))\n",
    "plt.scatter(df['x'],df['y'],color=df['color'],alpha=0.5,edgecolor='k')\n",
    "for i in centroids.keys():\n",
    "    plt.scatter(*centroids[i],color=colmap[i])\n",
    "plt.xlim(0,80)\n",
    "plt.ylim(0,80)\n",
    "plt.show()"
   ]
  },
  {
   "cell_type": "code",
   "execution_count": 196,
   "metadata": {},
   "outputs": [
    {
     "name": "stdout",
     "output_type": "stream",
     "text": [
      "['distance_from_1', 'distance_from_2', 'distance_from_3']\n",
      "     x   y  distance_from_1  distance_from_2  distance_from_3  closest color\n",
      "0   12  39        23.317256        36.678449        64.023921        1     r\n",
      "1   20  39        23.374369        28.712711        57.680694        1     r\n",
      "2   28  30        18.547986        23.801909        58.566735        1     r\n",
      "3   18  52        36.065142        32.150303        52.106262        2     g\n",
      "4   29  54        40.216428        22.943839        41.551925        2     g\n",
      "5   33  46        34.564352        16.061610        43.319309        2     g\n",
      "6   24  55        39.845884        27.784444        45.398926        2     g\n",
      "7   45  59        51.958584        17.367843        25.681949        2     g\n",
      "8   45  63        55.314505        21.298873        23.228485        2     g\n",
      "9   52  70        64.992521        28.211065        13.640473        3     b\n",
      "10  51  66        61.128508        24.124164        16.600075        3     b\n",
      "11  52  63        59.304534        21.280606        17.862321        3     b\n",
      "12  55  58        57.428458        17.249083        20.237651        2     g\n",
      "13  53  23        37.820115        19.512895        54.180831        2     g\n",
      "14  55  14        39.217697        28.732053        62.686223        2     g\n",
      "15  61   8        45.869683        36.205859        68.077621        2     g\n",
      "16  64  19        48.260002        27.704347        57.000548        2     g\n",
      "17  69   7        53.923042        40.533632        69.163303        2     g\n",
      "18  72  24        56.733539        29.557435        52.574352        2     g\n"
     ]
    },
    {
     "data": {
      "image/png": "[encoded data removed]",
      "text/plain": [
       "<Figure size 360x360 with 1 Axes>"
      ]
     },
     "metadata": {
      "needs_background": "light"
     },
     "output_type": "display_data"
    }
   ],
   "source": [
    "def assignment(df,centroids):\n",
    "    for i in centroids.keys():\n",
    "        df['distance_from_{}'.format(i)]=(np.sqrt((df['x']-centroids[i][0])**2  + (df['y']-centroids[i][1])**2))\n",
    "    centroid_distance_cols=['distance_from_{}'.format(i) for i in centroids.keys()]\n",
    "    df['closest']=df.loc[:,centroid_distance_cols].idxmin(axis=1)\n",
    "    df['closest']=df['closest'].map(lambda x:int(x.lstrip('distance_from')))\n",
    "    df['color']=df['closest'].map(lambda x:colmap[x])\n",
    "    print(centroid_distance_cols)\n",
    "    print(df)\n",
    "    return df\n",
    "df=assignment(df,centroids)\n",
    "df\n",
    "\n",
    "import copy\n",
    "old_centroids=copy.deepcopy(centroids)\n",
    "\n",
    "def update(k):\n",
    "    for i in centroids.keys():\n",
    "        centroids[i][0]=np.mean(df[df['closest']==i]['x'])\n",
    "        centroids[i][0]=np.mean(df[df['closest']==i]['y'])\n",
    "    return k\n",
    "\n",
    "centroids=update(centroids)\n",
    "\n",
    "fig=plt.figure(figsize=(5,5))\n",
    "plt.scatter(df['x'],df['y'],color=df['color'],alpha=0.5,edgecolor='k')\n",
    "for i in centroids.keys():\n",
    "    plt.scatter(*centroids[i],color=colmap[i])\n",
    "plt.xlim(0,80)\n",
    "plt.ylim(0,80)\n",
    "plt.show()"
   ]
  },
  {
   "cell_type": "code",
   "execution_count": 197,
   "metadata": {},
   "outputs": [
    {
     "name": "stdout",
     "output_type": "stream",
     "text": [
      "['distance_from_1', 'distance_from_2', 'distance_from_3']\n",
      "     x   y  distance_from_1  distance_from_2  distance_from_3  closest color\n",
      "0   12  39        33.241540        25.255733        65.735159        2     g\n",
      "1   20  39        28.017851        17.338434        59.293994        2     g\n",
      "2   28  30        16.124515        15.046280        59.878581        2     g\n",
      "3   18  52        40.249224        21.539011        53.963980        2     g\n",
      "4   29  54        38.639358        14.465016        43.333333        2     g\n",
      "5   33  46        30.149627         5.711506        44.845413        2     g\n",
      "6   24  55        40.804412        18.439249        47.255805        2     g\n",
      "7   45  59        43.931765        18.755670        27.278400        2     g\n",
      "8   45  63        47.853944        22.444936        24.982216        2     g\n",
      "9   52  70        56.320511        31.728508        15.538483        3     b\n",
      "10  51  66        52.201533        27.746208        18.306040        3     b\n",
      "11  52  63        49.648766        25.762341        19.350567        3     b\n",
      "12  55  58        46.097722        24.025750        21.270742        3     b\n",
      "13  53  23        18.384776        24.790006        54.651421        1     r\n",
      "14  55  14        19.104973        33.245100        63.027331        1     r\n",
      "15  61   8        26.248809        41.572991        68.208830        1     r\n",
      "16  64  19        28.160256        35.409774        57.047738        1     r\n",
      "17  69   7        34.205263        47.371752        69.051511        1     r\n",
      "18  72  24        36.878178        39.288946        52.307849        1     r\n"
     ]
    },
    {
     "data": {
      "image/png": "[encoded data removed]",
      "text/plain": [
       "<Figure size 360x360 with 1 Axes>"
      ]
     },
     "metadata": {
      "needs_background": "light"
     },
     "output_type": "display_data"
    }
   ],
   "source": [
    "def assignment(df,centroids):\n",
    "    for i in centroids.keys():\n",
    "        df['distance_from_{}'.format(i)]=(np.sqrt((df['x']-centroids[i][0])**2  + (df['y']-centroids[i][1])**2))\n",
    "    centroid_distance_cols=['distance_from_{}'.format(i) for i in centroids.keys()]\n",
    "    df['closest']=df.loc[:,centroid_distance_cols].idxmin(axis=1)\n",
    "    df['closest']=df['closest'].map(lambda x:int(x.lstrip('distance_from')))\n",
    "    df['color']=df['closest'].map(lambda x:colmap[x])\n",
    "    print(centroid_distance_cols)\n",
    "    print(df)\n",
    "    return df\n",
    "df=assignment(df,centroids)\n",
    "df\n",
    "\n",
    "import copy\n",
    "old_centroids=copy.deepcopy(centroids)\n",
    "\n",
    "def update(k):\n",
    "    for i in centroids.keys():\n",
    "        centroids[i][0]=np.mean(df[df['closest']==i]['x'])\n",
    "        centroids[i][0]=np.mean(df[df['closest']==i]['y'])\n",
    "    return k\n",
    "\n",
    "centroids=update(centroids)\n",
    "\n",
    "fig=plt.figure(figsize=(5,5))\n",
    "plt.scatter(df['x'],df['y'],color=df['color'],alpha=0.5,edgecolor='k')\n",
    "for i in centroids.keys():\n",
    "    plt.scatter(*centroids[i],color=colmap[i])\n",
    "plt.xlim(0,80)\n",
    "plt.ylim(0,80)\n",
    "plt.show()"
   ]
  },
  {
   "cell_type": "code",
   "execution_count": 198,
   "metadata": {},
   "outputs": [
    {
     "name": "stdout",
     "output_type": "stream",
     "text": [
      "['distance_from_1', 'distance_from_2', 'distance_from_3']\n",
      "     x   y  distance_from_1  distance_from_2  distance_from_3  closest color\n",
      "0   12  39        23.317256        36.678449        64.023921        1     r\n",
      "1   20  39        23.374369        28.712711        57.680694        1     r\n",
      "2   28  30        18.547986        23.801909        58.566735        1     r\n",
      "3   18  52        36.065142        32.150303        52.106262        2     g\n",
      "4   29  54        40.216428        22.943839        41.551925        2     g\n",
      "5   33  46        34.564352        16.061610        43.319309        2     g\n",
      "6   24  55        39.845884        27.784444        45.398926        2     g\n",
      "7   45  59        51.958584        17.367843        25.681949        2     g\n",
      "8   45  63        55.314505        21.298873        23.228485        2     g\n",
      "9   52  70        64.992521        28.211065        13.640473        3     b\n",
      "10  51  66        61.128508        24.124164        16.600075        3     b\n",
      "11  52  63        59.304534        21.280606        17.862321        3     b\n",
      "12  55  58        57.428458        17.249083        20.237651        2     g\n",
      "13  53  23        37.820115        19.512895        54.180831        2     g\n",
      "14  55  14        39.217697        28.732053        62.686223        2     g\n",
      "15  61   8        45.869683        36.205859        68.077621        2     g\n",
      "16  64  19        48.260002        27.704347        57.000548        2     g\n",
      "17  69   7        53.923042        40.533632        69.163303        2     g\n",
      "18  72  24        56.733539        29.557435        52.574352        2     g\n"
     ]
    },
    {
     "data": {
      "image/png": "[encoded data removed]",
      "text/plain": [
       "<Figure size 360x360 with 1 Axes>"
      ]
     },
     "metadata": {
      "needs_background": "light"
     },
     "output_type": "display_data"
    }
   ],
   "source": [
    "def assignment(df,centroids):\n",
    "    for i in centroids.keys():\n",
    "        df['distance_from_{}'.format(i)]=(np.sqrt((df['x']-centroids[i][0])**2  + (df['y']-centroids[i][1])**2))\n",
    "    centroid_distance_cols=['distance_from_{}'.format(i) for i in centroids.keys()]\n",
    "    df['closest']=df.loc[:,centroid_distance_cols].idxmin(axis=1)\n",
    "    df['closest']=df['closest'].map(lambda x:int(x.lstrip('distance_from')))\n",
    "    df['color']=df['closest'].map(lambda x:colmap[x])\n",
    "    print(centroid_distance_cols)\n",
    "    print(df)\n",
    "    return df\n",
    "df=assignment(df,centroids)\n",
    "df\n",
    "\n",
    "import copy\n",
    "old_centroids=copy.deepcopy(centroids)\n",
    "\n",
    "def update(k):\n",
    "    for i in centroids.keys():\n",
    "        centroids[i][0]=np.mean(df[df['closest']==i]['x'])\n",
    "        centroids[i][0]=np.mean(df[df['closest']==i]['y'])\n",
    "    return k\n",
    "\n",
    "centroids=update(centroids)\n",
    "\n",
    "fig=plt.figure(figsize=(5,5))\n",
    "plt.scatter(df['x'],df['y'],color=df['color'],alpha=0.5,edgecolor='k')\n",
    "for i in centroids.keys():\n",
    "    plt.scatter(*centroids[i],color=colmap[i])\n",
    "plt.xlim(0,80)\n",
    "plt.ylim(0,80)\n",
    "plt.show()"
   ]
  },
  {
   "cell_type": "code",
   "execution_count": 199,
   "metadata": {},
   "outputs": [
    {
     "name": "stdout",
     "output_type": "stream",
     "text": [
      "['distance_from_1', 'distance_from_2', 'distance_from_3']\n",
      "     x   y  distance_from_1  distance_from_2  distance_from_3  closest color\n",
      "0   12  39        33.241540        25.255733        65.735159        2     g\n",
      "1   20  39        28.017851        17.338434        59.293994        2     g\n",
      "2   28  30        16.124515        15.046280        59.878581        2     g\n",
      "3   18  52        40.249224        21.539011        53.963980        2     g\n",
      "4   29  54        38.639358        14.465016        43.333333        2     g\n",
      "5   33  46        30.149627         5.711506        44.845413        2     g\n",
      "6   24  55        40.804412        18.439249        47.255805        2     g\n",
      "7   45  59        43.931765        18.755670        27.278400        2     g\n",
      "8   45  63        47.853944        22.444936        24.982216        2     g\n",
      "9   52  70        56.320511        31.728508        15.538483        3     b\n",
      "10  51  66        52.201533        27.746208        18.306040        3     b\n",
      "11  52  63        49.648766        25.762341        19.350567        3     b\n",
      "12  55  58        46.097722        24.025750        21.270742        3     b\n",
      "13  53  23        18.384776        24.790006        54.651421        1     r\n",
      "14  55  14        19.104973        33.245100        63.027331        1     r\n",
      "15  61   8        26.248809        41.572991        68.208830        1     r\n",
      "16  64  19        28.160256        35.409774        57.047738        1     r\n",
      "17  69   7        34.205263        47.371752        69.051511        1     r\n",
      "18  72  24        36.878178        39.288946        52.307849        1     r\n"
     ]
    },
    {
     "data": {
      "image/png": "[encoded data removed]",
      "text/plain": [
       "<Figure size 360x360 with 1 Axes>"
      ]
     },
     "metadata": {
      "needs_background": "light"
     },
     "output_type": "display_data"
    }
   ],
   "source": [
    "def assignment(df,centroids):\n",
    "    for i in centroids.keys():\n",
    "        df['distance_from_{}'.format(i)]=(np.sqrt((df['x']-centroids[i][0])**2  + (df['y']-centroids[i][1])**2))\n",
    "    centroid_distance_cols=['distance_from_{}'.format(i) for i in centroids.keys()]\n",
    "    df['closest']=df.loc[:,centroid_distance_cols].idxmin(axis=1)\n",
    "    df['closest']=df['closest'].map(lambda x:int(x.lstrip('distance_from')))\n",
    "    df['color']=df['closest'].map(lambda x:colmap[x])\n",
    "    print(centroid_distance_cols)\n",
    "    print(df)\n",
    "    return df\n",
    "df=assignment(df,centroids)\n",
    "df\n",
    "\n",
    "import copy\n",
    "old_centroids=copy.deepcopy(centroids)\n",
    "\n",
    "def update(k):\n",
    "    for i in centroids.keys():\n",
    "        centroids[i][0]=np.mean(df[df['closest']==i]['x'])\n",
    "        centroids[i][0]=np.mean(df[df['closest']==i]['y'])\n",
    "    return k\n",
    "\n",
    "centroids=update(centroids)\n",
    "\n",
    "fig=plt.figure(figsize=(5,5))\n",
    "plt.scatter(df['x'],df['y'],color=df['color'],alpha=0.5,edgecolor='k')\n",
    "for i in centroids.keys():\n",
    "    plt.scatter(*centroids[i],color=colmap[i])\n",
    "plt.xlim(0,80)\n",
    "plt.ylim(0,80)\n",
    "plt.show()"
   ]
  },
  {
   "cell_type": "code",
   "execution_count": 200,
   "metadata": {},
   "outputs": [
    {
     "name": "stdout",
     "output_type": "stream",
     "text": [
      "['distance_from_1', 'distance_from_2', 'distance_from_3']\n",
      "     x   y  distance_from_1  distance_from_2  distance_from_3  closest color\n",
      "0   12  39        23.317256        36.678449        64.023921        1     r\n",
      "1   20  39        23.374369        28.712711        57.680694        1     r\n",
      "2   28  30        18.547986        23.801909        58.566735        1     r\n",
      "3   18  52        36.065142        32.150303        52.106262        2     g\n",
      "4   29  54        40.216428        22.943839        41.551925        2     g\n",
      "5   33  46        34.564352        16.061610        43.319309        2     g\n",
      "6   24  55        39.845884        27.784444        45.398926        2     g\n",
      "7   45  59        51.958584        17.367843        25.681949        2     g\n",
      "8   45  63        55.314505        21.298873        23.228485        2     g\n",
      "9   52  70        64.992521        28.211065        13.640473        3     b\n",
      "10  51  66        61.128508        24.124164        16.600075        3     b\n",
      "11  52  63        59.304534        21.280606        17.862321        3     b\n",
      "12  55  58        57.428458        17.249083        20.237651        2     g\n",
      "13  53  23        37.820115        19.512895        54.180831        2     g\n",
      "14  55  14        39.217697        28.732053        62.686223        2     g\n",
      "15  61   8        45.869683        36.205859        68.077621        2     g\n",
      "16  64  19        48.260002        27.704347        57.000548        2     g\n",
      "17  69   7        53.923042        40.533632        69.163303        2     g\n",
      "18  72  24        56.733539        29.557435        52.574352        2     g\n"
     ]
    },
    {
     "data": {
      "image/png": "[encoded data removed]",
      "text/plain": [
       "<Figure size 360x360 with 1 Axes>"
      ]
     },
     "metadata": {
      "needs_background": "light"
     },
     "output_type": "display_data"
    }
   ],
   "source": [
    "def assignment(df,centroids):\n",
    "    for i in centroids.keys():\n",
    "        df['distance_from_{}'.format(i)]=(np.sqrt((df['x']-centroids[i][0])**2  + (df['y']-centroids[i][1])**2))\n",
    "    centroid_distance_cols=['distance_from_{}'.format(i) for i in centroids.keys()]\n",
    "    df['closest']=df.loc[:,centroid_distance_cols].idxmin(axis=1)\n",
    "    df['closest']=df['closest'].map(lambda x:int(x.lstrip('distance_from')))\n",
    "    df['color']=df['closest'].map(lambda x:colmap[x])\n",
    "    print(centroid_distance_cols)\n",
    "    print(df)\n",
    "    return df\n",
    "df=assignment(df,centroids)\n",
    "df\n",
    "\n",
    "import copy\n",
    "old_centroids=copy.deepcopy(centroids)\n",
    "\n",
    "def update(k):\n",
    "    for i in centroids.keys():\n",
    "        centroids[i][0]=np.mean(df[df['closest']==i]['x'])\n",
    "        centroids[i][0]=np.mean(df[df['closest']==i]['y'])\n",
    "    return k\n",
    "\n",
    "centroids=update(centroids)\n",
    "\n",
    "fig=plt.figure(figsize=(5,5))\n",
    "plt.scatter(df['x'],df['y'],color=df['color'],alpha=0.5,edgecolor='k')\n",
    "for i in centroids.keys():\n",
    "    plt.scatter(*centroids[i],color=colmap[i])\n",
    "plt.xlim(0,80)\n",
    "plt.ylim(0,80)\n",
    "plt.show()"
   ]
  },
  {
   "cell_type": "code",
   "execution_count": 201,
   "metadata": {},
   "outputs": [
    {
     "name": "stdout",
     "output_type": "stream",
     "text": [
      "['distance_from_1', 'distance_from_2', 'distance_from_3']\n",
      "     x   y  distance_from_1  distance_from_2  distance_from_3  closest color\n",
      "0   12  39        33.241540        25.255733        65.735159        2     g\n",
      "1   20  39        28.017851        17.338434        59.293994        2     g\n",
      "2   28  30        16.124515        15.046280        59.878581        2     g\n",
      "3   18  52        40.249224        21.539011        53.963980        2     g\n",
      "4   29  54        38.639358        14.465016        43.333333        2     g\n",
      "5   33  46        30.149627         5.711506        44.845413        2     g\n",
      "6   24  55        40.804412        18.439249        47.255805        2     g\n",
      "7   45  59        43.931765        18.755670        27.278400        2     g\n",
      "8   45  63        47.853944        22.444936        24.982216        2     g\n",
      "9   52  70        56.320511        31.728508        15.538483        3     b\n",
      "10  51  66        52.201533        27.746208        18.306040        3     b\n",
      "11  52  63        49.648766        25.762341        19.350567        3     b\n",
      "12  55  58        46.097722        24.025750        21.270742        3     b\n",
      "13  53  23        18.384776        24.790006        54.651421        1     r\n",
      "14  55  14        19.104973        33.245100        63.027331        1     r\n",
      "15  61   8        26.248809        41.572991        68.208830        1     r\n",
      "16  64  19        28.160256        35.409774        57.047738        1     r\n",
      "17  69   7        34.205263        47.371752        69.051511        1     r\n",
      "18  72  24        36.878178        39.288946        52.307849        1     r\n"
     ]
    },
    {
     "data": {
      "image/png": "[encoded data removed]",
      "text/plain": [
       "<Figure size 360x360 with 1 Axes>"
      ]
     },
     "metadata": {
      "needs_background": "light"
     },
     "output_type": "display_data"
    }
   ],
   "source": [
    "def assignment(df,centroids):\n",
    "    for i in centroids.keys():\n",
    "        df['distance_from_{}'.format(i)]=(np.sqrt((df['x']-centroids[i][0])**2  + (df['y']-centroids[i][1])**2))\n",
    "    centroid_distance_cols=['distance_from_{}'.format(i) for i in centroids.keys()]\n",
    "    df['closest']=df.loc[:,centroid_distance_cols].idxmin(axis=1)\n",
    "    df['closest']=df['closest'].map(lambda x:int(x.lstrip('distance_from')))\n",
    "    df['color']=df['closest'].map(lambda x:colmap[x])\n",
    "    print(centroid_distance_cols)\n",
    "    print(df)\n",
    "    return df\n",
    "df=assignment(df,centroids)\n",
    "df\n",
    "\n",
    "import copy\n",
    "old_centroids=copy.deepcopy(centroids)\n",
    "\n",
    "def update(k):\n",
    "    for i in centroids.keys():\n",
    "        centroids[i][0]=np.mean(df[df['closest']==i]['x'])\n",
    "        centroids[i][0]=np.mean(df[df['closest']==i]['y'])\n",
    "    return k\n",
    "\n",
    "centroids=update(centroids)\n",
    "\n",
    "fig=plt.figure(figsize=(5,5))\n",
    "plt.scatter(df['x'],df['y'],color=df['color'],alpha=0.5,edgecolor='k')\n",
    "for i in centroids.keys():\n",
    "    plt.scatter(*centroids[i],color=colmap[i])\n",
    "plt.xlim(0,80)\n",
    "plt.ylim(0,80)\n",
    "plt.show()"
   ]
  },
  {
   "cell_type": "code",
   "execution_count": 202,
   "metadata": {},
   "outputs": [
    {
     "name": "stdout",
     "output_type": "stream",
     "text": [
      "['distance_from_1', 'distance_from_2', 'distance_from_3']\n",
      "     x   y  distance_from_1  distance_from_2  distance_from_3  closest color\n",
      "0   12  39        23.317256        36.678449        64.023921        1     r\n",
      "1   20  39        23.374369        28.712711        57.680694        1     r\n",
      "2   28  30        18.547986        23.801909        58.566735        1     r\n",
      "3   18  52        36.065142        32.150303        52.106262        2     g\n",
      "4   29  54        40.216428        22.943839        41.551925        2     g\n",
      "5   33  46        34.564352        16.061610        43.319309        2     g\n",
      "6   24  55        39.845884        27.784444        45.398926        2     g\n",
      "7   45  59        51.958584        17.367843        25.681949        2     g\n",
      "8   45  63        55.314505        21.298873        23.228485        2     g\n",
      "9   52  70        64.992521        28.211065        13.640473        3     b\n",
      "10  51  66        61.128508        24.124164        16.600075        3     b\n",
      "11  52  63        59.304534        21.280606        17.862321        3     b\n",
      "12  55  58        57.428458        17.249083        20.237651        2     g\n",
      "13  53  23        37.820115        19.512895        54.180831        2     g\n",
      "14  55  14        39.217697        28.732053        62.686223        2     g\n",
      "15  61   8        45.869683        36.205859        68.077621        2     g\n",
      "16  64  19        48.260002        27.704347        57.000548        2     g\n",
      "17  69   7        53.923042        40.533632        69.163303        2     g\n",
      "18  72  24        56.733539        29.557435        52.574352        2     g\n"
     ]
    },
    {
     "data": {
      "image/png": "[encoded data removed]",
      "text/plain": [
       "<Figure size 360x360 with 1 Axes>"
      ]
     },
     "metadata": {
      "needs_background": "light"
     },
     "output_type": "display_data"
    }
   ],
   "source": [
    "def assignment(df,centroids):\n",
    "    for i in centroids.keys():\n",
    "        df['distance_from_{}'.format(i)]=(np.sqrt((df['x']-centroids[i][0])**2  + (df['y']-centroids[i][1])**2))\n",
    "    centroid_distance_cols=['distance_from_{}'.format(i) for i in centroids.keys()]\n",
    "    df['closest']=df.loc[:,centroid_distance_cols].idxmin(axis=1)\n",
    "    df['closest']=df['closest'].map(lambda x:int(x.lstrip('distance_from')))\n",
    "    df['color']=df['closest'].map(lambda x:colmap[x])\n",
    "    print(centroid_distance_cols)\n",
    "    print(df)\n",
    "    return df\n",
    "df=assignment(df,centroids)\n",
    "df\n",
    "\n",
    "import copy\n",
    "old_centroids=copy.deepcopy(centroids)\n",
    "\n",
    "def update(k):\n",
    "    for i in centroids.keys():\n",
    "        centroids[i][0]=np.mean(df[df['closest']==i]['x'])\n",
    "        centroids[i][0]=np.mean(df[df['closest']==i]['y'])\n",
    "    return k\n",
    "\n",
    "centroids=update(centroids)\n",
    "\n",
    "fig=plt.figure(figsize=(5,5))\n",
    "plt.scatter(df['x'],df['y'],color=df['color'],alpha=0.5,edgecolor='k')\n",
    "for i in centroids.keys():\n",
    "    plt.scatter(*centroids[i],color=colmap[i])\n",
    "plt.xlim(0,80)\n",
    "plt.ylim(0,80)\n",
    "plt.show()"
   ]
  },
  {
   "cell_type": "code",
   "execution_count": 203,
   "metadata": {},
   "outputs": [
    {
     "name": "stdout",
     "output_type": "stream",
     "text": [
      "['distance_from_1', 'distance_from_2', 'distance_from_3']\n",
      "     x   y  distance_from_1  distance_from_2  distance_from_3  closest color\n",
      "0   12  39        33.241540        25.255733        65.735159        2     g\n",
      "1   20  39        28.017851        17.338434        59.293994        2     g\n",
      "2   28  30        16.124515        15.046280        59.878581        2     g\n",
      "3   18  52        40.249224        21.539011        53.963980        2     g\n",
      "4   29  54        38.639358        14.465016        43.333333        2     g\n",
      "5   33  46        30.149627         5.711506        44.845413        2     g\n",
      "6   24  55        40.804412        18.439249        47.255805        2     g\n",
      "7   45  59        43.931765        18.755670        27.278400        2     g\n",
      "8   45  63        47.853944        22.444936        24.982216        2     g\n",
      "9   52  70        56.320511        31.728508        15.538483        3     b\n",
      "10  51  66        52.201533        27.746208        18.306040        3     b\n",
      "11  52  63        49.648766        25.762341        19.350567        3     b\n",
      "12  55  58        46.097722        24.025750        21.270742        3     b\n",
      "13  53  23        18.384776        24.790006        54.651421        1     r\n",
      "14  55  14        19.104973        33.245100        63.027331        1     r\n",
      "15  61   8        26.248809        41.572991        68.208830        1     r\n",
      "16  64  19        28.160256        35.409774        57.047738        1     r\n",
      "17  69   7        34.205263        47.371752        69.051511        1     r\n",
      "18  72  24        36.878178        39.288946        52.307849        1     r\n"
     ]
    },
    {
     "data": {
      "image/png": "[encoded data removed]",
      "text/plain": [
       "<Figure size 360x360 with 1 Axes>"
      ]
     },
     "metadata": {
      "needs_background": "light"
     },
     "output_type": "display_data"
    }
   ],
   "source": [
    "def assignment(df,centroids):\n",
    "    for i in centroids.keys():\n",
    "        df['distance_from_{}'.format(i)]=(np.sqrt((df['x']-centroids[i][0])**2  + (df['y']-centroids[i][1])**2))\n",
    "    centroid_distance_cols=['distance_from_{}'.format(i) for i in centroids.keys()]\n",
    "    df['closest']=df.loc[:,centroid_distance_cols].idxmin(axis=1)\n",
    "    df['closest']=df['closest'].map(lambda x:int(x.lstrip('distance_from')))\n",
    "    df['color']=df['closest'].map(lambda x:colmap[x])\n",
    "    print(centroid_distance_cols)\n",
    "    print(df)\n",
    "    return df\n",
    "df=assignment(df,centroids)\n",
    "df\n",
    "\n",
    "import copy\n",
    "old_centroids=copy.deepcopy(centroids)\n",
    "\n",
    "def update(k):\n",
    "    for i in centroids.keys():\n",
    "        centroids[i][0]=np.mean(df[df['closest']==i]['x'])\n",
    "        centroids[i][0]=np.mean(df[df['closest']==i]['y'])\n",
    "    return k\n",
    "\n",
    "centroids=update(centroids)\n",
    "\n",
    "fig=plt.figure(figsize=(5,5))\n",
    "plt.scatter(df['x'],df['y'],color=df['color'],alpha=0.5,edgecolor='k')\n",
    "for i in centroids.keys():\n",
    "    plt.scatter(*centroids[i],color=colmap[i])\n",
    "plt.xlim(0,80)\n",
    "plt.ylim(0,80)\n",
    "plt.show()"
   ]
  },
  {
   "cell_type": "code",
   "execution_count": 204,
   "metadata": {},
   "outputs": [
    {
     "name": "stdout",
     "output_type": "stream",
     "text": [
      "['distance_from_1', 'distance_from_2', 'distance_from_3']\n",
      "     x   y  distance_from_1  distance_from_2  distance_from_3  closest color\n",
      "0   12  39        23.317256        36.678449        64.023921        1     r\n",
      "1   20  39        23.374369        28.712711        57.680694        1     r\n",
      "2   28  30        18.547986        23.801909        58.566735        1     r\n",
      "3   18  52        36.065142        32.150303        52.106262        2     g\n",
      "4   29  54        40.216428        22.943839        41.551925        2     g\n",
      "5   33  46        34.564352        16.061610        43.319309        2     g\n",
      "6   24  55        39.845884        27.784444        45.398926        2     g\n",
      "7   45  59        51.958584        17.367843        25.681949        2     g\n",
      "8   45  63        55.314505        21.298873        23.228485        2     g\n",
      "9   52  70        64.992521        28.211065        13.640473        3     b\n",
      "10  51  66        61.128508        24.124164        16.600075        3     b\n",
      "11  52  63        59.304534        21.280606        17.862321        3     b\n",
      "12  55  58        57.428458        17.249083        20.237651        2     g\n",
      "13  53  23        37.820115        19.512895        54.180831        2     g\n",
      "14  55  14        39.217697        28.732053        62.686223        2     g\n",
      "15  61   8        45.869683        36.205859        68.077621        2     g\n",
      "16  64  19        48.260002        27.704347        57.000548        2     g\n",
      "17  69   7        53.923042        40.533632        69.163303        2     g\n",
      "18  72  24        56.733539        29.557435        52.574352        2     g\n"
     ]
    },
    {
     "data": {
      "image/png": "[encoded data removed]",
      "text/plain": [
       "<Figure size 360x360 with 1 Axes>"
      ]
     },
     "metadata": {
      "needs_background": "light"
     },
     "output_type": "display_data"
    }
   ],
   "source": [
    "def assignment(df,centroids):\n",
    "    for i in centroids.keys():\n",
    "        df['distance_from_{}'.format(i)]=(np.sqrt((df['x']-centroids[i][0])**2  + (df['y']-centroids[i][1])**2))\n",
    "    centroid_distance_cols=['distance_from_{}'.format(i) for i in centroids.keys()]\n",
    "    df['closest']=df.loc[:,centroid_distance_cols].idxmin(axis=1)\n",
    "    df['closest']=df['closest'].map(lambda x:int(x.lstrip('distance_from')))\n",
    "    df['color']=df['closest'].map(lambda x:colmap[x])\n",
    "    print(centroid_distance_cols)\n",
    "    print(df)\n",
    "    return df\n",
    "df=assignment(df,centroids)\n",
    "df\n",
    "\n",
    "import copy\n",
    "old_centroids=copy.deepcopy(centroids)\n",
    "\n",
    "def update(k):\n",
    "    for i in centroids.keys():\n",
    "        centroids[i][0]=np.mean(df[df['closest']==i]['x'])\n",
    "        centroids[i][0]=np.mean(df[df['closest']==i]['y'])\n",
    "    return k\n",
    "\n",
    "centroids=update(centroids)\n",
    "\n",
    "fig=plt.figure(figsize=(5,5))\n",
    "plt.scatter(df['x'],df['y'],color=df['color'],alpha=0.5,edgecolor='k')\n",
    "for i in centroids.keys():\n",
    "    plt.scatter(*centroids[i],color=colmap[i])\n",
    "plt.xlim(0,80)\n",
    "plt.ylim(0,80)\n",
    "plt.show()"
   ]
  },
  {
   "cell_type": "code",
   "execution_count": 205,
   "metadata": {},
   "outputs": [
    {
     "name": "stdout",
     "output_type": "stream",
     "text": [
      "['distance_from_1', 'distance_from_2', 'distance_from_3']\n",
      "     x   y  distance_from_1  distance_from_2  distance_from_3  closest color\n",
      "0   12  39        33.241540        25.255733        65.735159        2     g\n",
      "1   20  39        28.017851        17.338434        59.293994        2     g\n",
      "2   28  30        16.124515        15.046280        59.878581        2     g\n",
      "3   18  52        40.249224        21.539011        53.963980        2     g\n",
      "4   29  54        38.639358        14.465016        43.333333        2     g\n",
      "5   33  46        30.149627         5.711506        44.845413        2     g\n",
      "6   24  55        40.804412        18.439249        47.255805        2     g\n",
      "7   45  59        43.931765        18.755670        27.278400        2     g\n",
      "8   45  63        47.853944        22.444936        24.982216        2     g\n",
      "9   52  70        56.320511        31.728508        15.538483        3     b\n",
      "10  51  66        52.201533        27.746208        18.306040        3     b\n",
      "11  52  63        49.648766        25.762341        19.350567        3     b\n",
      "12  55  58        46.097722        24.025750        21.270742        3     b\n",
      "13  53  23        18.384776        24.790006        54.651421        1     r\n",
      "14  55  14        19.104973        33.245100        63.027331        1     r\n",
      "15  61   8        26.248809        41.572991        68.208830        1     r\n",
      "16  64  19        28.160256        35.409774        57.047738        1     r\n",
      "17  69   7        34.205263        47.371752        69.051511        1     r\n",
      "18  72  24        36.878178        39.288946        52.307849        1     r\n"
     ]
    },
    {
     "data": {
      "image/png": "[encoded data removed]",
      "text/plain": [
       "<Figure size 360x360 with 1 Axes>"
      ]
     },
     "metadata": {
      "needs_background": "light"
     },
     "output_type": "display_data"
    }
   ],
   "source": [
    "def assignment(df,centroids):\n",
    "    for i in centroids.keys():\n",
    "        df['distance_from_{}'.format(i)]=(np.sqrt((df['x']-centroids[i][0])**2  + (df['y']-centroids[i][1])**2))\n",
    "    centroid_distance_cols=['distance_from_{}'.format(i) for i in centroids.keys()]\n",
    "    df['closest']=df.loc[:,centroid_distance_cols].idxmin(axis=1)\n",
    "    df['closest']=df['closest'].map(lambda x:int(x.lstrip('distance_from')))\n",
    "    df['color']=df['closest'].map(lambda x:colmap[x])\n",
    "    print(centroid_distance_cols)\n",
    "    print(df)\n",
    "    return df\n",
    "df=assignment(df,centroids)\n",
    "df\n",
    "\n",
    "import copy\n",
    "old_centroids=copy.deepcopy(centroids)\n",
    "\n",
    "def update(k):\n",
    "    for i in centroids.keys():\n",
    "        centroids[i][0]=np.mean(df[df['closest']==i]['x'])\n",
    "        centroids[i][0]=np.mean(df[df['closest']==i]['y'])\n",
    "    return k\n",
    "\n",
    "centroids=update(centroids)\n",
    "\n",
    "fig=plt.figure(figsize=(5,5))\n",
    "plt.scatter(df['x'],df['y'],color=df['color'],alpha=0.5,edgecolor='k')\n",
    "for i in centroids.keys():\n",
    "    plt.scatter(*centroids[i],color=colmap[i])\n",
    "plt.xlim(0,80)\n",
    "plt.ylim(0,80)\n",
    "plt.show()"
   ]
  },
  {
   "cell_type": "code",
   "execution_count": 206,
   "metadata": {},
   "outputs": [
    {
     "name": "stdout",
     "output_type": "stream",
     "text": [
      "['distance_from_1', 'distance_from_2', 'distance_from_3']\n",
      "     x   y  distance_from_1  distance_from_2  distance_from_3  closest color\n",
      "0   12  39        23.317256        36.678449        64.023921        1     r\n",
      "1   20  39        23.374369        28.712711        57.680694        1     r\n",
      "2   28  30        18.547986        23.801909        58.566735        1     r\n",
      "3   18  52        36.065142        32.150303        52.106262        2     g\n",
      "4   29  54        40.216428        22.943839        41.551925        2     g\n",
      "5   33  46        34.564352        16.061610        43.319309        2     g\n",
      "6   24  55        39.845884        27.784444        45.398926        2     g\n",
      "7   45  59        51.958584        17.367843        25.681949        2     g\n",
      "8   45  63        55.314505        21.298873        23.228485        2     g\n",
      "9   52  70        64.992521        28.211065        13.640473        3     b\n",
      "10  51  66        61.128508        24.124164        16.600075        3     b\n",
      "11  52  63        59.304534        21.280606        17.862321        3     b\n",
      "12  55  58        57.428458        17.249083        20.237651        2     g\n",
      "13  53  23        37.820115        19.512895        54.180831        2     g\n",
      "14  55  14        39.217697        28.732053        62.686223        2     g\n",
      "15  61   8        45.869683        36.205859        68.077621        2     g\n",
      "16  64  19        48.260002        27.704347        57.000548        2     g\n",
      "17  69   7        53.923042        40.533632        69.163303        2     g\n",
      "18  72  24        56.733539        29.557435        52.574352        2     g\n"
     ]
    },
    {
     "data": {
      "image/png": "[encoded data removed]",
      "text/plain": [
       "<Figure size 360x360 with 1 Axes>"
      ]
     },
     "metadata": {
      "needs_background": "light"
     },
     "output_type": "display_data"
    }
   ],
   "source": [
    "def assignment(df,centroids):\n",
    "    for i in centroids.keys():\n",
    "        df['distance_from_{}'.format(i)]=(np.sqrt((df['x']-centroids[i][0])**2  + (df['y']-centroids[i][1])**2))\n",
    "    centroid_distance_cols=['distance_from_{}'.format(i) for i in centroids.keys()]\n",
    "    df['closest']=df.loc[:,centroid_distance_cols].idxmin(axis=1)\n",
    "    df['closest']=df['closest'].map(lambda x:int(x.lstrip('distance_from')))\n",
    "    df['color']=df['closest'].map(lambda x:colmap[x])\n",
    "    print(centroid_distance_cols)\n",
    "    print(df)\n",
    "    return df\n",
    "df=assignment(df,centroids)\n",
    "df\n",
    "\n",
    "import copy\n",
    "old_centroids=copy.deepcopy(centroids)\n",
    "\n",
    "def update(k):\n",
    "    for i in centroids.keys():\n",
    "        centroids[i][0]=np.mean(df[df['closest']==i]['x'])\n",
    "        centroids[i][0]=np.mean(df[df['closest']==i]['y'])\n",
    "    return k\n",
    "\n",
    "centroids=update(centroids)\n",
    "\n",
    "fig=plt.figure(figsize=(5,5))\n",
    "plt.scatter(df['x'],df['y'],color=df['color'],alpha=0.5,edgecolor='k')\n",
    "for i in centroids.keys():\n",
    "    plt.scatter(*centroids[i],color=colmap[i])\n",
    "plt.xlim(0,80)\n",
    "plt.ylim(0,80)\n",
    "plt.show()"
   ]
  },
  {
   "cell_type": "code",
   "execution_count": 207,
   "metadata": {},
   "outputs": [
    {
     "name": "stdout",
     "output_type": "stream",
     "text": [
      "['distance_from_1', 'distance_from_2', 'distance_from_3']\n",
      "     x   y  distance_from_1  distance_from_2  distance_from_3  closest color\n",
      "0   12  39        33.241540        25.255733        65.735159        2     g\n",
      "1   20  39        28.017851        17.338434        59.293994        2     g\n",
      "2   28  30        16.124515        15.046280        59.878581        2     g\n",
      "3   18  52        40.249224        21.539011        53.963980        2     g\n",
      "4   29  54        38.639358        14.465016        43.333333        2     g\n",
      "5   33  46        30.149627         5.711506        44.845413        2     g\n",
      "6   24  55        40.804412        18.439249        47.255805        2     g\n",
      "7   45  59        43.931765        18.755670        27.278400        2     g\n",
      "8   45  63        47.853944        22.444936        24.982216        2     g\n",
      "9   52  70        56.320511        31.728508        15.538483        3     b\n",
      "10  51  66        52.201533        27.746208        18.306040        3     b\n",
      "11  52  63        49.648766        25.762341        19.350567        3     b\n",
      "12  55  58        46.097722        24.025750        21.270742        3     b\n",
      "13  53  23        18.384776        24.790006        54.651421        1     r\n",
      "14  55  14        19.104973        33.245100        63.027331        1     r\n",
      "15  61   8        26.248809        41.572991        68.208830        1     r\n",
      "16  64  19        28.160256        35.409774        57.047738        1     r\n",
      "17  69   7        34.205263        47.371752        69.051511        1     r\n",
      "18  72  24        36.878178        39.288946        52.307849        1     r\n"
     ]
    },
    {
     "data": {
      "image/png": "[encoded data removed]",
      "text/plain": [
       "<Figure size 360x360 with 1 Axes>"
      ]
     },
     "metadata": {
      "needs_background": "light"
     },
     "output_type": "display_data"
    }
   ],
   "source": [
    "def assignment(df,centroids):\n",
    "    for i in centroids.keys():\n",
    "        df['distance_from_{}'.format(i)]=(np.sqrt((df['x']-centroids[i][0])**2  + (df['y']-centroids[i][1])**2))\n",
    "    centroid_distance_cols=['distance_from_{}'.format(i) for i in centroids.keys()]\n",
    "    df['closest']=df.loc[:,centroid_distance_cols].idxmin(axis=1)\n",
    "    df['closest']=df['closest'].map(lambda x:int(x.lstrip('distance_from')))\n",
    "    df['color']=df['closest'].map(lambda x:colmap[x])\n",
    "    print(centroid_distance_cols)\n",
    "    print(df)\n",
    "    return df\n",
    "df=assignment(df,centroids)\n",
    "df\n",
    "\n",
    "import copy\n",
    "old_centroids=copy.deepcopy(centroids)\n",
    "\n",
    "def update(k):\n",
    "    for i in centroids.keys():\n",
    "        centroids[i][0]=np.mean(df[df['closest']==i]['x'])\n",
    "        centroids[i][0]=np.mean(df[df['closest']==i]['y'])\n",
    "    return k\n",
    "\n",
    "centroids=update(centroids)\n",
    "\n",
    "fig=plt.figure(figsize=(5,5))\n",
    "plt.scatter(df['x'],df['y'],color=df['color'],alpha=0.5,edgecolor='k')\n",
    "for i in centroids.keys():\n",
    "    plt.scatter(*centroids[i],color=colmap[i])\n",
    "plt.xlim(0,80)\n",
    "plt.ylim(0,80)\n",
    "plt.show()"
   ]
  },
  {
   "cell_type": "code",
   "execution_count": null,
   "metadata": {},
   "outputs": [],
   "source": []
  },
  {
   "cell_type": "code",
   "execution_count": 208,
   "metadata": {},
   "outputs": [
    {
     "name": "stdout",
     "output_type": "stream",
     "text": [
      "['distance_from_1', 'distance_from_2', 'distance_from_3']\n",
      "     x   y  distance_from_1  distance_from_2  distance_from_3  closest color\n",
      "0   12  39        23.317256        36.678449        64.023921        1     r\n",
      "1   20  39        23.374369        28.712711        57.680694        1     r\n",
      "2   28  30        18.547986        23.801909        58.566735        1     r\n",
      "3   18  52        36.065142        32.150303        52.106262        2     g\n",
      "4   29  54        40.216428        22.943839        41.551925        2     g\n",
      "5   33  46        34.564352        16.061610        43.319309        2     g\n",
      "6   24  55        39.845884        27.784444        45.398926        2     g\n",
      "7   45  59        51.958584        17.367843        25.681949        2     g\n",
      "8   45  63        55.314505        21.298873        23.228485        2     g\n",
      "9   52  70        64.992521        28.211065        13.640473        3     b\n",
      "10  51  66        61.128508        24.124164        16.600075        3     b\n",
      "11  52  63        59.304534        21.280606        17.862321        3     b\n",
      "12  55  58        57.428458        17.249083        20.237651        2     g\n",
      "13  53  23        37.820115        19.512895        54.180831        2     g\n",
      "14  55  14        39.217697        28.732053        62.686223        2     g\n",
      "15  61   8        45.869683        36.205859        68.077621        2     g\n",
      "16  64  19        48.260002        27.704347        57.000548        2     g\n",
      "17  69   7        53.923042        40.533632        69.163303        2     g\n",
      "18  72  24        56.733539        29.557435        52.574352        2     g\n"
     ]
    },
    {
     "data": {
      "image/png": "[encoded data removed]",
      "text/plain": [
       "<Figure size 360x360 with 1 Axes>"
      ]
     },
     "metadata": {
      "needs_background": "light"
     },
     "output_type": "display_data"
    }
   ],
   "source": [
    "def assignment(df,centroids):\n",
    "    for i in centroids.keys():\n",
    "        df['distance_from_{}'.format(i)]=(np.sqrt((df['x']-centroids[i][0])**2  + (df['y']-centroids[i][1])**2))\n",
    "    centroid_distance_cols=['distance_from_{}'.format(i) for i in centroids.keys()]\n",
    "    df['closest']=df.loc[:,centroid_distance_cols].idxmin(axis=1)\n",
    "    df['closest']=df['closest'].map(lambda x:int(x.lstrip('distance_from')))\n",
    "    df['color']=df['closest'].map(lambda x:colmap[x])\n",
    "    print(centroid_distance_cols)\n",
    "    print(df)\n",
    "    return df\n",
    "df=assignment(df,centroids)\n",
    "df\n",
    "\n",
    "import copy\n",
    "old_centroids=copy.deepcopy(centroids)\n",
    "\n",
    "def update(k):\n",
    "    for i in centroids.keys():\n",
    "        centroids[i][0]=np.mean(df[df['closest']==i]['x'])\n",
    "        centroids[i][0]=np.mean(df[df['closest']==i]['y'])\n",
    "    return k\n",
    "\n",
    "centroids=update(centroids)\n",
    "\n",
    "fig=plt.figure(figsize=(5,5))\n",
    "plt.scatter(df['x'],df['y'],color=df['color'],alpha=0.5,edgecolor='k')\n",
    "for i in centroids.keys():\n",
    "    plt.scatter(*centroids[i],color=colmap[i])\n",
    "plt.xlim(0,80)\n",
    "plt.ylim(0,80)\n",
    "plt.show()"
   ]
  },
  {
   "cell_type": "code",
   "execution_count": 209,
   "metadata": {},
   "outputs": [
    {
     "name": "stdout",
     "output_type": "stream",
     "text": [
      "['distance_from_1', 'distance_from_2', 'distance_from_3']\n",
      "     x   y  distance_from_1  distance_from_2  distance_from_3  closest color\n",
      "0   12  39        33.241540        25.255733        65.735159        2     g\n",
      "1   20  39        28.017851        17.338434        59.293994        2     g\n",
      "2   28  30        16.124515        15.046280        59.878581        2     g\n",
      "3   18  52        40.249224        21.539011        53.963980        2     g\n",
      "4   29  54        38.639358        14.465016        43.333333        2     g\n",
      "5   33  46        30.149627         5.711506        44.845413        2     g\n",
      "6   24  55        40.804412        18.439249        47.255805        2     g\n",
      "7   45  59        43.931765        18.755670        27.278400        2     g\n",
      "8   45  63        47.853944        22.444936        24.982216        2     g\n",
      "9   52  70        56.320511        31.728508        15.538483        3     b\n",
      "10  51  66        52.201533        27.746208        18.306040        3     b\n",
      "11  52  63        49.648766        25.762341        19.350567        3     b\n",
      "12  55  58        46.097722        24.025750        21.270742        3     b\n",
      "13  53  23        18.384776        24.790006        54.651421        1     r\n",
      "14  55  14        19.104973        33.245100        63.027331        1     r\n",
      "15  61   8        26.248809        41.572991        68.208830        1     r\n",
      "16  64  19        28.160256        35.409774        57.047738        1     r\n",
      "17  69   7        34.205263        47.371752        69.051511        1     r\n",
      "18  72  24        36.878178        39.288946        52.307849        1     r\n"
     ]
    },
    {
     "data": {
      "image/png": "[encoded data removed]",
      "text/plain": [
       "<Figure size 360x360 with 1 Axes>"
      ]
     },
     "metadata": {
      "needs_background": "light"
     },
     "output_type": "display_data"
    }
   ],
   "source": [
    "def assignment(df,centroids):\n",
    "    for i in centroids.keys():\n",
    "        df['distance_from_{}'.format(i)]=(np.sqrt((df['x']-centroids[i][0])**2  + (df['y']-centroids[i][1])**2))\n",
    "    centroid_distance_cols=['distance_from_{}'.format(i) for i in centroids.keys()]\n",
    "    df['closest']=df.loc[:,centroid_distance_cols].idxmin(axis=1)\n",
    "    df['closest']=df['closest'].map(lambda x:int(x.lstrip('distance_from')))\n",
    "    df['color']=df['closest'].map(lambda x:colmap[x])\n",
    "    print(centroid_distance_cols)\n",
    "    print(df)\n",
    "    return df\n",
    "df=assignment(df,centroids)\n",
    "df\n",
    "\n",
    "import copy\n",
    "old_centroids=copy.deepcopy(centroids)\n",
    "\n",
    "def update(k):\n",
    "    for i in centroids.keys():\n",
    "        centroids[i][0]=np.mean(df[df['closest']==i]['x'])\n",
    "        centroids[i][0]=np.mean(df[df['closest']==i]['y'])\n",
    "    return k\n",
    "\n",
    "centroids=update(centroids)\n",
    "\n",
    "fig=plt.figure(figsize=(5,5))\n",
    "plt.scatter(df['x'],df['y'],color=df['color'],alpha=0.5,edgecolor='k')\n",
    "for i in centroids.keys():\n",
    "    plt.scatter(*centroids[i],color=colmap[i])\n",
    "plt.xlim(0,80)\n",
    "plt.ylim(0,80)\n",
    "plt.show()"
   ]
  },
  {
   "cell_type": "code",
   "execution_count": 210,
   "metadata": {},
   "outputs": [
    {
     "name": "stdout",
     "output_type": "stream",
     "text": [
      "['distance_from_1', 'distance_from_2', 'distance_from_3']\n",
      "     x   y  distance_from_1  distance_from_2  distance_from_3  closest color\n",
      "0   12  39        23.317256        36.678449        64.023921        1     r\n",
      "1   20  39        23.374369        28.712711        57.680694        1     r\n",
      "2   28  30        18.547986        23.801909        58.566735        1     r\n",
      "3   18  52        36.065142        32.150303        52.106262        2     g\n",
      "4   29  54        40.216428        22.943839        41.551925        2     g\n",
      "5   33  46        34.564352        16.061610        43.319309        2     g\n",
      "6   24  55        39.845884        27.784444        45.398926        2     g\n",
      "7   45  59        51.958584        17.367843        25.681949        2     g\n",
      "8   45  63        55.314505        21.298873        23.228485        2     g\n",
      "9   52  70        64.992521        28.211065        13.640473        3     b\n",
      "10  51  66        61.128508        24.124164        16.600075        3     b\n",
      "11  52  63        59.304534        21.280606        17.862321        3     b\n",
      "12  55  58        57.428458        17.249083        20.237651        2     g\n",
      "13  53  23        37.820115        19.512895        54.180831        2     g\n",
      "14  55  14        39.217697        28.732053        62.686223        2     g\n",
      "15  61   8        45.869683        36.205859        68.077621        2     g\n",
      "16  64  19        48.260002        27.704347        57.000548        2     g\n",
      "17  69   7        53.923042        40.533632        69.163303        2     g\n",
      "18  72  24        56.733539        29.557435        52.574352        2     g\n"
     ]
    },
    {
     "data": {
      "image/png": "[encoded data removed]",
      "text/plain": [
       "<Figure size 360x360 with 1 Axes>"
      ]
     },
     "metadata": {
      "needs_background": "light"
     },
     "output_type": "display_data"
    }
   ],
   "source": [
    "def assignment(df,centroids):\n",
    "    for i in centroids.keys():\n",
    "        df['distance_from_{}'.format(i)]=(np.sqrt((df['x']-centroids[i][0])**2  + (df['y']-centroids[i][1])**2))\n",
    "    centroid_distance_cols=['distance_from_{}'.format(i) for i in centroids.keys()]\n",
    "    df['closest']=df.loc[:,centroid_distance_cols].idxmin(axis=1)\n",
    "    df['closest']=df['closest'].map(lambda x:int(x.lstrip('distance_from')))\n",
    "    df['color']=df['closest'].map(lambda x:colmap[x])\n",
    "    print(centroid_distance_cols)\n",
    "    print(df)\n",
    "    return df\n",
    "df=assignment(df,centroids)\n",
    "df\n",
    "\n",
    "import copy\n",
    "old_centroids=copy.deepcopy(centroids)\n",
    "\n",
    "def update(k):\n",
    "    for i in centroids.keys():\n",
    "        centroids[i][0]=np.mean(df[df['closest']==i]['x'])\n",
    "        centroids[i][0]=np.mean(df[df['closest']==i]['y'])\n",
    "    return k\n",
    "\n",
    "centroids=update(centroids)\n",
    "\n",
    "fig=plt.figure(figsize=(5,5))\n",
    "plt.scatter(df['x'],df['y'],color=df['color'],alpha=0.5,edgecolor='k')\n",
    "for i in centroids.keys():\n",
    "    plt.scatter(*centroids[i],color=colmap[i])\n",
    "plt.xlim(0,80)\n",
    "plt.ylim(0,80)\n",
    "plt.show()"
   ]
  },
  {
   "cell_type": "code",
   "execution_count": 211,
   "metadata": {},
   "outputs": [
    {
     "name": "stdout",
     "output_type": "stream",
     "text": [
      "['distance_from_1', 'distance_from_2', 'distance_from_3']\n",
      "     x   y  distance_from_1  distance_from_2  distance_from_3  closest color\n",
      "0   12  39        33.241540        25.255733        65.735159        2     g\n",
      "1   20  39        28.017851        17.338434        59.293994        2     g\n",
      "2   28  30        16.124515        15.046280        59.878581        2     g\n",
      "3   18  52        40.249224        21.539011        53.963980        2     g\n",
      "4   29  54        38.639358        14.465016        43.333333        2     g\n",
      "5   33  46        30.149627         5.711506        44.845413        2     g\n",
      "6   24  55        40.804412        18.439249        47.255805        2     g\n",
      "7   45  59        43.931765        18.755670        27.278400        2     g\n",
      "8   45  63        47.853944        22.444936        24.982216        2     g\n",
      "9   52  70        56.320511        31.728508        15.538483        3     b\n",
      "10  51  66        52.201533        27.746208        18.306040        3     b\n",
      "11  52  63        49.648766        25.762341        19.350567        3     b\n",
      "12  55  58        46.097722        24.025750        21.270742        3     b\n",
      "13  53  23        18.384776        24.790006        54.651421        1     r\n",
      "14  55  14        19.104973        33.245100        63.027331        1     r\n",
      "15  61   8        26.248809        41.572991        68.208830        1     r\n",
      "16  64  19        28.160256        35.409774        57.047738        1     r\n",
      "17  69   7        34.205263        47.371752        69.051511        1     r\n",
      "18  72  24        36.878178        39.288946        52.307849        1     r\n"
     ]
    },
    {
     "data": {
      "image/png": "[encoded data removed]",
      "text/plain": [
       "<Figure size 360x360 with 1 Axes>"
      ]
     },
     "metadata": {
      "needs_background": "light"
     },
     "output_type": "display_data"
    }
   ],
   "source": [
    "def assignment(df,centroids):\n",
    "    for i in centroids.keys():\n",
    "        df['distance_from_{}'.format(i)]=(np.sqrt((df['x']-centroids[i][0])**2  + (df['y']-centroids[i][1])**2))\n",
    "    centroid_distance_cols=['distance_from_{}'.format(i) for i in centroids.keys()]\n",
    "    df['closest']=df.loc[:,centroid_distance_cols].idxmin(axis=1)\n",
    "    df['closest']=df['closest'].map(lambda x:int(x.lstrip('distance_from')))\n",
    "    df['color']=df['closest'].map(lambda x:colmap[x])\n",
    "    print(centroid_distance_cols)\n",
    "    print(df)\n",
    "    return df\n",
    "df=assignment(df,centroids)\n",
    "df\n",
    "\n",
    "import copy\n",
    "old_centroids=copy.deepcopy(centroids)\n",
    "\n",
    "def update(k):\n",
    "    for i in centroids.keys():\n",
    "        centroids[i][0]=np.mean(df[df['closest']==i]['x'])\n",
    "        centroids[i][0]=np.mean(df[df['closest']==i]['y'])\n",
    "    return k\n",
    "\n",
    "centroids=update(centroids)\n",
    "\n",
    "fig=plt.figure(figsize=(5,5))\n",
    "plt.scatter(df['x'],df['y'],color=df['color'],alpha=0.5,edgecolor='k')\n",
    "for i in centroids.keys():\n",
    "    plt.scatter(*centroids[i],color=colmap[i])\n",
    "plt.xlim(0,80)\n",
    "plt.ylim(0,80)\n",
    "plt.show()"
   ]
  },
  {
   "cell_type": "code",
   "execution_count": 212,
   "metadata": {},
   "outputs": [
    {
     "name": "stdout",
     "output_type": "stream",
     "text": [
      "['distance_from_1', 'distance_from_2', 'distance_from_3']\n",
      "     x   y  distance_from_1  distance_from_2  distance_from_3  closest color\n",
      "0   12  39        23.317256        36.678449        64.023921        1     r\n",
      "1   20  39        23.374369        28.712711        57.680694        1     r\n",
      "2   28  30        18.547986        23.801909        58.566735        1     r\n",
      "3   18  52        36.065142        32.150303        52.106262        2     g\n",
      "4   29  54        40.216428        22.943839        41.551925        2     g\n",
      "5   33  46        34.564352        16.061610        43.319309        2     g\n",
      "6   24  55        39.845884        27.784444        45.398926        2     g\n",
      "7   45  59        51.958584        17.367843        25.681949        2     g\n",
      "8   45  63        55.314505        21.298873        23.228485        2     g\n",
      "9   52  70        64.992521        28.211065        13.640473        3     b\n",
      "10  51  66        61.128508        24.124164        16.600075        3     b\n",
      "11  52  63        59.304534        21.280606        17.862321        3     b\n",
      "12  55  58        57.428458        17.249083        20.237651        2     g\n",
      "13  53  23        37.820115        19.512895        54.180831        2     g\n",
      "14  55  14        39.217697        28.732053        62.686223        2     g\n",
      "15  61   8        45.869683        36.205859        68.077621        2     g\n",
      "16  64  19        48.260002        27.704347        57.000548        2     g\n",
      "17  69   7        53.923042        40.533632        69.163303        2     g\n",
      "18  72  24        56.733539        29.557435        52.574352        2     g\n"
     ]
    },
    {
     "data": {
      "image/png": "[encoded data removed]",
      "text/plain": [
       "<Figure size 360x360 with 1 Axes>"
      ]
     },
     "metadata": {
      "needs_background": "light"
     },
     "output_type": "display_data"
    }
   ],
   "source": [
    "def assignment(df,centroids):\n",
    "    for i in centroids.keys():\n",
    "        df['distance_from_{}'.format(i)]=(np.sqrt((df['x']-centroids[i][0])**2  + (df['y']-centroids[i][1])**2))\n",
    "    centroid_distance_cols=['distance_from_{}'.format(i) for i in centroids.keys()]\n",
    "    df['closest']=df.loc[:,centroid_distance_cols].idxmin(axis=1)\n",
    "    df['closest']=df['closest'].map(lambda x:int(x.lstrip('distance_from')))\n",
    "    df['color']=df['closest'].map(lambda x:colmap[x])\n",
    "    print(centroid_distance_cols)\n",
    "    print(df)\n",
    "    return df\n",
    "df=assignment(df,centroids)\n",
    "df\n",
    "\n",
    "import copy\n",
    "old_centroids=copy.deepcopy(centroids)\n",
    "\n",
    "def update(k):\n",
    "    for i in centroids.keys():\n",
    "        centroids[i][0]=np.mean(df[df['closest']==i]['x'])\n",
    "        centroids[i][0]=np.mean(df[df['closest']==i]['y'])\n",
    "    return k\n",
    "\n",
    "centroids=update(centroids)\n",
    "\n",
    "fig=plt.figure(figsize=(5,5))\n",
    "plt.scatter(df['x'],df['y'],color=df['color'],alpha=0.5,edgecolor='k')\n",
    "for i in centroids.keys():\n",
    "    plt.scatter(*centroids[i],color=colmap[i])\n",
    "plt.xlim(0,80)\n",
    "plt.ylim(0,80)\n",
    "plt.show()"
   ]
  },
  {
   "cell_type": "code",
   "execution_count": 213,
   "metadata": {},
   "outputs": [
    {
     "name": "stdout",
     "output_type": "stream",
     "text": [
      "['distance_from_1', 'distance_from_2', 'distance_from_3']\n",
      "     x   y  distance_from_1  distance_from_2  distance_from_3  closest color\n",
      "0   12  39        33.241540        25.255733        65.735159        2     g\n",
      "1   20  39        28.017851        17.338434        59.293994        2     g\n",
      "2   28  30        16.124515        15.046280        59.878581        2     g\n",
      "3   18  52        40.249224        21.539011        53.963980        2     g\n",
      "4   29  54        38.639358        14.465016        43.333333        2     g\n",
      "5   33  46        30.149627         5.711506        44.845413        2     g\n",
      "6   24  55        40.804412        18.439249        47.255805        2     g\n",
      "7   45  59        43.931765        18.755670        27.278400        2     g\n",
      "8   45  63        47.853944        22.444936        24.982216        2     g\n",
      "9   52  70        56.320511        31.728508        15.538483        3     b\n",
      "10  51  66        52.201533        27.746208        18.306040        3     b\n",
      "11  52  63        49.648766        25.762341        19.350567        3     b\n",
      "12  55  58        46.097722        24.025750        21.270742        3     b\n",
      "13  53  23        18.384776        24.790006        54.651421        1     r\n",
      "14  55  14        19.104973        33.245100        63.027331        1     r\n",
      "15  61   8        26.248809        41.572991        68.208830        1     r\n",
      "16  64  19        28.160256        35.409774        57.047738        1     r\n",
      "17  69   7        34.205263        47.371752        69.051511        1     r\n",
      "18  72  24        36.878178        39.288946        52.307849        1     r\n"
     ]
    },
    {
     "data": {
      "image/png": "[encoded data removed]",
      "text/plain": [
       "<Figure size 360x360 with 1 Axes>"
      ]
     },
     "metadata": {
      "needs_background": "light"
     },
     "output_type": "display_data"
    }
   ],
   "source": [
    "def assignment(df,centroids):\n",
    "    for i in centroids.keys():\n",
    "        df['distance_from_{}'.format(i)]=(np.sqrt((df['x']-centroids[i][0])**2  + (df['y']-centroids[i][1])**2))\n",
    "    centroid_distance_cols=['distance_from_{}'.format(i) for i in centroids.keys()]\n",
    "    df['closest']=df.loc[:,centroid_distance_cols].idxmin(axis=1)\n",
    "    df['closest']=df['closest'].map(lambda x:int(x.lstrip('distance_from')))\n",
    "    df['color']=df['closest'].map(lambda x:colmap[x])\n",
    "    print(centroid_distance_cols)\n",
    "    print(df)\n",
    "    return df\n",
    "df=assignment(df,centroids)\n",
    "df\n",
    "\n",
    "import copy\n",
    "old_centroids=copy.deepcopy(centroids)\n",
    "\n",
    "def update(k):\n",
    "    for i in centroids.keys():\n",
    "        centroids[i][0]=np.mean(df[df['closest']==i]['x'])\n",
    "        centroids[i][0]=np.mean(df[df['closest']==i]['y'])\n",
    "    return k\n",
    "\n",
    "centroids=update(centroids)\n",
    "\n",
    "fig=plt.figure(figsize=(5,5))\n",
    "plt.scatter(df['x'],df['y'],color=df['color'],alpha=0.5,edgecolor='k')\n",
    "for i in centroids.keys():\n",
    "    plt.scatter(*centroids[i],color=colmap[i])\n",
    "plt.xlim(0,80)\n",
    "plt.ylim(0,80)\n",
    "plt.show()"
   ]
  },
  {
   "cell_type": "markdown",
   "metadata": {},
   "source": [
    "while True:\n",
    "    closest_centroids=df['closest'].copy(deep=True)\n",
    "    centroids=update(centroids)\n",
    "    df=assignment(df,centroids)\n",
    "    if closest_centroids.equals(df['closest']):\n",
    "        break\n",
    "fig=plt.figure(figsize=(5,5))\n",
    "plt.scatter(df['x'],df['y'],color=df['color'],alpha=0.5,edgecolor='k')\n",
    "for i in centroids.keys():\n",
    "    plt.scatter(*centroids[i],color=colmap[i])\n",
    "plt.xlim(0.80)\n",
    "plt.ylim(0,80)\n",
    "plt.show()"
   ]
  },
  {
   "cell_type": "markdown",
   "metadata": {},
   "source": [
    "# Thus, using Elbow Curve finding the best K-Value for the given clustering -"
   ]
  },
  {
   "cell_type": "code",
   "execution_count": 217,
   "metadata": {},
   "outputs": [
    {
     "data": {
      "image/png": "[encoded data removed]",
      "text/plain": [
       "<Figure size 432x288 with 1 Axes>"
      ]
     },
     "metadata": {
      "needs_background": "light"
     },
     "output_type": "display_data"
    }
   ],
   "source": [
    "from sklearn.cluster import KMeans \n",
    "for k in range(1,10):\n",
    "    kmeans=KMeans(n_clusters=k,max_iter=1000).fit(tem)\n",
    "    df['clusters']=kmeans.labels_\n",
    "    sse[k]=kmeans.inertia_\n",
    "plt.figure()\n",
    "plt.plot(list(sse.keys()),list(sse.values()))\n",
    "plt.xlabel('Number Of Clusters(k)')\n",
    "plt.ylabel('WCCSS - Within Cluster Sum Of Squared')\n",
    "plt.show()"
   ]
  },
  {
   "cell_type": "markdown",
   "metadata": {},
   "source": [
    "# Thus at K-Value of 4 the curve gets flatten. Hence, K-Value is the best fitted value for the given clustering."
   ]
  },
  {
   "cell_type": "code",
   "execution_count": null,
   "metadata": {},
   "outputs": [],
   "source": []
  }
 ],
 "metadata": {
  "kernelspec": {
   "display_name": "Python 3",
   "language": "python",
   "name": "python3"
  },
  "language_info": {
   "codemirror_mode": {
    "name": "ipython",
    "version": 3
   },
   "file_extension": ".py",
   "mimetype": "text/x-python",
   "name": "python",
   "nbconvert_exporter": "python",
   "pygments_lexer": "ipython3",
   "version": "3.7.6"
  }
 },
 "nbformat": 4,
 "nbformat_minor": 4
}
