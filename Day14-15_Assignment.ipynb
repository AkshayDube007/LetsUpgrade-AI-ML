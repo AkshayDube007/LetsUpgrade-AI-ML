{
 "cells": [
  {
   "cell_type": "markdown",
   "metadata": {},
   "source": [
    "# Combining Arrays using Stack\n"
   ]
  },
  {
   "cell_type": "markdown",
   "metadata": {},
   "source": [
    "# Please Scroll-Down for the solution of Assignment Day14-15(Heading is mentioned).\n",
    "**Below are some practice codes done during the live session**"
   ]
  },
  {
   "cell_type": "code",
   "execution_count": 8,
   "metadata": {},
   "outputs": [
    {
     "name": "stdout",
     "output_type": "stream",
     "text": [
      "[1 2 3]\n",
      "[4 5 6]\n"
     ]
    }
   ],
   "source": [
    "from numpy import array\n",
    "from numpy import vstack,hstack\n",
    "a1 = array([1,2,3])\n",
    "a2 = array([4,5,6])\n",
    "print(a1)\n",
    "print(a2)"
   ]
  },
  {
   "cell_type": "code",
   "execution_count": 10,
   "metadata": {},
   "outputs": [
    {
     "name": "stdout",
     "output_type": "stream",
     "text": [
      "[[1 2 3]\n",
      " [4 5 6]]\n"
     ]
    }
   ],
   "source": [
    "a3 = vstack((a1,a2))\n",
    "print(a3)"
   ]
  },
  {
   "cell_type": "code",
   "execution_count": 11,
   "metadata": {},
   "outputs": [
    {
     "name": "stdout",
     "output_type": "stream",
     "text": [
      "[1 2 3 4 5 6]\n"
     ]
    }
   ],
   "source": [
    "a4 = hstack((a1,a2))\n",
    "print(a4)"
   ]
  },
  {
   "cell_type": "code",
   "execution_count": 13,
   "metadata": {},
   "outputs": [
    {
     "data": {
      "text/plain": [
       "(2, 3)"
      ]
     },
     "execution_count": 13,
     "metadata": {},
     "output_type": "execute_result"
    }
   ],
   "source": [
    "a5 = array([[1,2,3],[4,5,6]])\n",
    "a6= array([[11,22,33],[44,55,66]])\n",
    "a5.shape\n",
    "a6.shape"
   ]
  },
  {
   "cell_type": "code",
   "execution_count": 14,
   "metadata": {},
   "outputs": [
    {
     "data": {
      "text/plain": [
       "array([[ 1,  2,  3],\n",
       "       [ 4,  5,  6],\n",
       "       [11, 22, 33],\n",
       "       [44, 55, 66]])"
      ]
     },
     "execution_count": 14,
     "metadata": {},
     "output_type": "execute_result"
    }
   ],
   "source": [
    "vstack((a5,a6))"
   ]
  },
  {
   "cell_type": "code",
   "execution_count": 15,
   "metadata": {},
   "outputs": [
    {
     "data": {
      "text/plain": [
       "array([[ 1,  2,  3, 11, 22, 33],\n",
       "       [ 4,  5,  6, 44, 55, 66]])"
      ]
     },
     "execution_count": 15,
     "metadata": {},
     "output_type": "execute_result"
    }
   ],
   "source": [
    "hstack((a5,a6))"
   ]
  },
  {
   "cell_type": "code",
   "execution_count": 16,
   "metadata": {},
   "outputs": [
    {
     "data": {
      "text/plain": [
       "(3,)"
      ]
     },
     "execution_count": 16,
     "metadata": {},
     "output_type": "execute_result"
    }
   ],
   "source": [
    "a7 = array([77,88,99])\n",
    "a7.shape"
   ]
  },
  {
   "cell_type": "code",
   "execution_count": 21,
   "metadata": {},
   "outputs": [
    {
     "data": {
      "text/plain": [
       "array([[77, 88, 99],\n",
       "       [11, 22, 33],\n",
       "       [44, 55, 66]])"
      ]
     },
     "execution_count": 21,
     "metadata": {},
     "output_type": "execute_result"
    }
   ],
   "source": [
    "vstack((a7,a6))"
   ]
  },
  {
   "cell_type": "code",
   "execution_count": 23,
   "metadata": {},
   "outputs": [
    {
     "data": {
      "text/plain": [
       "array([77, 88, 99,  1,  2,  3])"
      ]
     },
     "execution_count": 23,
     "metadata": {},
     "output_type": "execute_result"
    }
   ],
   "source": [
    "hstack((a7,a1))"
   ]
  },
  {
   "cell_type": "markdown",
   "metadata": {},
   "source": [
    "# Array Reshapping - Data Shape"
   ]
  },
  {
   "cell_type": "code",
   "execution_count": 24,
   "metadata": {},
   "outputs": [
    {
     "data": {
      "text/plain": [
       "(5,)"
      ]
     },
     "execution_count": 24,
     "metadata": {},
     "output_type": "execute_result"
    }
   ],
   "source": [
    "data = array([11,22,33,44,55])\n",
    "data.shape"
   ]
  },
  {
   "cell_type": "code",
   "execution_count": 26,
   "metadata": {},
   "outputs": [
    {
     "data": {
      "text/plain": [
       "(3, 2)"
      ]
     },
     "execution_count": 26,
     "metadata": {},
     "output_type": "execute_result"
    }
   ],
   "source": [
    "data1 = array([[11,22],\n",
    "              [33,44],\n",
    "              [55,66]])\n",
    "data1.shape"
   ]
  },
  {
   "cell_type": "code",
   "execution_count": 27,
   "metadata": {},
   "outputs": [
    {
     "data": {
      "text/plain": [
       "3"
      ]
     },
     "execution_count": 27,
     "metadata": {},
     "output_type": "execute_result"
    }
   ],
   "source": [
    "data1.shape[0]"
   ]
  },
  {
   "cell_type": "code",
   "execution_count": 30,
   "metadata": {},
   "outputs": [
    {
     "name": "stdout",
     "output_type": "stream",
     "text": [
      "[11 22 33 44 55]\n"
     ]
    },
    {
     "data": {
      "text/plain": [
       "5"
      ]
     },
     "execution_count": 30,
     "metadata": {},
     "output_type": "execute_result"
    }
   ],
   "source": [
    "print(data)\n",
    "data.shape\n",
    "data.shape[0]"
   ]
  },
  {
   "cell_type": "code",
   "execution_count": 33,
   "metadata": {},
   "outputs": [
    {
     "name": "stdout",
     "output_type": "stream",
     "text": [
      "[[11]\n",
      " [22]\n",
      " [33]\n",
      " [44]\n",
      " [55]]\n"
     ]
    }
   ],
   "source": [
    "data2=data.reshape(data.shape[0],1)\n",
    "print(data2)"
   ]
  },
  {
   "cell_type": "code",
   "execution_count": 34,
   "metadata": {},
   "outputs": [
    {
     "data": {
      "text/plain": [
       "(5, 1)"
      ]
     },
     "execution_count": 34,
     "metadata": {},
     "output_type": "execute_result"
    }
   ],
   "source": [
    "data2.shape"
   ]
  },
  {
   "cell_type": "code",
   "execution_count": 38,
   "metadata": {},
   "outputs": [
    {
     "name": "stdout",
     "output_type": "stream",
     "text": [
      "[[[11]]\n",
      "\n",
      " [[22]]\n",
      "\n",
      " [[33]]\n",
      "\n",
      " [[44]]\n",
      "\n",
      " [[55]]]\n"
     ]
    },
    {
     "data": {
      "text/plain": [
       "(5, 1, 1)"
      ]
     },
     "execution_count": 38,
     "metadata": {},
     "output_type": "execute_result"
    }
   ],
   "source": [
    "data3=data2.reshape(data2.shape[0],data2.shape[1],1)\n",
    "print(data3)\n",
    "data3.shape"
   ]
  },
  {
   "cell_type": "markdown",
   "metadata": {},
   "source": [
    "# Python Pandas - Series "
   ]
  },
  {
   "cell_type": "code",
   "execution_count": 47,
   "metadata": {},
   "outputs": [
    {
     "name": "stdout",
     "output_type": "stream",
     "text": [
      "Series([], dtype: float64)\n"
     ]
    },
    {
     "name": "stderr",
     "output_type": "stream",
     "text": [
      "C:\\Users\\Akshay\\anaconda3\\lib\\site-packages\\ipykernel_launcher.py:2: DeprecationWarning: The default dtype for empty Series will be 'object' instead of 'float64' in a future version. Specify a dtype explicitly to silence this warning.\n",
      "  \n"
     ]
    }
   ],
   "source": [
    "import pandas as pd\n",
    "ser=pd.Series()\n",
    "print(ser)"
   ]
  },
  {
   "cell_type": "code",
   "execution_count": 47,
   "metadata": {},
   "outputs": [
    {
     "name": "stdout",
     "output_type": "stream",
     "text": [
      "0    1\n",
      "1    2\n",
      "2    3\n",
      "3    4\n",
      "dtype: int64\n",
      "[1 2 3 4]\n",
      "[1, 2, 3, 4]\n"
     ]
    }
   ],
   "source": [
    "l=[1,2,3,4]\n",
    "m=array(l)\n",
    "s=pd.Series(l)\n",
    "print(s)\n",
    "print(m)\n",
    "print(l)"
   ]
  },
  {
   "cell_type": "code",
   "execution_count": null,
   "metadata": {},
   "outputs": [],
   "source": []
  },
  {
   "cell_type": "code",
   "execution_count": 50,
   "metadata": {},
   "outputs": [
    {
     "data": {
      "text/plain": [
       "9     a\n",
       "10    b\n",
       "11    c\n",
       "12    d\n",
       "dtype: object"
      ]
     },
     "execution_count": 50,
     "metadata": {},
     "output_type": "execute_result"
    }
   ],
   "source": [
    "d= array(['a','b','c','d'])\n",
    "s = pd.Series(d,index=[9,10,11,12])\n",
    "s"
   ]
  },
  {
   "cell_type": "code",
   "execution_count": 51,
   "metadata": {},
   "outputs": [
    {
     "data": {
      "text/plain": [
       "'b'"
      ]
     },
     "execution_count": 51,
     "metadata": {},
     "output_type": "execute_result"
    }
   ],
   "source": [
    "s[10]"
   ]
  },
  {
   "cell_type": "code",
   "execution_count": 52,
   "metadata": {},
   "outputs": [
    {
     "name": "stdout",
     "output_type": "stream",
     "text": [
      "a    0\n",
      "b    1\n",
      "c    2\n",
      "dtype: int64\n"
     ]
    }
   ],
   "source": [
    "dict = {'a': 0,'b':1,'c':2}\n",
    "s = pd.Series(dict)\n",
    "print(s)"
   ]
  },
  {
   "cell_type": "code",
   "execution_count": 53,
   "metadata": {},
   "outputs": [
    {
     "data": {
      "text/plain": [
       "c    2\n",
       "b    1\n",
       "a    0\n",
       "dtype: int64"
      ]
     },
     "execution_count": 53,
     "metadata": {},
     "output_type": "execute_result"
    }
   ],
   "source": [
    "s[::-1]"
   ]
  },
  {
   "cell_type": "markdown",
   "metadata": {},
   "source": []
  },
  {
   "cell_type": "code",
   "execution_count": null,
   "metadata": {},
   "outputs": [],
   "source": []
  },
  {
   "cell_type": "markdown",
   "metadata": {},
   "source": [
    "# Day14-15 Assignment Solution."
   ]
  },
  {
   "cell_type": "markdown",
   "metadata": {},
   "source": [
    "# 1. Create a 3x3x3 array with random values"
   ]
  },
  {
   "cell_type": "code",
   "execution_count": 1,
   "metadata": {},
   "outputs": [
    {
     "name": "stdout",
     "output_type": "stream",
     "text": [
      "The Array is-\n",
      "[[[5.12449761e-312 5.12449680e-312 1.69120145e-306]\n",
      "  [6.23061763e-307 8.45593934e-307 7.56593017e-307]\n",
      "  [1.11261027e-306 1.11261502e-306 1.42410839e-306]]\n",
      "\n",
      " [[7.56597770e-307 6.23059726e-307 1.42419530e-306]\n",
      "  [9.79101761e-307 1.42417629e-306 9.34603679e-307]\n",
      "  [1.78019761e-306 1.78020848e-306 7.56599807e-307]]\n",
      "\n",
      " [[1.42418172e-306 2.04712906e-306 7.56589622e-307]\n",
      "  [1.11258277e-307 8.90111708e-307 2.11389826e-307]\n",
      "  [1.11260619e-306 5.55962897e-312 1.17076152e+214]]]\n",
      "The Shape of Array is-\n",
      "(3, 3, 3)\n"
     ]
    }
   ],
   "source": [
    "import numpy as np\n",
    "arr1=np.empty((3,3,3))\n",
    "print(\"The Array is-\")\n",
    "print(arr1)\n",
    "print(\"The Shape of Array is-\")\n",
    "print(arr1.shape)"
   ]
  },
  {
   "cell_type": "markdown",
   "metadata": {},
   "source": [
    "# 2.Create a 5x5 matrix with values 1,2,3,4 just below the diagonal"
   ]
  },
  {
   "cell_type": "code",
   "execution_count": 6,
   "metadata": {},
   "outputs": [
    {
     "name": "stdout",
     "output_type": "stream",
     "text": [
      "Initial Matrix-\n",
      "[[0. 0. 0. 0. 0.]\n",
      " [0. 0. 0. 0. 0.]\n",
      " [0. 0. 0. 0. 0.]\n",
      " [0. 0. 0. 0. 0.]\n",
      " [0. 0. 0. 0. 0.]]\n",
      "Final Matrix-\n",
      "[[0. 0. 0. 0. 0.]\n",
      " [1. 0. 0. 0. 0.]\n",
      " [0. 2. 0. 0. 0.]\n",
      " [0. 0. 3. 0. 0.]\n",
      " [0. 0. 0. 4. 0.]]\n"
     ]
    }
   ],
   "source": [
    "arr2=np.zeros((5,5))\n",
    "print(\"Initial Matrix-\")\n",
    "print(arr2)\n",
    "for i in range(len(arr2)):\n",
    "    for j in range(len(arr2)):\n",
    "        if(i==j+1):\n",
    "            arr2[i][j]=i\n",
    "print(\"Final Matrix-\")\n",
    "print(arr2)"
   ]
  },
  {
   "cell_type": "markdown",
   "metadata": {},
   "source": [
    "# 3.Create a 8x8 matrix and fill it with a checkerboard pattern"
   ]
  },
  {
   "cell_type": "code",
   "execution_count": 11,
   "metadata": {},
   "outputs": [
    {
     "name": "stdout",
     "output_type": "stream",
     "text": [
      "Initial Matrix-\n",
      "[[0. 0. 0. 0. 0. 0. 0. 0.]\n",
      " [0. 0. 0. 0. 0. 0. 0. 0.]\n",
      " [0. 0. 0. 0. 0. 0. 0. 0.]\n",
      " [0. 0. 0. 0. 0. 0. 0. 0.]\n",
      " [0. 0. 0. 0. 0. 0. 0. 0.]\n",
      " [0. 0. 0. 0. 0. 0. 0. 0.]\n",
      " [0. 0. 0. 0. 0. 0. 0. 0.]\n",
      " [0. 0. 0. 0. 0. 0. 0. 0.]]\n",
      "Final Matrix-\n",
      "[[0. 1. 0. 1. 0. 1. 0. 1.]\n",
      " [0. 1. 0. 1. 0. 1. 0. 1.]\n",
      " [0. 1. 0. 1. 0. 1. 0. 1.]\n",
      " [0. 1. 0. 1. 0. 1. 0. 1.]\n",
      " [0. 1. 0. 1. 0. 1. 0. 1.]\n",
      " [0. 1. 0. 1. 0. 1. 0. 1.]\n",
      " [0. 1. 0. 1. 0. 1. 0. 1.]\n",
      " [0. 1. 0. 1. 0. 1. 0. 1.]]\n"
     ]
    }
   ],
   "source": [
    "arr3=np.zeros((8,8)) \n",
    "print(\"Initial Matrix-\")\n",
    "print(arr3)\n",
    "for i in range(len(arr3)):\n",
    "    for j in range(len(arr3)):\n",
    "        if(j%2!=0):\n",
    "            arr3[i][j]=1\n",
    "print(\"Final Matrix-\")\n",
    "print(arr3)"
   ]
  },
  {
   "cell_type": "markdown",
   "metadata": {},
   "source": [
    "# 4. Normalize a 5x5 random matrix"
   ]
  },
  {
   "cell_type": "code",
   "execution_count": 12,
   "metadata": {},
   "outputs": [
    {
     "name": "stdout",
     "output_type": "stream",
     "text": [
      "The random matrix is-\n",
      "[[-0.95924984  0.27395916 -0.19264877  0.70216468  0.66763159]\n",
      " [-0.65677831 -0.52391071 -1.07789069  0.02568501  0.71324871]\n",
      " [-0.3804196   1.17042152  0.69584509  0.31076425 -0.87676365]\n",
      " [-0.6942869  -0.25062017  0.31673506 -1.31613367  0.44268919]\n",
      " [-0.70126452  1.19704136  0.49331313  1.80318203  1.70960058]]\n",
      "The norm value of random matrix is-\n",
      "4.257680851563247\n",
      "The normalized random mattrix is-\n",
      "[[-0.22529867  0.06434469 -0.04524735  0.16491717  0.1568064 ]\n",
      " [-0.15425729 -0.12305072 -0.25316381  0.00603263  0.16752047]\n",
      " [-0.08934902  0.27489649  0.16343289  0.07298909 -0.20592517]\n",
      " [-0.16306692 -0.05886307  0.07439145 -0.30911985  0.10397425]\n",
      " [-0.16470575  0.28114868  0.11586428  0.42351273  0.40153328]]\n"
     ]
    }
   ],
   "source": [
    "arr4=np.random.randn(5,5)\n",
    "print(\"The random matrix is-\")\n",
    "print(arr4)\n",
    "normal=np.linalg.norm(arr4)\n",
    "print(\"The norm value of random matrix is-\")\n",
    "print(normal)\n",
    "arr5=np.divide(arr4,normal)\n",
    "print(\"The normalized random mattrix is-\")\n",
    "print(arr5)"
   ]
  },
  {
   "cell_type": "markdown",
   "metadata": {},
   "source": [
    "# 5. How to find common values between two arrays?"
   ]
  },
  {
   "cell_type": "code",
   "execution_count": 13,
   "metadata": {},
   "outputs": [
    {
     "name": "stdout",
     "output_type": "stream",
     "text": [
      "The 1st array is-\n",
      "[1 2 3 4 5]\n",
      "The 2nd array is-\n",
      "[ 2  4  6  8 10]\n",
      "Common values between two arrays are-\n",
      "[2 4]\n"
     ]
    }
   ],
   "source": [
    "arr6=np.array([1,2,3,4,5])\n",
    "print(\"The 1st array is-\")\n",
    "print(arr6)\n",
    "arr7=np.array([2,4,6,8,10])\n",
    "print(\"The 2nd array is-\")\n",
    "print(arr7)\n",
    "cvalues=np.intersect1d(arr6,arr7)\n",
    "print(\"Common values between two arrays are-\")\n",
    "print(cvalues)"
   ]
  },
  {
   "cell_type": "markdown",
   "metadata": {},
   "source": [
    "# 6.How to get the dates of yesterday, today and tomorrow?"
   ]
  },
  {
   "cell_type": "code",
   "execution_count": 14,
   "metadata": {},
   "outputs": [
    {
     "name": "stdout",
     "output_type": "stream",
     "text": [
      "Yestraday's Date:  2020-07-27\n",
      "Today's Date:  2020-07-28\n",
      "Tomorrow's Date:  2020-07-29\n"
     ]
    }
   ],
   "source": [
    "yesterday =np.datetime64('today', 'D') - np.timedelta64(1, 'D')\n",
    "print(\"Yestraday's Date: \",yesterday)\n",
    "today= np.datetime64('today', 'D')\n",
    "print(\"Today's Date: \",today)\n",
    "tomorrow= np.datetime64('today', 'D') + np.timedelta64(1, 'D')\n",
    "print(\"Tomorrow's Date: \",tomorrow)"
   ]
  },
  {
   "cell_type": "markdown",
   "metadata": {},
   "source": [
    "# 7. Consider two random array A and B, check if they are equal"
   ]
  },
  {
   "cell_type": "code",
   "execution_count": 19,
   "metadata": {},
   "outputs": [
    {
     "name": "stdout",
     "output_type": "stream",
     "text": [
      "The two arrays are equal - True Or False?\n",
      "Output: True\n"
     ]
    }
   ],
   "source": [
    "arr8=np.array([1,2,3])\n",
    "arr9=np.array([1,2,3])\n",
    "comparison = arr8 == arr9\n",
    "equalArrays = comparison.all()\n",
    "print('The two arrays are equal - True Or False?')\n",
    "print(\"Output:\",equalArrays)"
   ]
  },
  {
   "cell_type": "markdown",
   "metadata": {},
   "source": [
    "# 8.Create random vector of size 10 and replace the maximum value by 0"
   ]
  },
  {
   "cell_type": "code",
   "execution_count": 21,
   "metadata": {},
   "outputs": [
    {
     "name": "stdout",
     "output_type": "stream",
     "text": [
      "The random vector is-\n",
      "[[ 0.08388021]\n",
      " [ 0.99814365]\n",
      " [-0.31593467]\n",
      " [ 1.08279703]\n",
      " [ 0.61537388]\n",
      " [-0.80157793]\n",
      " [-1.02768146]\n",
      " [ 0.37693913]\n",
      " [-0.44283792]\n",
      " [-1.45715426]]\n",
      "The maximum value in the vector is-\n",
      "1.0827970328193461\n",
      "The new vector is-\n",
      "[[ 0.08388021]\n",
      " [ 0.99814365]\n",
      " [-0.31593467]\n",
      " [ 0.        ]\n",
      " [ 0.61537388]\n",
      " [-0.80157793]\n",
      " [-1.02768146]\n",
      " [ 0.37693913]\n",
      " [-0.44283792]\n",
      " [-1.45715426]]\n"
     ]
    }
   ],
   "source": [
    "a=np.random.randn(10,1)\n",
    "print(\"The random vector is-\")\n",
    "print(a)\n",
    "val=np.amax(a)\n",
    "print(\"The maximum value in the vector is-\")\n",
    "print(val)\n",
    "b=np.where(a==val)\n",
    "a[b]=0\n",
    "print(\"The new vector is-\")\n",
    "print(a)"
   ]
  },
  {
   "cell_type": "markdown",
   "metadata": {},
   "source": [
    "# 9. How to print all the values of an array?"
   ]
  },
  {
   "cell_type": "code",
   "execution_count": 26,
   "metadata": {},
   "outputs": [
    {
     "name": "stdout",
     "output_type": "stream",
     "text": [
      "The array is:\n",
      "[[ 1.45615194 -1.62819844 -0.30150773]\n",
      " [-2.47396126 -0.5031483   0.87941203]\n",
      " [-1.09303705  0.49856645 -0.15361216]]\n",
      "The element at index( 0 ,  0 ) is: 1.4561519389118787\n",
      "The element at index( 0 ,  1 ) is: -1.628198439291689\n",
      "The element at index( 0 ,  2 ) is: -0.3015077260811214\n",
      "The element at index( 1 ,  0 ) is: -2.4739612566094644\n",
      "The element at index( 1 ,  1 ) is: -0.5031483039485465\n",
      "The element at index( 1 ,  2 ) is: 0.8794120290322006\n",
      "The element at index( 2 ,  0 ) is: -1.093037051890148\n",
      "The element at index( 2 ,  1 ) is: 0.49856644772236214\n",
      "The element at index( 2 ,  2 ) is: -0.1536121561150879\n"
     ]
    }
   ],
   "source": [
    "arr10=np.random.randn(3,3)#creates a random array of given order\n",
    "print(\"The array is:\")\n",
    "print(arr10)\n",
    "for i in range(len(arr10)):\n",
    "    for j in range(len(arr10)):\n",
    "        print(\"The element at index(\",i,\", \",j,\") is:\",arr10[i][j])"
   ]
  },
  {
   "cell_type": "markdown",
   "metadata": {},
   "source": [
    "# 10.Subtract the mean of each row of a matrix"
   ]
  },
  {
   "cell_type": "code",
   "execution_count": 27,
   "metadata": {},
   "outputs": [
    {
     "name": "stdout",
     "output_type": "stream",
     "text": [
      "The matrix is-\n",
      "[[-0.315706    0.55329253  0.22016606]\n",
      " [-1.70129193 -2.33436441  0.45765784]\n",
      " [ 0.86100752  0.79450244 -1.40942295]]\n",
      "The mean value of each row is-\n",
      "[ 0.1525842  -1.19266616  0.082029  ]\n",
      "The matrix after the mean is subtracted-\n",
      "[[-0.4682902   1.7459587   0.13813706]\n",
      " [-1.85387612 -1.14169825  0.37562884]\n",
      " [ 0.70842332  1.98716861 -1.49145195]]\n"
     ]
    }
   ],
   "source": [
    "arr11=np.random.randn(3,3)\n",
    "print(\"The matrix is-\")\n",
    "print(arr11)\n",
    "print(\"The mean value of each row is-\")\n",
    "arr12=np.mean(arr11,axis=1)\n",
    "print(arr12)\n",
    "arr13=arr11-arr12\n",
    "print(\"The matrix after the mean is subtracted-\")\n",
    "print(arr13)"
   ]
  },
  {
   "cell_type": "markdown",
   "metadata": {},
   "source": [
    "# 11.Consider a given vector, how to add 1 to each element indexed by a second vector (be careful with repeated indices)?"
   ]
  },
  {
   "cell_type": "code",
   "execution_count": 29,
   "metadata": {},
   "outputs": [
    {
     "name": "stdout",
     "output_type": "stream",
     "text": [
      "The original vector is:\n",
      "[[-1.10851776]\n",
      " [-0.25209531]\n",
      " [ 0.99889355]\n",
      " [ 1.24590341]\n",
      " [ 0.57318175]\n",
      " [ 0.80419575]\n",
      " [-0.86260003]\n",
      " [-1.48926766]\n",
      " [ 0.01242279]\n",
      " [-0.65586388]]\n",
      "The Index values are:\n",
      "[0 0 1 8]\n",
      "Final vector after adding 1 to corresponding elements at the specified indices:\n",
      "[[ 0.89148224]\n",
      " [ 0.74790469]\n",
      " [ 0.99889355]\n",
      " [ 1.24590341]\n",
      " [ 0.57318175]\n",
      " [ 0.80419575]\n",
      " [-0.86260003]\n",
      " [-1.48926766]\n",
      " [ 1.01242279]\n",
      " [-0.65586388]]\n"
     ]
    }
   ],
   "source": [
    "arr14 = np.random.randn(10,1)\n",
    "print(\"The original vector is:\")\n",
    "print(arr14)\n",
    "arr15=np.random.randint(0,len(arr14),4)\n",
    "print(\"The Index values are:\")\n",
    "print(arr15)\n",
    "print(\"Final vector after adding 1 to corresponding elements at the specified indices:\")\n",
    "np.add.at(arr14,arr15,1)\n",
    "print(arr14)"
   ]
  },
  {
   "cell_type": "markdown",
   "metadata": {},
   "source": [
    "# 12.How to get the diagonal of a dot product?"
   ]
  },
  {
   "cell_type": "code",
   "execution_count": 32,
   "metadata": {},
   "outputs": [
    {
     "name": "stdout",
     "output_type": "stream",
     "text": [
      "The first 3X3 array is- \n",
      "[[ 0.84185735  1.11673552 -0.29964405]\n",
      " [ 2.89158413 -0.10826212  0.01097432]\n",
      " [ 1.49042049  0.62693911  1.01378953]]\n",
      "The second 3X3 array is- \n",
      "[[-0.98864597  1.10122337  0.44152259]\n",
      " [ 1.2235175  -0.23467448 -0.65881254]\n",
      " [-1.26593414  0.19438261 -0.12259178]]\n",
      "The corresponding dot product is- \n",
      "[[ 0.91337621  0.60675807 -0.32728643]\n",
      " [-3.00510635  3.2118196   1.34667879]\n",
      " [-1.98981801  1.69122232  0.12073671]]\n",
      "The corresponding diagonal elements are- \n",
      "[0.91337621 3.2118196  0.12073671]\n"
     ]
    }
   ],
   "source": [
    "arr16=np.random.randn(3,3)\n",
    "print(\"The first 3X3 array is- \")\n",
    "print(arr16)\n",
    "arr17=np.random.randn(3,3)\n",
    "print(\"The second 3X3 array is- \")\n",
    "print(arr17)\n",
    "arr18=np.dot(arr16,arr17)\n",
    "print(\"The corresponding dot product is- \")\n",
    "print(arr18)\n",
    "arr19=np.diag(arr18)\n",
    "print(\"The corresponding diagonal elements are- \")\n",
    "print(arr19)"
   ]
  },
  {
   "cell_type": "markdown",
   "metadata": {},
   "source": [
    "# 13.How to find the most frequent value in an array?"
   ]
  },
  {
   "cell_type": "code",
   "execution_count": 35,
   "metadata": {},
   "outputs": [
    {
     "data": {
      "text/plain": [
       "5"
      ]
     },
     "execution_count": 35,
     "metadata": {},
     "output_type": "execute_result"
    }
   ],
   "source": [
    "arr20=np.array([1,2,4,5,4,3,2,7,8,9,10,5,5,5,5,5,5,5,6,3,3,5,3,6,6,7,6,6,8])\n",
    "np.argmax(np.bincount(arr20))"
   ]
  },
  {
   "cell_type": "markdown",
   "metadata": {},
   "source": [
    "# 14.How to get the n largest values of an array"
   ]
  },
  {
   "cell_type": "code",
   "execution_count": 41,
   "metadata": {},
   "outputs": [
    {
     "name": "stdout",
     "output_type": "stream",
     "text": [
      "Enter the value of n:5\n",
      "The 5 th largest value of the array are:\n",
      "[7 8 9 6 5]\n"
     ]
    }
   ],
   "source": [
    "arr21=np.arange(10)\n",
    "np.random.shuffle(arr21)\n",
    "c=int(input(\"Enter the value of n:\"))\n",
    "print(\"The\",c,\"th largest value of the array are:\")\n",
    "print (arr21[np.argpartition(-arr21,c)[:c]])"
   ]
  },
  {
   "cell_type": "markdown",
   "metadata": {},
   "source": [
    "# 15.How to create a record array from a regular array?"
   ]
  },
  {
   "cell_type": "code",
   "execution_count": 46,
   "metadata": {},
   "outputs": [
    {
     "name": "stdout",
     "output_type": "stream",
     "text": [
      "Original array:\n",
      "[[1 2 3]\n",
      " [4 5 6]\n",
      " [7 8 9]]\n",
      "Record array:\n",
      "[(b'1', 2., 3) (b'4', 5., 6) (b'7', 8., 9)]\n",
      "<class 'numpy.recarray'>\n"
     ]
    }
   ],
   "source": [
    "arr22 = np.array([[1,2,3],[4,5,6],[7,8,9]])\n",
    "print(\"Original array:\")\n",
    "print(arr22)\n",
    "arr23 = np.core.records.fromarrays(arr22.T,names='a,b,c',formats = 'S80, f8, i8')\n",
    "print(\"Record array:\")\n",
    "print(arr23)\n",
    "print(type(arr23))"
   ]
  },
  {
   "cell_type": "code",
   "execution_count": null,
   "metadata": {},
   "outputs": [],
   "source": []
  }
 ],
 "metadata": {
  "kernelspec": {
   "display_name": "Python 3",
   "language": "python",
   "name": "python3"
  },
  "language_info": {
   "codemirror_mode": {
    "name": "ipython",
    "version": 3
   },
   "file_extension": ".py",
   "mimetype": "text/x-python",
   "name": "python",
   "nbconvert_exporter": "python",
   "pygments_lexer": "ipython3",
   "version": "3.7.6"
  }
 },
 "nbformat": 4,
 "nbformat_minor": 4
}
