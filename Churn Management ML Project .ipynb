{
 "cells": [
  {
   "cell_type": "markdown",
   "metadata": {},
   "source": [
    "# Objective Of The Project:\n",
    "\n",
    "- The focus of the company is to indentify factors affecting the churn of the customers and take appropriate control measures.\n",
    "- Observing and simplifying the dataset to building suitable ML models to draw proper conclusions from the data analysis.\n",
    "- Presenting control measures and suggestions to reduce churn of customers."
   ]
  },
  {
   "cell_type": "code",
   "execution_count": 1,
   "metadata": {},
   "outputs": [],
   "source": [
    "# Importing required liabraries:\n",
    "import pandas as pd\n",
    "import numpy as np \n",
    "import matplotlib.pyplot as plt\n",
    "import seaborn as sns"
   ]
  },
  {
   "cell_type": "code",
   "execution_count": 13,
   "metadata": {},
   "outputs": [
    {
     "data": {
      "text/html": [
       "<div>\n",
       "<style scoped>\n",
       "    .dataframe tbody tr th:only-of-type {\n",
       "        vertical-align: middle;\n",
       "    }\n",
       "\n",
       "    .dataframe tbody tr th {\n",
       "        vertical-align: top;\n",
       "    }\n",
       "\n",
       "    .dataframe thead th {\n",
       "        text-align: right;\n",
       "    }\n",
       "</style>\n",
       "<table border=\"1\" class=\"dataframe\">\n",
       "  <thead>\n",
       "    <tr style=\"text-align: right;\">\n",
       "      <th></th>\n",
       "      <th>respondent_id</th>\n",
       "      <th>churned</th>\n",
       "      <th>age</th>\n",
       "      <th>gender</th>\n",
       "      <th>loyalty_level</th>\n",
       "      <th>how_long_a_customer</th>\n",
       "      <th>how_far_away</th>\n",
       "      <th>feel_valued_as_customer</th>\n",
       "      <th>get_often_inspiration</th>\n",
       "      <th>good_product_overview</th>\n",
       "      <th>pick_up_flexibility</th>\n",
       "      <th>fair_prices</th>\n",
       "      <th>looking_forward_to_the_next_12_months</th>\n",
       "      <th>see_improvements_recently</th>\n",
       "      <th>informed_about_new_products</th>\n",
       "      <th>find_productst_i_want</th>\n",
       "      <th>i_enjoy_buying</th>\n",
       "    </tr>\n",
       "  </thead>\n",
       "  <tbody>\n",
       "    <tr>\n",
       "      <th>0</th>\n",
       "      <td>1</td>\n",
       "      <td>0</td>\n",
       "      <td>3</td>\n",
       "      <td>1.0</td>\n",
       "      <td>NaN</td>\n",
       "      <td>2</td>\n",
       "      <td>5.0</td>\n",
       "      <td>1</td>\n",
       "      <td>2</td>\n",
       "      <td>2</td>\n",
       "      <td>1</td>\n",
       "      <td>1</td>\n",
       "      <td>4</td>\n",
       "      <td>1</td>\n",
       "      <td>NaN</td>\n",
       "      <td>1</td>\n",
       "      <td>2</td>\n",
       "    </tr>\n",
       "    <tr>\n",
       "      <th>1</th>\n",
       "      <td>10</td>\n",
       "      <td>0</td>\n",
       "      <td>3</td>\n",
       "      <td>2.0</td>\n",
       "      <td>1.0</td>\n",
       "      <td>5</td>\n",
       "      <td>1.0</td>\n",
       "      <td>1</td>\n",
       "      <td>1</td>\n",
       "      <td>2</td>\n",
       "      <td>1</td>\n",
       "      <td>2</td>\n",
       "      <td>1</td>\n",
       "      <td>1</td>\n",
       "      <td>NaN</td>\n",
       "      <td>2</td>\n",
       "      <td>1</td>\n",
       "    </tr>\n",
       "    <tr>\n",
       "      <th>2</th>\n",
       "      <td>100</td>\n",
       "      <td>1</td>\n",
       "      <td>3</td>\n",
       "      <td>1.0</td>\n",
       "      <td>1.0</td>\n",
       "      <td>3</td>\n",
       "      <td>2.0</td>\n",
       "      <td>5</td>\n",
       "      <td>1</td>\n",
       "      <td>1</td>\n",
       "      <td>1</td>\n",
       "      <td>4</td>\n",
       "      <td>3</td>\n",
       "      <td>1</td>\n",
       "      <td>NaN</td>\n",
       "      <td>2</td>\n",
       "      <td>1</td>\n",
       "    </tr>\n",
       "    <tr>\n",
       "      <th>3</th>\n",
       "      <td>1000</td>\n",
       "      <td>0</td>\n",
       "      <td>3</td>\n",
       "      <td>1.0</td>\n",
       "      <td>3.0</td>\n",
       "      <td>6</td>\n",
       "      <td>1.0</td>\n",
       "      <td>1</td>\n",
       "      <td>1</td>\n",
       "      <td>4</td>\n",
       "      <td>1</td>\n",
       "      <td>5</td>\n",
       "      <td>2</td>\n",
       "      <td>2</td>\n",
       "      <td>NaN</td>\n",
       "      <td>1</td>\n",
       "      <td>1</td>\n",
       "    </tr>\n",
       "    <tr>\n",
       "      <th>4</th>\n",
       "      <td>10000</td>\n",
       "      <td>0</td>\n",
       "      <td>0</td>\n",
       "      <td>NaN</td>\n",
       "      <td>1.0</td>\n",
       "      <td>0</td>\n",
       "      <td>1.0</td>\n",
       "      <td>1</td>\n",
       "      <td>2</td>\n",
       "      <td>2</td>\n",
       "      <td>1</td>\n",
       "      <td>2</td>\n",
       "      <td>3</td>\n",
       "      <td>1</td>\n",
       "      <td>1.0</td>\n",
       "      <td>1</td>\n",
       "      <td>3</td>\n",
       "    </tr>\n",
       "    <tr>\n",
       "      <th>...</th>\n",
       "      <td>...</td>\n",
       "      <td>...</td>\n",
       "      <td>...</td>\n",
       "      <td>...</td>\n",
       "      <td>...</td>\n",
       "      <td>...</td>\n",
       "      <td>...</td>\n",
       "      <td>...</td>\n",
       "      <td>...</td>\n",
       "      <td>...</td>\n",
       "      <td>...</td>\n",
       "      <td>...</td>\n",
       "      <td>...</td>\n",
       "      <td>...</td>\n",
       "      <td>...</td>\n",
       "      <td>...</td>\n",
       "      <td>...</td>\n",
       "    </tr>\n",
       "    <tr>\n",
       "      <th>24508</th>\n",
       "      <td>9995</td>\n",
       "      <td>0</td>\n",
       "      <td>5</td>\n",
       "      <td>2.0</td>\n",
       "      <td>1.0</td>\n",
       "      <td>5</td>\n",
       "      <td>2.0</td>\n",
       "      <td>2</td>\n",
       "      <td>1</td>\n",
       "      <td>1</td>\n",
       "      <td>1</td>\n",
       "      <td>2</td>\n",
       "      <td>1</td>\n",
       "      <td>1</td>\n",
       "      <td>2.0</td>\n",
       "      <td>2</td>\n",
       "      <td>1</td>\n",
       "    </tr>\n",
       "    <tr>\n",
       "      <th>24509</th>\n",
       "      <td>9996</td>\n",
       "      <td>0</td>\n",
       "      <td>5</td>\n",
       "      <td>2.0</td>\n",
       "      <td>NaN</td>\n",
       "      <td>6</td>\n",
       "      <td>1.0</td>\n",
       "      <td>4</td>\n",
       "      <td>3</td>\n",
       "      <td>2</td>\n",
       "      <td>4</td>\n",
       "      <td>2</td>\n",
       "      <td>1</td>\n",
       "      <td>2</td>\n",
       "      <td>NaN</td>\n",
       "      <td>2</td>\n",
       "      <td>2</td>\n",
       "    </tr>\n",
       "    <tr>\n",
       "      <th>24510</th>\n",
       "      <td>9997</td>\n",
       "      <td>1</td>\n",
       "      <td>4</td>\n",
       "      <td>1.0</td>\n",
       "      <td>1.0</td>\n",
       "      <td>6</td>\n",
       "      <td>2.0</td>\n",
       "      <td>2</td>\n",
       "      <td>1</td>\n",
       "      <td>1</td>\n",
       "      <td>1</td>\n",
       "      <td>2</td>\n",
       "      <td>4</td>\n",
       "      <td>2</td>\n",
       "      <td>NaN</td>\n",
       "      <td>1</td>\n",
       "      <td>1</td>\n",
       "    </tr>\n",
       "    <tr>\n",
       "      <th>24511</th>\n",
       "      <td>9998</td>\n",
       "      <td>0</td>\n",
       "      <td>2</td>\n",
       "      <td>1.0</td>\n",
       "      <td>1.0</td>\n",
       "      <td>2</td>\n",
       "      <td>NaN</td>\n",
       "      <td>4</td>\n",
       "      <td>1</td>\n",
       "      <td>5</td>\n",
       "      <td>4</td>\n",
       "      <td>1</td>\n",
       "      <td>4</td>\n",
       "      <td>1</td>\n",
       "      <td>NaN</td>\n",
       "      <td>1</td>\n",
       "      <td>4</td>\n",
       "    </tr>\n",
       "    <tr>\n",
       "      <th>24512</th>\n",
       "      <td>9999</td>\n",
       "      <td>0</td>\n",
       "      <td>6</td>\n",
       "      <td>2.0</td>\n",
       "      <td>1.0</td>\n",
       "      <td>6</td>\n",
       "      <td>3.0</td>\n",
       "      <td>1</td>\n",
       "      <td>2</td>\n",
       "      <td>2</td>\n",
       "      <td>3</td>\n",
       "      <td>2</td>\n",
       "      <td>2</td>\n",
       "      <td>1</td>\n",
       "      <td>NaN</td>\n",
       "      <td>1</td>\n",
       "      <td>1</td>\n",
       "    </tr>\n",
       "  </tbody>\n",
       "</table>\n",
       "<p>24513 rows × 17 columns</p>\n",
       "</div>"
      ],
      "text/plain": [
       "       respondent_id  churned  age  gender  loyalty_level  \\\n",
       "0                  1        0    3     1.0            NaN   \n",
       "1                 10        0    3     2.0            1.0   \n",
       "2                100        1    3     1.0            1.0   \n",
       "3               1000        0    3     1.0            3.0   \n",
       "4              10000        0    0     NaN            1.0   \n",
       "...              ...      ...  ...     ...            ...   \n",
       "24508           9995        0    5     2.0            1.0   \n",
       "24509           9996        0    5     2.0            NaN   \n",
       "24510           9997        1    4     1.0            1.0   \n",
       "24511           9998        0    2     1.0            1.0   \n",
       "24512           9999        0    6     2.0            1.0   \n",
       "\n",
       "       how_long_a_customer  how_far_away  feel_valued_as_customer  \\\n",
       "0                        2           5.0                        1   \n",
       "1                        5           1.0                        1   \n",
       "2                        3           2.0                        5   \n",
       "3                        6           1.0                        1   \n",
       "4                        0           1.0                        1   \n",
       "...                    ...           ...                      ...   \n",
       "24508                    5           2.0                        2   \n",
       "24509                    6           1.0                        4   \n",
       "24510                    6           2.0                        2   \n",
       "24511                    2           NaN                        4   \n",
       "24512                    6           3.0                        1   \n",
       "\n",
       "       get_often_inspiration  good_product_overview  pick_up_flexibility  \\\n",
       "0                          2                      2                    1   \n",
       "1                          1                      2                    1   \n",
       "2                          1                      1                    1   \n",
       "3                          1                      4                    1   \n",
       "4                          2                      2                    1   \n",
       "...                      ...                    ...                  ...   \n",
       "24508                      1                      1                    1   \n",
       "24509                      3                      2                    4   \n",
       "24510                      1                      1                    1   \n",
       "24511                      1                      5                    4   \n",
       "24512                      2                      2                    3   \n",
       "\n",
       "       fair_prices  looking_forward_to_the_next_12_months  \\\n",
       "0                1                                      4   \n",
       "1                2                                      1   \n",
       "2                4                                      3   \n",
       "3                5                                      2   \n",
       "4                2                                      3   \n",
       "...            ...                                    ...   \n",
       "24508            2                                      1   \n",
       "24509            2                                      1   \n",
       "24510            2                                      4   \n",
       "24511            1                                      4   \n",
       "24512            2                                      2   \n",
       "\n",
       "       see_improvements_recently  informed_about_new_products  \\\n",
       "0                              1                          NaN   \n",
       "1                              1                          NaN   \n",
       "2                              1                          NaN   \n",
       "3                              2                          NaN   \n",
       "4                              1                          1.0   \n",
       "...                          ...                          ...   \n",
       "24508                          1                          2.0   \n",
       "24509                          2                          NaN   \n",
       "24510                          2                          NaN   \n",
       "24511                          1                          NaN   \n",
       "24512                          1                          NaN   \n",
       "\n",
       "       find_productst_i_want  i_enjoy_buying  \n",
       "0                          1               2  \n",
       "1                          2               1  \n",
       "2                          2               1  \n",
       "3                          1               1  \n",
       "4                          1               3  \n",
       "...                      ...             ...  \n",
       "24508                      2               1  \n",
       "24509                      2               2  \n",
       "24510                      1               1  \n",
       "24511                      1               4  \n",
       "24512                      1               1  \n",
       "\n",
       "[24513 rows x 17 columns]"
      ]
     },
     "execution_count": 13,
     "metadata": {},
     "output_type": "execute_result"
    }
   ],
   "source": [
    "# Loading dataset:\n",
    "data = pd.read_csv('churndata.csv')\n",
    "data"
   ]
  },
  {
   "cell_type": "code",
   "execution_count": 14,
   "metadata": {},
   "outputs": [
    {
     "data": {
      "text/plain": [
       "respondent_id                                0\n",
       "churned                                      0\n",
       "age                                          0\n",
       "gender                                    2205\n",
       "loyalty_level                             5230\n",
       "how_long_a_customer                          0\n",
       "how_far_away                              1274\n",
       "feel_valued_as_customer                      0\n",
       "get_often_inspiration                        0\n",
       "good_product_overview                        0\n",
       "pick_up_flexibility                          0\n",
       "fair_prices                                  0\n",
       "looking_forward_to_the_next_12_months        0\n",
       "see_improvements_recently                    0\n",
       "informed_about_new_products              16017\n",
       "find_productst_i_want                        0\n",
       "i_enjoy_buying                               0\n",
       "dtype: int64"
      ]
     },
     "execution_count": 14,
     "metadata": {},
     "output_type": "execute_result"
    }
   ],
   "source": [
    "# Checking the NAN values in dataset:\n",
    "data.isna().sum()"
   ]
  },
  {
   "cell_type": "code",
   "execution_count": 19,
   "metadata": {},
   "outputs": [],
   "source": [
    "# Fixing NAN Values:\n",
    "data['gender'].fillna('3',inplace=True)"
   ]
  },
  {
   "cell_type": "code",
   "execution_count": 20,
   "metadata": {},
   "outputs": [
    {
     "data": {
      "text/html": [
       "<div>\n",
       "<style scoped>\n",
       "    .dataframe tbody tr th:only-of-type {\n",
       "        vertical-align: middle;\n",
       "    }\n",
       "\n",
       "    .dataframe tbody tr th {\n",
       "        vertical-align: top;\n",
       "    }\n",
       "\n",
       "    .dataframe thead th {\n",
       "        text-align: right;\n",
       "    }\n",
       "</style>\n",
       "<table border=\"1\" class=\"dataframe\">\n",
       "  <thead>\n",
       "    <tr style=\"text-align: right;\">\n",
       "      <th></th>\n",
       "      <th>respondent_id</th>\n",
       "      <th>churned</th>\n",
       "      <th>age</th>\n",
       "      <th>gender</th>\n",
       "      <th>loyalty_level</th>\n",
       "      <th>how_long_a_customer</th>\n",
       "      <th>how_far_away</th>\n",
       "      <th>feel_valued_as_customer</th>\n",
       "      <th>get_often_inspiration</th>\n",
       "      <th>good_product_overview</th>\n",
       "      <th>pick_up_flexibility</th>\n",
       "      <th>fair_prices</th>\n",
       "      <th>looking_forward_to_the_next_12_months</th>\n",
       "      <th>see_improvements_recently</th>\n",
       "      <th>informed_about_new_products</th>\n",
       "      <th>find_productst_i_want</th>\n",
       "      <th>i_enjoy_buying</th>\n",
       "    </tr>\n",
       "  </thead>\n",
       "  <tbody>\n",
       "    <tr>\n",
       "      <th>0</th>\n",
       "      <td>1</td>\n",
       "      <td>0</td>\n",
       "      <td>3</td>\n",
       "      <td>1</td>\n",
       "      <td>NaN</td>\n",
       "      <td>2</td>\n",
       "      <td>5.0</td>\n",
       "      <td>1</td>\n",
       "      <td>2</td>\n",
       "      <td>2</td>\n",
       "      <td>1</td>\n",
       "      <td>1</td>\n",
       "      <td>4</td>\n",
       "      <td>1</td>\n",
       "      <td>NaN</td>\n",
       "      <td>1</td>\n",
       "      <td>2</td>\n",
       "    </tr>\n",
       "    <tr>\n",
       "      <th>1</th>\n",
       "      <td>10</td>\n",
       "      <td>0</td>\n",
       "      <td>3</td>\n",
       "      <td>2</td>\n",
       "      <td>1.0</td>\n",
       "      <td>5</td>\n",
       "      <td>1.0</td>\n",
       "      <td>1</td>\n",
       "      <td>1</td>\n",
       "      <td>2</td>\n",
       "      <td>1</td>\n",
       "      <td>2</td>\n",
       "      <td>1</td>\n",
       "      <td>1</td>\n",
       "      <td>NaN</td>\n",
       "      <td>2</td>\n",
       "      <td>1</td>\n",
       "    </tr>\n",
       "    <tr>\n",
       "      <th>2</th>\n",
       "      <td>100</td>\n",
       "      <td>1</td>\n",
       "      <td>3</td>\n",
       "      <td>1</td>\n",
       "      <td>1.0</td>\n",
       "      <td>3</td>\n",
       "      <td>2.0</td>\n",
       "      <td>5</td>\n",
       "      <td>1</td>\n",
       "      <td>1</td>\n",
       "      <td>1</td>\n",
       "      <td>4</td>\n",
       "      <td>3</td>\n",
       "      <td>1</td>\n",
       "      <td>NaN</td>\n",
       "      <td>2</td>\n",
       "      <td>1</td>\n",
       "    </tr>\n",
       "    <tr>\n",
       "      <th>3</th>\n",
       "      <td>1000</td>\n",
       "      <td>0</td>\n",
       "      <td>3</td>\n",
       "      <td>1</td>\n",
       "      <td>3.0</td>\n",
       "      <td>6</td>\n",
       "      <td>1.0</td>\n",
       "      <td>1</td>\n",
       "      <td>1</td>\n",
       "      <td>4</td>\n",
       "      <td>1</td>\n",
       "      <td>5</td>\n",
       "      <td>2</td>\n",
       "      <td>2</td>\n",
       "      <td>NaN</td>\n",
       "      <td>1</td>\n",
       "      <td>1</td>\n",
       "    </tr>\n",
       "    <tr>\n",
       "      <th>4</th>\n",
       "      <td>10000</td>\n",
       "      <td>0</td>\n",
       "      <td>0</td>\n",
       "      <td>3</td>\n",
       "      <td>1.0</td>\n",
       "      <td>0</td>\n",
       "      <td>1.0</td>\n",
       "      <td>1</td>\n",
       "      <td>2</td>\n",
       "      <td>2</td>\n",
       "      <td>1</td>\n",
       "      <td>2</td>\n",
       "      <td>3</td>\n",
       "      <td>1</td>\n",
       "      <td>1.0</td>\n",
       "      <td>1</td>\n",
       "      <td>3</td>\n",
       "    </tr>\n",
       "  </tbody>\n",
       "</table>\n",
       "</div>"
      ],
      "text/plain": [
       "   respondent_id  churned  age gender  loyalty_level  how_long_a_customer  \\\n",
       "0              1        0    3      1            NaN                    2   \n",
       "1             10        0    3      2            1.0                    5   \n",
       "2            100        1    3      1            1.0                    3   \n",
       "3           1000        0    3      1            3.0                    6   \n",
       "4          10000        0    0      3            1.0                    0   \n",
       "\n",
       "   how_far_away  feel_valued_as_customer  get_often_inspiration  \\\n",
       "0           5.0                        1                      2   \n",
       "1           1.0                        1                      1   \n",
       "2           2.0                        5                      1   \n",
       "3           1.0                        1                      1   \n",
       "4           1.0                        1                      2   \n",
       "\n",
       "   good_product_overview  pick_up_flexibility  fair_prices  \\\n",
       "0                      2                    1            1   \n",
       "1                      2                    1            2   \n",
       "2                      1                    1            4   \n",
       "3                      4                    1            5   \n",
       "4                      2                    1            2   \n",
       "\n",
       "   looking_forward_to_the_next_12_months  see_improvements_recently  \\\n",
       "0                                      4                          1   \n",
       "1                                      1                          1   \n",
       "2                                      3                          1   \n",
       "3                                      2                          2   \n",
       "4                                      3                          1   \n",
       "\n",
       "   informed_about_new_products  find_productst_i_want  i_enjoy_buying  \n",
       "0                          NaN                      1               2  \n",
       "1                          NaN                      2               1  \n",
       "2                          NaN                      2               1  \n",
       "3                          NaN                      1               1  \n",
       "4                          1.0                      1               3  "
      ]
     },
     "execution_count": 20,
     "metadata": {},
     "output_type": "execute_result"
    }
   ],
   "source": [
    "data.head()"
   ]
  },
  {
   "cell_type": "code",
   "execution_count": 21,
   "metadata": {},
   "outputs": [
    {
     "data": {
      "text/plain": [
       "respondent_id                                0\n",
       "churned                                      0\n",
       "age                                          0\n",
       "gender                                       0\n",
       "loyalty_level                             5230\n",
       "how_long_a_customer                          0\n",
       "how_far_away                              1274\n",
       "feel_valued_as_customer                      0\n",
       "get_often_inspiration                        0\n",
       "good_product_overview                        0\n",
       "pick_up_flexibility                          0\n",
       "fair_prices                                  0\n",
       "looking_forward_to_the_next_12_months        0\n",
       "see_improvements_recently                    0\n",
       "informed_about_new_products              16017\n",
       "find_productst_i_want                        0\n",
       "i_enjoy_buying                               0\n",
       "dtype: int64"
      ]
     },
     "execution_count": 21,
     "metadata": {},
     "output_type": "execute_result"
    }
   ],
   "source": [
    "data.isna().sum()"
   ]
  },
  {
   "cell_type": "code",
   "execution_count": 23,
   "metadata": {},
   "outputs": [],
   "source": [
    "data.fillna(method='pad', inplace=True)"
   ]
  },
  {
   "cell_type": "code",
   "execution_count": 24,
   "metadata": {},
   "outputs": [
    {
     "data": {
      "text/plain": [
       "respondent_id                            0\n",
       "churned                                  0\n",
       "age                                      0\n",
       "gender                                   0\n",
       "loyalty_level                            1\n",
       "how_long_a_customer                      0\n",
       "how_far_away                             0\n",
       "feel_valued_as_customer                  0\n",
       "get_often_inspiration                    0\n",
       "good_product_overview                    0\n",
       "pick_up_flexibility                      0\n",
       "fair_prices                              0\n",
       "looking_forward_to_the_next_12_months    0\n",
       "see_improvements_recently                0\n",
       "informed_about_new_products              4\n",
       "find_productst_i_want                    0\n",
       "i_enjoy_buying                           0\n",
       "dtype: int64"
      ]
     },
     "execution_count": 24,
     "metadata": {},
     "output_type": "execute_result"
    }
   ],
   "source": [
    "data.isna().sum()"
   ]
  },
  {
   "cell_type": "code",
   "execution_count": 25,
   "metadata": {},
   "outputs": [],
   "source": [
    "data.fillna(method='bfill', inplace=True)"
   ]
  },
  {
   "cell_type": "code",
   "execution_count": 26,
   "metadata": {},
   "outputs": [
    {
     "data": {
      "text/plain": [
       "respondent_id                            0\n",
       "churned                                  0\n",
       "age                                      0\n",
       "gender                                   0\n",
       "loyalty_level                            0\n",
       "how_long_a_customer                      0\n",
       "how_far_away                             0\n",
       "feel_valued_as_customer                  0\n",
       "get_often_inspiration                    0\n",
       "good_product_overview                    0\n",
       "pick_up_flexibility                      0\n",
       "fair_prices                              0\n",
       "looking_forward_to_the_next_12_months    0\n",
       "see_improvements_recently                0\n",
       "informed_about_new_products              0\n",
       "find_productst_i_want                    0\n",
       "i_enjoy_buying                           0\n",
       "dtype: int64"
      ]
     },
     "execution_count": 26,
     "metadata": {},
     "output_type": "execute_result"
    }
   ],
   "source": [
    "data.isna().sum()"
   ]
  },
  {
   "cell_type": "markdown",
   "metadata": {},
   "source": [
    "**Now, The NAN values in the dataset is filled without affecting the orginal data present.**"
   ]
  },
  {
   "cell_type": "code",
   "execution_count": 27,
   "metadata": {},
   "outputs": [
    {
     "name": "stdout",
     "output_type": "stream",
     "text": [
      "<class 'pandas.core.frame.DataFrame'>\n",
      "RangeIndex: 24513 entries, 0 to 24512\n",
      "Data columns (total 17 columns):\n",
      " #   Column                                 Non-Null Count  Dtype  \n",
      "---  ------                                 --------------  -----  \n",
      " 0   respondent_id                          24513 non-null  int64  \n",
      " 1   churned                                24513 non-null  int64  \n",
      " 2   age                                    24513 non-null  int64  \n",
      " 3   gender                                 24513 non-null  object \n",
      " 4   loyalty_level                          24513 non-null  float64\n",
      " 5   how_long_a_customer                    24513 non-null  int64  \n",
      " 6   how_far_away                           24513 non-null  float64\n",
      " 7   feel_valued_as_customer                24513 non-null  int64  \n",
      " 8   get_often_inspiration                  24513 non-null  int64  \n",
      " 9   good_product_overview                  24513 non-null  int64  \n",
      " 10  pick_up_flexibility                    24513 non-null  int64  \n",
      " 11  fair_prices                            24513 non-null  int64  \n",
      " 12  looking_forward_to_the_next_12_months  24513 non-null  int64  \n",
      " 13  see_improvements_recently              24513 non-null  int64  \n",
      " 14  informed_about_new_products            24513 non-null  float64\n",
      " 15  find_productst_i_want                  24513 non-null  int64  \n",
      " 16  i_enjoy_buying                         24513 non-null  int64  \n",
      "dtypes: float64(3), int64(13), object(1)\n",
      "memory usage: 3.2+ MB\n"
     ]
    }
   ],
   "source": [
    "data.info() #Getting the refined information in the dataset"
   ]
  },
  {
   "cell_type": "markdown",
   "metadata": {},
   "source": [
    "- The gender column is categorical in nature. "
   ]
  },
  {
   "cell_type": "code",
   "execution_count": 28,
   "metadata": {},
   "outputs": [
    {
     "data": {
      "text/plain": [
       "Index(['respondent_id', 'churned', 'age', 'gender', 'loyalty_level',\n",
       "       'how_long_a_customer', 'how_far_away', 'feel_valued_as_customer',\n",
       "       'get_often_inspiration', 'good_product_overview', 'pick_up_flexibility',\n",
       "       'fair_prices', 'looking_forward_to_the_next_12_months',\n",
       "       'see_improvements_recently', 'informed_about_new_products',\n",
       "       'find_productst_i_want', 'i_enjoy_buying'],\n",
       "      dtype='object')"
      ]
     },
     "execution_count": 28,
     "metadata": {},
     "output_type": "execute_result"
    }
   ],
   "source": [
    "data.columns"
   ]
  },
  {
   "cell_type": "code",
   "execution_count": 32,
   "metadata": {},
   "outputs": [],
   "source": [
    "# As column - 'respondent_id' is not required for further analysis, thus dropping it:\n",
    "data = data.drop('respondent_id',axis=1)"
   ]
  },
  {
   "cell_type": "code",
   "execution_count": 37,
   "metadata": {},
   "outputs": [
    {
     "data": {
      "text/plain": [
       "(24513, 16)"
      ]
     },
     "execution_count": 37,
     "metadata": {},
     "output_type": "execute_result"
    }
   ],
   "source": [
    "data.shape"
   ]
  },
  {
   "cell_type": "markdown",
   "metadata": {},
   "source": [
    "# Understanding the data distribution and its outliers using BOX PLOT -"
   ]
  },
  {
   "cell_type": "code",
   "execution_count": 39,
   "metadata": {},
   "outputs": [
    {
     "data": {
      "image/png": "[encoded data removed]",
      "text/plain": [
       "<Figure size 432x288 with 1 Axes>"
      ]
     },
     "metadata": {
      "needs_background": "light"
     },
     "output_type": "display_data"
    }
   ],
   "source": [
    "# Boxplot of column - 'churned':\n",
    "plt.boxplot(data.churned)\n",
    "plt.show()"
   ]
  },
  {
   "cell_type": "markdown",
   "metadata": {},
   "source": [
    "- The churned columns is normally distributed with no outliers."
   ]
  },
  {
   "cell_type": "code",
   "execution_count": 40,
   "metadata": {},
   "outputs": [
    {
     "data": {
      "image/png": "[encoded data removed]",
      "text/plain": [
       "<Figure size 432x288 with 1 Axes>"
      ]
     },
     "metadata": {
      "needs_background": "light"
     },
     "output_type": "display_data"
    }
   ],
   "source": [
    "# Boxplot of column - 'age':\n",
    "plt.boxplot(data.age)\n",
    "plt.show()"
   ]
  },
  {
   "cell_type": "markdown",
   "metadata": {},
   "source": [
    "- The Age column is normally distributed with no outliers."
   ]
  },
  {
   "cell_type": "code",
   "execution_count": 42,
   "metadata": {},
   "outputs": [
    {
     "data": {
      "image/png": "[encoded data removed]",
      "text/plain": [
       "<Figure size 432x288 with 1 Axes>"
      ]
     },
     "metadata": {
      "needs_background": "light"
     },
     "output_type": "display_data"
    }
   ],
   "source": [
    "# Boxplot of column - 'loyalty_level':\n",
    "plt.boxplot(data.loyalty_level)\n",
    "plt.show()"
   ]
  },
  {
   "cell_type": "markdown",
   "metadata": {},
   "source": [
    "- It is clear that loyalty_level feature is not normally distributed with multiple outliers."
   ]
  },
  {
   "cell_type": "code",
   "execution_count": 43,
   "metadata": {},
   "outputs": [
    {
     "data": {
      "image/png": "[encoded data removed]",
      "text/plain": [
       "<Figure size 432x288 with 1 Axes>"
      ]
     },
     "metadata": {
      "needs_background": "light"
     },
     "output_type": "display_data"
    }
   ],
   "source": [
    "# Boxplot of column - 'how_long_a_customer':\n",
    "plt.boxplot(data.how_long_a_customer)\n",
    "plt.show()"
   ]
  },
  {
   "cell_type": "markdown",
   "metadata": {},
   "source": [
    "- This feature is normally distributed with no outliers."
   ]
  },
  {
   "cell_type": "code",
   "execution_count": 44,
   "metadata": {},
   "outputs": [
    {
     "data": {
      "image/png": "[encoded data removed]",
      "text/plain": [
       "<Figure size 432x288 with 1 Axes>"
      ]
     },
     "metadata": {
      "needs_background": "light"
     },
     "output_type": "display_data"
    }
   ],
   "source": [
    "# Boxplot of column - 'how_far_away':\n",
    "plt.boxplot(data.how_far_away)\n",
    "plt.show()"
   ]
  },
  {
   "cell_type": "markdown",
   "metadata": {},
   "source": [
    "- This feature is normally distributed with minor outliers."
   ]
  },
  {
   "cell_type": "code",
   "execution_count": 45,
   "metadata": {},
   "outputs": [
    {
     "data": {
      "image/png": "[encoded data removed]",
      "text/plain": [
       "<Figure size 432x288 with 1 Axes>"
      ]
     },
     "metadata": {
      "needs_background": "light"
     },
     "output_type": "display_data"
    }
   ],
   "source": [
    "# Boxplot of column - 'feel_valued_as_customer':\n",
    "plt.boxplot(data.feel_valued_as_customer)\n",
    "plt.show()"
   ]
  },
  {
   "cell_type": "markdown",
   "metadata": {},
   "source": [
    "- This feature is normally distributed with no outliers."
   ]
  },
  {
   "cell_type": "code",
   "execution_count": 46,
   "metadata": {},
   "outputs": [
    {
     "data": {
      "image/png": "[encoded data removed]",
      "text/plain": [
       "<Figure size 432x288 with 1 Axes>"
      ]
     },
     "metadata": {
      "needs_background": "light"
     },
     "output_type": "display_data"
    }
   ],
   "source": [
    "# Boxplot of column - 'get_often_inspiration':\n",
    "plt.boxplot(data.get_often_inspiration)\n",
    "plt.show()"
   ]
  },
  {
   "cell_type": "markdown",
   "metadata": {},
   "source": [
    "- This feature is normally distributed with no outliers."
   ]
  },
  {
   "cell_type": "code",
   "execution_count": 47,
   "metadata": {},
   "outputs": [
    {
     "data": {
      "image/png": "[encoded data removed]",
      "text/plain": [
       "<Figure size 432x288 with 1 Axes>"
      ]
     },
     "metadata": {
      "needs_background": "light"
     },
     "output_type": "display_data"
    }
   ],
   "source": [
    "# Boxplot of column - 'good_product_overview':\n",
    "plt.boxplot(data.good_product_overview)\n",
    "plt.show()"
   ]
  },
  {
   "cell_type": "markdown",
   "metadata": {},
   "source": [
    "- This feature is normally distributed and have zero outliers."
   ]
  },
  {
   "cell_type": "code",
   "execution_count": 48,
   "metadata": {},
   "outputs": [
    {
     "data": {
      "image/png": "[encoded data removed]",
      "text/plain": [
       "<Figure size 432x288 with 1 Axes>"
      ]
     },
     "metadata": {
      "needs_background": "light"
     },
     "output_type": "display_data"
    }
   ],
   "source": [
    "# Boxplot of column - 'pick_up_flexibility':\n",
    "plt.boxplot(data.pick_up_flexibility)\n",
    "plt.show()"
   ]
  },
  {
   "cell_type": "markdown",
   "metadata": {},
   "source": [
    "- This feature is not normally distributed and has few outliers."
   ]
  },
  {
   "cell_type": "code",
   "execution_count": 49,
   "metadata": {},
   "outputs": [
    {
     "data": {
      "image/png": "[encoded data removed]",
      "text/plain": [
       "<Figure size 432x288 with 1 Axes>"
      ]
     },
     "metadata": {
      "needs_background": "light"
     },
     "output_type": "display_data"
    }
   ],
   "source": [
    "# Boxplot of column - 'fair_prices':\n",
    "plt.boxplot(data.fair_prices)\n",
    "plt.show() "
   ]
  },
  {
   "cell_type": "markdown",
   "metadata": {},
   "source": [
    "- This feature is normally distributed with no outliers."
   ]
  },
  {
   "cell_type": "code",
   "execution_count": 50,
   "metadata": {},
   "outputs": [
    {
     "data": {
      "image/png": "[encoded data removed]",
      "text/plain": [
       "<Figure size 432x288 with 1 Axes>"
      ]
     },
     "metadata": {
      "needs_background": "light"
     },
     "output_type": "display_data"
    }
   ],
   "source": [
    "# Boxplot of column - 'looking_forward_to_the_next_12_months':\n",
    "plt.boxplot(data.looking_forward_to_the_next_12_months)\n",
    "plt.show() "
   ]
  },
  {
   "cell_type": "markdown",
   "metadata": {},
   "source": [
    "- This feature/column is normally distributed with no outliers."
   ]
  },
  {
   "cell_type": "code",
   "execution_count": 51,
   "metadata": {},
   "outputs": [
    {
     "data": {
      "image/png": "[encoded data removed]",
      "text/plain": [
       "<Figure size 432x288 with 1 Axes>"
      ]
     },
     "metadata": {
      "needs_background": "light"
     },
     "output_type": "display_data"
    }
   ],
   "source": [
    "# Boxplot of column - 'see_improvements_recently':\n",
    "plt.boxplot(data.see_improvements_recently)\n",
    "plt.show() "
   ]
  },
  {
   "cell_type": "markdown",
   "metadata": {},
   "source": [
    "- This feature is not normally distributed and have some outliers."
   ]
  },
  {
   "cell_type": "code",
   "execution_count": 52,
   "metadata": {},
   "outputs": [
    {
     "data": {
      "image/png": "[encoded data removed]",
      "text/plain": [
       "<Figure size 432x288 with 1 Axes>"
      ]
     },
     "metadata": {
      "needs_background": "light"
     },
     "output_type": "display_data"
    }
   ],
   "source": [
    "# Boxplot of column - 'informed_about_new_products':\n",
    "plt.boxplot(data.informed_about_new_products)\n",
    "plt.show() "
   ]
  },
  {
   "cell_type": "markdown",
   "metadata": {},
   "source": [
    "- This feature is normally distributed with and have zero outliers."
   ]
  },
  {
   "cell_type": "code",
   "execution_count": 53,
   "metadata": {},
   "outputs": [
    {
     "data": {
      "image/png": "[encoded data removed]",
      "text/plain": [
       "<Figure size 432x288 with 1 Axes>"
      ]
     },
     "metadata": {
      "needs_background": "light"
     },
     "output_type": "display_data"
    }
   ],
   "source": [
    "# Boxplot of column - 'find_productst_i_want':\n",
    "plt.boxplot(data.find_productst_i_want)\n",
    "plt.show() "
   ]
  },
  {
   "cell_type": "markdown",
   "metadata": {},
   "source": [
    "- This feature is normally distributed and have zero outliers."
   ]
  },
  {
   "cell_type": "code",
   "execution_count": 54,
   "metadata": {},
   "outputs": [
    {
     "data": {
      "image/png": "[encoded data removed]",
      "text/plain": [
       "<Figure size 432x288 with 1 Axes>"
      ]
     },
     "metadata": {
      "needs_background": "light"
     },
     "output_type": "display_data"
    }
   ],
   "source": [
    "# Boxplot of column - 'i_enjoy_buying':\n",
    "plt.boxplot(data.i_enjoy_buying)\n",
    "plt.show() "
   ]
  },
  {
   "cell_type": "markdown",
   "metadata": {},
   "source": [
    "- This feature/column from the dataset is not normally distributed and have multiple outliers."
   ]
  },
  {
   "cell_type": "markdown",
   "metadata": {},
   "source": [
    "# Using Countplots will visualize which cateegorization of the data in each feature w.r.t churned:"
   ]
  },
  {
   "cell_type": "code",
   "execution_count": 56,
   "metadata": {},
   "outputs": [
    {
     "data": {
      "image/png": "[encoded data removed]",
      "text/plain": [
       "<Figure size 432x288 with 1 Axes>"
      ]
     },
     "metadata": {
      "needs_background": "light"
     },
     "output_type": "display_data"
    }
   ],
   "source": [
    "# Countplot of Age w.r.t churned:\n",
    "sns.countplot(x ='age', hue = \"churned\", data = data)\n",
    "plt.show()"
   ]
  },
  {
   "cell_type": "code",
   "execution_count": 57,
   "metadata": {},
   "outputs": [
    {
     "data": {
      "image/png": "[encoded data removed]",
      "text/plain": [
       "<Figure size 432x288 with 1 Axes>"
      ]
     },
     "metadata": {
      "needs_background": "light"
     },
     "output_type": "display_data"
    }
   ],
   "source": [
    "# Countplot of gender w.r.t churned:\n",
    "sns.countplot(x ='gender', hue = \"churned\", data = data)\n",
    "plt.show()"
   ]
  },
  {
   "cell_type": "code",
   "execution_count": 58,
   "metadata": {},
   "outputs": [
    {
     "data": {
      "image/png": "[encoded data removed]",
      "text/plain": [
       "<Figure size 432x288 with 1 Axes>"
      ]
     },
     "metadata": {
      "needs_background": "light"
     },
     "output_type": "display_data"
    }
   ],
   "source": [
    "# Countplot of loyalty_level w.r.t churned:\n",
    "sns.countplot(x ='loyalty_level', hue = \"churned\", data = data)\n",
    "plt.show()"
   ]
  },
  {
   "cell_type": "code",
   "execution_count": 59,
   "metadata": {},
   "outputs": [
    {
     "data": {
      "image/png": "[encoded data removed]",
      "text/plain": [
       "<Figure size 432x288 with 1 Axes>"
      ]
     },
     "metadata": {
      "needs_background": "light"
     },
     "output_type": "display_data"
    }
   ],
   "source": [
    "# Countplot of how_long_a_customer w.r.t churned:\n",
    "sns.countplot(x ='how_long_a_customer', hue = \"churned\", data = data)\n",
    "plt.show()"
   ]
  },
  {
   "cell_type": "code",
   "execution_count": 60,
   "metadata": {},
   "outputs": [
    {
     "data": {
      "image/png": "[encoded data removed]",
      "text/plain": [
       "<Figure size 432x288 with 1 Axes>"
      ]
     },
     "metadata": {
      "needs_background": "light"
     },
     "output_type": "display_data"
    }
   ],
   "source": [
    "# Countplot of how_far_away w.r.t churned:\n",
    "sns.countplot(x ='how_far_away', hue = \"churned\", data = data)\n",
    "plt.show()"
   ]
  },
  {
   "cell_type": "code",
   "execution_count": 61,
   "metadata": {},
   "outputs": [
    {
     "data": {
      "image/png": "[encoded data removed]",
      "text/plain": [
       "<Figure size 432x288 with 1 Axes>"
      ]
     },
     "metadata": {
      "needs_background": "light"
     },
     "output_type": "display_data"
    }
   ],
   "source": [
    "# Countplot of feel_valued_as_customer w.r.t churned:\n",
    "sns.countplot(x ='feel_valued_as_customer', hue = \"churned\", data = data)\n",
    "plt.show()"
   ]
  },
  {
   "cell_type": "code",
   "execution_count": 62,
   "metadata": {},
   "outputs": [
    {
     "data": {
      "image/png": "[encoded data removed]",
      "text/plain": [
       "<Figure size 432x288 with 1 Axes>"
      ]
     },
     "metadata": {
      "needs_background": "light"
     },
     "output_type": "display_data"
    }
   ],
   "source": [
    "# Countplot of get_often_inspiration w.r.t churned:\n",
    "sns.countplot(x ='get_often_inspiration', hue = \"churned\", data = data)\n",
    "plt.show()"
   ]
  },
  {
   "cell_type": "code",
   "execution_count": 63,
   "metadata": {},
   "outputs": [
    {
     "data": {
      "image/png": "[encoded data removed]",
      "text/plain": [
       "<Figure size 432x288 with 1 Axes>"
      ]
     },
     "metadata": {
      "needs_background": "light"
     },
     "output_type": "display_data"
    }
   ],
   "source": [
    "# Countplot of good_product_overview w.r.t churned:\n",
    "sns.countplot(x ='good_product_overview', hue = \"churned\", data = data)\n",
    "plt.show()"
   ]
  },
  {
   "cell_type": "code",
   "execution_count": 65,
   "metadata": {},
   "outputs": [
    {
     "data": {
      "image/png": "[encoded data removed]",
      "text/plain": [
       "<Figure size 432x288 with 1 Axes>"
      ]
     },
     "metadata": {
      "needs_background": "light"
     },
     "output_type": "display_data"
    }
   ],
   "source": [
    "# Countplot of pick_up_flexibility w.r.t churned:\n",
    "sns.countplot(x ='pick_up_flexibility', hue = \"churned\", data = data)\n",
    "plt.show()"
   ]
  },
  {
   "cell_type": "code",
   "execution_count": 66,
   "metadata": {},
   "outputs": [
    {
     "data": {
      "image/png": "[encoded data removed]",
      "text/plain": [
       "<Figure size 432x288 with 1 Axes>"
      ]
     },
     "metadata": {
      "needs_background": "light"
     },
     "output_type": "display_data"
    }
   ],
   "source": [
    "# Countplot of fair_prices w.r.t churned:\n",
    "sns.countplot(x ='fair_prices', hue = \"churned\", data = data)\n",
    "plt.show()"
   ]
  },
  {
   "cell_type": "code",
   "execution_count": 67,
   "metadata": {},
   "outputs": [
    {
     "data": {
      "image/png": "[encoded data removed]",
      "text/plain": [
       "<Figure size 432x288 with 1 Axes>"
      ]
     },
     "metadata": {
      "needs_background": "light"
     },
     "output_type": "display_data"
    }
   ],
   "source": [
    "# Countplot of looking_forward_to_the_next_12_months w.r.t churned:\n",
    "sns.countplot(x ='looking_forward_to_the_next_12_months', hue = \"churned\", data = data)\n",
    "plt.show()"
   ]
  },
  {
   "cell_type": "code",
   "execution_count": 68,
   "metadata": {},
   "outputs": [
    {
     "data": {
      "image/png": "[encoded data removed]",
      "text/plain": [
       "<Figure size 432x288 with 1 Axes>"
      ]
     },
     "metadata": {
      "needs_background": "light"
     },
     "output_type": "display_data"
    }
   ],
   "source": [
    "# Countplot of see_improvements_recently w.r.t churned:\n",
    "sns.countplot(x ='see_improvements_recently', hue = \"churned\", data = data)\n",
    "plt.show()"
   ]
  },
  {
   "cell_type": "code",
   "execution_count": 69,
   "metadata": {},
   "outputs": [
    {
     "data": {
      "image/png": "[encoded data removed]",
      "text/plain": [
       "<Figure size 432x288 with 1 Axes>"
      ]
     },
     "metadata": {
      "needs_background": "light"
     },
     "output_type": "display_data"
    }
   ],
   "source": [
    "# Countplot of informed_about_new_products w.r.t churned:\n",
    "sns.countplot(x ='informed_about_new_products', hue = \"churned\", data = data)\n",
    "plt.show()"
   ]
  },
  {
   "cell_type": "code",
   "execution_count": 70,
   "metadata": {},
   "outputs": [
    {
     "data": {
      "image/png": "[encoded data removed]",
      "text/plain": [
       "<Figure size 432x288 with 1 Axes>"
      ]
     },
     "metadata": {
      "needs_background": "light"
     },
     "output_type": "display_data"
    }
   ],
   "source": [
    "# Countplot of find_productst_i_want w.r.t churned:\n",
    "sns.countplot(x ='find_productst_i_want', hue = \"churned\", data = data)\n",
    "plt.show()"
   ]
  },
  {
   "cell_type": "code",
   "execution_count": 71,
   "metadata": {},
   "outputs": [
    {
     "data": {
      "image/png": "[encoded data removed]",
      "text/plain": [
       "<Figure size 432x288 with 1 Axes>"
      ]
     },
     "metadata": {
      "needs_background": "light"
     },
     "output_type": "display_data"
    }
   ],
   "source": [
    "# Countplot of i_enjoy_buying w.r.t churned:\n",
    "sns.countplot(x ='i_enjoy_buying', hue = \"churned\", data = data)\n",
    "plt.show()"
   ]
  },
  {
   "cell_type": "markdown",
   "metadata": {},
   "source": [
    "# Understanding correlation matrix for our data: "
   ]
  },
  {
   "cell_type": "code",
   "execution_count": 75,
   "metadata": {},
   "outputs": [
    {
     "data": {
      "text/html": [
       "<div>\n",
       "<style scoped>\n",
       "    .dataframe tbody tr th:only-of-type {\n",
       "        vertical-align: middle;\n",
       "    }\n",
       "\n",
       "    .dataframe tbody tr th {\n",
       "        vertical-align: top;\n",
       "    }\n",
       "\n",
       "    .dataframe thead th {\n",
       "        text-align: right;\n",
       "    }\n",
       "</style>\n",
       "<table border=\"1\" class=\"dataframe\">\n",
       "  <thead>\n",
       "    <tr style=\"text-align: right;\">\n",
       "      <th></th>\n",
       "      <th>churned</th>\n",
       "      <th>age</th>\n",
       "      <th>loyalty_level</th>\n",
       "      <th>how_long_a_customer</th>\n",
       "      <th>how_far_away</th>\n",
       "      <th>feel_valued_as_customer</th>\n",
       "      <th>get_often_inspiration</th>\n",
       "      <th>good_product_overview</th>\n",
       "      <th>pick_up_flexibility</th>\n",
       "      <th>fair_prices</th>\n",
       "      <th>looking_forward_to_the_next_12_months</th>\n",
       "      <th>see_improvements_recently</th>\n",
       "      <th>informed_about_new_products</th>\n",
       "      <th>find_productst_i_want</th>\n",
       "      <th>i_enjoy_buying</th>\n",
       "    </tr>\n",
       "  </thead>\n",
       "  <tbody>\n",
       "    <tr>\n",
       "      <th>churned</th>\n",
       "      <td>1.000000</td>\n",
       "      <td>-0.120859</td>\n",
       "      <td>-0.014008</td>\n",
       "      <td>0.036570</td>\n",
       "      <td>0.058453</td>\n",
       "      <td>0.423746</td>\n",
       "      <td>0.361249</td>\n",
       "      <td>0.304843</td>\n",
       "      <td>0.311136</td>\n",
       "      <td>0.329034</td>\n",
       "      <td>0.320586</td>\n",
       "      <td>0.234604</td>\n",
       "      <td>0.107226</td>\n",
       "      <td>0.426559</td>\n",
       "      <td>0.467849</td>\n",
       "    </tr>\n",
       "    <tr>\n",
       "      <th>age</th>\n",
       "      <td>-0.120859</td>\n",
       "      <td>1.000000</td>\n",
       "      <td>-0.026596</td>\n",
       "      <td>0.548247</td>\n",
       "      <td>-0.052514</td>\n",
       "      <td>-0.030424</td>\n",
       "      <td>-0.103812</td>\n",
       "      <td>-0.027520</td>\n",
       "      <td>-0.056023</td>\n",
       "      <td>0.030212</td>\n",
       "      <td>0.028738</td>\n",
       "      <td>-0.024088</td>\n",
       "      <td>0.003714</td>\n",
       "      <td>-0.073362</td>\n",
       "      <td>-0.027052</td>\n",
       "    </tr>\n",
       "    <tr>\n",
       "      <th>loyalty_level</th>\n",
       "      <td>-0.014008</td>\n",
       "      <td>-0.026596</td>\n",
       "      <td>1.000000</td>\n",
       "      <td>0.039749</td>\n",
       "      <td>0.112056</td>\n",
       "      <td>-0.059343</td>\n",
       "      <td>-0.065220</td>\n",
       "      <td>-0.124654</td>\n",
       "      <td>0.057616</td>\n",
       "      <td>0.076701</td>\n",
       "      <td>-0.079069</td>\n",
       "      <td>-0.060995</td>\n",
       "      <td>-0.029315</td>\n",
       "      <td>-0.078109</td>\n",
       "      <td>-0.071990</td>\n",
       "    </tr>\n",
       "    <tr>\n",
       "      <th>how_long_a_customer</th>\n",
       "      <td>0.036570</td>\n",
       "      <td>0.548247</td>\n",
       "      <td>0.039749</td>\n",
       "      <td>1.000000</td>\n",
       "      <td>-0.007754</td>\n",
       "      <td>0.092716</td>\n",
       "      <td>-0.017707</td>\n",
       "      <td>0.036451</td>\n",
       "      <td>0.028375</td>\n",
       "      <td>0.129906</td>\n",
       "      <td>0.125685</td>\n",
       "      <td>0.070061</td>\n",
       "      <td>0.033836</td>\n",
       "      <td>0.056562</td>\n",
       "      <td>0.132003</td>\n",
       "    </tr>\n",
       "    <tr>\n",
       "      <th>how_far_away</th>\n",
       "      <td>0.058453</td>\n",
       "      <td>-0.052514</td>\n",
       "      <td>0.112056</td>\n",
       "      <td>-0.007754</td>\n",
       "      <td>1.000000</td>\n",
       "      <td>0.000699</td>\n",
       "      <td>0.007237</td>\n",
       "      <td>-0.029553</td>\n",
       "      <td>0.066362</td>\n",
       "      <td>0.044061</td>\n",
       "      <td>-0.016981</td>\n",
       "      <td>-0.014599</td>\n",
       "      <td>0.010448</td>\n",
       "      <td>0.007820</td>\n",
       "      <td>-0.002367</td>\n",
       "    </tr>\n",
       "    <tr>\n",
       "      <th>feel_valued_as_customer</th>\n",
       "      <td>0.423746</td>\n",
       "      <td>-0.030424</td>\n",
       "      <td>-0.059343</td>\n",
       "      <td>0.092716</td>\n",
       "      <td>0.000699</td>\n",
       "      <td>1.000000</td>\n",
       "      <td>0.524852</td>\n",
       "      <td>0.510312</td>\n",
       "      <td>0.442440</td>\n",
       "      <td>0.418110</td>\n",
       "      <td>0.358377</td>\n",
       "      <td>0.347257</td>\n",
       "      <td>0.197729</td>\n",
       "      <td>0.621734</td>\n",
       "      <td>0.609424</td>\n",
       "    </tr>\n",
       "    <tr>\n",
       "      <th>get_often_inspiration</th>\n",
       "      <td>0.361249</td>\n",
       "      <td>-0.103812</td>\n",
       "      <td>-0.065220</td>\n",
       "      <td>-0.017707</td>\n",
       "      <td>0.007237</td>\n",
       "      <td>0.524852</td>\n",
       "      <td>1.000000</td>\n",
       "      <td>0.501636</td>\n",
       "      <td>0.372328</td>\n",
       "      <td>0.323189</td>\n",
       "      <td>0.311923</td>\n",
       "      <td>0.334323</td>\n",
       "      <td>0.162233</td>\n",
       "      <td>0.524034</td>\n",
       "      <td>0.516269</td>\n",
       "    </tr>\n",
       "    <tr>\n",
       "      <th>good_product_overview</th>\n",
       "      <td>0.304843</td>\n",
       "      <td>-0.027520</td>\n",
       "      <td>-0.124654</td>\n",
       "      <td>0.036451</td>\n",
       "      <td>-0.029553</td>\n",
       "      <td>0.510312</td>\n",
       "      <td>0.501636</td>\n",
       "      <td>1.000000</td>\n",
       "      <td>0.326443</td>\n",
       "      <td>0.316999</td>\n",
       "      <td>0.347884</td>\n",
       "      <td>0.353717</td>\n",
       "      <td>0.168693</td>\n",
       "      <td>0.497454</td>\n",
       "      <td>0.509166</td>\n",
       "    </tr>\n",
       "    <tr>\n",
       "      <th>pick_up_flexibility</th>\n",
       "      <td>0.311136</td>\n",
       "      <td>-0.056023</td>\n",
       "      <td>0.057616</td>\n",
       "      <td>0.028375</td>\n",
       "      <td>0.066362</td>\n",
       "      <td>0.442440</td>\n",
       "      <td>0.372328</td>\n",
       "      <td>0.326443</td>\n",
       "      <td>1.000000</td>\n",
       "      <td>0.351237</td>\n",
       "      <td>0.226144</td>\n",
       "      <td>0.278551</td>\n",
       "      <td>0.122716</td>\n",
       "      <td>0.388289</td>\n",
       "      <td>0.395848</td>\n",
       "    </tr>\n",
       "    <tr>\n",
       "      <th>fair_prices</th>\n",
       "      <td>0.329034</td>\n",
       "      <td>0.030212</td>\n",
       "      <td>0.076701</td>\n",
       "      <td>0.129906</td>\n",
       "      <td>0.044061</td>\n",
       "      <td>0.418110</td>\n",
       "      <td>0.323189</td>\n",
       "      <td>0.316999</td>\n",
       "      <td>0.351237</td>\n",
       "      <td>1.000000</td>\n",
       "      <td>0.242252</td>\n",
       "      <td>0.254640</td>\n",
       "      <td>0.124003</td>\n",
       "      <td>0.363996</td>\n",
       "      <td>0.436478</td>\n",
       "    </tr>\n",
       "    <tr>\n",
       "      <th>looking_forward_to_the_next_12_months</th>\n",
       "      <td>0.320586</td>\n",
       "      <td>0.028738</td>\n",
       "      <td>-0.079069</td>\n",
       "      <td>0.125685</td>\n",
       "      <td>-0.016981</td>\n",
       "      <td>0.358377</td>\n",
       "      <td>0.311923</td>\n",
       "      <td>0.347884</td>\n",
       "      <td>0.226144</td>\n",
       "      <td>0.242252</td>\n",
       "      <td>1.000000</td>\n",
       "      <td>0.245969</td>\n",
       "      <td>0.112840</td>\n",
       "      <td>0.359270</td>\n",
       "      <td>0.407202</td>\n",
       "    </tr>\n",
       "    <tr>\n",
       "      <th>see_improvements_recently</th>\n",
       "      <td>0.234604</td>\n",
       "      <td>-0.024088</td>\n",
       "      <td>-0.060995</td>\n",
       "      <td>0.070061</td>\n",
       "      <td>-0.014599</td>\n",
       "      <td>0.347257</td>\n",
       "      <td>0.334323</td>\n",
       "      <td>0.353717</td>\n",
       "      <td>0.278551</td>\n",
       "      <td>0.254640</td>\n",
       "      <td>0.245969</td>\n",
       "      <td>1.000000</td>\n",
       "      <td>0.121413</td>\n",
       "      <td>0.406746</td>\n",
       "      <td>0.437788</td>\n",
       "    </tr>\n",
       "    <tr>\n",
       "      <th>informed_about_new_products</th>\n",
       "      <td>0.107226</td>\n",
       "      <td>0.003714</td>\n",
       "      <td>-0.029315</td>\n",
       "      <td>0.033836</td>\n",
       "      <td>0.010448</td>\n",
       "      <td>0.197729</td>\n",
       "      <td>0.162233</td>\n",
       "      <td>0.168693</td>\n",
       "      <td>0.122716</td>\n",
       "      <td>0.124003</td>\n",
       "      <td>0.112840</td>\n",
       "      <td>0.121413</td>\n",
       "      <td>1.000000</td>\n",
       "      <td>0.177731</td>\n",
       "      <td>0.185039</td>\n",
       "    </tr>\n",
       "    <tr>\n",
       "      <th>find_productst_i_want</th>\n",
       "      <td>0.426559</td>\n",
       "      <td>-0.073362</td>\n",
       "      <td>-0.078109</td>\n",
       "      <td>0.056562</td>\n",
       "      <td>0.007820</td>\n",
       "      <td>0.621734</td>\n",
       "      <td>0.524034</td>\n",
       "      <td>0.497454</td>\n",
       "      <td>0.388289</td>\n",
       "      <td>0.363996</td>\n",
       "      <td>0.359270</td>\n",
       "      <td>0.406746</td>\n",
       "      <td>0.177731</td>\n",
       "      <td>1.000000</td>\n",
       "      <td>0.648572</td>\n",
       "    </tr>\n",
       "    <tr>\n",
       "      <th>i_enjoy_buying</th>\n",
       "      <td>0.467849</td>\n",
       "      <td>-0.027052</td>\n",
       "      <td>-0.071990</td>\n",
       "      <td>0.132003</td>\n",
       "      <td>-0.002367</td>\n",
       "      <td>0.609424</td>\n",
       "      <td>0.516269</td>\n",
       "      <td>0.509166</td>\n",
       "      <td>0.395848</td>\n",
       "      <td>0.436478</td>\n",
       "      <td>0.407202</td>\n",
       "      <td>0.437788</td>\n",
       "      <td>0.185039</td>\n",
       "      <td>0.648572</td>\n",
       "      <td>1.000000</td>\n",
       "    </tr>\n",
       "  </tbody>\n",
       "</table>\n",
       "</div>"
      ],
      "text/plain": [
       "                                        churned       age  loyalty_level  \\\n",
       "churned                                1.000000 -0.120859      -0.014008   \n",
       "age                                   -0.120859  1.000000      -0.026596   \n",
       "loyalty_level                         -0.014008 -0.026596       1.000000   \n",
       "how_long_a_customer                    0.036570  0.548247       0.039749   \n",
       "how_far_away                           0.058453 -0.052514       0.112056   \n",
       "feel_valued_as_customer                0.423746 -0.030424      -0.059343   \n",
       "get_often_inspiration                  0.361249 -0.103812      -0.065220   \n",
       "good_product_overview                  0.304843 -0.027520      -0.124654   \n",
       "pick_up_flexibility                    0.311136 -0.056023       0.057616   \n",
       "fair_prices                            0.329034  0.030212       0.076701   \n",
       "looking_forward_to_the_next_12_months  0.320586  0.028738      -0.079069   \n",
       "see_improvements_recently              0.234604 -0.024088      -0.060995   \n",
       "informed_about_new_products            0.107226  0.003714      -0.029315   \n",
       "find_productst_i_want                  0.426559 -0.073362      -0.078109   \n",
       "i_enjoy_buying                         0.467849 -0.027052      -0.071990   \n",
       "\n",
       "                                       how_long_a_customer  how_far_away  \\\n",
       "churned                                           0.036570      0.058453   \n",
       "age                                               0.548247     -0.052514   \n",
       "loyalty_level                                     0.039749      0.112056   \n",
       "how_long_a_customer                               1.000000     -0.007754   \n",
       "how_far_away                                     -0.007754      1.000000   \n",
       "feel_valued_as_customer                           0.092716      0.000699   \n",
       "get_often_inspiration                            -0.017707      0.007237   \n",
       "good_product_overview                             0.036451     -0.029553   \n",
       "pick_up_flexibility                               0.028375      0.066362   \n",
       "fair_prices                                       0.129906      0.044061   \n",
       "looking_forward_to_the_next_12_months             0.125685     -0.016981   \n",
       "see_improvements_recently                         0.070061     -0.014599   \n",
       "informed_about_new_products                       0.033836      0.010448   \n",
       "find_productst_i_want                             0.056562      0.007820   \n",
       "i_enjoy_buying                                    0.132003     -0.002367   \n",
       "\n",
       "                                       feel_valued_as_customer  \\\n",
       "churned                                               0.423746   \n",
       "age                                                  -0.030424   \n",
       "loyalty_level                                        -0.059343   \n",
       "how_long_a_customer                                   0.092716   \n",
       "how_far_away                                          0.000699   \n",
       "feel_valued_as_customer                               1.000000   \n",
       "get_often_inspiration                                 0.524852   \n",
       "good_product_overview                                 0.510312   \n",
       "pick_up_flexibility                                   0.442440   \n",
       "fair_prices                                           0.418110   \n",
       "looking_forward_to_the_next_12_months                 0.358377   \n",
       "see_improvements_recently                             0.347257   \n",
       "informed_about_new_products                           0.197729   \n",
       "find_productst_i_want                                 0.621734   \n",
       "i_enjoy_buying                                        0.609424   \n",
       "\n",
       "                                       get_often_inspiration  \\\n",
       "churned                                             0.361249   \n",
       "age                                                -0.103812   \n",
       "loyalty_level                                      -0.065220   \n",
       "how_long_a_customer                                -0.017707   \n",
       "how_far_away                                        0.007237   \n",
       "feel_valued_as_customer                             0.524852   \n",
       "get_often_inspiration                               1.000000   \n",
       "good_product_overview                               0.501636   \n",
       "pick_up_flexibility                                 0.372328   \n",
       "fair_prices                                         0.323189   \n",
       "looking_forward_to_the_next_12_months               0.311923   \n",
       "see_improvements_recently                           0.334323   \n",
       "informed_about_new_products                         0.162233   \n",
       "find_productst_i_want                               0.524034   \n",
       "i_enjoy_buying                                      0.516269   \n",
       "\n",
       "                                       good_product_overview  \\\n",
       "churned                                             0.304843   \n",
       "age                                                -0.027520   \n",
       "loyalty_level                                      -0.124654   \n",
       "how_long_a_customer                                 0.036451   \n",
       "how_far_away                                       -0.029553   \n",
       "feel_valued_as_customer                             0.510312   \n",
       "get_often_inspiration                               0.501636   \n",
       "good_product_overview                               1.000000   \n",
       "pick_up_flexibility                                 0.326443   \n",
       "fair_prices                                         0.316999   \n",
       "looking_forward_to_the_next_12_months               0.347884   \n",
       "see_improvements_recently                           0.353717   \n",
       "informed_about_new_products                         0.168693   \n",
       "find_productst_i_want                               0.497454   \n",
       "i_enjoy_buying                                      0.509166   \n",
       "\n",
       "                                       pick_up_flexibility  fair_prices  \\\n",
       "churned                                           0.311136     0.329034   \n",
       "age                                              -0.056023     0.030212   \n",
       "loyalty_level                                     0.057616     0.076701   \n",
       "how_long_a_customer                               0.028375     0.129906   \n",
       "how_far_away                                      0.066362     0.044061   \n",
       "feel_valued_as_customer                           0.442440     0.418110   \n",
       "get_often_inspiration                             0.372328     0.323189   \n",
       "good_product_overview                             0.326443     0.316999   \n",
       "pick_up_flexibility                               1.000000     0.351237   \n",
       "fair_prices                                       0.351237     1.000000   \n",
       "looking_forward_to_the_next_12_months             0.226144     0.242252   \n",
       "see_improvements_recently                         0.278551     0.254640   \n",
       "informed_about_new_products                       0.122716     0.124003   \n",
       "find_productst_i_want                             0.388289     0.363996   \n",
       "i_enjoy_buying                                    0.395848     0.436478   \n",
       "\n",
       "                                       looking_forward_to_the_next_12_months  \\\n",
       "churned                                                             0.320586   \n",
       "age                                                                 0.028738   \n",
       "loyalty_level                                                      -0.079069   \n",
       "how_long_a_customer                                                 0.125685   \n",
       "how_far_away                                                       -0.016981   \n",
       "feel_valued_as_customer                                             0.358377   \n",
       "get_often_inspiration                                               0.311923   \n",
       "good_product_overview                                               0.347884   \n",
       "pick_up_flexibility                                                 0.226144   \n",
       "fair_prices                                                         0.242252   \n",
       "looking_forward_to_the_next_12_months                               1.000000   \n",
       "see_improvements_recently                                           0.245969   \n",
       "informed_about_new_products                                         0.112840   \n",
       "find_productst_i_want                                               0.359270   \n",
       "i_enjoy_buying                                                      0.407202   \n",
       "\n",
       "                                       see_improvements_recently  \\\n",
       "churned                                                 0.234604   \n",
       "age                                                    -0.024088   \n",
       "loyalty_level                                          -0.060995   \n",
       "how_long_a_customer                                     0.070061   \n",
       "how_far_away                                           -0.014599   \n",
       "feel_valued_as_customer                                 0.347257   \n",
       "get_often_inspiration                                   0.334323   \n",
       "good_product_overview                                   0.353717   \n",
       "pick_up_flexibility                                     0.278551   \n",
       "fair_prices                                             0.254640   \n",
       "looking_forward_to_the_next_12_months                   0.245969   \n",
       "see_improvements_recently                               1.000000   \n",
       "informed_about_new_products                             0.121413   \n",
       "find_productst_i_want                                   0.406746   \n",
       "i_enjoy_buying                                          0.437788   \n",
       "\n",
       "                                       informed_about_new_products  \\\n",
       "churned                                                   0.107226   \n",
       "age                                                       0.003714   \n",
       "loyalty_level                                            -0.029315   \n",
       "how_long_a_customer                                       0.033836   \n",
       "how_far_away                                              0.010448   \n",
       "feel_valued_as_customer                                   0.197729   \n",
       "get_often_inspiration                                     0.162233   \n",
       "good_product_overview                                     0.168693   \n",
       "pick_up_flexibility                                       0.122716   \n",
       "fair_prices                                               0.124003   \n",
       "looking_forward_to_the_next_12_months                     0.112840   \n",
       "see_improvements_recently                                 0.121413   \n",
       "informed_about_new_products                               1.000000   \n",
       "find_productst_i_want                                     0.177731   \n",
       "i_enjoy_buying                                            0.185039   \n",
       "\n",
       "                                       find_productst_i_want  i_enjoy_buying  \n",
       "churned                                             0.426559        0.467849  \n",
       "age                                                -0.073362       -0.027052  \n",
       "loyalty_level                                      -0.078109       -0.071990  \n",
       "how_long_a_customer                                 0.056562        0.132003  \n",
       "how_far_away                                        0.007820       -0.002367  \n",
       "feel_valued_as_customer                             0.621734        0.609424  \n",
       "get_often_inspiration                               0.524034        0.516269  \n",
       "good_product_overview                               0.497454        0.509166  \n",
       "pick_up_flexibility                                 0.388289        0.395848  \n",
       "fair_prices                                         0.363996        0.436478  \n",
       "looking_forward_to_the_next_12_months               0.359270        0.407202  \n",
       "see_improvements_recently                           0.406746        0.437788  \n",
       "informed_about_new_products                         0.177731        0.185039  \n",
       "find_productst_i_want                               1.000000        0.648572  \n",
       "i_enjoy_buying                                      0.648572        1.000000  "
      ]
     },
     "execution_count": 75,
     "metadata": {},
     "output_type": "execute_result"
    }
   ],
   "source": [
    "data.corr()"
   ]
  },
  {
   "cell_type": "markdown",
   "metadata": {},
   "source": [
    "- From the above correlation matrix, it is inferrable that all the features has some effect over the churned, all features positively or negatively affect the churn of customers."
   ]
  },
  {
   "cell_type": "markdown",
   "metadata": {},
   "source": [
    "# Using Heatmap to display various correlation between different fields -"
   ]
  },
  {
   "cell_type": "code",
   "execution_count": 77,
   "metadata": {},
   "outputs": [
    {
     "data": {
      "image/png": "[encoded data removed]",
      "text/plain": [
       "<Figure size 1440x1440 with 2 Axes>"
      ]
     },
     "metadata": {
      "needs_background": "light"
     },
     "output_type": "display_data"
    }
   ],
   "source": [
    "fig, ax = plt.subplots(figsize=(20,20))\n",
    "sns.heatmap(data.corr(), ax=ax, annot=True, vmin=-1, vmax=1, center=0, cmap='coolwarm');"
   ]
  },
  {
   "cell_type": "markdown",
   "metadata": {},
   "source": [
    "# Building a correlation of all predictors with churned variable:"
   ]
  },
  {
   "cell_type": "code",
   "execution_count": 78,
   "metadata": {},
   "outputs": [
    {
     "data": {
      "image/png": "[encoded data removed]",
      "text/plain": [
       "<Figure size 720x576 with 1 Axes>"
      ]
     },
     "metadata": {
      "needs_background": "light"
     },
     "output_type": "display_data"
    }
   ],
   "source": [
    "plt.figure(figsize=(10,8))\n",
    "data.corr()['churned'].sort_values(ascending = False).plot(kind='bar');"
   ]
  },
  {
   "cell_type": "markdown",
   "metadata": {},
   "source": [
    "# Inference from Heatmap and Correlation Graph:\n",
    "\n",
    "- The Churn of the customer has strong positive coreelation with 'i_enjoy_buying', 'find_productst_i_want', 'feel_valued_as_customer'. Weak Positive correlation with 'informed_about_new_products', 'how_long_a_customer', 'how_far_away'.\n",
    "- The churn of the customer as a weak negative correlation wth feature: 'age' & 'loyalty_level'.\n",
    "\n",
    "- The correlation data made it simple for us to look onto features having strong correlation with out traget feature, i.e churned column in the dataset."
   ]
  },
  {
   "cell_type": "markdown",
   "metadata": {},
   "source": [
    "# Using One - Hot Encoding to categorise our feature columns with '1' & '0's, for easy computation(Excluding churned column):"
   ]
  },
  {
   "cell_type": "code",
   "execution_count": 81,
   "metadata": {},
   "outputs": [],
   "source": [
    "data1 = pd.get_dummies(data, columns=['age', 'gender', 'loyalty_level', 'how_long_a_customer',\n",
    "       'how_far_away', 'feel_valued_as_customer', 'get_often_inspiration',\n",
    "       'good_product_overview', 'pick_up_flexibility', 'fair_prices',\n",
    "       'looking_forward_to_the_next_12_months', 'see_improvements_recently',\n",
    "       'informed_about_new_products', 'find_productst_i_want',\n",
    "       'i_enjoy_buying'])"
   ]
  },
  {
   "cell_type": "code",
   "execution_count": 84,
   "metadata": {},
   "outputs": [
    {
     "data": {
      "text/html": [
       "<div>\n",
       "<style scoped>\n",
       "    .dataframe tbody tr th:only-of-type {\n",
       "        vertical-align: middle;\n",
       "    }\n",
       "\n",
       "    .dataframe tbody tr th {\n",
       "        vertical-align: top;\n",
       "    }\n",
       "\n",
       "    .dataframe thead th {\n",
       "        text-align: right;\n",
       "    }\n",
       "</style>\n",
       "<table border=\"1\" class=\"dataframe\">\n",
       "  <thead>\n",
       "    <tr style=\"text-align: right;\">\n",
       "      <th></th>\n",
       "      <th>churned</th>\n",
       "      <th>age_0</th>\n",
       "      <th>age_1</th>\n",
       "      <th>age_2</th>\n",
       "      <th>age_3</th>\n",
       "      <th>age_4</th>\n",
       "      <th>age_5</th>\n",
       "      <th>age_6</th>\n",
       "      <th>gender_0.0</th>\n",
       "      <th>gender_1.0</th>\n",
       "      <th>...</th>\n",
       "      <th>find_productst_i_want_2</th>\n",
       "      <th>find_productst_i_want_3</th>\n",
       "      <th>find_productst_i_want_4</th>\n",
       "      <th>find_productst_i_want_5</th>\n",
       "      <th>i_enjoy_buying_0</th>\n",
       "      <th>i_enjoy_buying_1</th>\n",
       "      <th>i_enjoy_buying_2</th>\n",
       "      <th>i_enjoy_buying_3</th>\n",
       "      <th>i_enjoy_buying_4</th>\n",
       "      <th>i_enjoy_buying_5</th>\n",
       "    </tr>\n",
       "  </thead>\n",
       "  <tbody>\n",
       "    <tr>\n",
       "      <th>0</th>\n",
       "      <td>0</td>\n",
       "      <td>0</td>\n",
       "      <td>0</td>\n",
       "      <td>0</td>\n",
       "      <td>1</td>\n",
       "      <td>0</td>\n",
       "      <td>0</td>\n",
       "      <td>0</td>\n",
       "      <td>0</td>\n",
       "      <td>1</td>\n",
       "      <td>...</td>\n",
       "      <td>0</td>\n",
       "      <td>0</td>\n",
       "      <td>0</td>\n",
       "      <td>0</td>\n",
       "      <td>0</td>\n",
       "      <td>0</td>\n",
       "      <td>1</td>\n",
       "      <td>0</td>\n",
       "      <td>0</td>\n",
       "      <td>0</td>\n",
       "    </tr>\n",
       "    <tr>\n",
       "      <th>1</th>\n",
       "      <td>0</td>\n",
       "      <td>0</td>\n",
       "      <td>0</td>\n",
       "      <td>0</td>\n",
       "      <td>1</td>\n",
       "      <td>0</td>\n",
       "      <td>0</td>\n",
       "      <td>0</td>\n",
       "      <td>0</td>\n",
       "      <td>0</td>\n",
       "      <td>...</td>\n",
       "      <td>1</td>\n",
       "      <td>0</td>\n",
       "      <td>0</td>\n",
       "      <td>0</td>\n",
       "      <td>0</td>\n",
       "      <td>1</td>\n",
       "      <td>0</td>\n",
       "      <td>0</td>\n",
       "      <td>0</td>\n",
       "      <td>0</td>\n",
       "    </tr>\n",
       "    <tr>\n",
       "      <th>2</th>\n",
       "      <td>1</td>\n",
       "      <td>0</td>\n",
       "      <td>0</td>\n",
       "      <td>0</td>\n",
       "      <td>1</td>\n",
       "      <td>0</td>\n",
       "      <td>0</td>\n",
       "      <td>0</td>\n",
       "      <td>0</td>\n",
       "      <td>1</td>\n",
       "      <td>...</td>\n",
       "      <td>1</td>\n",
       "      <td>0</td>\n",
       "      <td>0</td>\n",
       "      <td>0</td>\n",
       "      <td>0</td>\n",
       "      <td>1</td>\n",
       "      <td>0</td>\n",
       "      <td>0</td>\n",
       "      <td>0</td>\n",
       "      <td>0</td>\n",
       "    </tr>\n",
       "    <tr>\n",
       "      <th>3</th>\n",
       "      <td>0</td>\n",
       "      <td>0</td>\n",
       "      <td>0</td>\n",
       "      <td>0</td>\n",
       "      <td>1</td>\n",
       "      <td>0</td>\n",
       "      <td>0</td>\n",
       "      <td>0</td>\n",
       "      <td>0</td>\n",
       "      <td>1</td>\n",
       "      <td>...</td>\n",
       "      <td>0</td>\n",
       "      <td>0</td>\n",
       "      <td>0</td>\n",
       "      <td>0</td>\n",
       "      <td>0</td>\n",
       "      <td>1</td>\n",
       "      <td>0</td>\n",
       "      <td>0</td>\n",
       "      <td>0</td>\n",
       "      <td>0</td>\n",
       "    </tr>\n",
       "    <tr>\n",
       "      <th>4</th>\n",
       "      <td>0</td>\n",
       "      <td>1</td>\n",
       "      <td>0</td>\n",
       "      <td>0</td>\n",
       "      <td>0</td>\n",
       "      <td>0</td>\n",
       "      <td>0</td>\n",
       "      <td>0</td>\n",
       "      <td>0</td>\n",
       "      <td>0</td>\n",
       "      <td>...</td>\n",
       "      <td>0</td>\n",
       "      <td>0</td>\n",
       "      <td>0</td>\n",
       "      <td>0</td>\n",
       "      <td>0</td>\n",
       "      <td>0</td>\n",
       "      <td>0</td>\n",
       "      <td>1</td>\n",
       "      <td>0</td>\n",
       "      <td>0</td>\n",
       "    </tr>\n",
       "    <tr>\n",
       "      <th>...</th>\n",
       "      <td>...</td>\n",
       "      <td>...</td>\n",
       "      <td>...</td>\n",
       "      <td>...</td>\n",
       "      <td>...</td>\n",
       "      <td>...</td>\n",
       "      <td>...</td>\n",
       "      <td>...</td>\n",
       "      <td>...</td>\n",
       "      <td>...</td>\n",
       "      <td>...</td>\n",
       "      <td>...</td>\n",
       "      <td>...</td>\n",
       "      <td>...</td>\n",
       "      <td>...</td>\n",
       "      <td>...</td>\n",
       "      <td>...</td>\n",
       "      <td>...</td>\n",
       "      <td>...</td>\n",
       "      <td>...</td>\n",
       "      <td>...</td>\n",
       "    </tr>\n",
       "    <tr>\n",
       "      <th>24508</th>\n",
       "      <td>0</td>\n",
       "      <td>0</td>\n",
       "      <td>0</td>\n",
       "      <td>0</td>\n",
       "      <td>0</td>\n",
       "      <td>0</td>\n",
       "      <td>1</td>\n",
       "      <td>0</td>\n",
       "      <td>0</td>\n",
       "      <td>0</td>\n",
       "      <td>...</td>\n",
       "      <td>1</td>\n",
       "      <td>0</td>\n",
       "      <td>0</td>\n",
       "      <td>0</td>\n",
       "      <td>0</td>\n",
       "      <td>1</td>\n",
       "      <td>0</td>\n",
       "      <td>0</td>\n",
       "      <td>0</td>\n",
       "      <td>0</td>\n",
       "    </tr>\n",
       "    <tr>\n",
       "      <th>24509</th>\n",
       "      <td>0</td>\n",
       "      <td>0</td>\n",
       "      <td>0</td>\n",
       "      <td>0</td>\n",
       "      <td>0</td>\n",
       "      <td>0</td>\n",
       "      <td>1</td>\n",
       "      <td>0</td>\n",
       "      <td>0</td>\n",
       "      <td>0</td>\n",
       "      <td>...</td>\n",
       "      <td>1</td>\n",
       "      <td>0</td>\n",
       "      <td>0</td>\n",
       "      <td>0</td>\n",
       "      <td>0</td>\n",
       "      <td>0</td>\n",
       "      <td>1</td>\n",
       "      <td>0</td>\n",
       "      <td>0</td>\n",
       "      <td>0</td>\n",
       "    </tr>\n",
       "    <tr>\n",
       "      <th>24510</th>\n",
       "      <td>1</td>\n",
       "      <td>0</td>\n",
       "      <td>0</td>\n",
       "      <td>0</td>\n",
       "      <td>0</td>\n",
       "      <td>1</td>\n",
       "      <td>0</td>\n",
       "      <td>0</td>\n",
       "      <td>0</td>\n",
       "      <td>1</td>\n",
       "      <td>...</td>\n",
       "      <td>0</td>\n",
       "      <td>0</td>\n",
       "      <td>0</td>\n",
       "      <td>0</td>\n",
       "      <td>0</td>\n",
       "      <td>1</td>\n",
       "      <td>0</td>\n",
       "      <td>0</td>\n",
       "      <td>0</td>\n",
       "      <td>0</td>\n",
       "    </tr>\n",
       "    <tr>\n",
       "      <th>24511</th>\n",
       "      <td>0</td>\n",
       "      <td>0</td>\n",
       "      <td>0</td>\n",
       "      <td>1</td>\n",
       "      <td>0</td>\n",
       "      <td>0</td>\n",
       "      <td>0</td>\n",
       "      <td>0</td>\n",
       "      <td>0</td>\n",
       "      <td>1</td>\n",
       "      <td>...</td>\n",
       "      <td>0</td>\n",
       "      <td>0</td>\n",
       "      <td>0</td>\n",
       "      <td>0</td>\n",
       "      <td>0</td>\n",
       "      <td>0</td>\n",
       "      <td>0</td>\n",
       "      <td>0</td>\n",
       "      <td>1</td>\n",
       "      <td>0</td>\n",
       "    </tr>\n",
       "    <tr>\n",
       "      <th>24512</th>\n",
       "      <td>0</td>\n",
       "      <td>0</td>\n",
       "      <td>0</td>\n",
       "      <td>0</td>\n",
       "      <td>0</td>\n",
       "      <td>0</td>\n",
       "      <td>0</td>\n",
       "      <td>1</td>\n",
       "      <td>0</td>\n",
       "      <td>0</td>\n",
       "      <td>...</td>\n",
       "      <td>0</td>\n",
       "      <td>0</td>\n",
       "      <td>0</td>\n",
       "      <td>0</td>\n",
       "      <td>0</td>\n",
       "      <td>1</td>\n",
       "      <td>0</td>\n",
       "      <td>0</td>\n",
       "      <td>0</td>\n",
       "      <td>0</td>\n",
       "    </tr>\n",
       "  </tbody>\n",
       "</table>\n",
       "<p>24513 rows × 96 columns</p>\n",
       "</div>"
      ],
      "text/plain": [
       "       churned  age_0  age_1  age_2  age_3  age_4  age_5  age_6  gender_0.0  \\\n",
       "0            0      0      0      0      1      0      0      0           0   \n",
       "1            0      0      0      0      1      0      0      0           0   \n",
       "2            1      0      0      0      1      0      0      0           0   \n",
       "3            0      0      0      0      1      0      0      0           0   \n",
       "4            0      1      0      0      0      0      0      0           0   \n",
       "...        ...    ...    ...    ...    ...    ...    ...    ...         ...   \n",
       "24508        0      0      0      0      0      0      1      0           0   \n",
       "24509        0      0      0      0      0      0      1      0           0   \n",
       "24510        1      0      0      0      0      1      0      0           0   \n",
       "24511        0      0      0      1      0      0      0      0           0   \n",
       "24512        0      0      0      0      0      0      0      1           0   \n",
       "\n",
       "       gender_1.0  ...  find_productst_i_want_2  find_productst_i_want_3  \\\n",
       "0               1  ...                        0                        0   \n",
       "1               0  ...                        1                        0   \n",
       "2               1  ...                        1                        0   \n",
       "3               1  ...                        0                        0   \n",
       "4               0  ...                        0                        0   \n",
       "...           ...  ...                      ...                      ...   \n",
       "24508           0  ...                        1                        0   \n",
       "24509           0  ...                        1                        0   \n",
       "24510           1  ...                        0                        0   \n",
       "24511           1  ...                        0                        0   \n",
       "24512           0  ...                        0                        0   \n",
       "\n",
       "       find_productst_i_want_4  find_productst_i_want_5  i_enjoy_buying_0  \\\n",
       "0                            0                        0                 0   \n",
       "1                            0                        0                 0   \n",
       "2                            0                        0                 0   \n",
       "3                            0                        0                 0   \n",
       "4                            0                        0                 0   \n",
       "...                        ...                      ...               ...   \n",
       "24508                        0                        0                 0   \n",
       "24509                        0                        0                 0   \n",
       "24510                        0                        0                 0   \n",
       "24511                        0                        0                 0   \n",
       "24512                        0                        0                 0   \n",
       "\n",
       "       i_enjoy_buying_1  i_enjoy_buying_2  i_enjoy_buying_3  i_enjoy_buying_4  \\\n",
       "0                     0                 1                 0                 0   \n",
       "1                     1                 0                 0                 0   \n",
       "2                     1                 0                 0                 0   \n",
       "3                     1                 0                 0                 0   \n",
       "4                     0                 0                 1                 0   \n",
       "...                 ...               ...               ...               ...   \n",
       "24508                 1                 0                 0                 0   \n",
       "24509                 0                 1                 0                 0   \n",
       "24510                 1                 0                 0                 0   \n",
       "24511                 0                 0                 0                 1   \n",
       "24512                 1                 0                 0                 0   \n",
       "\n",
       "       i_enjoy_buying_5  \n",
       "0                     0  \n",
       "1                     0  \n",
       "2                     0  \n",
       "3                     0  \n",
       "4                     0  \n",
       "...                 ...  \n",
       "24508                 0  \n",
       "24509                 0  \n",
       "24510                 0  \n",
       "24511                 0  \n",
       "24512                 0  \n",
       "\n",
       "[24513 rows x 96 columns]"
      ]
     },
     "execution_count": 84,
     "metadata": {},
     "output_type": "execute_result"
    }
   ],
   "source": [
    "data1"
   ]
  },
  {
   "cell_type": "code",
   "execution_count": 83,
   "metadata": {},
   "outputs": [
    {
     "name": "stdout",
     "output_type": "stream",
     "text": [
      "<class 'pandas.core.frame.DataFrame'>\n",
      "RangeIndex: 24513 entries, 0 to 24512\n",
      "Data columns (total 96 columns):\n",
      " #   Column                                   Non-Null Count  Dtype\n",
      "---  ------                                   --------------  -----\n",
      " 0   churned                                  24513 non-null  int64\n",
      " 1   age_0                                    24513 non-null  uint8\n",
      " 2   age_1                                    24513 non-null  uint8\n",
      " 3   age_2                                    24513 non-null  uint8\n",
      " 4   age_3                                    24513 non-null  uint8\n",
      " 5   age_4                                    24513 non-null  uint8\n",
      " 6   age_5                                    24513 non-null  uint8\n",
      " 7   age_6                                    24513 non-null  uint8\n",
      " 8   gender_0.0                               24513 non-null  uint8\n",
      " 9   gender_1.0                               24513 non-null  uint8\n",
      " 10  gender_2.0                               24513 non-null  uint8\n",
      " 11  gender_3.0                               24513 non-null  uint8\n",
      " 12  gender_4.0                               24513 non-null  uint8\n",
      " 13  gender_5.0                               24513 non-null  uint8\n",
      " 14  gender_3                                 24513 non-null  uint8\n",
      " 15  loyalty_level_0.0                        24513 non-null  uint8\n",
      " 16  loyalty_level_1.0                        24513 non-null  uint8\n",
      " 17  loyalty_level_2.0                        24513 non-null  uint8\n",
      " 18  loyalty_level_3.0                        24513 non-null  uint8\n",
      " 19  loyalty_level_4.0                        24513 non-null  uint8\n",
      " 20  how_long_a_customer_0                    24513 non-null  uint8\n",
      " 21  how_long_a_customer_1                    24513 non-null  uint8\n",
      " 22  how_long_a_customer_2                    24513 non-null  uint8\n",
      " 23  how_long_a_customer_3                    24513 non-null  uint8\n",
      " 24  how_long_a_customer_4                    24513 non-null  uint8\n",
      " 25  how_long_a_customer_5                    24513 non-null  uint8\n",
      " 26  how_long_a_customer_6                    24513 non-null  uint8\n",
      " 27  how_long_a_customer_7                    24513 non-null  uint8\n",
      " 28  how_long_a_customer_8                    24513 non-null  uint8\n",
      " 29  how_far_away_0.0                         24513 non-null  uint8\n",
      " 30  how_far_away_1.0                         24513 non-null  uint8\n",
      " 31  how_far_away_2.0                         24513 non-null  uint8\n",
      " 32  how_far_away_3.0                         24513 non-null  uint8\n",
      " 33  how_far_away_4.0                         24513 non-null  uint8\n",
      " 34  how_far_away_5.0                         24513 non-null  uint8\n",
      " 35  how_far_away_6.0                         24513 non-null  uint8\n",
      " 36  how_far_away_7.0                         24513 non-null  uint8\n",
      " 37  feel_valued_as_customer_0                24513 non-null  uint8\n",
      " 38  feel_valued_as_customer_1                24513 non-null  uint8\n",
      " 39  feel_valued_as_customer_2                24513 non-null  uint8\n",
      " 40  feel_valued_as_customer_3                24513 non-null  uint8\n",
      " 41  feel_valued_as_customer_4                24513 non-null  uint8\n",
      " 42  feel_valued_as_customer_5                24513 non-null  uint8\n",
      " 43  get_often_inspiration_0                  24513 non-null  uint8\n",
      " 44  get_often_inspiration_1                  24513 non-null  uint8\n",
      " 45  get_often_inspiration_2                  24513 non-null  uint8\n",
      " 46  get_often_inspiration_3                  24513 non-null  uint8\n",
      " 47  get_often_inspiration_4                  24513 non-null  uint8\n",
      " 48  get_often_inspiration_5                  24513 non-null  uint8\n",
      " 49  good_product_overview_0                  24513 non-null  uint8\n",
      " 50  good_product_overview_1                  24513 non-null  uint8\n",
      " 51  good_product_overview_2                  24513 non-null  uint8\n",
      " 52  good_product_overview_3                  24513 non-null  uint8\n",
      " 53  good_product_overview_4                  24513 non-null  uint8\n",
      " 54  good_product_overview_5                  24513 non-null  uint8\n",
      " 55  pick_up_flexibility_0                    24513 non-null  uint8\n",
      " 56  pick_up_flexibility_1                    24513 non-null  uint8\n",
      " 57  pick_up_flexibility_2                    24513 non-null  uint8\n",
      " 58  pick_up_flexibility_3                    24513 non-null  uint8\n",
      " 59  pick_up_flexibility_4                    24513 non-null  uint8\n",
      " 60  pick_up_flexibility_5                    24513 non-null  uint8\n",
      " 61  fair_prices_0                            24513 non-null  uint8\n",
      " 62  fair_prices_1                            24513 non-null  uint8\n",
      " 63  fair_prices_2                            24513 non-null  uint8\n",
      " 64  fair_prices_3                            24513 non-null  uint8\n",
      " 65  fair_prices_4                            24513 non-null  uint8\n",
      " 66  fair_prices_5                            24513 non-null  uint8\n",
      " 67  looking_forward_to_the_next_12_months_0  24513 non-null  uint8\n",
      " 68  looking_forward_to_the_next_12_months_1  24513 non-null  uint8\n",
      " 69  looking_forward_to_the_next_12_months_2  24513 non-null  uint8\n",
      " 70  looking_forward_to_the_next_12_months_3  24513 non-null  uint8\n",
      " 71  looking_forward_to_the_next_12_months_4  24513 non-null  uint8\n",
      " 72  see_improvements_recently_0              24513 non-null  uint8\n",
      " 73  see_improvements_recently_1              24513 non-null  uint8\n",
      " 74  see_improvements_recently_2              24513 non-null  uint8\n",
      " 75  see_improvements_recently_3              24513 non-null  uint8\n",
      " 76  see_improvements_recently_4              24513 non-null  uint8\n",
      " 77  see_improvements_recently_5              24513 non-null  uint8\n",
      " 78  informed_about_new_products_0.0          24513 non-null  uint8\n",
      " 79  informed_about_new_products_1.0          24513 non-null  uint8\n",
      " 80  informed_about_new_products_2.0          24513 non-null  uint8\n",
      " 81  informed_about_new_products_3.0          24513 non-null  uint8\n",
      " 82  informed_about_new_products_4.0          24513 non-null  uint8\n",
      " 83  informed_about_new_products_5.0          24513 non-null  uint8\n",
      " 84  find_productst_i_want_0                  24513 non-null  uint8\n",
      " 85  find_productst_i_want_1                  24513 non-null  uint8\n",
      " 86  find_productst_i_want_2                  24513 non-null  uint8\n",
      " 87  find_productst_i_want_3                  24513 non-null  uint8\n",
      " 88  find_productst_i_want_4                  24513 non-null  uint8\n",
      " 89  find_productst_i_want_5                  24513 non-null  uint8\n",
      " 90  i_enjoy_buying_0                         24513 non-null  uint8\n",
      " 91  i_enjoy_buying_1                         24513 non-null  uint8\n",
      " 92  i_enjoy_buying_2                         24513 non-null  uint8\n",
      " 93  i_enjoy_buying_3                         24513 non-null  uint8\n",
      " 94  i_enjoy_buying_4                         24513 non-null  uint8\n",
      " 95  i_enjoy_buying_5                         24513 non-null  uint8\n",
      "dtypes: int64(1), uint8(95)\n",
      "memory usage: 2.4 MB\n"
     ]
    }
   ],
   "source": [
    "data1.info()"
   ]
  },
  {
   "cell_type": "code",
   "execution_count": 86,
   "metadata": {},
   "outputs": [
    {
     "data": {
      "image/png": "[encoded data removed]",
      "text/plain": [
       "<Figure size 1440x1440 with 1 Axes>"
      ]
     },
     "metadata": {
      "needs_background": "light"
     },
     "output_type": "display_data"
    }
   ],
   "source": [
    "# Ploting correlation graph for new reformed churn dataset:\n",
    "plt.figure(figsize=(20,20))\n",
    "data1.corr()['churned'].sort_values(ascending = False).plot(kind='bar');"
   ]
  },
  {
   "cell_type": "markdown",
   "metadata": {},
   "source": [
    "- The above figure makes us understand easily that which feature to be focused on to reduce the churn of customer, but our purpose is to build a suitable machine learning model conisdering all the features and then come to some concrete conclusion."
   ]
  },
  {
   "cell_type": "code",
   "execution_count": 88,
   "metadata": {},
   "outputs": [
    {
     "data": {
      "text/plain": [
       "(24513, 96)"
      ]
     },
     "execution_count": 88,
     "metadata": {},
     "output_type": "execute_result"
    }
   ],
   "source": [
    "data1.shape"
   ]
  },
  {
   "cell_type": "markdown",
   "metadata": {},
   "source": [
    "# Model Building Process:\n",
    "\n",
    "- From the dataset it is evedent that our traget feature(churned) is binary categorical in nature. Thus, opting for classification models will be a good choice. \n",
    "\n",
    "**We will compare the performances of 3 classification models and come to a conclusion accordingly by choosing the best performing model for our churn dataset.**\n",
    "\n",
    "# Now, Spliting the dataset as Training and Testing dataset for further analysis:"
   ]
  },
  {
   "cell_type": "code",
   "execution_count": 87,
   "metadata": {},
   "outputs": [
    {
     "data": {
      "text/html": [
       "<div>\n",
       "<style scoped>\n",
       "    .dataframe tbody tr th:only-of-type {\n",
       "        vertical-align: middle;\n",
       "    }\n",
       "\n",
       "    .dataframe tbody tr th {\n",
       "        vertical-align: top;\n",
       "    }\n",
       "\n",
       "    .dataframe thead th {\n",
       "        text-align: right;\n",
       "    }\n",
       "</style>\n",
       "<table border=\"1\" class=\"dataframe\">\n",
       "  <thead>\n",
       "    <tr style=\"text-align: right;\">\n",
       "      <th></th>\n",
       "      <th>age_0</th>\n",
       "      <th>age_1</th>\n",
       "      <th>age_2</th>\n",
       "      <th>age_3</th>\n",
       "      <th>age_4</th>\n",
       "      <th>age_5</th>\n",
       "      <th>age_6</th>\n",
       "      <th>gender_0.0</th>\n",
       "      <th>gender_1.0</th>\n",
       "      <th>gender_2.0</th>\n",
       "      <th>...</th>\n",
       "      <th>find_productst_i_want_2</th>\n",
       "      <th>find_productst_i_want_3</th>\n",
       "      <th>find_productst_i_want_4</th>\n",
       "      <th>find_productst_i_want_5</th>\n",
       "      <th>i_enjoy_buying_0</th>\n",
       "      <th>i_enjoy_buying_1</th>\n",
       "      <th>i_enjoy_buying_2</th>\n",
       "      <th>i_enjoy_buying_3</th>\n",
       "      <th>i_enjoy_buying_4</th>\n",
       "      <th>i_enjoy_buying_5</th>\n",
       "    </tr>\n",
       "  </thead>\n",
       "  <tbody>\n",
       "    <tr>\n",
       "      <th>0</th>\n",
       "      <td>0</td>\n",
       "      <td>0</td>\n",
       "      <td>0</td>\n",
       "      <td>1</td>\n",
       "      <td>0</td>\n",
       "      <td>0</td>\n",
       "      <td>0</td>\n",
       "      <td>0</td>\n",
       "      <td>1</td>\n",
       "      <td>0</td>\n",
       "      <td>...</td>\n",
       "      <td>0</td>\n",
       "      <td>0</td>\n",
       "      <td>0</td>\n",
       "      <td>0</td>\n",
       "      <td>0</td>\n",
       "      <td>0</td>\n",
       "      <td>1</td>\n",
       "      <td>0</td>\n",
       "      <td>0</td>\n",
       "      <td>0</td>\n",
       "    </tr>\n",
       "    <tr>\n",
       "      <th>1</th>\n",
       "      <td>0</td>\n",
       "      <td>0</td>\n",
       "      <td>0</td>\n",
       "      <td>1</td>\n",
       "      <td>0</td>\n",
       "      <td>0</td>\n",
       "      <td>0</td>\n",
       "      <td>0</td>\n",
       "      <td>0</td>\n",
       "      <td>1</td>\n",
       "      <td>...</td>\n",
       "      <td>1</td>\n",
       "      <td>0</td>\n",
       "      <td>0</td>\n",
       "      <td>0</td>\n",
       "      <td>0</td>\n",
       "      <td>1</td>\n",
       "      <td>0</td>\n",
       "      <td>0</td>\n",
       "      <td>0</td>\n",
       "      <td>0</td>\n",
       "    </tr>\n",
       "    <tr>\n",
       "      <th>2</th>\n",
       "      <td>0</td>\n",
       "      <td>0</td>\n",
       "      <td>0</td>\n",
       "      <td>1</td>\n",
       "      <td>0</td>\n",
       "      <td>0</td>\n",
       "      <td>0</td>\n",
       "      <td>0</td>\n",
       "      <td>1</td>\n",
       "      <td>0</td>\n",
       "      <td>...</td>\n",
       "      <td>1</td>\n",
       "      <td>0</td>\n",
       "      <td>0</td>\n",
       "      <td>0</td>\n",
       "      <td>0</td>\n",
       "      <td>1</td>\n",
       "      <td>0</td>\n",
       "      <td>0</td>\n",
       "      <td>0</td>\n",
       "      <td>0</td>\n",
       "    </tr>\n",
       "    <tr>\n",
       "      <th>3</th>\n",
       "      <td>0</td>\n",
       "      <td>0</td>\n",
       "      <td>0</td>\n",
       "      <td>1</td>\n",
       "      <td>0</td>\n",
       "      <td>0</td>\n",
       "      <td>0</td>\n",
       "      <td>0</td>\n",
       "      <td>1</td>\n",
       "      <td>0</td>\n",
       "      <td>...</td>\n",
       "      <td>0</td>\n",
       "      <td>0</td>\n",
       "      <td>0</td>\n",
       "      <td>0</td>\n",
       "      <td>0</td>\n",
       "      <td>1</td>\n",
       "      <td>0</td>\n",
       "      <td>0</td>\n",
       "      <td>0</td>\n",
       "      <td>0</td>\n",
       "    </tr>\n",
       "    <tr>\n",
       "      <th>4</th>\n",
       "      <td>1</td>\n",
       "      <td>0</td>\n",
       "      <td>0</td>\n",
       "      <td>0</td>\n",
       "      <td>0</td>\n",
       "      <td>0</td>\n",
       "      <td>0</td>\n",
       "      <td>0</td>\n",
       "      <td>0</td>\n",
       "      <td>0</td>\n",
       "      <td>...</td>\n",
       "      <td>0</td>\n",
       "      <td>0</td>\n",
       "      <td>0</td>\n",
       "      <td>0</td>\n",
       "      <td>0</td>\n",
       "      <td>0</td>\n",
       "      <td>0</td>\n",
       "      <td>1</td>\n",
       "      <td>0</td>\n",
       "      <td>0</td>\n",
       "    </tr>\n",
       "  </tbody>\n",
       "</table>\n",
       "<p>5 rows × 95 columns</p>\n",
       "</div>"
      ],
      "text/plain": [
       "   age_0  age_1  age_2  age_3  age_4  age_5  age_6  gender_0.0  gender_1.0  \\\n",
       "0      0      0      0      1      0      0      0           0           1   \n",
       "1      0      0      0      1      0      0      0           0           0   \n",
       "2      0      0      0      1      0      0      0           0           1   \n",
       "3      0      0      0      1      0      0      0           0           1   \n",
       "4      1      0      0      0      0      0      0           0           0   \n",
       "\n",
       "   gender_2.0  ...  find_productst_i_want_2  find_productst_i_want_3  \\\n",
       "0           0  ...                        0                        0   \n",
       "1           1  ...                        1                        0   \n",
       "2           0  ...                        1                        0   \n",
       "3           0  ...                        0                        0   \n",
       "4           0  ...                        0                        0   \n",
       "\n",
       "   find_productst_i_want_4  find_productst_i_want_5  i_enjoy_buying_0  \\\n",
       "0                        0                        0                 0   \n",
       "1                        0                        0                 0   \n",
       "2                        0                        0                 0   \n",
       "3                        0                        0                 0   \n",
       "4                        0                        0                 0   \n",
       "\n",
       "   i_enjoy_buying_1  i_enjoy_buying_2  i_enjoy_buying_3  i_enjoy_buying_4  \\\n",
       "0                 0                 1                 0                 0   \n",
       "1                 1                 0                 0                 0   \n",
       "2                 1                 0                 0                 0   \n",
       "3                 1                 0                 0                 0   \n",
       "4                 0                 0                 1                 0   \n",
       "\n",
       "   i_enjoy_buying_5  \n",
       "0                 0  \n",
       "1                 0  \n",
       "2                 0  \n",
       "3                 0  \n",
       "4                 0  \n",
       "\n",
       "[5 rows x 95 columns]"
      ]
     },
     "execution_count": 87,
     "metadata": {},
     "output_type": "execute_result"
    }
   ],
   "source": [
    "# X will have all the independent features:\n",
    "X = data1.drop('churned', axis=1)\n",
    "X.head()"
   ]
  },
  {
   "cell_type": "code",
   "execution_count": 89,
   "metadata": {},
   "outputs": [
    {
     "data": {
      "text/plain": [
       "0    0\n",
       "1    0\n",
       "2    1\n",
       "3    0\n",
       "4    0\n",
       "Name: churned, dtype: int64"
      ]
     },
     "execution_count": 89,
     "metadata": {},
     "output_type": "execute_result"
    }
   ],
   "source": [
    "# y will have our target feature(churned):\n",
    "y = data1['churned']\n",
    "y.head()"
   ]
  },
  {
   "cell_type": "code",
   "execution_count": 90,
   "metadata": {},
   "outputs": [],
   "source": [
    "from sklearn.model_selection import train_test_split\n",
    "X_train, X_test, y_train, y_test = train_test_split(X, y, test_size=0.2)"
   ]
  },
  {
   "cell_type": "code",
   "execution_count": 91,
   "metadata": {},
   "outputs": [
    {
     "name": "stdout",
     "output_type": "stream",
     "text": [
      "X_train Shape is: (19610, 95)\n",
      "X_test Shape is: (4903, 95)\n",
      "y_train Shape is: (19610,)\n",
      "y_test Shape is: (4903,)\n"
     ]
    }
   ],
   "source": [
    "print('X_train Shape is:',X_train.shape)\n",
    "print('X_test Shape is:',X_test.shape)\n",
    "print('y_train Shape is:',y_train.shape)\n",
    "print('y_test Shape is:',y_test.shape)"
   ]
  },
  {
   "cell_type": "markdown",
   "metadata": {},
   "source": [
    "# Machine Learning Model:\n",
    "# Model 1: Logistic Regression Classification Model:"
   ]
  },
  {
   "cell_type": "code",
   "execution_count": 92,
   "metadata": {},
   "outputs": [
    {
     "name": "stderr",
     "output_type": "stream",
     "text": [
      "C:\\Users\\Akshay\\anaconda3\\lib\\site-packages\\sklearn\\linear_model\\_logistic.py:764: ConvergenceWarning: lbfgs failed to converge (status=1):\n",
      "STOP: TOTAL NO. of ITERATIONS REACHED LIMIT.\n",
      "\n",
      "Increase the number of iterations (max_iter) or scale the data as shown in:\n",
      "    https://scikit-learn.org/stable/modules/preprocessing.html\n",
      "Please also refer to the documentation for alternative solver options:\n",
      "    https://scikit-learn.org/stable/modules/linear_model.html#logistic-regression\n",
      "  extra_warning_msg=_LOGISTIC_SOLVER_CONVERGENCE_MSG)\n"
     ]
    },
    {
     "data": {
      "text/plain": [
       "LogisticRegression()"
      ]
     },
     "execution_count": 92,
     "metadata": {},
     "output_type": "execute_result"
    }
   ],
   "source": [
    "from sklearn.linear_model import LogisticRegression\n",
    "lr = LogisticRegression()\n",
    "lr.fit(X_train, y_train)"
   ]
  },
  {
   "cell_type": "code",
   "execution_count": 93,
   "metadata": {},
   "outputs": [],
   "source": [
    "y_pred = lr.predict(X_test)"
   ]
  },
  {
   "cell_type": "code",
   "execution_count": 98,
   "metadata": {},
   "outputs": [
    {
     "name": "stdout",
     "output_type": "stream",
     "text": [
      "76.23903732408729 %\n",
      "Confusion Matrix:\n",
      " [[2550  438]\n",
      " [ 727 1188]]\n",
      "Classification Report:\n",
      "               precision    recall  f1-score   support\n",
      "\n",
      "           0       0.78      0.85      0.81      2988\n",
      "           1       0.73      0.62      0.67      1915\n",
      "\n",
      "    accuracy                           0.76      4903\n",
      "   macro avg       0.75      0.74      0.74      4903\n",
      "weighted avg       0.76      0.76      0.76      4903\n",
      "\n"
     ]
    }
   ],
   "source": [
    "from sklearn.metrics import accuracy_score, confusion_matrix, classification_report\n",
    "lr_acc = accuracy_score(y_test, y_pred)\n",
    "print(lr_acc*100,'%')\n",
    "print('Confusion Matrix:\\n', confusion_matrix(y_test, y_pred))\n",
    "print('Classification Report:\\n', classification_report(y_test, y_pred))"
   ]
  },
  {
   "cell_type": "code",
   "execution_count": 99,
   "metadata": {},
   "outputs": [
    {
     "data": {
      "text/html": [
       "<div>\n",
       "<style scoped>\n",
       "    .dataframe tbody tr th:only-of-type {\n",
       "        vertical-align: middle;\n",
       "    }\n",
       "\n",
       "    .dataframe tbody tr th {\n",
       "        vertical-align: top;\n",
       "    }\n",
       "\n",
       "    .dataframe thead th {\n",
       "        text-align: right;\n",
       "    }\n",
       "</style>\n",
       "<table border=\"1\" class=\"dataframe\">\n",
       "  <thead>\n",
       "    <tr style=\"text-align: right;\">\n",
       "      <th></th>\n",
       "    </tr>\n",
       "  </thead>\n",
       "  <tbody>\n",
       "  </tbody>\n",
       "</table>\n",
       "</div>"
      ],
      "text/plain": [
       "Empty DataFrame\n",
       "Columns: []\n",
       "Index: []"
      ]
     },
     "execution_count": 99,
     "metadata": {},
     "output_type": "execute_result"
    }
   ],
   "source": [
    "results = pd.DataFrame()\n",
    "results"
   ]
  },
  {
   "cell_type": "code",
   "execution_count": 100,
   "metadata": {},
   "outputs": [
    {
     "data": {
      "text/html": [
       "<div>\n",
       "<style scoped>\n",
       "    .dataframe tbody tr th:only-of-type {\n",
       "        vertical-align: middle;\n",
       "    }\n",
       "\n",
       "    .dataframe tbody tr th {\n",
       "        vertical-align: top;\n",
       "    }\n",
       "\n",
       "    .dataframe thead th {\n",
       "        text-align: right;\n",
       "    }\n",
       "</style>\n",
       "<table border=\"1\" class=\"dataframe\">\n",
       "  <thead>\n",
       "    <tr style=\"text-align: right;\">\n",
       "      <th></th>\n",
       "      <th>Algorithm</th>\n",
       "      <th>Accuracy</th>\n",
       "    </tr>\n",
       "  </thead>\n",
       "  <tbody>\n",
       "    <tr>\n",
       "      <th>0</th>\n",
       "      <td>Logistic Regression Method</td>\n",
       "      <td>0.76239</td>\n",
       "    </tr>\n",
       "  </tbody>\n",
       "</table>\n",
       "</div>"
      ],
      "text/plain": [
       "                    Algorithm  Accuracy\n",
       "0  Logistic Regression Method   0.76239"
      ]
     },
     "execution_count": 100,
     "metadata": {},
     "output_type": "execute_result"
    }
   ],
   "source": [
    "tempResults = pd.DataFrame({'Algorithm':['Logistic Regression Method'], 'Accuracy':[lr_acc]})\n",
    "results = pd.concat( [results, tempResults] )\n",
    "results = results[['Algorithm','Accuracy']]\n",
    "results"
   ]
  },
  {
   "cell_type": "markdown",
   "metadata": {},
   "source": [
    "# Model 2: Random Forest Classification Model:"
   ]
  },
  {
   "cell_type": "code",
   "execution_count": 101,
   "metadata": {},
   "outputs": [
    {
     "data": {
      "text/plain": [
       "RandomForestClassifier()"
      ]
     },
     "execution_count": 101,
     "metadata": {},
     "output_type": "execute_result"
    }
   ],
   "source": [
    "from sklearn.ensemble import RandomForestClassifier\n",
    "rfc = RandomForestClassifier()\n",
    "rfc.fit(X_train, y_train)"
   ]
  },
  {
   "cell_type": "code",
   "execution_count": 104,
   "metadata": {},
   "outputs": [
    {
     "data": {
      "text/plain": [
       "array([0, 0, 1, ..., 0, 1, 1], dtype=int64)"
      ]
     },
     "execution_count": 104,
     "metadata": {},
     "output_type": "execute_result"
    }
   ],
   "source": [
    "y_pred_rfc = rfc.predict(X_test)\n",
    "y_pred_rfc"
   ]
  },
  {
   "cell_type": "code",
   "execution_count": 105,
   "metadata": {},
   "outputs": [
    {
     "name": "stdout",
     "output_type": "stream",
     "text": [
      "75.7903324495207 %\n",
      "Confusion Matrix:\n",
      " [[2499  489]\n",
      " [ 698 1217]]\n",
      "Classification Report:\n",
      "               precision    recall  f1-score   support\n",
      "\n",
      "           0       0.78      0.84      0.81      2988\n",
      "           1       0.71      0.64      0.67      1915\n",
      "\n",
      "    accuracy                           0.76      4903\n",
      "   macro avg       0.75      0.74      0.74      4903\n",
      "weighted avg       0.75      0.76      0.76      4903\n",
      "\n"
     ]
    }
   ],
   "source": [
    "rfc_acc = accuracy_score(y_test, y_pred_rfc)\n",
    "print(rfc_acc*100,'%')\n",
    "print('Confusion Matrix:\\n', confusion_matrix(y_test, y_pred_rfc))\n",
    "print('Classification Report:\\n', classification_report(y_test, y_pred_rfc))"
   ]
  },
  {
   "cell_type": "code",
   "execution_count": 106,
   "metadata": {},
   "outputs": [
    {
     "data": {
      "text/html": [
       "<div>\n",
       "<style scoped>\n",
       "    .dataframe tbody tr th:only-of-type {\n",
       "        vertical-align: middle;\n",
       "    }\n",
       "\n",
       "    .dataframe tbody tr th {\n",
       "        vertical-align: top;\n",
       "    }\n",
       "\n",
       "    .dataframe thead th {\n",
       "        text-align: right;\n",
       "    }\n",
       "</style>\n",
       "<table border=\"1\" class=\"dataframe\">\n",
       "  <thead>\n",
       "    <tr style=\"text-align: right;\">\n",
       "      <th></th>\n",
       "      <th>Algorithm</th>\n",
       "      <th>Accuracy</th>\n",
       "    </tr>\n",
       "  </thead>\n",
       "  <tbody>\n",
       "    <tr>\n",
       "      <th>0</th>\n",
       "      <td>Logistic Regression Method</td>\n",
       "      <td>0.762390</td>\n",
       "    </tr>\n",
       "    <tr>\n",
       "      <th>0</th>\n",
       "      <td>Random Forest Classifier Method</td>\n",
       "      <td>0.757903</td>\n",
       "    </tr>\n",
       "  </tbody>\n",
       "</table>\n",
       "</div>"
      ],
      "text/plain": [
       "                         Algorithm  Accuracy\n",
       "0       Logistic Regression Method  0.762390\n",
       "0  Random Forest Classifier Method  0.757903"
      ]
     },
     "execution_count": 106,
     "metadata": {},
     "output_type": "execute_result"
    }
   ],
   "source": [
    "tempResults = pd.DataFrame({'Algorithm':['Random Forest Classifier Method'], 'Accuracy':[rfc_acc]})\n",
    "results = pd.concat( [results, tempResults] )\n",
    "results = results[['Algorithm','Accuracy']]\n",
    "results"
   ]
  },
  {
   "cell_type": "markdown",
   "metadata": {},
   "source": [
    "# Model 3: Support Vector Classifier Model:"
   ]
  },
  {
   "cell_type": "code",
   "execution_count": 108,
   "metadata": {},
   "outputs": [
    {
     "data": {
      "text/plain": [
       "SVC()"
      ]
     },
     "execution_count": 108,
     "metadata": {},
     "output_type": "execute_result"
    }
   ],
   "source": [
    "from sklearn import svm\n",
    "svc = svm.SVC()\n",
    "svc.fit(X_train,y_train)"
   ]
  },
  {
   "cell_type": "code",
   "execution_count": 109,
   "metadata": {},
   "outputs": [
    {
     "data": {
      "text/plain": [
       "array([0, 0, 1, ..., 0, 1, 1], dtype=int64)"
      ]
     },
     "execution_count": 109,
     "metadata": {},
     "output_type": "execute_result"
    }
   ],
   "source": [
    "y_pred_svc = svc.predict(X_test)\n",
    "y_pred_svc"
   ]
  },
  {
   "cell_type": "code",
   "execution_count": 110,
   "metadata": {},
   "outputs": [
    {
     "name": "stdout",
     "output_type": "stream",
     "text": [
      "76.83051193147053 %\n",
      "Confusion Matrix:\n",
      " [[2579  409]\n",
      " [ 727 1188]]\n",
      "Classification Report:\n",
      "               precision    recall  f1-score   support\n",
      "\n",
      "           0       0.78      0.86      0.82      2988\n",
      "           1       0.74      0.62      0.68      1915\n",
      "\n",
      "    accuracy                           0.77      4903\n",
      "   macro avg       0.76      0.74      0.75      4903\n",
      "weighted avg       0.77      0.77      0.76      4903\n",
      "\n"
     ]
    }
   ],
   "source": [
    "svc_acc = accuracy_score(y_test, y_pred_svc)\n",
    "print(svc_acc*100,'%')\n",
    "print('Confusion Matrix:\\n', confusion_matrix(y_test, y_pred_svc))\n",
    "print('Classification Report:\\n', classification_report(y_test, y_pred_svc))"
   ]
  },
  {
   "cell_type": "code",
   "execution_count": 111,
   "metadata": {},
   "outputs": [
    {
     "data": {
      "text/html": [
       "<div>\n",
       "<style scoped>\n",
       "    .dataframe tbody tr th:only-of-type {\n",
       "        vertical-align: middle;\n",
       "    }\n",
       "\n",
       "    .dataframe tbody tr th {\n",
       "        vertical-align: top;\n",
       "    }\n",
       "\n",
       "    .dataframe thead th {\n",
       "        text-align: right;\n",
       "    }\n",
       "</style>\n",
       "<table border=\"1\" class=\"dataframe\">\n",
       "  <thead>\n",
       "    <tr style=\"text-align: right;\">\n",
       "      <th></th>\n",
       "      <th>Algorithm</th>\n",
       "      <th>Accuracy</th>\n",
       "    </tr>\n",
       "  </thead>\n",
       "  <tbody>\n",
       "    <tr>\n",
       "      <th>0</th>\n",
       "      <td>Logistic Regression Method</td>\n",
       "      <td>0.762390</td>\n",
       "    </tr>\n",
       "    <tr>\n",
       "      <th>0</th>\n",
       "      <td>Random Forest Classifier Method</td>\n",
       "      <td>0.757903</td>\n",
       "    </tr>\n",
       "    <tr>\n",
       "      <th>0</th>\n",
       "      <td>Support Vector Classifier Method</td>\n",
       "      <td>0.768305</td>\n",
       "    </tr>\n",
       "  </tbody>\n",
       "</table>\n",
       "</div>"
      ],
      "text/plain": [
       "                          Algorithm  Accuracy\n",
       "0        Logistic Regression Method  0.762390\n",
       "0   Random Forest Classifier Method  0.757903\n",
       "0  Support Vector Classifier Method  0.768305"
      ]
     },
     "execution_count": 111,
     "metadata": {},
     "output_type": "execute_result"
    }
   ],
   "source": [
    "tempResults = pd.DataFrame({'Algorithm':['Support Vector Classifier Method'], 'Accuracy':[svc_acc]})\n",
    "results = pd.concat( [results, tempResults] )\n",
    "results = results[['Algorithm','Accuracy']]\n",
    "results"
   ]
  },
  {
   "cell_type": "markdown",
   "metadata": {},
   "source": [
    "# Final Inference:\n",
    "\n",
    "- Comparing the performances of all the three classification we built, all of them performed apporximately with 75% accuracy. Though, Support Vector Classifier performed the best with 77% accuracy. Thus, we will choose SVC as our final ML Model for our churn dataset.\n",
    "\n",
    "- As per my observation, It is clearly visible that factors such as 'i_enjoy_buying', 'find_productst_i_want', 'get_often_inspiration' & 'feel_valued_as_customer' contribute to majority of the churn of the customer. \n",
    "\n",
    "- Thus, if we loosing $10,000 per customer on its churn, then by arranging up a personalised phone call to such customer and talking to them on above four mentione parameter, we can save alot in terms of our revenue.\n",
    "\n",
    "- For Eg, we tend to loose 10 customers/week = 10*10,000 = $100000 Loss/week. But, Just spending 10K on this customers to call them and retain them on calls and meeting will save us a big chunk of the revenue. Also we will have a long term relationship with those customers."
   ]
  },
  {
   "cell_type": "code",
   "execution_count": null,
   "metadata": {},
   "outputs": [],
   "source": []
  }
 ],
 "metadata": {
  "kernelspec": {
   "display_name": "Python 3",
   "language": "python",
   "name": "python3"
  },
  "language_info": {
   "codemirror_mode": {
    "name": "ipython",
    "version": 3
   },
   "file_extension": ".py",
   "mimetype": "text/x-python",
   "name": "python",
   "nbconvert_exporter": "python",
   "pygments_lexer": "ipython3",
   "version": "3.7.6"
  }
 },
 "nbformat": 4,
 "nbformat_minor": 4
}
