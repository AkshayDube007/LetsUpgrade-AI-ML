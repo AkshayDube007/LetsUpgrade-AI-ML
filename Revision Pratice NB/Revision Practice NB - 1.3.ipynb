{
 "cells": [
  {
   "cell_type": "markdown",
   "metadata": {},
   "source": [
    "# Implementing Naive Bayes:"
   ]
  },
  {
   "cell_type": "code",
   "execution_count": 75,
   "metadata": {},
   "outputs": [],
   "source": [
    "#  Importing required Liabraries:\n",
    "import pandas as pd \n",
    "import numpy as np \n",
    "from sklearn.naive_bayes import GaussianNB\n",
    "from sklearn.metrics import accuracy_score"
   ]
  },
  {
   "cell_type": "code",
   "execution_count": 76,
   "metadata": {},
   "outputs": [],
   "source": [
    "# Loading Dataset:\n",
    "train_data=pd.read_csv('train.csv')\n",
    "test_data=pd.read_csv('test.csv')"
   ]
  },
  {
   "cell_type": "code",
   "execution_count": 77,
   "metadata": {},
   "outputs": [
    {
     "name": "stdout",
     "output_type": "stream",
     "text": [
      "   PassengerId  Survived  Pclass  \\\n",
      "0            1         0       3   \n",
      "1            2         1       1   \n",
      "2            3         1       3   \n",
      "3            4         1       1   \n",
      "4            5         0       3   \n",
      "\n",
      "                                                Name     Sex   Age  SibSp  \\\n",
      "0                            Braund, Mr. Owen Harris    male  22.0      1   \n",
      "1  Cumings, Mrs. John Bradley (Florence Briggs Th...  female  38.0      1   \n",
      "2                             Heikkinen, Miss. Laina  female  26.0      0   \n",
      "3       Futrelle, Mrs. Jacques Heath (Lily May Peel)  female  35.0      1   \n",
      "4                           Allen, Mr. William Henry    male  35.0      0   \n",
      "\n",
      "   Parch            Ticket     Fare Cabin Embarked  \n",
      "0      0         A/5 21171   7.2500   NaN        S  \n",
      "1      0          PC 17599  71.2833   C85        C  \n",
      "2      0  STON/O2. 3101282   7.9250   NaN        S  \n",
      "3      0            113803  53.1000  C123        S  \n",
      "4      0            373450   8.0500   NaN        S  \n",
      "---------------------------------------------------------------------------\n",
      "   PassengerId  Pclass                                          Name     Sex  \\\n",
      "0          892       3                              Kelly, Mr. James    male   \n",
      "1          893       3              Wilkes, Mrs. James (Ellen Needs)  female   \n",
      "2          894       2                     Myles, Mr. Thomas Francis    male   \n",
      "3          895       3                              Wirz, Mr. Albert    male   \n",
      "4          896       3  Hirvonen, Mrs. Alexander (Helga E Lindqvist)  female   \n",
      "\n",
      "    Age  SibSp  Parch   Ticket     Fare Embarked  \n",
      "0  34.5      0      0   330911   7.8292        Q  \n",
      "1  47.0      1      0   363272   7.0000        S  \n",
      "2  62.0      0      0   240276   9.6875        Q  \n",
      "3  27.0      0      0   315154   8.6625        S  \n",
      "4  22.0      1      1  3101298  12.2875        S  \n"
     ]
    }
   ],
   "source": [
    "print(train_data.head())\n",
    "print('---------------------------------------------------------------------------')\n",
    "print(test_data.head())"
   ]
  },
  {
   "cell_type": "code",
   "execution_count": 78,
   "metadata": {},
   "outputs": [],
   "source": [
    "# Dropping Columns not needed for analyisis:\n",
    "train_data=train_data.drop([\"Name\",\"Cabin\",\"Ticket\"], axis=1)"
   ]
  },
  {
   "cell_type": "code",
   "execution_count": 79,
   "metadata": {},
   "outputs": [],
   "source": [
    "test_data=test_data.drop([\"Name\",\"Ticket\"],axis=1)"
   ]
  },
  {
   "cell_type": "code",
   "execution_count": 80,
   "metadata": {},
   "outputs": [
    {
     "name": "stdout",
     "output_type": "stream",
     "text": [
      "   PassengerId  Survived  Pclass     Sex   Age  SibSp  Parch     Fare Embarked\n",
      "0            1         0       3    male  22.0      1      0   7.2500        S\n",
      "1            2         1       1  female  38.0      1      0  71.2833        C\n",
      "2            3         1       3  female  26.0      0      0   7.9250        S\n",
      "3            4         1       1  female  35.0      1      0  53.1000        S\n",
      "4            5         0       3    male  35.0      0      0   8.0500        S\n",
      "---------------------------------------------------------------------------\n",
      "   PassengerId  Pclass     Sex   Age  SibSp  Parch     Fare Embarked\n",
      "0          892       3    male  34.5      0      0   7.8292        Q\n",
      "1          893       3  female  47.0      1      0   7.0000        S\n",
      "2          894       2    male  62.0      0      0   9.6875        Q\n",
      "3          895       3    male  27.0      0      0   8.6625        S\n",
      "4          896       3  female  22.0      1      1  12.2875        S\n"
     ]
    }
   ],
   "source": [
    "print(train_data.head())\n",
    "print('---------------------------------------------------------------------------')\n",
    "print(test_data.head())"
   ]
  },
  {
   "cell_type": "code",
   "execution_count": 81,
   "metadata": {},
   "outputs": [],
   "source": [
    "# Preprcessing:\n",
    "from sklearn.preprocessing import LabelEncoder\n",
    "le=LabelEncoder()"
   ]
  },
  {
   "cell_type": "code",
   "execution_count": 82,
   "metadata": {},
   "outputs": [],
   "source": [
    "train_data['Sex']=le.fit_transform(train_data['Sex'])\n",
    "train_data['Embarked']=le.fit_transform(train_data['Embarked'])\n",
    "test_data['Sex']=le.fit_transform(test_data['Sex'])\n",
    "test_data['Embarked']=le.fit_transform(test_data['Embarked'])"
   ]
  },
  {
   "cell_type": "code",
   "execution_count": 83,
   "metadata": {},
   "outputs": [
    {
     "name": "stdout",
     "output_type": "stream",
     "text": [
      "   PassengerId  Survived  Pclass  Sex   Age  SibSp  Parch     Fare  Embarked\n",
      "0            1         0       3    1  22.0      1      0   7.2500         2\n",
      "1            2         1       1    0  38.0      1      0  71.2833         0\n",
      "2            3         1       3    0  26.0      0      0   7.9250         2\n",
      "3            4         1       1    0  35.0      1      0  53.1000         2\n",
      "4            5         0       3    1  35.0      0      0   8.0500         2\n",
      "---------------------------------------------------------------------------\n",
      "   PassengerId  Pclass  Sex   Age  SibSp  Parch     Fare  Embarked\n",
      "0          892       3    1  34.5      0      0   7.8292         1\n",
      "1          893       3    0  47.0      1      0   7.0000         2\n",
      "2          894       2    1  62.0      0      0   9.6875         1\n",
      "3          895       3    1  27.0      0      0   8.6625         2\n",
      "4          896       3    0  22.0      1      1  12.2875         2\n"
     ]
    }
   ],
   "source": [
    "print(train_data.head())\n",
    "print('---------------------------------------------------------------------------')\n",
    "print(test_data.head())"
   ]
  },
  {
   "cell_type": "code",
   "execution_count": 84,
   "metadata": {},
   "outputs": [
    {
     "data": {
      "text/plain": [
       "(889, 9)"
      ]
     },
     "execution_count": 84,
     "metadata": {},
     "output_type": "execute_result"
    }
   ],
   "source": [
    "train_data.shape"
   ]
  },
  {
   "cell_type": "code",
   "execution_count": 85,
   "metadata": {},
   "outputs": [
    {
     "data": {
      "text/plain": [
       "(417, 8)"
      ]
     },
     "execution_count": 85,
     "metadata": {},
     "output_type": "execute_result"
    }
   ],
   "source": [
    "test_data.shape"
   ]
  },
  {
   "cell_type": "code",
   "execution_count": 86,
   "metadata": {},
   "outputs": [
    {
     "data": {
      "text/plain": [
       "PassengerId    0\n",
       "Survived       0\n",
       "Pclass         0\n",
       "Sex            0\n",
       "Age            0\n",
       "SibSp          0\n",
       "Parch          0\n",
       "Fare           0\n",
       "Embarked       0\n",
       "dtype: int64"
      ]
     },
     "execution_count": 86,
     "metadata": {},
     "output_type": "execute_result"
    }
   ],
   "source": [
    "train_data.isna().sum()"
   ]
  },
  {
   "cell_type": "code",
   "execution_count": 87,
   "metadata": {},
   "outputs": [
    {
     "data": {
      "text/plain": [
       "PassengerId    0\n",
       "Pclass         0\n",
       "Sex            0\n",
       "Age            0\n",
       "SibSp          0\n",
       "Parch          0\n",
       "Fare           0\n",
       "Embarked       0\n",
       "dtype: int64"
      ]
     },
     "execution_count": 87,
     "metadata": {},
     "output_type": "execute_result"
    }
   ],
   "source": [
    "test_data.isna().sum()"
   ]
  },
  {
   "cell_type": "code",
   "execution_count": 88,
   "metadata": {},
   "outputs": [],
   "source": [
    "# Spliting the datasets for analysis:\n",
    "train_x=train_data.drop('Survived',axis=1)\n",
    "train_y=train_data['Survived']"
   ]
  },
  {
   "cell_type": "code",
   "execution_count": 89,
   "metadata": {},
   "outputs": [
    {
     "data": {
      "text/html": [
       "<div>\n",
       "<style scoped>\n",
       "    .dataframe tbody tr th:only-of-type {\n",
       "        vertical-align: middle;\n",
       "    }\n",
       "\n",
       "    .dataframe tbody tr th {\n",
       "        vertical-align: top;\n",
       "    }\n",
       "\n",
       "    .dataframe thead th {\n",
       "        text-align: right;\n",
       "    }\n",
       "</style>\n",
       "<table border=\"1\" class=\"dataframe\">\n",
       "  <thead>\n",
       "    <tr style=\"text-align: right;\">\n",
       "      <th></th>\n",
       "      <th>PassengerId</th>\n",
       "      <th>Pclass</th>\n",
       "      <th>Sex</th>\n",
       "      <th>Age</th>\n",
       "      <th>SibSp</th>\n",
       "      <th>Parch</th>\n",
       "      <th>Fare</th>\n",
       "      <th>Embarked</th>\n",
       "    </tr>\n",
       "  </thead>\n",
       "  <tbody>\n",
       "    <tr>\n",
       "      <th>0</th>\n",
       "      <td>1</td>\n",
       "      <td>3</td>\n",
       "      <td>1</td>\n",
       "      <td>22.0</td>\n",
       "      <td>1</td>\n",
       "      <td>0</td>\n",
       "      <td>7.2500</td>\n",
       "      <td>2</td>\n",
       "    </tr>\n",
       "    <tr>\n",
       "      <th>1</th>\n",
       "      <td>2</td>\n",
       "      <td>1</td>\n",
       "      <td>0</td>\n",
       "      <td>38.0</td>\n",
       "      <td>1</td>\n",
       "      <td>0</td>\n",
       "      <td>71.2833</td>\n",
       "      <td>0</td>\n",
       "    </tr>\n",
       "  </tbody>\n",
       "</table>\n",
       "</div>"
      ],
      "text/plain": [
       "   PassengerId  Pclass  Sex   Age  SibSp  Parch     Fare  Embarked\n",
       "0            1       3    1  22.0      1      0   7.2500         2\n",
       "1            2       1    0  38.0      1      0  71.2833         0"
      ]
     },
     "execution_count": 89,
     "metadata": {},
     "output_type": "execute_result"
    }
   ],
   "source": [
    "train_x.head(2)"
   ]
  },
  {
   "cell_type": "code",
   "execution_count": 90,
   "metadata": {},
   "outputs": [
    {
     "data": {
      "text/plain": [
       "0    0\n",
       "1    1\n",
       "Name: Survived, dtype: int64"
      ]
     },
     "execution_count": 90,
     "metadata": {},
     "output_type": "execute_result"
    }
   ],
   "source": [
    "train_y.head(2)"
   ]
  },
  {
   "cell_type": "code",
   "execution_count": 91,
   "metadata": {},
   "outputs": [
    {
     "data": {
      "text/plain": [
       "GaussianNB()"
      ]
     },
     "execution_count": 91,
     "metadata": {},
     "output_type": "execute_result"
    }
   ],
   "source": [
    "model=GaussianNB()\n",
    "model.fit(train_x,train_y)"
   ]
  },
  {
   "cell_type": "code",
   "execution_count": 92,
   "metadata": {},
   "outputs": [
    {
     "name": "stdout",
     "output_type": "stream",
     "text": [
      "[0 1 1 1 0 0 0 0 1 1 1 1 0 0 1 1 0 0 1 1 0 0 1 0 0 0 0 1 1 0 1 1 1 0 1 0 0\n",
      " 0 0 1 1 1 0 1 1 0 0 1 0 1 0 0 1 1 1 0 1 0 1 0 0 1 0 1 0 1 0 0 0 0 0 0 0 0\n",
      " 0 0 0 0 1 0 0 1 0 1 0 0 0 1 0 0 0 0 0 0 0 1 1 1 0 1 0 1 0 0 0 1 0 0 1 0 1\n",
      " 0 1 1 0 0 0 1 0 0 0 0 1 1 0 0 0 1 0 0 0 1 1 0 0 1 0 0 1 1 1 1 0 0 0 0 0 0\n",
      " 0 0 1 0 0 0 1 1 0 0 0 0 1 0 0 0 0 1 0 0 0 0 0 1 0 1 0 0 1 0 0 0 0 0 0 1 0\n",
      " 1 0 0 0 1 0 1 0 1 1 0 0 1 1 0 0 0 0 0 1 0 0 1 1 0 1 0 0 0 1 1 0 1 0 0 0 0\n",
      " 0 1 0 0 0 0 0 1 0 0 0 0 1 0 1 0 0 1 1 0 0 0 0 1 1 0 0 0 1 0 0 1 1 1 1 1 1\n",
      " 0 0 1 0 1 0 0 0 1 1 0 0 1 1 1 1 1 0 0 1 0 0 0 0 0 0 0 0 0 1 1 1 0 1 0 1 0\n",
      " 1 0 1 1 0 0 1 0 1 1 1 0 1 1 1 1 0 0 1 1 0 1 1 0 0 1 1 0 1 0 1 1 1 0 0 1 0\n",
      " 1 0 0 1 0 0 0 1 0 0 0 1 1 1 0 0 0 0 0 0 0 0 1 1 1 1 0 0 1 0 0 0 1 1 1 1 1\n",
      " 0 0 1 0 1 1 1 0 0 1 1 0 1 0 0 0 1 0 1 1 0 0 1 1 0 1 0 0 1 0 0 1 0 1 0 0 0\n",
      " 0 0 0 0 1 0 0 1 1 1 0 1 0 0 0 1 0 0 1 1 0 0 0 1 1 0 0 1 0 0 1 0 1 0 0 1 0\n",
      " 1 1 0 1 0 0 0 1 1 0 0 0 1 1 0 0 0 0 0 0 0 0 0 0 1 0 0 1 1 1 0 0 0 0 1 0 0\n",
      " 0 1 1 0 1 1 0 0 0 0 0 1 0 0 1 0 1 0 0 1 1 1 1 1 1 0 0 0 0 0 0 1 0 0 1 0 1\n",
      " 0 1 0 0 1 0 0 1 1 0 0 1 0 0 1 1 1 0 1 0 1 1 0 0 0 1 0 1 0 0 0 1 0 0 0 1 0\n",
      " 1 1 1 1 0 0 0 0 1 0 0 1 0 0 0 1 0 1 0 0 1 1 1 0 1 1 0 1 0 1 0 1 0 0 0 1 0\n",
      " 1 0 0 1 0 0 1 1 0 0 0 1 0 0 0 1 1 0 0 1 0 0 1 0 1 1 0 0 0 0 0 0 0 0 1 0 0\n",
      " 0 0 1 0 0 1 0 0 0 0 0 1 0 0 1 1 0 1 0 1 0 1 0 1 1 0 0 1 0 1 1 0 0 0 0 0 0\n",
      " 0 0 1 1 0 0 0 0 0 0 1 0 1 1 1 0 0 0 0 0 0 0 1 0 1 0 0 0 0 0 1 1 0 1 0 1 0\n",
      " 0 0 1 0 1 0 1 0 0 0 0 0 1 1 0 0 1 0 0 0 0 0 0 1 0 1 1 0 0 0 0 0 1 1 0 0 0\n",
      " 1 1 0 0 1 0 1 0 0 1 0 0 0 1 0 0 0 0 1 0 0 0 1 0 1 1 1 0 0 0 0 1 0 1 0 0 1\n",
      " 0 1 1 1 0 0 0 0 1 0 0 1 0 0 0 1 0 0 1 1 0 1 0 1 1 0 0 0 0 1 0 1 0 0 0 0 0\n",
      " 0 1 0 0 0 1 0 0 1 0 0 0 1 0 1 0 0 0 0 1 0 0 0 1 0 0 1 0 0 0 0 0 0 1 0 0 1\n",
      " 1 1 1 1 0 1 0 0 0 1 0 0 1 1 0 0 0 0 1 0 0 1 1 0 0 0 1 1 0 1 0 0 0 0 1 1 1\n",
      " 0]\n"
     ]
    }
   ],
   "source": [
    "# Prediction on Training dataset:\n",
    "predict_train = model.predict(train_x)\n",
    "print(predict_train)"
   ]
  },
  {
   "cell_type": "code",
   "execution_count": 93,
   "metadata": {},
   "outputs": [
    {
     "name": "stdout",
     "output_type": "stream",
     "text": [
      "Training Accuracy: 79.19010123734533 %\n"
     ]
    }
   ],
   "source": [
    "print('Training Accuracy:', accuracy_score(train_y,predict_train)*100,'%')"
   ]
  },
  {
   "cell_type": "code",
   "execution_count": 94,
   "metadata": {},
   "outputs": [
    {
     "name": "stdout",
     "output_type": "stream",
     "text": [
      "[0 1 0 0 1 0 1 0 1 0 0 0 1 0 1 1 0 0 1 1 1 0 1 1 1 0 1 0 0 0 0 0 1 1 1 0 1\n",
      " 1 0 0 0 0 0 1 1 0 1 0 1 1 0 0 0 1 0 0 0 0 0 1 0 0 0 1 1 1 1 0 1 1 1 0 1 1\n",
      " 1 1 0 1 0 1 0 1 0 0 0 0 1 1 1 0 1 0 1 0 1 0 1 0 1 0 1 0 0 0 1 0 0 0 0 0 0\n",
      " 1 1 1 1 0 0 1 1 1 1 0 1 0 0 1 0 0 0 0 0 1 0 0 0 0 0 0 1 0 0 1 1 0 0 0 0 0\n",
      " 0 0 1 0 1 0 0 1 1 0 1 1 0 1 0 0 1 1 0 1 1 0 0 0 0 0 1 1 1 1 1 0 1 1 0 1 0\n",
      " 1 0 0 0 0 0 0 0 0 0 1 1 0 1 1 0 1 1 0 1 1 0 1 0 0 0 0 1 0 0 1 1 1 0 1 0 1\n",
      " 0 1 1 0 1 0 0 0 1 0 0 1 0 1 0 1 1 1 1 1 0 0 0 1 0 1 1 1 0 1 0 0 0 0 0 1 0\n",
      " 0 0 1 1 0 0 0 0 0 0 1 0 1 1 0 1 0 0 0 0 1 0 1 1 1 0 0 1 0 0 0 1 0 1 0 0 1\n",
      " 0 0 0 0 0 0 0 1 1 1 0 1 0 0 0 0 1 1 1 1 0 0 0 0 0 0 0 1 0 1 1 0 0 1 1 0 1\n",
      " 0 0 0 0 0 0 0 0 0 1 0 1 0 1 0 1 1 0 0 0 1 0 1 0 0 0 0 1 1 0 1 0 0 1 1 0 0\n",
      " 1 0 0 1 1 0 0 0 0 0 0 0 1 0 1 0 0 0 0 1 1 0 0 0 1 0 1 0 0 1 0 1 0 0 0 0 1\n",
      " 1 1 1 1 1 0 1 0 0 0]\n"
     ]
    }
   ],
   "source": [
    "# Predition on Test Dataset:\n",
    "predict_test = model.predict(test_data)\n",
    "print(predict_test)"
   ]
  },
  {
   "cell_type": "code",
   "execution_count": null,
   "metadata": {},
   "outputs": [],
   "source": []
  },
  {
   "cell_type": "markdown",
   "metadata": {},
   "source": [
    "# Principal Component Analysis:"
   ]
  },
  {
   "cell_type": "code",
   "execution_count": 95,
   "metadata": {},
   "outputs": [
    {
     "name": "stderr",
     "output_type": "stream",
     "text": [
      "C:\\Users\\Akshay\\anaconda3\\lib\\importlib\\_bootstrap.py:219: RuntimeWarning: numpy.ufunc size changed, may indicate binary incompatibility. Expected 192 from C header, got 216 from PyObject\n",
      "  return f(*args, **kwds)\n"
     ]
    },
    {
     "data": {
      "text/html": [
       "<div>\n",
       "<style scoped>\n",
       "    .dataframe tbody tr th:only-of-type {\n",
       "        vertical-align: middle;\n",
       "    }\n",
       "\n",
       "    .dataframe tbody tr th {\n",
       "        vertical-align: top;\n",
       "    }\n",
       "\n",
       "    .dataframe thead th {\n",
       "        text-align: right;\n",
       "    }\n",
       "</style>\n",
       "<table border=\"1\" class=\"dataframe\">\n",
       "  <thead>\n",
       "    <tr style=\"text-align: right;\">\n",
       "      <th></th>\n",
       "      <th>sepal_length</th>\n",
       "      <th>sepal_width</th>\n",
       "      <th>petal_length</th>\n",
       "      <th>petal_width</th>\n",
       "      <th>species</th>\n",
       "    </tr>\n",
       "  </thead>\n",
       "  <tbody>\n",
       "    <tr>\n",
       "      <th>0</th>\n",
       "      <td>5.1</td>\n",
       "      <td>3.5</td>\n",
       "      <td>1.4</td>\n",
       "      <td>0.2</td>\n",
       "      <td>setosa</td>\n",
       "    </tr>\n",
       "    <tr>\n",
       "      <th>1</th>\n",
       "      <td>4.9</td>\n",
       "      <td>3.0</td>\n",
       "      <td>1.4</td>\n",
       "      <td>0.2</td>\n",
       "      <td>setosa</td>\n",
       "    </tr>\n",
       "    <tr>\n",
       "      <th>2</th>\n",
       "      <td>4.7</td>\n",
       "      <td>3.2</td>\n",
       "      <td>1.3</td>\n",
       "      <td>0.2</td>\n",
       "      <td>setosa</td>\n",
       "    </tr>\n",
       "    <tr>\n",
       "      <th>3</th>\n",
       "      <td>4.6</td>\n",
       "      <td>3.1</td>\n",
       "      <td>1.5</td>\n",
       "      <td>0.2</td>\n",
       "      <td>setosa</td>\n",
       "    </tr>\n",
       "    <tr>\n",
       "      <th>4</th>\n",
       "      <td>5.0</td>\n",
       "      <td>3.6</td>\n",
       "      <td>1.4</td>\n",
       "      <td>0.2</td>\n",
       "      <td>setosa</td>\n",
       "    </tr>\n",
       "  </tbody>\n",
       "</table>\n",
       "</div>"
      ],
      "text/plain": [
       "   sepal_length  sepal_width  petal_length  petal_width species\n",
       "0           5.1          3.5           1.4          0.2  setosa\n",
       "1           4.9          3.0           1.4          0.2  setosa\n",
       "2           4.7          3.2           1.3          0.2  setosa\n",
       "3           4.6          3.1           1.5          0.2  setosa\n",
       "4           5.0          3.6           1.4          0.2  setosa"
      ]
     },
     "execution_count": 95,
     "metadata": {},
     "output_type": "execute_result"
    }
   ],
   "source": [
    "# Importing Libraries:\n",
    "import seaborn as sns\n",
    "import matplotlib.pyplot as plt \n",
    "from sklearn import svm, datasets\n",
    " \n",
    "irisdata=sns.load_dataset('iris')\n",
    "irisdata.head()"
   ]
  },
  {
   "cell_type": "code",
   "execution_count": 96,
   "metadata": {},
   "outputs": [
    {
     "data": {
      "text/html": [
       "<div>\n",
       "<style scoped>\n",
       "    .dataframe tbody tr th:only-of-type {\n",
       "        vertical-align: middle;\n",
       "    }\n",
       "\n",
       "    .dataframe tbody tr th {\n",
       "        vertical-align: top;\n",
       "    }\n",
       "\n",
       "    .dataframe thead th {\n",
       "        text-align: right;\n",
       "    }\n",
       "</style>\n",
       "<table border=\"1\" class=\"dataframe\">\n",
       "  <thead>\n",
       "    <tr style=\"text-align: right;\">\n",
       "      <th></th>\n",
       "      <th>sepal_length</th>\n",
       "      <th>sepal_width</th>\n",
       "      <th>petal_length</th>\n",
       "      <th>petal_width</th>\n",
       "      <th>species</th>\n",
       "    </tr>\n",
       "  </thead>\n",
       "  <tbody>\n",
       "    <tr>\n",
       "      <th>148</th>\n",
       "      <td>6.2</td>\n",
       "      <td>3.4</td>\n",
       "      <td>5.4</td>\n",
       "      <td>2.3</td>\n",
       "      <td>virginica</td>\n",
       "    </tr>\n",
       "    <tr>\n",
       "      <th>104</th>\n",
       "      <td>6.5</td>\n",
       "      <td>3.0</td>\n",
       "      <td>5.8</td>\n",
       "      <td>2.2</td>\n",
       "      <td>virginica</td>\n",
       "    </tr>\n",
       "    <tr>\n",
       "      <th>81</th>\n",
       "      <td>5.5</td>\n",
       "      <td>2.4</td>\n",
       "      <td>3.7</td>\n",
       "      <td>1.0</td>\n",
       "      <td>versicolor</td>\n",
       "    </tr>\n",
       "    <tr>\n",
       "      <th>11</th>\n",
       "      <td>4.8</td>\n",
       "      <td>3.4</td>\n",
       "      <td>1.6</td>\n",
       "      <td>0.2</td>\n",
       "      <td>setosa</td>\n",
       "    </tr>\n",
       "    <tr>\n",
       "      <th>99</th>\n",
       "      <td>5.7</td>\n",
       "      <td>2.8</td>\n",
       "      <td>4.1</td>\n",
       "      <td>1.3</td>\n",
       "      <td>versicolor</td>\n",
       "    </tr>\n",
       "  </tbody>\n",
       "</table>\n",
       "</div>"
      ],
      "text/plain": [
       "     sepal_length  sepal_width  petal_length  petal_width     species\n",
       "148           6.2          3.4           5.4          2.3   virginica\n",
       "104           6.5          3.0           5.8          2.2   virginica\n",
       "81            5.5          2.4           3.7          1.0  versicolor\n",
       "11            4.8          3.4           1.6          0.2      setosa\n",
       "99            5.7          2.8           4.1          1.3  versicolor"
      ]
     },
     "execution_count": 96,
     "metadata": {},
     "output_type": "execute_result"
    }
   ],
   "source": [
    "irisdata.sample(5)"
   ]
  },
  {
   "cell_type": "code",
   "execution_count": 97,
   "metadata": {},
   "outputs": [
    {
     "data": {
      "text/plain": [
       "(150, 5)"
      ]
     },
     "execution_count": 97,
     "metadata": {},
     "output_type": "execute_result"
    }
   ],
   "source": [
    "irisdata.shape"
   ]
  },
  {
   "cell_type": "code",
   "execution_count": 98,
   "metadata": {},
   "outputs": [
    {
     "name": "stdout",
     "output_type": "stream",
     "text": [
      "[[-0.33535015 -0.08972404  0.36977135  0.35026641]\n",
      " [-0.33535015 -0.55784944  0.59938357  1.01323122]\n",
      " [-1.05826067  1.31465217 -1.40972338 -1.37344209]\n",
      " [-0.09437998 -0.79191214  0.71418969  0.88063825]\n",
      " [-1.29923084  0.84652677 -1.29491727 -1.37344209]\n",
      " [ 0.14659019 -1.96222564  0.08275607 -0.3126984 ]\n",
      " [-0.57632033 -0.08972404  0.36977135  0.35026641]\n",
      " [-0.45583524  2.71902838 -1.40972338 -1.37344209]\n",
      " [ 0.50804544 -1.26003754  0.59938357  0.35026641]\n",
      " [ 0.8695007  -0.32378674  0.42717441  0.08508048]\n",
      " [ 1.59241121  1.31465217  1.28822024  1.67619602]\n",
      " [ 1.59241121 -0.08972404  1.11601108  0.48285937]\n",
      " [ 0.74901562 -0.08972404  0.94380191  0.74804529]\n",
      " [-0.93777558  1.78277757 -1.1227081  -1.10825617]\n",
      " [ 0.74901562 -0.08972404  1.11601108  1.27841714]\n",
      " [ 0.8695007  -0.08972404  0.3123683   0.21767345]\n",
      " [ 0.38756036  0.84652677  0.88639885  1.4110101 ]\n",
      " [ 0.26707527 -0.08972404  0.42717441  0.21767345]\n",
      " [ 0.98998579 -0.08972404  0.65678663  0.61545233]\n",
      " [-0.09437998 -0.79191214  0.14015913 -0.3126984 ]\n",
      " [-0.33535015 -0.32378674 -0.14685615  0.08508048]\n",
      " [ 0.14659019  0.84652677  0.36977135  0.48285937]\n",
      " [-1.05826067  0.84652677 -1.29491727 -1.10825617]\n",
      " [-0.21486507 -0.08972404  0.19756218 -0.04751248]\n",
      " [-0.93777558 -1.26003754 -0.49127449 -0.18010544]\n",
      " [-0.21486507 -0.55784944  0.36977135  0.08508048]\n",
      " [ 2.07435156 -0.08972404  1.57523552  1.14582418]\n",
      " [-0.93777558  1.08058947 -1.40972338 -1.37344209]\n",
      " [ 0.0261051  -0.08972404  0.71418969  0.74804529]\n",
      " [ 1.59241121  0.37840137  1.23081719  0.74804529]\n",
      " [ 0.62853053  0.37840137  0.36977135  0.35026641]\n",
      " [ 0.50804544 -0.55784944  0.71418969  0.35026641]\n",
      " [-1.29923084  0.84652677 -1.1227081  -1.37344209]\n",
      " [-1.78117118 -0.08972404 -1.46712643 -1.37344209]\n",
      " [-1.17874575  0.14433867 -1.35232032 -1.37344209]\n",
      " [ 1.47192613 -0.08972404  1.17341413  1.14582418]\n",
      " [ 0.98998579  0.14433867  0.3123683   0.21767345]\n",
      " [-1.54020101  1.31465217 -1.6393356  -1.37344209]\n",
      " [ 0.50804544 -0.32378674  1.00120496  0.74804529]\n",
      " [-0.57632033  0.84652677 -1.35232032 -1.10825617]\n",
      " [-1.78117118  0.37840137 -1.46712643 -1.37344209]\n",
      " [ 0.62853053 -0.55784944  1.00120496  1.14582418]\n",
      " [ 0.0261051  -0.08972404  0.19756218  0.35026641]\n",
      " [-0.93777558  0.61246407 -1.23751421 -0.97566321]\n",
      " [-1.78117118 -0.32378674 -1.40972338 -1.37344209]\n",
      " [-1.29923084 -0.08972404 -1.40972338 -1.24084913]\n",
      " [ 0.74901562  0.37840137  0.71418969  1.01323122]\n",
      " [ 0.98998579 -0.08972404  0.77159274  1.4110101 ]\n",
      " [ 0.14659019 -1.96222564  0.65678663  0.35026641]\n",
      " [ 2.19483664 -0.08972404  1.28822024  1.4110101 ]\n",
      " [-0.21486507 -0.32378674  0.19756218  0.08508048]\n",
      " [-1.41971593  0.37840137 -1.29491727 -1.37344209]\n",
      " [ 0.38756036 -0.32378674  0.25496524  0.08508048]\n",
      " [ 2.19483664 -0.55784944  1.63263858  1.01323122]\n",
      " [ 0.26707527 -0.32378674  0.48457746  0.21767345]\n",
      " [-1.05826067 -2.43035104 -0.20425921 -0.3126984 ]\n",
      " [-0.45583524 -1.72816294  0.08275607  0.08508048]\n",
      " [ 1.7128963  -0.32378674  1.40302635  0.74804529]\n",
      " [ 0.50804544  0.61246407  1.23081719  1.67619602]\n",
      " [-1.17874575 -0.08972404 -1.40972338 -1.37344209]\n",
      " [-1.54020101  0.37840137 -1.40972338 -1.37344209]\n",
      " [ 2.19483664 -1.02597484  1.74744469  1.4110101 ]\n",
      " [ 0.98998579  0.14433867  0.48457746  0.35026641]\n",
      " [-1.29923084 -0.08972404 -1.40972338 -1.50603506]\n",
      " [ 0.62853053 -0.55784944  1.00120496  1.27841714]\n",
      " [ 0.50804544 -1.72816294  0.3123683   0.08508048]\n",
      " [-1.05826067  1.08058947 -1.46712643 -1.24084913]\n",
      " [-0.45583524 -1.49410024 -0.0894531  -0.3126984 ]\n",
      " [-0.8172905   2.48496567 -1.35232032 -1.50603506]\n",
      " [ 0.38756036 -1.96222564  0.36977135  0.35026641]\n",
      " [ 1.23095596  0.14433867  0.59938357  0.35026641]\n",
      " [ 2.19483664  1.78277757  1.63263858  1.27841714]\n",
      " [ 1.23095596  0.14433867  0.71418969  1.4110101 ]\n",
      " [-1.05826067 -0.08972404 -1.29491727 -1.37344209]\n",
      " [-1.54020101  0.84652677 -1.40972338 -1.24084913]\n",
      " [ 0.62853053 -0.79191214  0.8289958   0.88063825]\n",
      " [-1.05826067 -1.72816294 -0.31906532 -0.3126984 ]\n",
      " [-0.09437998 -0.79191214  0.02535302 -0.04751248]\n",
      " [ 0.50804544  0.84652677  1.00120496  1.54360306]\n",
      " [ 1.11047087 -0.08972404  0.94380191  1.14582418]\n",
      " [-0.33535015 -0.79191214  0.19756218  0.08508048]\n",
      " [ 1.35144104  0.37840137  0.48457746  0.21767345]\n",
      " [ 0.14659019 -0.79191214  0.71418969  0.48285937]\n",
      " [ 0.14659019 -0.32378674  0.36977135  0.35026641]\n",
      " [-0.93777558  1.78277757 -1.29491727 -1.37344209]\n",
      " [-0.09437998 -0.55784944  0.71418969  1.54360306]\n",
      " [-0.93777558  1.78277757 -1.35232032 -1.24084913]\n",
      " [-1.29923084  0.14433867 -1.29491727 -1.37344209]\n",
      " [-0.45583524 -1.02597484  0.3123683  -0.04751248]\n",
      " [-0.93777558  0.84652677 -1.35232032 -1.37344209]\n",
      " [ 1.23095596  0.14433867  0.88639885  1.14582418]\n",
      " [-0.57632033  1.54871487 -1.35232032 -1.37344209]\n",
      " [-1.05826067  0.37840137 -1.52452949 -1.37344209]\n",
      " [-0.33535015 -1.26003754  0.02535302 -0.18010544]\n",
      " [ 1.23095596  0.37840137  1.05860802  1.4110101 ]\n",
      " [-1.05826067  1.08058947 -1.29491727 -0.84307025]\n",
      " [ 0.50804544 -0.79191214  0.59938357  0.74804529]\n",
      " [ 0.74901562 -0.08972404  0.77159274  1.01323122]\n",
      " [-0.8172905   0.84652677 -1.40972338 -1.37344209]\n",
      " [-1.6606861  -1.72816294 -1.46712643 -1.24084913]\n",
      " [-0.21486507  3.18715378 -1.35232032 -1.10825617]\n",
      " [ 0.50804544 -1.26003754  0.65678663  0.88063825]\n",
      " [ 0.0261051   0.37840137  0.54198052  0.74804529]\n",
      " [ 1.11047087 -0.55784944  0.54198052  0.21767345]\n",
      " [-0.33535015 -0.08972404  0.14015913  0.08508048]\n",
      " [-0.21486507 -1.02597484 -0.20425921 -0.3126984 ]\n",
      " [ 0.26707527 -0.55784944  0.08275607  0.08508048]\n",
      " [ 0.62853053  0.37840137  0.8289958   1.4110101 ]\n",
      " [-0.45583524 -1.49410024 -0.03205004 -0.18010544]\n",
      " [ 0.98998579  0.61246407  1.05860802  1.14582418]\n",
      " [ 0.62853053  0.14433867  0.94380191  0.74804529]\n",
      " [ 0.26707527 -1.02597484  1.00120496  0.21767345]\n",
      " [-0.09437998  2.25090297 -1.52452949 -1.37344209]\n",
      " [-1.54020101  0.14433867 -1.35232032 -1.37344209]\n",
      " [ 0.98998579  0.14433867  1.00120496  1.54360306]\n",
      " [ 0.26707527 -0.55784944  0.48457746 -0.04751248]\n",
      " [ 1.11047087  0.37840137  1.17341413  1.4110101 ]\n",
      " [-0.45583524 -1.26003754  0.08275607  0.08508048]\n",
      " [-0.69680541  1.54871487 -1.35232032 -1.37344209]\n",
      " [-1.41971593  0.37840137 -1.46712643 -1.37344209]]\n",
      "------------------------------------------------------------------------------\n",
      "[[-0.8172905  -0.79191214  0.02535302  0.21767345]\n",
      " [-1.17874575 -1.26003754  0.36977135  0.61545233]\n",
      " [ 0.62853053 -0.32378674  0.25496524  0.08508048]\n",
      " [-1.05826067  0.61246407 -1.40972338 -1.37344209]\n",
      " [-0.57632033  2.01684027 -1.46712643 -1.10825617]\n",
      " [-0.09437998 -0.79191214  0.71418969  0.88063825]\n",
      " [-0.09437998 -1.02597484  0.08275607 -0.04751248]\n",
      " [-0.57632033  0.84652677 -1.23751421 -1.37344209]\n",
      " [ 2.43580681  1.78277757  1.46042941  1.01323122]\n",
      " [-0.21486507 -0.55784944  0.14015913  0.08508048]\n",
      " [-0.57632033  2.01684027 -1.23751421 -1.10825617]\n",
      " [ 0.50804544  0.61246407  0.48457746  0.48285937]\n",
      " [ 0.74901562 -0.55784944  0.42717441  0.35026641]\n",
      " [ 0.38756036 -0.55784944  0.54198052  0.74804529]\n",
      " [-1.17874575 -1.49410024 -0.31906532 -0.3126984 ]\n",
      " [-0.21486507  1.78277757 -1.23751421 -1.24084913]\n",
      " [ 1.83338139 -0.55784944  1.28822024  0.88063825]\n",
      " [-0.93777558  1.08058947 -1.40972338 -1.24084913]\n",
      " [ 0.98998579  0.61246407  1.05860802  1.67619602]\n",
      " [ 0.98998579 -1.26003754  1.11601108  0.74804529]\n",
      " [-0.45583524  1.08058947 -1.46712643 -1.37344209]\n",
      " [-1.05826067  0.84652677 -1.35232032 -1.37344209]\n",
      " [ 0.14659019 -0.08972404  0.54198052  0.74804529]\n",
      " [-1.90165627 -0.08972404 -1.58193255 -1.50603506]\n",
      " [-0.21486507 -1.26003754  0.65678663  1.01323122]\n",
      " [-1.17874575  1.31465217 -1.40972338 -1.50603506]\n",
      " [-1.17874575  0.14433867 -1.35232032 -1.50603506]\n",
      " [ 0.26707527 -0.08972404  0.59938357  0.74804529]\n",
      " [-0.93777558  1.54871487 -1.35232032 -1.10825617]\n",
      " [-0.8172905   1.08058947 -1.35232032 -1.37344209]]\n"
     ]
    }
   ],
   "source": [
    "# Spliting and Analysis on the dataset:\n",
    "X=irisdata.drop('species',axis=1)\n",
    "y=irisdata['species']\n",
    "\n",
    "from sklearn.model_selection import train_test_split\n",
    "X_train, X_test,y_train,y_test=train_test_split(X,y,test_size=0.2)\n",
    "from sklearn.preprocessing import StandardScaler\n",
    "sc=StandardScaler()\n",
    "X_train=sc.fit_transform(X_train)\n",
    "X_test = sc.transform(X_test)\n",
    "print(X_train)\n",
    "print('------------------------------------------------------------------------------')\n",
    "print(X_test)"
   ]
  },
  {
   "cell_type": "code",
   "execution_count": 99,
   "metadata": {},
   "outputs": [],
   "source": [
    "# PCA\n",
    "from sklearn.decomposition import PCA\n",
    "pca=PCA()\n",
    "X_train=pca.fit_transform(X_train)\n",
    "X_test=pca.transform(X_test)"
   ]
  },
  {
   "cell_type": "code",
   "execution_count": 100,
   "metadata": {},
   "outputs": [
    {
     "data": {
      "text/plain": [
       "array([0.72787458, 0.23075051, 0.03540468, 0.00597023])"
      ]
     },
     "execution_count": 100,
     "metadata": {},
     "output_type": "execute_result"
    }
   ],
   "source": [
    "explained_variance=pca.explained_variance_ratio_\n",
    "explained_variance"
   ]
  },
  {
   "cell_type": "markdown",
   "metadata": {},
   "source": [
    "**Since only first two principle components cotributed to the majority of the analysis part thus, we will reduce our to computation on just those two components.**"
   ]
  },
  {
   "cell_type": "code",
   "execution_count": 101,
   "metadata": {},
   "outputs": [
    {
     "data": {
      "text/plain": [
       "array([0.72787458, 0.23075051])"
      ]
     },
     "execution_count": 101,
     "metadata": {},
     "output_type": "execute_result"
    }
   ],
   "source": [
    "# PCA\n",
    "from sklearn.decomposition import PCA\n",
    "pca=PCA(n_components=2)\n",
    "X_train=pca.fit_transform(X_train)\n",
    "X_test=pca.transform(X_test)\n",
    "explained_variance=pca.explained_variance_ratio_\n",
    "explained_variance"
   ]
  },
  {
   "cell_type": "markdown",
   "metadata": {},
   "source": [
    "**Performing RadomForestClassifier Algorithm of the iris dataset basis the principle componets we identified above.**"
   ]
  },
  {
   "cell_type": "code",
   "execution_count": 103,
   "metadata": {},
   "outputs": [],
   "source": [
    "from sklearn.ensemble import RandomForestClassifier\n",
    "classifier = RandomForestClassifier(max_depth=2,random_state=0)\n",
    "classifier.fit(X_train,y_train)\n",
    "y_pred=classifier.predict(X_test)"
   ]
  },
  {
   "cell_type": "code",
   "execution_count": 104,
   "metadata": {},
   "outputs": [
    {
     "name": "stdout",
     "output_type": "stream",
     "text": [
      "Confuision Matrix:\n",
      " [[13  0  0]\n",
      " [ 0  6  1]\n",
      " [ 0  6  4]] \n",
      "\n",
      "Accuracy Score: 76.66666666666667 %\n"
     ]
    }
   ],
   "source": [
    "from sklearn.metrics import confusion_matrix,accuracy_score\n",
    "print('Confuision Matrix:\\n',confusion_matrix(y_test,y_pred),'\\n')\n",
    "print('Accuracy Score:',accuracy_score(y_test,y_pred)*100,'%')"
   ]
  },
  {
   "cell_type": "code",
   "execution_count": 105,
   "metadata": {},
   "outputs": [
    {
     "data": {
      "text/plain": [
       "array([0.75929014])"
      ]
     },
     "execution_count": 105,
     "metadata": {},
     "output_type": "execute_result"
    }
   ],
   "source": [
    "# PCA\n",
    "from sklearn.decomposition import PCA\n",
    "pca=PCA(n_components=1)\n",
    "X_train=pca.fit_transform(X_train)\n",
    "X_test=pca.transform(X_test)\n",
    "explained_variance=pca.explained_variance_ratio_\n",
    "explained_variance"
   ]
  },
  {
   "cell_type": "code",
   "execution_count": 106,
   "metadata": {},
   "outputs": [
    {
     "name": "stdout",
     "output_type": "stream",
     "text": [
      "Confuision Matrix:\n",
      " [[13  0  0]\n",
      " [ 0  7  0]\n",
      " [ 0  6  4]] \n",
      "\n",
      "Accuracy Score: 80.0 %\n"
     ]
    }
   ],
   "source": [
    "classifier = RandomForestClassifier(max_depth=2,random_state=0)\n",
    "classifier.fit(X_train,y_train)\n",
    "y_pred=classifier.predict(X_test)\n",
    "print('Confuision Matrix:\\n',confusion_matrix(y_test,y_pred),'\\n')\n",
    "print('Accuracy Score:',accuracy_score(y_test,y_pred)*100,'%')"
   ]
  },
  {
   "cell_type": "code",
   "execution_count": 113,
   "metadata": {},
   "outputs": [
    {
     "data": {
      "text/plain": [
       "array([1.])"
      ]
     },
     "execution_count": 113,
     "metadata": {},
     "output_type": "execute_result"
    }
   ],
   "source": [
    "# PCA\n",
    "from sklearn.decomposition import PCA\n",
    "pca=PCA()\n",
    "X_train=pca.fit_transform(X_train)\n",
    "X_test=pca.transform(X_test)\n",
    "explained_variance=pca.explained_variance_ratio_\n",
    "explained_variance"
   ]
  },
  {
   "cell_type": "code",
   "execution_count": 114,
   "metadata": {},
   "outputs": [
    {
     "name": "stdout",
     "output_type": "stream",
     "text": [
      "Confuision Matrix:\n",
      " [[13  0  0]\n",
      " [ 0  7  0]\n",
      " [ 0  6  4]] \n",
      "\n",
      "Accuracy Score: 80.0 %\n"
     ]
    }
   ],
   "source": [
    "classifier = RandomForestClassifier(max_depth=2,random_state=0)\n",
    "classifier.fit(X_train,y_train)\n",
    "y_pred=classifier.predict(X_test)\n",
    "print('Confuision Matrix:\\n',confusion_matrix(y_test,y_pred),'\\n')\n",
    "print('Accuracy Score:',accuracy_score(y_test,y_pred)*100,'%')"
   ]
  },
  {
   "cell_type": "code",
   "execution_count": null,
   "metadata": {},
   "outputs": [],
   "source": []
  }
 ],
 "metadata": {
  "kernelspec": {
   "display_name": "Python 3",
   "language": "python",
   "name": "python3"
  },
  "language_info": {
   "codemirror_mode": {
    "name": "ipython",
    "version": 3
   },
   "file_extension": ".py",
   "mimetype": "text/x-python",
   "name": "python",
   "nbconvert_exporter": "python",
   "pygments_lexer": "ipython3",
   "version": "3.7.6"
  }
 },
 "nbformat": 4,
 "nbformat_minor": 4
}
