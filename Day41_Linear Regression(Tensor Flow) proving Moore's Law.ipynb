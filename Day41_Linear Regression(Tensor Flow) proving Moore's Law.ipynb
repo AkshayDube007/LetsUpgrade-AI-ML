{
 "cells": [
  {
   "cell_type": "code",
   "execution_count": 1,
   "metadata": {},
   "outputs": [
    {
     "name": "stderr",
     "output_type": "stream",
     "text": [
      "C:\\Users\\Akshay\\anaconda3\\lib\\site-packages\\tensorflow\\python\\framework\\dtypes.py:516: FutureWarning: Passing (type, 1) or '1type' as a synonym of type is deprecated; in a future version of numpy, it will be understood as (type, (1,)) / '(1,)type'.\n",
      "  _np_qint8 = np.dtype([(\"qint8\", np.int8, 1)])\n",
      "C:\\Users\\Akshay\\anaconda3\\lib\\site-packages\\tensorflow\\python\\framework\\dtypes.py:517: FutureWarning: Passing (type, 1) or '1type' as a synonym of type is deprecated; in a future version of numpy, it will be understood as (type, (1,)) / '(1,)type'.\n",
      "  _np_quint8 = np.dtype([(\"quint8\", np.uint8, 1)])\n",
      "C:\\Users\\Akshay\\anaconda3\\lib\\site-packages\\tensorflow\\python\\framework\\dtypes.py:518: FutureWarning: Passing (type, 1) or '1type' as a synonym of type is deprecated; in a future version of numpy, it will be understood as (type, (1,)) / '(1,)type'.\n",
      "  _np_qint16 = np.dtype([(\"qint16\", np.int16, 1)])\n",
      "C:\\Users\\Akshay\\anaconda3\\lib\\site-packages\\tensorflow\\python\\framework\\dtypes.py:519: FutureWarning: Passing (type, 1) or '1type' as a synonym of type is deprecated; in a future version of numpy, it will be understood as (type, (1,)) / '(1,)type'.\n",
      "  _np_quint16 = np.dtype([(\"quint16\", np.uint16, 1)])\n",
      "C:\\Users\\Akshay\\anaconda3\\lib\\site-packages\\tensorflow\\python\\framework\\dtypes.py:520: FutureWarning: Passing (type, 1) or '1type' as a synonym of type is deprecated; in a future version of numpy, it will be understood as (type, (1,)) / '(1,)type'.\n",
      "  _np_qint32 = np.dtype([(\"qint32\", np.int32, 1)])\n",
      "C:\\Users\\Akshay\\anaconda3\\lib\\site-packages\\tensorflow\\python\\framework\\dtypes.py:525: FutureWarning: Passing (type, 1) or '1type' as a synonym of type is deprecated; in a future version of numpy, it will be understood as (type, (1,)) / '(1,)type'.\n",
      "  np_resource = np.dtype([(\"resource\", np.ubyte, 1)])\n",
      "C:\\Users\\Akshay\\anaconda3\\lib\\site-packages\\tensorboard\\compat\\tensorflow_stub\\dtypes.py:541: FutureWarning: Passing (type, 1) or '1type' as a synonym of type is deprecated; in a future version of numpy, it will be understood as (type, (1,)) / '(1,)type'.\n",
      "  _np_qint8 = np.dtype([(\"qint8\", np.int8, 1)])\n",
      "C:\\Users\\Akshay\\anaconda3\\lib\\site-packages\\tensorboard\\compat\\tensorflow_stub\\dtypes.py:542: FutureWarning: Passing (type, 1) or '1type' as a synonym of type is deprecated; in a future version of numpy, it will be understood as (type, (1,)) / '(1,)type'.\n",
      "  _np_quint8 = np.dtype([(\"quint8\", np.uint8, 1)])\n",
      "C:\\Users\\Akshay\\anaconda3\\lib\\site-packages\\tensorboard\\compat\\tensorflow_stub\\dtypes.py:543: FutureWarning: Passing (type, 1) or '1type' as a synonym of type is deprecated; in a future version of numpy, it will be understood as (type, (1,)) / '(1,)type'.\n",
      "  _np_qint16 = np.dtype([(\"qint16\", np.int16, 1)])\n",
      "C:\\Users\\Akshay\\anaconda3\\lib\\site-packages\\tensorboard\\compat\\tensorflow_stub\\dtypes.py:544: FutureWarning: Passing (type, 1) or '1type' as a synonym of type is deprecated; in a future version of numpy, it will be understood as (type, (1,)) / '(1,)type'.\n",
      "  _np_quint16 = np.dtype([(\"quint16\", np.uint16, 1)])\n",
      "C:\\Users\\Akshay\\anaconda3\\lib\\site-packages\\tensorboard\\compat\\tensorflow_stub\\dtypes.py:545: FutureWarning: Passing (type, 1) or '1type' as a synonym of type is deprecated; in a future version of numpy, it will be understood as (type, (1,)) / '(1,)type'.\n",
      "  _np_qint32 = np.dtype([(\"qint32\", np.int32, 1)])\n",
      "C:\\Users\\Akshay\\anaconda3\\lib\\site-packages\\tensorboard\\compat\\tensorflow_stub\\dtypes.py:550: FutureWarning: Passing (type, 1) or '1type' as a synonym of type is deprecated; in a future version of numpy, it will be understood as (type, (1,)) / '(1,)type'.\n",
      "  np_resource = np.dtype([(\"resource\", np.ubyte, 1)])\n"
     ]
    },
    {
     "name": "stdout",
     "output_type": "stream",
     "text": [
      "1.14.0\n"
     ]
    }
   ],
   "source": [
    "import tensorflow as tf\n",
    "print(tf.__version__)"
   ]
  },
  {
   "cell_type": "code",
   "execution_count": 2,
   "metadata": {},
   "outputs": [],
   "source": [
    "import pandas as pd\n",
    "import numpy as np \n",
    "import matplotlib.pyplot as plt "
   ]
  },
  {
   "cell_type": "code",
   "execution_count": 3,
   "metadata": {},
   "outputs": [],
   "source": [
    "url = 'https://raw.githubusercontent.com/ingledarshan/DL_dataset/master/moore.csv'\n",
    "data = pd.read_csv(url, header=None).values"
   ]
  },
  {
   "cell_type": "code",
   "execution_count": 4,
   "metadata": {},
   "outputs": [
    {
     "data": {
      "text/plain": [
       "array([[1971, 2300],\n",
       "       [1972, 3500],\n",
       "       [1973, 2500],\n",
       "       [1973, 2500],\n",
       "       [1974, 4100]], dtype=int64)"
      ]
     },
     "execution_count": 4,
     "metadata": {},
     "output_type": "execute_result"
    }
   ],
   "source": [
    "data[:5] #These are number of transistor present per year"
   ]
  },
  {
   "cell_type": "code",
   "execution_count": 5,
   "metadata": {},
   "outputs": [
    {
     "data": {
      "text/plain": [
       "(162,)"
      ]
     },
     "execution_count": 5,
     "metadata": {},
     "output_type": "execute_result"
    }
   ],
   "source": [
    "data[:,0].shape"
   ]
  },
  {
   "cell_type": "code",
   "execution_count": 6,
   "metadata": {},
   "outputs": [],
   "source": [
    "X = data[:,0].reshape(-1,1) # make it a 2D array of size N x D where D=1"
   ]
  },
  {
   "cell_type": "code",
   "execution_count": 7,
   "metadata": {},
   "outputs": [
    {
     "data": {
      "text/plain": [
       "(162, 1)"
      ]
     },
     "execution_count": 7,
     "metadata": {},
     "output_type": "execute_result"
    }
   ],
   "source": [
    "X.shape"
   ]
  },
  {
   "cell_type": "code",
   "execution_count": 8,
   "metadata": {},
   "outputs": [],
   "source": [
    "Y=data[:,1]"
   ]
  },
  {
   "cell_type": "code",
   "execution_count": 9,
   "metadata": {},
   "outputs": [
    {
     "data": {
      "text/plain": [
       "(162,)"
      ]
     },
     "execution_count": 9,
     "metadata": {},
     "output_type": "execute_result"
    }
   ],
   "source": [
    "Y.shape"
   ]
  },
  {
   "cell_type": "code",
   "execution_count": 10,
   "metadata": {},
   "outputs": [
    {
     "data": {
      "text/plain": [
       "numpy.ndarray"
      ]
     },
     "execution_count": 10,
     "metadata": {},
     "output_type": "execute_result"
    }
   ],
   "source": [
    "type(data)"
   ]
  },
  {
   "cell_type": "code",
   "execution_count": 11,
   "metadata": {},
   "outputs": [
    {
     "data": {
      "image/png": "[encoded data removed]",
      "text/plain": [
       "<Figure size 432x288 with 1 Axes>"
      ]
     },
     "metadata": {
      "needs_background": "light"
     },
     "output_type": "display_data"
    }
   ],
   "source": [
    "# Plot the data\n",
    "plt.scatter(X,Y);\n",
    "# It is exponential "
   ]
  },
  {
   "cell_type": "code",
   "execution_count": 12,
   "metadata": {},
   "outputs": [
    {
     "data": {
      "image/png": "[encoded data removed]",
      "text/plain": [
       "<Figure size 432x288 with 1 Axes>"
      ]
     },
     "metadata": {
      "needs_background": "light"
     },
     "output_type": "display_data"
    }
   ],
   "source": [
    "# We want a linear model, therefore lets take log\n",
    "Y = np.log(Y)\n",
    "plt.scatter(X,Y);"
   ]
  },
  {
   "cell_type": "code",
   "execution_count": 13,
   "metadata": {},
   "outputs": [],
   "source": [
    "X = X-X.mean()"
   ]
  },
  {
   "cell_type": "code",
   "execution_count": 14,
   "metadata": {},
   "outputs": [
    {
     "data": {
      "image/png": "[encoded data removed]",
      "text/plain": [
       "<Figure size 432x288 with 1 Axes>"
      ]
     },
     "metadata": {
      "needs_background": "light"
     },
     "output_type": "display_data"
    }
   ],
   "source": [
    "plt.scatter(X,Y);"
   ]
  },
  {
   "cell_type": "code",
   "execution_count": 15,
   "metadata": {},
   "outputs": [],
   "source": [
    "# Since it is a regression problem, there is no activation function required.\n",
    "# Therefore, in keras, we do use a Dense layer but we pass Activation=None or\n",
    "# we can simply omit that arguments\n",
    "# default: activation=None"
   ]
  },
  {
   "cell_type": "code",
   "execution_count": 16,
   "metadata": {},
   "outputs": [
    {
     "name": "stdout",
     "output_type": "stream",
     "text": [
      "WARNING:tensorflow:From C:\\Users\\Akshay\\anaconda3\\lib\\site-packages\\tensorflow\\python\\ops\\init_ops.py:1251: calling VarianceScaling.__init__ (from tensorflow.python.ops.init_ops) with dtype is deprecated and will be removed in a future version.\n",
      "Instructions for updating:\n",
      "Call initializer instance with the dtype argument instead of passing it to the constructor\n"
     ]
    }
   ],
   "source": [
    "# TF Model\n",
    "model = tf.keras.models.Sequential([\n",
    "                                    tf.keras.layers.Input(shape=(1,)),\n",
    "                                    tf.keras.layers.Dense(1)\n",
    "])"
   ]
  },
  {
   "cell_type": "code",
   "execution_count": 17,
   "metadata": {},
   "outputs": [],
   "source": [
    "# Compile\n",
    "# What optimizer?\n",
    "# What loss function?\n",
    "# 'adam' is the best what I have found\n",
    "# On deep study, I have found over here that in this dataset, SGD optimizer works better.\n",
    "# API of SGD:\n",
    "# SGD(learning rate, momentum)"
   ]
  },
  {
   "cell_type": "code",
   "execution_count": 18,
   "metadata": {},
   "outputs": [],
   "source": [
    "model.compile(optimizer=tf.keras.optimizers.SGD(0.001, 0.9), loss='mse')"
   ]
  },
  {
   "cell_type": "markdown",
   "metadata": {},
   "source": [
    "**Observation:**\n",
    "\n",
    "Initial LR performs v well, but later on it bcums too large by the end and therefore the cost becomes too high and the problem never converges.\n",
    "\n",
    "What to do? To decrease the LR depending upon the epochs. This is called as 'LR Scheduling'."
   ]
  },
  {
   "cell_type": "code",
   "execution_count": 19,
   "metadata": {},
   "outputs": [
    {
     "name": "stdout",
     "output_type": "stream",
     "text": [
      "Epoch 1/200\n",
      "162/162 [==============================] - 1s 5ms/sample - loss: 378.6498\n",
      "Epoch 2/200\n",
      "162/162 [==============================] - 0s 105us/sample - loss: 318.5511\n",
      "Epoch 3/200\n",
      "162/162 [==============================] - 0s 99us/sample - loss: 302.7226\n",
      "Epoch 4/200\n",
      "162/162 [==============================] - 0s 99us/sample - loss: 341.1118\n",
      "Epoch 5/200\n",
      "162/162 [==============================] - 0s 111us/sample - loss: 228.7634\n",
      "Epoch 6/200\n",
      "162/162 [==============================] - 0s 111us/sample - loss: 123.9463\n",
      "Epoch 7/200\n",
      "162/162 [==============================] - 0s 124us/sample - loss: 106.6564\n",
      "Epoch 8/200\n",
      "162/162 [==============================] - 0s 117us/sample - loss: 72.3478\n",
      "Epoch 9/200\n",
      "162/162 [==============================] - 0s 105us/sample - loss: 101.5705\n",
      "Epoch 10/200\n",
      "162/162 [==============================] - 0s 99us/sample - loss: 47.3946\n",
      "Epoch 11/200\n",
      "162/162 [==============================] - 0s 117us/sample - loss: 25.4098\n",
      "Epoch 12/200\n",
      "162/162 [==============================] - 0s 117us/sample - loss: 18.4676\n",
      "Epoch 13/200\n",
      "162/162 [==============================] - 0s 105us/sample - loss: 17.4865\n",
      "Epoch 14/200\n",
      "162/162 [==============================] - 0s 111us/sample - loss: 13.3481\n",
      "Epoch 15/200\n",
      "162/162 [==============================] - 0s 99us/sample - loss: 9.6176\n",
      "Epoch 16/200\n",
      "162/162 [==============================] - 0s 117us/sample - loss: 9.6311\n",
      "Epoch 17/200\n",
      "162/162 [==============================] - 0s 99us/sample - loss: 6.3178\n",
      "Epoch 18/200\n",
      "162/162 [==============================] - 0s 111us/sample - loss: 3.7675\n",
      "Epoch 19/200\n",
      "162/162 [==============================] - 0s 124us/sample - loss: 2.7654\n",
      "Epoch 20/200\n",
      "162/162 [==============================] - 0s 99us/sample - loss: 2.3608\n",
      "Epoch 21/200\n",
      "162/162 [==============================] - 0s 105us/sample - loss: 1.8541\n",
      "Epoch 22/200\n",
      "162/162 [==============================] - 0s 111us/sample - loss: 1.7387\n",
      "Epoch 23/200\n",
      "162/162 [==============================] - 0s 117us/sample - loss: 1.3992\n",
      "Epoch 24/200\n",
      "162/162 [==============================] - 0s 93us/sample - loss: 1.5511\n",
      "Epoch 25/200\n",
      "162/162 [==============================] - 0s 93us/sample - loss: 1.1892\n",
      "Epoch 26/200\n",
      "162/162 [==============================] - 0s 148us/sample - loss: 1.2190\n",
      "Epoch 27/200\n",
      "162/162 [==============================] - 0s 105us/sample - loss: 1.0213\n",
      "Epoch 28/200\n",
      "162/162 [==============================] - 0s 117us/sample - loss: 1.0467\n",
      "Epoch 29/200\n",
      "162/162 [==============================] - 0s 117us/sample - loss: 0.9718\n",
      "Epoch 30/200\n",
      "162/162 [==============================] - 0s 111us/sample - loss: 0.9601\n",
      "Epoch 31/200\n",
      "162/162 [==============================] - 0s 99us/sample - loss: 1.1923\n",
      "Epoch 32/200\n",
      "162/162 [==============================] - 0s 124us/sample - loss: 0.9275\n",
      "Epoch 33/200\n",
      "162/162 [==============================] - 0s 111us/sample - loss: 0.9203\n",
      "Epoch 34/200\n",
      "162/162 [==============================] - 0s 99us/sample - loss: 0.9241\n",
      "Epoch 35/200\n",
      "162/162 [==============================] - 0s 93us/sample - loss: 0.9950\n",
      "Epoch 36/200\n",
      "162/162 [==============================] - 0s 99us/sample - loss: 1.0602\n",
      "Epoch 37/200\n",
      "162/162 [==============================] - 0s 93us/sample - loss: 0.9429\n",
      "Epoch 38/200\n",
      "162/162 [==============================] - 0s 99us/sample - loss: 1.0217\n",
      "Epoch 39/200\n",
      "162/162 [==============================] - 0s 117us/sample - loss: 1.1043\n",
      "Epoch 40/200\n",
      "162/162 [==============================] - 0s 105us/sample - loss: 1.1027\n",
      "Epoch 41/200\n",
      "162/162 [==============================] - 0s 130us/sample - loss: 1.1415\n",
      "Epoch 42/200\n",
      "162/162 [==============================] - 0s 99us/sample - loss: 1.1137\n",
      "Epoch 43/200\n",
      "162/162 [==============================] - 0s 130us/sample - loss: 1.5057\n",
      "Epoch 44/200\n",
      "162/162 [==============================] - 0s 136us/sample - loss: 0.8770\n",
      "Epoch 45/200\n",
      "162/162 [==============================] - 0s 130us/sample - loss: 0.8971\n",
      "Epoch 46/200\n",
      "162/162 [==============================] - 0s 99us/sample - loss: 1.0094\n",
      "Epoch 47/200\n",
      "162/162 [==============================] - 0s 111us/sample - loss: 0.9953\n",
      "Epoch 48/200\n",
      "162/162 [==============================] - 0s 117us/sample - loss: 1.0726\n",
      "Epoch 49/200\n",
      "162/162 [==============================] - 0s 93us/sample - loss: 0.9728\n",
      "Epoch 50/200\n",
      "162/162 [==============================] - 0s 105us/sample - loss: 0.9242\n",
      "Epoch 51/200\n",
      "162/162 [==============================] - 0s 86us/sample - loss: 0.8991\n",
      "Epoch 52/200\n",
      "162/162 [==============================] - 0s 111us/sample - loss: 0.9585\n",
      "Epoch 53/200\n",
      "162/162 [==============================] - 0s 93us/sample - loss: 0.9240\n",
      "Epoch 54/200\n",
      "162/162 [==============================] - 0s 111us/sample - loss: 0.8797\n",
      "Epoch 55/200\n",
      "162/162 [==============================] - 0s 105us/sample - loss: 0.8790\n",
      "Epoch 56/200\n",
      "162/162 [==============================] - 0s 130us/sample - loss: 0.8744\n",
      "Epoch 57/200\n",
      "162/162 [==============================] - 0s 99us/sample - loss: 0.8732\n",
      "Epoch 58/200\n",
      "162/162 [==============================] - 0s 105us/sample - loss: 0.8719\n",
      "Epoch 59/200\n",
      "162/162 [==============================] - 0s 105us/sample - loss: 0.8728\n",
      "Epoch 60/200\n",
      "162/162 [==============================] - 0s 105us/sample - loss: 0.8722\n",
      "Epoch 61/200\n",
      "162/162 [==============================] - 0s 111us/sample - loss: 0.8699\n",
      "Epoch 62/200\n",
      "162/162 [==============================] - 0s 111us/sample - loss: 0.8763\n",
      "Epoch 63/200\n",
      "162/162 [==============================] - 0s 99us/sample - loss: 0.8733\n",
      "Epoch 64/200\n",
      "162/162 [==============================] - 0s 105us/sample - loss: 0.8893\n",
      "Epoch 65/200\n",
      "162/162 [==============================] - 0s 105us/sample - loss: 0.8772\n",
      "Epoch 66/200\n",
      "162/162 [==============================] - 0s 93us/sample - loss: 0.8714\n",
      "Epoch 67/200\n",
      "162/162 [==============================] - 0s 99us/sample - loss: 0.8859\n",
      "Epoch 68/200\n",
      "162/162 [==============================] - 0s 99us/sample - loss: 0.8721\n",
      "Epoch 69/200\n",
      "162/162 [==============================] - 0s 99us/sample - loss: 0.8776\n",
      "Epoch 70/200\n",
      "162/162 [==============================] - 0s 105us/sample - loss: 0.8748\n",
      "Epoch 71/200\n",
      "162/162 [==============================] - 0s 105us/sample - loss: 0.8705\n",
      "Epoch 72/200\n",
      "162/162 [==============================] - 0s 93us/sample - loss: 0.8739\n",
      "Epoch 73/200\n",
      "162/162 [==============================] - ETA: 0s - loss: 1.908 - 0s 136us/sample - loss: 0.8706\n",
      "Epoch 74/200\n",
      "162/162 [==============================] - 0s 105us/sample - loss: 0.8715\n",
      "Epoch 75/200\n",
      "162/162 [==============================] - 0s 99us/sample - loss: 0.8719\n",
      "Epoch 76/200\n",
      "162/162 [==============================] - 0s 99us/sample - loss: 0.8784\n",
      "Epoch 77/200\n",
      "162/162 [==============================] - 0s 105us/sample - loss: 0.8842\n",
      "Epoch 78/200\n",
      "162/162 [==============================] - 0s 130us/sample - loss: 0.8717\n",
      "Epoch 79/200\n",
      "162/162 [==============================] - 0s 93us/sample - loss: 0.8743\n",
      "Epoch 80/200\n",
      "162/162 [==============================] - 0s 117us/sample - loss: 0.8850\n",
      "Epoch 81/200\n",
      "162/162 [==============================] - 0s 93us/sample - loss: 0.8762\n",
      "Epoch 82/200\n",
      "162/162 [==============================] - 0s 117us/sample - loss: 0.8741\n",
      "Epoch 83/200\n",
      "162/162 [==============================] - 0s 99us/sample - loss: 0.8695\n",
      "Epoch 84/200\n",
      "162/162 [==============================] - 0s 111us/sample - loss: 0.8720\n",
      "Epoch 85/200\n",
      "162/162 [==============================] - 0s 99us/sample - loss: 0.8749\n",
      "Epoch 86/200\n",
      "162/162 [==============================] - 0s 124us/sample - loss: 0.8706\n",
      "Epoch 87/200\n",
      "162/162 [==============================] - 0s 86us/sample - loss: 0.8810\n",
      "Epoch 88/200\n",
      "162/162 [==============================] - 0s 105us/sample - loss: 0.8960\n",
      "Epoch 89/200\n",
      "162/162 [==============================] - 0s 86us/sample - loss: 0.8820\n",
      "Epoch 90/200\n",
      "162/162 [==============================] - 0s 117us/sample - loss: 0.8778\n",
      "Epoch 91/200\n",
      "162/162 [==============================] - 0s 99us/sample - loss: 0.8892\n",
      "Epoch 92/200\n",
      "162/162 [==============================] - 0s 86us/sample - loss: 0.9140\n",
      "Epoch 93/200\n",
      "162/162 [==============================] - 0s 93us/sample - loss: 0.8866\n",
      "Epoch 94/200\n",
      "162/162 [==============================] - 0s 93us/sample - loss: 0.8725\n",
      "Epoch 95/200\n"
     ]
    },
    {
     "name": "stdout",
     "output_type": "stream",
     "text": [
      "162/162 [==============================] - 0s 105us/sample - loss: 0.8794\n",
      "Epoch 96/200\n",
      "162/162 [==============================] - 0s 99us/sample - loss: 0.8726\n",
      "Epoch 97/200\n",
      "162/162 [==============================] - 0s 111us/sample - loss: 0.8768\n",
      "Epoch 98/200\n",
      "162/162 [==============================] - 0s 105us/sample - loss: 0.8820\n",
      "Epoch 99/200\n",
      "162/162 [==============================] - 0s 105us/sample - loss: 0.8724\n",
      "Epoch 100/200\n",
      "162/162 [==============================] - 0s 105us/sample - loss: 0.8725\n",
      "Epoch 101/200\n",
      "162/162 [==============================] - 0s 86us/sample - loss: 0.8842\n",
      "Epoch 102/200\n",
      "162/162 [==============================] - 0s 117us/sample - loss: 0.8794\n",
      "Epoch 103/200\n",
      "162/162 [==============================] - 0s 99us/sample - loss: 0.8944\n",
      "Epoch 104/200\n",
      "162/162 [==============================] - 0s 99us/sample - loss: 0.8915\n",
      "Epoch 105/200\n",
      "162/162 [==============================] - 0s 105us/sample - loss: 0.8726\n",
      "Epoch 106/200\n",
      "162/162 [==============================] - 0s 111us/sample - loss: 0.8798\n",
      "Epoch 107/200\n",
      "162/162 [==============================] - 0s 105us/sample - loss: 0.8717\n",
      "Epoch 108/200\n",
      "162/162 [==============================] - 0s 111us/sample - loss: 0.8720\n",
      "Epoch 109/200\n",
      "162/162 [==============================] - 0s 117us/sample - loss: 0.8706\n",
      "Epoch 110/200\n",
      "162/162 [==============================] - 0s 99us/sample - loss: 0.8716\n",
      "Epoch 111/200\n",
      "162/162 [==============================] - 0s 130us/sample - loss: 0.8722\n",
      "Epoch 112/200\n",
      "162/162 [==============================] - 0s 99us/sample - loss: 0.8818\n",
      "Epoch 113/200\n",
      "162/162 [==============================] - 0s 93us/sample - loss: 0.8902\n",
      "Epoch 114/200\n",
      "162/162 [==============================] - 0s 111us/sample - loss: 0.8815\n",
      "Epoch 115/200\n",
      "162/162 [==============================] - 0s 117us/sample - loss: 0.8724\n",
      "Epoch 116/200\n",
      "162/162 [==============================] - 0s 111us/sample - loss: 0.8702\n",
      "Epoch 117/200\n",
      "162/162 [==============================] - 0s 99us/sample - loss: 0.8743\n",
      "Epoch 118/200\n",
      "162/162 [==============================] - 0s 105us/sample - loss: 0.8765\n",
      "Epoch 119/200\n",
      "162/162 [==============================] - 0s 93us/sample - loss: 0.8743\n",
      "Epoch 120/200\n",
      "162/162 [==============================] - 0s 124us/sample - loss: 0.8702\n",
      "Epoch 121/200\n",
      "162/162 [==============================] - 0s 111us/sample - loss: 0.8737\n",
      "Epoch 122/200\n",
      "162/162 [==============================] - 0s 124us/sample - loss: 0.8742\n",
      "Epoch 123/200\n",
      "162/162 [==============================] - 0s 99us/sample - loss: 0.8743\n",
      "Epoch 124/200\n",
      "162/162 [==============================] - 0s 117us/sample - loss: 0.8734\n",
      "Epoch 125/200\n",
      "162/162 [==============================] - 0s 117us/sample - loss: 0.8757\n",
      "Epoch 126/200\n",
      "162/162 [==============================] - 0s 111us/sample - loss: 0.8728\n",
      "Epoch 127/200\n",
      "162/162 [==============================] - 0s 111us/sample - loss: 0.8869\n",
      "Epoch 128/200\n",
      "162/162 [==============================] - 0s 99us/sample - loss: 0.9138\n",
      "Epoch 129/200\n",
      "162/162 [==============================] - 0s 99us/sample - loss: 0.8852\n",
      "Epoch 130/200\n",
      "162/162 [==============================] - 0s 93us/sample - loss: 0.8723\n",
      "Epoch 131/200\n",
      "162/162 [==============================] - 0s 93us/sample - loss: 0.8734\n",
      "Epoch 132/200\n",
      "162/162 [==============================] - 0s 93us/sample - loss: 0.8750\n",
      "Epoch 133/200\n",
      "162/162 [==============================] - 0s 99us/sample - loss: 0.8696\n",
      "Epoch 134/200\n",
      "162/162 [==============================] - 0s 117us/sample - loss: 0.8710\n",
      "Epoch 135/200\n",
      "162/162 [==============================] - 0s 105us/sample - loss: 0.8703\n",
      "Epoch 136/200\n",
      "162/162 [==============================] - 0s 105us/sample - loss: 0.8818\n",
      "Epoch 137/200\n",
      "162/162 [==============================] - 0s 105us/sample - loss: 0.8625\n",
      "Epoch 138/200\n",
      "162/162 [==============================] - 0s 105us/sample - loss: 0.8871\n",
      "Epoch 139/200\n",
      "162/162 [==============================] - 0s 105us/sample - loss: 0.9056\n",
      "Epoch 140/200\n",
      "162/162 [==============================] - 0s 99us/sample - loss: 0.8958\n",
      "Epoch 141/200\n",
      "162/162 [==============================] - 0s 80us/sample - loss: 0.8696\n",
      "Epoch 142/200\n",
      "162/162 [==============================] - 0s 80us/sample - loss: 0.8711\n",
      "Epoch 143/200\n",
      "162/162 [==============================] - 0s 86us/sample - loss: 0.8843\n",
      "Epoch 144/200\n",
      "162/162 [==============================] - 0s 86us/sample - loss: 0.8935\n",
      "Epoch 145/200\n",
      "162/162 [==============================] - 0s 93us/sample - loss: 0.8727\n",
      "Epoch 146/200\n",
      "162/162 [==============================] - 0s 93us/sample - loss: 0.8746\n",
      "Epoch 147/200\n",
      "162/162 [==============================] - 0s 99us/sample - loss: 0.8736\n",
      "Epoch 148/200\n",
      "162/162 [==============================] - 0s 80us/sample - loss: 0.8946\n",
      "Epoch 149/200\n",
      "162/162 [==============================] - 0s 86us/sample - loss: 0.8814\n",
      "Epoch 150/200\n",
      "162/162 [==============================] - 0s 87us/sample - loss: 0.8899\n",
      "Epoch 151/200\n",
      "162/162 [==============================] - 0s 111us/sample - loss: 0.8839\n",
      "Epoch 152/200\n",
      "162/162 [==============================] - 0s 99us/sample - loss: 0.8771\n",
      "Epoch 153/200\n",
      "162/162 [==============================] - 0s 80us/sample - loss: 0.8718\n",
      "Epoch 154/200\n",
      "162/162 [==============================] - 0s 93us/sample - loss: 0.8752\n",
      "Epoch 155/200\n",
      "162/162 [==============================] - 0s 87us/sample - loss: 0.8805\n",
      "Epoch 156/200\n",
      "162/162 [==============================] - 0s 86us/sample - loss: 0.8737\n",
      "Epoch 157/200\n",
      "162/162 [==============================] - 0s 93us/sample - loss: 0.8742\n",
      "Epoch 158/200\n",
      "162/162 [==============================] - 0s 86us/sample - loss: 0.8720\n",
      "Epoch 159/200\n",
      "162/162 [==============================] - 0s 93us/sample - loss: 0.8806\n",
      "Epoch 160/200\n",
      "162/162 [==============================] - 0s 86us/sample - loss: 0.8763\n",
      "Epoch 161/200\n",
      "162/162 [==============================] - 0s 111us/sample - loss: 0.8722\n",
      "Epoch 162/200\n",
      "162/162 [==============================] - 0s 111us/sample - loss: 0.8748\n",
      "Epoch 163/200\n",
      "162/162 [==============================] - 0s 130us/sample - loss: 0.8769\n",
      "Epoch 164/200\n",
      "162/162 [==============================] - 0s 117us/sample - loss: 0.8761\n",
      "Epoch 165/200\n",
      "162/162 [==============================] - 0s 148us/sample - loss: 0.8810\n",
      "Epoch 166/200\n",
      "162/162 [==============================] - 0s 111us/sample - loss: 0.9009\n",
      "Epoch 167/200\n",
      "162/162 [==============================] - 0s 130us/sample - loss: 0.8904\n",
      "Epoch 168/200\n",
      "162/162 [==============================] - 0s 111us/sample - loss: 0.8740\n",
      "Epoch 169/200\n",
      "162/162 [==============================] - 0s 117us/sample - loss: 0.8743\n",
      "Epoch 170/200\n",
      "162/162 [==============================] - 0s 93us/sample - loss: 0.8732\n",
      "Epoch 171/200\n",
      "162/162 [==============================] - 0s 124us/sample - loss: 0.8749\n",
      "Epoch 172/200\n",
      "162/162 [==============================] - 0s 99us/sample - loss: 0.8930\n",
      "Epoch 173/200\n",
      "162/162 [==============================] - 0s 93us/sample - loss: 0.8790\n",
      "Epoch 174/200\n",
      "162/162 [==============================] - 0s 105us/sample - loss: 0.8789\n",
      "Epoch 175/200\n",
      "162/162 [==============================] - 0s 117us/sample - loss: 0.8861\n",
      "Epoch 176/200\n",
      "162/162 [==============================] - 0s 93us/sample - loss: 0.8729\n",
      "Epoch 177/200\n",
      "162/162 [==============================] - 0s 86us/sample - loss: 0.8722\n",
      "Epoch 178/200\n",
      "162/162 [==============================] - 0s 93us/sample - loss: 0.8805\n",
      "Epoch 179/200\n",
      "162/162 [==============================] - 0s 86us/sample - loss: 0.8796\n",
      "Epoch 180/200\n",
      "162/162 [==============================] - 0s 93us/sample - loss: 0.8741\n",
      "Epoch 181/200\n",
      "162/162 [==============================] - 0s 86us/sample - loss: 0.8737\n",
      "Epoch 182/200\n",
      "162/162 [==============================] - 0s 105us/sample - loss: 0.8776\n",
      "Epoch 183/200\n",
      "162/162 [==============================] - 0s 74us/sample - loss: 0.8741\n",
      "Epoch 184/200\n",
      "162/162 [==============================] - 0s 117us/sample - loss: 0.8757\n",
      "Epoch 185/200\n",
      "162/162 [==============================] - 0s 93us/sample - loss: 0.8752\n",
      "Epoch 186/200\n",
      "162/162 [==============================] - 0s 105us/sample - loss: 0.9085\n",
      "Epoch 187/200\n",
      "162/162 [==============================] - 0s 74us/sample - loss: 0.8836\n",
      "Epoch 188/200\n"
     ]
    },
    {
     "name": "stdout",
     "output_type": "stream",
     "text": [
      "162/162 [==============================] - 0s 80us/sample - loss: 0.8711\n",
      "Epoch 189/200\n",
      "162/162 [==============================] - 0s 74us/sample - loss: 0.8799\n",
      "Epoch 190/200\n",
      "162/162 [==============================] - 0s 68us/sample - loss: 0.8731\n",
      "Epoch 191/200\n",
      "162/162 [==============================] - 0s 99us/sample - loss: 0.8719\n",
      "Epoch 192/200\n",
      "162/162 [==============================] - 0s 99us/sample - loss: 0.8713\n",
      "Epoch 193/200\n",
      "162/162 [==============================] - 0s 105us/sample - loss: 0.8739\n",
      "Epoch 194/200\n",
      "162/162 [==============================] - 0s 80us/sample - loss: 0.8827\n",
      "Epoch 195/200\n",
      "162/162 [==============================] - 0s 93us/sample - loss: 0.8716\n",
      "Epoch 196/200\n",
      "162/162 [==============================] - 0s 86us/sample - loss: 0.8789\n",
      "Epoch 197/200\n",
      "162/162 [==============================] - 0s 80us/sample - loss: 0.8985\n",
      "Epoch 198/200\n",
      "162/162 [==============================] - 0s 86us/sample - loss: 0.8703\n",
      "Epoch 199/200\n",
      "162/162 [==============================] - 0s 74us/sample - loss: 0.8743\n",
      "Epoch 200/200\n",
      "162/162 [==============================] - 0s 74us/sample - loss: 0.8758\n"
     ]
    }
   ],
   "source": [
    "# LR Scheduler\n",
    "def schedule(epoch, lr):\n",
    "  if epoch >= 50:\n",
    "    return 0.0001\n",
    "  return 0.001\n",
    "\n",
    "scheduler = tf.keras.callbacks.LearningRateScheduler(schedule) \n",
    "\n",
    "# Train the model\n",
    "r = model.fit(X, Y, epochs=200, callbacks=[scheduler])"
   ]
  },
  {
   "cell_type": "code",
   "execution_count": 20,
   "metadata": {},
   "outputs": [
    {
     "data": {
      "image/png": "[encoded data removed]",
      "text/plain": [
       "<Figure size 432x288 with 1 Axes>"
      ]
     },
     "metadata": {
      "needs_background": "light"
     },
     "output_type": "display_data"
    }
   ],
   "source": [
    "plt.plot(r.history['loss'], label='loss');"
   ]
  },
  {
   "cell_type": "code",
   "execution_count": 21,
   "metadata": {},
   "outputs": [
    {
     "name": "stdout",
     "output_type": "stream",
     "text": [
      "[<tensorflow.python.keras.layers.core.Dense object at 0x00000030CEA41D48>]\n"
     ]
    }
   ],
   "source": [
    "print(model.layers)\n",
    "# Note there is only one layer. Input layer doesnt count"
   ]
  },
  {
   "cell_type": "code",
   "execution_count": 22,
   "metadata": {},
   "outputs": [
    {
     "name": "stdout",
     "output_type": "stream",
     "text": [
      "[array([[0.3339682]], dtype=float32), array([17.75306], dtype=float32)]\n"
     ]
    }
   ],
   "source": [
    "print(model.layers[0].get_weights())"
   ]
  },
  {
   "cell_type": "code",
   "execution_count": 23,
   "metadata": {},
   "outputs": [
    {
     "data": {
      "text/plain": [
       "0.3339682"
      ]
     },
     "execution_count": 23,
     "metadata": {},
     "output_type": "execute_result"
    }
   ],
   "source": [
    "# Slope of the line\n",
    "a = model.layers[0].get_weights()[0][0,0]\n",
    "a"
   ]
  },
  {
   "cell_type": "code",
   "execution_count": 24,
   "metadata": {},
   "outputs": [
    {
     "name": "stdout",
     "output_type": "stream",
     "text": [
      "Time to double: 2.0754886137673614\n"
     ]
    }
   ],
   "source": [
    "print(\"Time to double:\", np.log(2) / a)"
   ]
  },
  {
   "cell_type": "markdown",
   "metadata": {},
   "source": [
    "# Therefore, we have confirmed that the Moore's law is True as we see it has doubled."
   ]
  },
  {
   "cell_type": "code",
   "execution_count": 25,
   "metadata": {},
   "outputs": [
    {
     "name": "stdout",
     "output_type": "stream",
     "text": [
      "0.34168248738731316 17.764939393631764\n",
      "Time to double: 2.0286295205239195\n"
     ]
    }
   ],
   "source": [
    "# Demonstrate the analytical solution for Linear Regression\n",
    "# This will confirm our above answer too\n",
    "X = np.array(X).flatten()\n",
    "Y = np.array(Y)\n",
    "\n",
    "denominator = X.dot(X) - X.mean() * X.sum()\n",
    "\n",
    "a = (X.dot(Y) - Y.mean() * X.sum()) / denominator\n",
    "b = (Y.mean() * X.dot(X) - X.mean() * X.dot(Y)) / denominator\n",
    "\n",
    "print(a,b)\n",
    "print(\"Time to double:\", np.log(2)/a)"
   ]
  },
  {
   "cell_type": "markdown",
   "metadata": {},
   "source": [
    "# Since TF Dense layer has multiple outputs, it is going to return a 2D Matrix, whereas, we want a matrix of 1D length. therefore, we need to flatten the output so that Y hat has the same shape as Y."
   ]
  },
  {
   "cell_type": "code",
   "execution_count": 26,
   "metadata": {},
   "outputs": [
    {
     "data": {
      "image/png": "[encoded data removed]",
      "text/plain": [
       "<Figure size 432x288 with 1 Axes>"
      ]
     },
     "metadata": {
      "needs_background": "light"
     },
     "output_type": "display_data"
    }
   ],
   "source": [
    "# Predictions\n",
    "Ypred = model.predict(X).flatten()\n",
    "plt.scatter(X,Y)\n",
    "plt.plot(X, Ypred);"
   ]
  },
  {
   "cell_type": "markdown",
   "metadata": {},
   "source": [
    "**Observation:**\n",
    "Line passes through the data points. That once again confirms the Moore's law."
   ]
  },
  {
   "cell_type": "code",
   "execution_count": 27,
   "metadata": {},
   "outputs": [
    {
     "data": {
      "text/plain": [
       "True"
      ]
     },
     "execution_count": 27,
     "metadata": {},
     "output_type": "execute_result"
    }
   ],
   "source": [
    "# Manual Calculation:\n",
    "# Weights\n",
    "w , b = model.layers[0].get_weights()\n",
    "\n",
    "# Reshape X as we flattened it before\n",
    "X = X.reshape(-1,1)\n",
    "\n",
    "Ypred2 = (X.dot(w) + b).flatten()\n",
    "\n",
    "np.allclose(Ypred , Ypred2)"
   ]
  },
  {
   "cell_type": "code",
   "execution_count": null,
   "metadata": {},
   "outputs": [],
   "source": []
  }
 ],
 "metadata": {
  "kernelspec": {
   "display_name": "Python 3",
   "language": "python",
   "name": "python3"
  },
  "language_info": {
   "codemirror_mode": {
    "name": "ipython",
    "version": 3
   },
   "file_extension": ".py",
   "mimetype": "text/x-python",
   "name": "python",
   "nbconvert_exporter": "python",
   "pygments_lexer": "ipython3",
   "version": "3.7.6"
  }
 },
 "nbformat": 4,
 "nbformat_minor": 4
}
