{
 "cells": [
  {
   "cell_type": "markdown",
   "metadata": {},
   "source": [
    "# Day 5 - Python Data Structures (NB & Assignment)."
   ]
  },
  {
   "cell_type": "code",
   "execution_count": 2,
   "metadata": {},
   "outputs": [
    {
     "data": {
      "text/plain": [
       "range(0, 5)"
      ]
     },
     "execution_count": 2,
     "metadata": {},
     "output_type": "execute_result"
    }
   ],
   "source": [
    "range(5)"
   ]
  },
  {
   "cell_type": "code",
   "execution_count": 6,
   "metadata": {},
   "outputs": [
    {
     "name": "stdout",
     "output_type": "stream",
     "text": [
      "0\n",
      "1\n",
      "2\n",
      "3\n",
      "4\n",
      "<class 'int'>\n"
     ]
    }
   ],
   "source": [
    "for i in range(5):\n",
    "    print(i)\n",
    "print(type(i))"
   ]
  },
  {
   "cell_type": "code",
   "execution_count": 7,
   "metadata": {},
   "outputs": [
    {
     "name": "stdout",
     "output_type": "stream",
     "text": [
      "2\n",
      "3\n",
      "4\n",
      "<class 'int'>\n"
     ]
    }
   ],
   "source": [
    "for i in range(2,5):\n",
    "    print(i)\n",
    "print(type(i))"
   ]
  },
  {
   "cell_type": "code",
   "execution_count": 8,
   "metadata": {},
   "outputs": [
    {
     "name": "stdout",
     "output_type": "stream",
     "text": [
      "2\n",
      "4\n",
      "6\n",
      "8\n",
      "<class 'int'>\n"
     ]
    }
   ],
   "source": [
    "for i in range(2,10,2):\n",
    "    print(i)\n",
    "print(type(i))"
   ]
  },
  {
   "cell_type": "code",
   "execution_count": 11,
   "metadata": {},
   "outputs": [
    {
     "name": "stdout",
     "output_type": "stream",
     "text": [
      "Sum= 30\n"
     ]
    }
   ],
   "source": [
    "# Initialization of variable is very important\n",
    "# sum = 0\n",
    "for i in range(5):\n",
    "    sum = sum+ i\n",
    "print(\"Sum=\", sum)"
   ]
  },
  {
   "cell_type": "code",
   "execution_count": 2,
   "metadata": {},
   "outputs": [
    {
     "name": "stdout",
     "output_type": "stream",
     "text": [
      "1\n",
      "2\n",
      "3\n",
      "4\n",
      "5\n"
     ]
    }
   ],
   "source": [
    "# While Loop - \n",
    "i=1\n",
    "while i<=5:\n",
    "    print(i)\n",
    "    i=i+1"
   ]
  },
  {
   "cell_type": "code",
   "execution_count": 5,
   "metadata": {},
   "outputs": [
    {
     "name": "stdout",
     "output_type": "stream",
     "text": [
      "10 8 6 4 2 0 "
     ]
    }
   ],
   "source": [
    "i=10\n",
    "while i>=0:\n",
    "    print(i, end=\" \")\n",
    "    i = i-2"
   ]
  },
  {
   "cell_type": "code",
   "execution_count": 23,
   "metadata": {},
   "outputs": [
    {
     "name": "stdout",
     "output_type": "stream",
     "text": [
      "A\n",
      "k\n",
      "s\n",
      "h\n",
      "a\n",
      "y\n"
     ]
    }
   ],
   "source": [
    "name = \"Akshay\"\n",
    "i = 0\n",
    "while i<=5:\n",
    "    d = name[i]\n",
    "    print(d)\n",
    "    i = i+1"
   ]
  },
  {
   "cell_type": "code",
   "execution_count": 21,
   "metadata": {},
   "outputs": [
    {
     "name": "stdout",
     "output_type": "stream",
     "text": [
      "/n\n",
      "* /n\n",
      "* * /n\n",
      "* * * /n\n",
      "* * * * /n\n"
     ]
    }
   ],
   "source": [
    "# Nested For Loop\n",
    "for i in range(5):\n",
    "    for j in range(i):\n",
    "        print(\"*\", end=\" \")\n",
    "    print(\"/n\")"
   ]
  },
  {
   "cell_type": "code",
   "execution_count": 22,
   "metadata": {},
   "outputs": [
    {
     "name": "stdout",
     "output_type": "stream",
     "text": [
      "* \n",
      "* * \n",
      "* * * \n",
      "* * * * \n"
     ]
    }
   ],
   "source": [
    "# Nested For Loop\n",
    "for i in range(1,5):\n",
    "    for j in range(i):\n",
    "        print(\"*\", end=\" \")\n",
    "    print()"
   ]
  },
  {
   "cell_type": "code",
   "execution_count": 25,
   "metadata": {},
   "outputs": [
    {
     "name": "stdout",
     "output_type": "stream",
     "text": [
      "10\n",
      "20\n"
     ]
    }
   ],
   "source": [
    "# Using - break statement - it breaks the loop and terminate it.\n",
    "n = [10,20,30,40,50,60]\n",
    "for i in n:\n",
    "    if i==30:\n",
    "        break\n",
    "    else:\n",
    "        print(i)"
   ]
  },
  {
   "cell_type": "code",
   "execution_count": 26,
   "metadata": {},
   "outputs": [
    {
     "name": "stdout",
     "output_type": "stream",
     "text": [
      "10\n",
      "20\n",
      "40\n",
      "50\n",
      "60\n"
     ]
    }
   ],
   "source": [
    "# Using - continue staement - it skip the current iteration in the given loop\n",
    "n = [10,20,30,40,50,60]\n",
    "for i in n:\n",
    "    if i==30:\n",
    "        continue\n",
    "    else:\n",
    "        print(i)"
   ]
  },
  {
   "cell_type": "code",
   "execution_count": 28,
   "metadata": {},
   "outputs": [
    {
     "data": {
      "text/plain": [
       "2"
      ]
     },
     "execution_count": 28,
     "metadata": {},
     "output_type": "execute_result"
    }
   ],
   "source": [
    "int(2.33)"
   ]
  },
  {
   "cell_type": "code",
   "execution_count": 30,
   "metadata": {},
   "outputs": [
    {
     "data": {
      "text/plain": [
       "12.0"
      ]
     },
     "execution_count": 30,
     "metadata": {},
     "output_type": "execute_result"
    }
   ],
   "source": [
    "float(12)"
   ]
  },
  {
   "cell_type": "code",
   "execution_count": 31,
   "metadata": {},
   "outputs": [
    {
     "data": {
      "text/plain": [
       "2.0"
      ]
     },
     "execution_count": 31,
     "metadata": {},
     "output_type": "execute_result"
    }
   ],
   "source": [
    "# Math Functions - using Packages>Classes>Functions\n",
    "# For Example\n",
    "import math\n",
    "print(math.sqrt(4)"
   ]
  },
  {
   "cell_type": "code",
   "execution_count": 35,
   "metadata": {},
   "outputs": [
    {
     "name": "stdout",
     "output_type": "stream",
     "text": [
      "5.0\n",
      "8.0\n"
     ]
    }
   ],
   "source": [
    "# Composition - it is function excuted inside a function \n",
    "#  for eg -\n",
    "import math as m\n",
    "print(m.sqrt(m.ceil(24.5))) #print function has 2 different math functions.\n",
    "print(m.pow(2,3))"
   ]
  },
  {
   "cell_type": "code",
   "execution_count": 36,
   "metadata": {},
   "outputs": [
    {
     "name": "stdout",
     "output_type": "stream",
     "text": [
      "Hi from abc\n"
     ]
    }
   ],
   "source": [
    "# User Defined Functions - Develop or create our own function\n",
    "def abc():\n",
    "    print(\"Hi from abc\")\n",
    "abc()"
   ]
  },
  {
   "cell_type": "code",
   "execution_count": 37,
   "metadata": {},
   "outputs": [
    {
     "name": "stdout",
     "output_type": "stream",
     "text": [
      "Hi from abc\n",
      "Hi from xyz\n"
     ]
    }
   ],
   "source": [
    "def abc():\n",
    "    print(\"Hi from abc\")\n",
    "abc()\n",
    "\n",
    "def xyz():\n",
    "    print(\"Hi from xyz\")\n",
    "xyz()"
   ]
  },
  {
   "cell_type": "code",
   "execution_count": 38,
   "metadata": {},
   "outputs": [
    {
     "name": "stdout",
     "output_type": "stream",
     "text": [
      "Hi from xyz\n",
      "Hi from abc\n",
      "Leaving xyz\n"
     ]
    }
   ],
   "source": [
    "def abc():\n",
    "    print(\"Hi from abc\")\n",
    "\n",
    "def xyz():\n",
    "    print(\"Hi from xyz\")\n",
    "    abc()\n",
    "    print(\"Leaving xyz\")\n",
    "xyz()"
   ]
  },
  {
   "cell_type": "code",
   "execution_count": 40,
   "metadata": {},
   "outputs": [
    {
     "name": "stdout",
     "output_type": "stream",
     "text": [
      "2\n",
      "Akshay\n"
     ]
    }
   ],
   "source": [
    "# parameter passing & arguments -\n",
    "\n",
    "def mno(a):\n",
    "    print(a)\n",
    "mno(2)\n",
    "mno(\"Akshay\")"
   ]
  },
  {
   "cell_type": "code",
   "execution_count": 61,
   "metadata": {},
   "outputs": [
    {
     "name": "stdout",
     "output_type": "stream",
     "text": [
      "25\n"
     ]
    }
   ],
   "source": [
    "def mno(a):\n",
    "    a=a**2\n",
    "    return a\n",
    "\n",
    "x = mno(5)\n",
    "print(x)"
   ]
  },
  {
   "cell_type": "code",
   "execution_count": 46,
   "metadata": {},
   "outputs": [
    {
     "name": "stdout",
     "output_type": "stream",
     "text": [
      "3\n",
      "Entered no. is  3\n"
     ]
    }
   ],
   "source": [
    "#  Input Function\n",
    "a = input()\n",
    "print(\"Entered no. is \", a)\n"
   ]
  },
  {
   "cell_type": "code",
   "execution_count": 48,
   "metadata": {},
   "outputs": [
    {
     "name": "stdout",
     "output_type": "stream",
     "text": [
      "4\n",
      "3\n",
      "Sum =  7\n"
     ]
    }
   ],
   "source": [
    "a= int(input())\n",
    "b= int(input())\n",
    "c=a+b\n",
    "print(\"Sum = \", c)"
   ]
  },
  {
   "cell_type": "code",
   "execution_count": 49,
   "metadata": {},
   "outputs": [
    {
     "name": "stdout",
     "output_type": "stream",
     "text": [
      "2.0\n"
     ]
    }
   ],
   "source": [
    "# WAP for finding average of three numbers \n",
    "def avg(n1,n2,n3):\n",
    "    sum = n1+n2+n3\n",
    "    print(sum/3)\n",
    "avg(1,2,3)"
   ]
  },
  {
   "cell_type": "code",
   "execution_count": 51,
   "metadata": {},
   "outputs": [
    {
     "name": "stdout",
     "output_type": "stream",
     "text": [
      "2.0\n",
      "23.0\n"
     ]
    }
   ],
   "source": [
    "def avg(n1=2,n2=3,n3=1):\n",
    "    sum = n1+n2+n3\n",
    "    print(sum/3)\n",
    "avg()\n",
    "avg(n1=22,n3=44)"
   ]
  },
  {
   "cell_type": "code",
   "execution_count": 53,
   "metadata": {},
   "outputs": [
    {
     "name": "stdout",
     "output_type": "stream",
     "text": [
      "A\n",
      "s\n"
     ]
    }
   ],
   "source": [
    "# String\n",
    "\n",
    "s = 'Akshay'\n",
    "print(s[0])\n",
    "print(s[-4])"
   ]
  },
  {
   "cell_type": "code",
   "execution_count": 54,
   "metadata": {},
   "outputs": [
    {
     "name": "stdout",
     "output_type": "stream",
     "text": [
      "ksh\n",
      "Aksh\n",
      "kshay\n",
      "Akshay\n",
      "yahskA\n"
     ]
    }
   ],
   "source": [
    "# Slicing of String - \n",
    "print(s[1:4])\n",
    "print(s[:4])\n",
    "print(s[1:])\n",
    "print(s[:])\n",
    "print(s[::-1]) # To print the string in reverse order\n"
   ]
  },
  {
   "cell_type": "code",
   "execution_count": 60,
   "metadata": {},
   "outputs": [
    {
     "name": "stdout",
     "output_type": "stream",
     "text": [
      "Hello worldMachine Learning\n",
      "hELLO WORLD\n",
      "hello world\n",
      "HELLO WORLD\n",
      "False\n",
      "Hezzo worzd\n",
      "11\n",
      "2\n",
      "4\n",
      "7\n"
     ]
    }
   ],
   "source": [
    "s1 = 'Hello world'\n",
    "s2 = 'Machine Learning'\n",
    "print(s1+s2)\n",
    "print(s1.swapcase())\n",
    "print(s1.lower())\n",
    "print(s1.upper())\n",
    "print(s1.isalpha())\n",
    "print(s1.replace('l', 'z'))\n",
    "print(len(s1))\n",
    "print(s1.find('l'))\n",
    "print(s1.find('o'))\n",
    "print(s1.find('o', 5))"
   ]
  },
  {
   "cell_type": "markdown",
   "metadata": {},
   "source": [
    "# Day 5 - Assignments -\n",
    "\n",
    "**Question 1 :\n",
    "Write a Python program to find the first 20 non-even prime natural numbers.**"
   ]
  },
  {
   "cell_type": "code",
   "execution_count": 179,
   "metadata": {},
   "outputs": [
    {
     "name": "stdout",
     "output_type": "stream",
     "text": [
      "The 1st value of your choice: 0\n",
      "The 2nd value of your choice: 100\n",
      "The first 20 non-even prime natural numbers are: \n",
      "3\n",
      "5\n",
      "7\n",
      "11\n",
      "13\n",
      "17\n",
      "19\n",
      "23\n",
      "29\n",
      "31\n",
      "37\n",
      "41\n",
      "43\n",
      "47\n",
      "53\n",
      "59\n",
      "61\n",
      "67\n",
      "71\n",
      "73\n",
      "79\n",
      "83\n",
      "89\n",
      "97\n"
     ]
    }
   ],
   "source": [
    "a = int(input(\"The 1st value of your choice: \" ))\n",
    "b = int(input(\"The 2nd value of your choice: \" ))\n",
    "\n",
    "print(\"The first 20 non-even prime natural numbers are: \")\n",
    "\n",
    "for x in range(a, b + 1):\n",
    "   if x > 2:\n",
    "       for i in range(2, x):\n",
    "           if (x % i) == 0:\n",
    "               break\n",
    "       else:\n",
    "           print(x)"
   ]
  },
  {
   "cell_type": "markdown",
   "metadata": {},
   "source": [
    "**Question 2 :\n",
    "Write a Python program to implement 15 functions of string.**"
   ]
  },
  {
   "cell_type": "code",
   "execution_count": 120,
   "metadata": {},
   "outputs": [
    {
     "name": "stdout",
     "output_type": "stream",
     "text": [
      "My Learning In AI and ML Is Under Progress\n",
      "<class 'str'>\n",
      "My learning in ai and ml is under progress\n",
      "my learning in ai and ml is under progress\n",
      "3\n",
      "False\n",
      "my learning in ai and ml is under progress\n",
      "MY LEARNING IN AI AND ML IS UNDER PROGRESS\n",
      "My Searning In AI and MS Is Under Progress\n",
      "mY lEARNING iN ai AND ml iS uNDER pROGRESS\n",
      "('My Learning In AI and ML Is ', 'Under', ' Progress')\n",
      "['My Learning In AI and ML Is ', ' Progress']\n",
      "AkshayMy Learning In AI and ML Is Under Progress\n",
      "IAkshays\n",
      "6\n",
      "False\n",
      "False\n",
      "Akshay\n",
      "['Akshay']\n"
     ]
    }
   ],
   "source": [
    "s3 = 'My Learning In AI and ML Is Under Progress'\n",
    "s4 = 'Akshay'\n",
    "print(s3)\n",
    "print(type(s3))\n",
    "print(s3.capitalize())\n",
    "print(s3.casefold())\n",
    "print(s3.find(\"L\"))\n",
    "print(s3.isalpha())\n",
    "print(s3.lower())\n",
    "print(s3.upper())\n",
    "print(s3.replace('L','S'))\n",
    "print(s3.swapcase())\n",
    "print(s3.rpartition('Under'))\n",
    "print(s3.split('Under'))\n",
    "print(s4+s3)\n",
    "print(s4.join('Is'))\n",
    "print(len(s4))\n",
    "print(s4.isupper())\n",
    "print(s4.islower())\n",
    "print(s4.strip())\n",
    "print(s4.split())"
   ]
  },
  {
   "cell_type": "markdown",
   "metadata": {},
   "source": [
    "**Question 3:\n",
    "Write a Python program to check if the given string is a Palindrome or Anagram or None of them.\n",
    "Display the message accordingly to the user.**"
   ]
  },
  {
   "cell_type": "code",
   "execution_count": 245,
   "metadata": {},
   "outputs": [
    {
     "name": "stdout",
     "output_type": "stream",
     "text": [
      "Enter 1st string of your choice: akshay\n",
      "Enter 2nd string of your choice: dube\n",
      "The entered string is neither a palindrome nor an anagram\n"
     ]
    }
   ],
   "source": [
    "s = str(input(\"Enter 1st string of your choice: \" ))\n",
    "t = str(input(\"Enter 2nd string of your choice: \" ))\n",
    "def nature():\n",
    "    if sorted(s) == sorted(t):\n",
    "        print(\"Entered string is an Anagram\")\n",
    "        if s == s[:: -1]:\n",
    "            print(\"The entered string is a palindrome\")\n",
    "    else:\n",
    "        print(\"The entered string is neither a palindrome nor an anagram\")\n",
    "nature()"
   ]
  },
  {
   "cell_type": "markdown",
   "metadata": {},
   "source": [
    "**Question 4:\n",
    "Write a Python's user defined function that removes all the additional characters from the string\n",
    "and converts it finally to lower case using built-in lower(). eg: If the string is \"Dr. Darshan Ingle\n",
    "@AI-ML Trainer\", then the output be \"drdarshaningleaimltrainer\".**"
   ]
  },
  {
   "cell_type": "code",
   "execution_count": 249,
   "metadata": {},
   "outputs": [
    {
     "name": "stdout",
     "output_type": "stream",
     "text": [
      "Enter the string of your choice: adoh akdbsiu 1211 37624@!-\n",
      "The required chnages made to the entered string is:  adohakdbsiu\n"
     ]
    }
   ],
   "source": [
    "top = str(input(\"Enter the string of your choice: \" ))\n",
    "def char(mop):\n",
    "    cop = \"abcdefghijklmnopqrstuvwxyz\"\n",
    "    mop = mop.lower().replace(\" \", \"\")\n",
    "    pop = \"\"\n",
    "    for i in mop:\n",
    "        if i in cop:\n",
    "            pop = pop + i\n",
    "    print(\"The required chnages made to the entered string is: \", pop)\n",
    "char(top)"
   ]
  },
  {
   "cell_type": "code",
   "execution_count": null,
   "metadata": {},
   "outputs": [],
   "source": []
  }
 ],
 "metadata": {
  "kernelspec": {
   "display_name": "Python 3",
   "language": "python",
   "name": "python3"
  },
  "language_info": {
   "codemirror_mode": {
    "name": "ipython",
    "version": 3
   },
   "file_extension": ".py",
   "mimetype": "text/x-python",
   "name": "python",
   "nbconvert_exporter": "python",
   "pygments_lexer": "ipython3",
   "version": "3.7.6"
  }
 },
 "nbformat": 4,
 "nbformat_minor": 4
}
